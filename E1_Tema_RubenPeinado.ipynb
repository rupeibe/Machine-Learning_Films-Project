{
 "cells": [
  {
   "cell_type": "markdown",
   "metadata": {},
   "source": [
    "# Primera entrega ML"
   ]
  },
  {
   "cell_type": "markdown",
   "metadata": {},
   "source": [
    "### Título de proyecto"
   ]
  },
  {
   "cell_type": "code",
   "execution_count": null,
   "metadata": {},
   "outputs": [],
   "source": [
    "# Escribir el título de proyecto en Markdown\n",
    "titulo = \"¿Puede un algoritmo de predicción saber si una película es buena o mala?\""
   ]
  },
  {
   "cell_type": "markdown",
   "metadata": {},
   "source": [
    "### Tema"
   ]
  },
  {
   "cell_type": "code",
   "execution_count": null,
   "metadata": {},
   "outputs": [],
   "source": [
    "tema = \"Quiero averiguar si puedo a través de datos de películas es posible que un algoritmo me indique si una película es buena o mala, también que me diga una nota sobre 10\" # Breve descripción del proyecto"
   ]
  },
  {
   "cell_type": "code",
   "execution_count": null,
   "metadata": {},
   "outputs": [],
   "source": [
    "# Describir el tema en Markdown"
   ]
  },
  {
   "attachments": {},
   "cell_type": "markdown",
   "metadata": {},
   "source": [
    "Quiero scrapear información de al menos 10.000 películas con datos de actores, director, año y género. También la nota que tienen en filmaffinity (target). Añadir al dataframe original datos de premios que hayan conseguido las películas en festivales de cine y premios de academías de cine."
   ]
  },
  {
   "cell_type": "markdown",
   "metadata": {},
   "source": [
    "### Datasets y fuentes alternativas de datos\n",
    "Incluye aquí una breve descripción del dataset o datasets para tu proyecto. Incluye también las fuentes de cada uno de ellos."
   ]
  },
  {
   "cell_type": "code",
   "execution_count": null,
   "metadata": {},
   "outputs": [],
   "source": [
    "tipo_ml = \"Examinaré ambos métodos para saber cual es más \" # Regresión? Clasificación?\n",
    "target_descr = \"Notas de las películas que han asignado los usuarios de filmaffinity\" # Descripción de la variable objetivo\n",
    "metricas = [\"RMSE\", \"Accuracy\", \"MAE\"] # Metricas escogidas para evaluar los modelos"
   ]
  },
  {
   "cell_type": "code",
   "execution_count": null,
   "metadata": {},
   "outputs": [],
   "source": [
    "# dasets y enlaces de datasets en Markdown\n",
    "enlaces = [\"www.filmaffinity.com\"] # [\"www.paginacondatos.com\", \"www.paginawebscrapeada.com\", \"www.unaapi.com\"]"
   ]
  },
  {
   "cell_type": "code",
   "execution_count": 3,
   "metadata": {},
   "outputs": [
    {
     "data": {
      "text/html": [
       "<div>\n",
       "<style scoped>\n",
       "    .dataframe tbody tr th:only-of-type {\n",
       "        vertical-align: middle;\n",
       "    }\n",
       "\n",
       "    .dataframe tbody tr th {\n",
       "        vertical-align: top;\n",
       "    }\n",
       "\n",
       "    .dataframe thead th {\n",
       "        text-align: right;\n",
       "    }\n",
       "</style>\n",
       "<table border=\"1\" class=\"dataframe\">\n",
       "  <thead>\n",
       "    <tr style=\"text-align: right;\">\n",
       "      <th></th>\n",
       "      <th>titulo_castellano</th>\n",
       "      <th>titulo_original</th>\n",
       "      <th>year</th>\n",
       "      <th>duracion</th>\n",
       "      <th>pais</th>\n",
       "      <th>director</th>\n",
       "      <th>guion</th>\n",
       "      <th>musica</th>\n",
       "      <th>fotografia</th>\n",
       "      <th>genero</th>\n",
       "      <th>actores</th>\n",
       "      <th>tags</th>\n",
       "      <th>votos</th>\n",
       "      <th>reviews</th>\n",
       "      <th>puntuacion</th>\n",
       "    </tr>\n",
       "  </thead>\n",
       "  <tbody>\n",
       "    <tr>\n",
       "      <th>0</th>\n",
       "      <td>The Visitor</td>\n",
       "      <td>The Visitor</td>\n",
       "      <td>2007</td>\n",
       "      <td>108</td>\n",
       "      <td>Estados Unidos</td>\n",
       "      <td>Tom McCarthy</td>\n",
       "      <td>Tom McCarthy</td>\n",
       "      <td>Jan A.P. Kaczmarek</td>\n",
       "      <td>Oliver Bokelberg</td>\n",
       "      <td>Drama</td>\n",
       "      <td>['Richard Jenkins', 'Hiam Abbass', 'Haaz Sleim...</td>\n",
       "      <td>['Drama', 'Inmigración', 'Cine independiente U...</td>\n",
       "      <td>10791</td>\n",
       "      <td>95</td>\n",
       "      <td>7,2</td>\n",
       "    </tr>\n",
       "    <tr>\n",
       "      <th>1</th>\n",
       "      <td>La novia de Frankenstein</td>\n",
       "      <td>The Bride of Frankenstein</td>\n",
       "      <td>1935</td>\n",
       "      <td>75</td>\n",
       "      <td>Estados Unidos</td>\n",
       "      <td>James Whale</td>\n",
       "      <td>John L. Balderston</td>\n",
       "      <td>Franz Waxman</td>\n",
       "      <td>John J. Mescall</td>\n",
       "      <td>Terror</td>\n",
       "      <td>['Boris Karloff', 'Colin Clive', 'Valerie Hobs...</td>\n",
       "      <td>['Terror', 'Ciencia ficción', 'Secuela', 'Mons...</td>\n",
       "      <td>12195</td>\n",
       "      <td>46</td>\n",
       "      <td>7,2</td>\n",
       "    </tr>\n",
       "    <tr>\n",
       "      <th>2</th>\n",
       "      <td>Encontré al diablo</td>\n",
       "      <td>Angmareul boatda (I Saw The Devil)</td>\n",
       "      <td>2010</td>\n",
       "      <td>144</td>\n",
       "      <td>Corea del Sur</td>\n",
       "      <td>Kim Jee-woon</td>\n",
       "      <td>Park Hoon-jung</td>\n",
       "      <td>Mowg</td>\n",
       "      <td>Lee Mo-gae</td>\n",
       "      <td>Thriller</td>\n",
       "      <td>['Lee Byung-hun', 'Choi Min-sik', 'Jeon Gook-h...</td>\n",
       "      <td>['Thriller', 'Policíaco', 'Crimen', 'Asesinos ...</td>\n",
       "      <td>14999</td>\n",
       "      <td>108</td>\n",
       "      <td>7,2</td>\n",
       "    </tr>\n",
       "    <tr>\n",
       "      <th>3</th>\n",
       "      <td>Jo, ¡qué noche!</td>\n",
       "      <td>After Hoursaka</td>\n",
       "      <td>1985</td>\n",
       "      <td>94</td>\n",
       "      <td>Estados Unidos</td>\n",
       "      <td>Martin Scorsese</td>\n",
       "      <td>Joseph Minion</td>\n",
       "      <td>Howard Shore</td>\n",
       "      <td>Michael Ballhaus</td>\n",
       "      <td>Comedia</td>\n",
       "      <td>['Griffin Dunne', 'Rosanna Arquette', 'Linda F...</td>\n",
       "      <td>['Comedia', 'Drama', 'Comedia negra']</td>\n",
       "      <td>18588</td>\n",
       "      <td>99</td>\n",
       "      <td>7,2</td>\n",
       "    </tr>\n",
       "    <tr>\n",
       "      <th>4</th>\n",
       "      <td>El buen patrón</td>\n",
       "      <td>El buen patrón</td>\n",
       "      <td>2021</td>\n",
       "      <td>120</td>\n",
       "      <td>España</td>\n",
       "      <td>Fernando León de Aranoa</td>\n",
       "      <td>Fernando León de Aranoa</td>\n",
       "      <td>Zeltia Montes</td>\n",
       "      <td>Pau Esteve Birba</td>\n",
       "      <td>Comedia</td>\n",
       "      <td>['Javier Bardem', 'Manolo Solo', 'Almudena Amo...</td>\n",
       "      <td>['Comedia', 'Drama', 'Trabajo/empleo']</td>\n",
       "      <td>21502</td>\n",
       "      <td>169</td>\n",
       "      <td>7,2</td>\n",
       "    </tr>\n",
       "  </tbody>\n",
       "</table>\n",
       "</div>"
      ],
      "text/plain": [
       "          titulo_castellano                     titulo_original  year  \\\n",
       "0               The Visitor                         The Visitor  2007   \n",
       "1  La novia de Frankenstein           The Bride of Frankenstein  1935   \n",
       "2        Encontré al diablo  Angmareul boatda (I Saw The Devil)  2010   \n",
       "3           Jo, ¡qué noche!                      After Hoursaka  1985   \n",
       "4            El buen patrón                      El buen patrón  2021   \n",
       "\n",
       "   duracion            pais                 director                    guion  \\\n",
       "0       108  Estados Unidos             Tom McCarthy             Tom McCarthy   \n",
       "1        75  Estados Unidos              James Whale       John L. Balderston   \n",
       "2       144   Corea del Sur             Kim Jee-woon           Park Hoon-jung   \n",
       "3        94  Estados Unidos          Martin Scorsese            Joseph Minion   \n",
       "4       120          España  Fernando León de Aranoa  Fernando León de Aranoa   \n",
       "\n",
       "               musica        fotografia    genero  \\\n",
       "0  Jan A.P. Kaczmarek  Oliver Bokelberg     Drama   \n",
       "1        Franz Waxman   John J. Mescall    Terror   \n",
       "2                Mowg        Lee Mo-gae  Thriller   \n",
       "3        Howard Shore  Michael Ballhaus   Comedia   \n",
       "4       Zeltia Montes  Pau Esteve Birba   Comedia   \n",
       "\n",
       "                                             actores  \\\n",
       "0  ['Richard Jenkins', 'Hiam Abbass', 'Haaz Sleim...   \n",
       "1  ['Boris Karloff', 'Colin Clive', 'Valerie Hobs...   \n",
       "2  ['Lee Byung-hun', 'Choi Min-sik', 'Jeon Gook-h...   \n",
       "3  ['Griffin Dunne', 'Rosanna Arquette', 'Linda F...   \n",
       "4  ['Javier Bardem', 'Manolo Solo', 'Almudena Amo...   \n",
       "\n",
       "                                                tags  votos  reviews  \\\n",
       "0  ['Drama', 'Inmigración', 'Cine independiente U...  10791       95   \n",
       "1  ['Terror', 'Ciencia ficción', 'Secuela', 'Mons...  12195       46   \n",
       "2  ['Thriller', 'Policíaco', 'Crimen', 'Asesinos ...  14999      108   \n",
       "3              ['Comedia', 'Drama', 'Comedia negra']  18588       99   \n",
       "4             ['Comedia', 'Drama', 'Trabajo/empleo']  21502      169   \n",
       "\n",
       "  puntuacion  \n",
       "0        7,2  \n",
       "1        7,2  \n",
       "2        7,2  \n",
       "3        7,2  \n",
       "4        7,2  "
      ]
     },
     "execution_count": 3,
     "metadata": {},
     "output_type": "execute_result"
    }
   ],
   "source": [
    "# load dataset\n",
    "import pandas as pd\n",
    "\n",
    "df_1 = pd.read_csv(\"pelis_002.csv\", encoding=\"utf_16\", index_col=0)\n",
    "df_1.head()\n"
   ]
  },
  {
   "cell_type": "code",
   "execution_count": 5,
   "metadata": {},
   "outputs": [
    {
     "data": {
      "text/html": [
       "<div>\n",
       "<style scoped>\n",
       "    .dataframe tbody tr th:only-of-type {\n",
       "        vertical-align: middle;\n",
       "    }\n",
       "\n",
       "    .dataframe tbody tr th {\n",
       "        vertical-align: top;\n",
       "    }\n",
       "\n",
       "    .dataframe thead th {\n",
       "        text-align: right;\n",
       "    }\n",
       "</style>\n",
       "<table border=\"1\" class=\"dataframe\">\n",
       "  <thead>\n",
       "    <tr style=\"text-align: right;\">\n",
       "      <th></th>\n",
       "      <th>premio</th>\n",
       "      <th>categoria</th>\n",
       "      <th>pelicula</th>\n",
       "    </tr>\n",
       "  </thead>\n",
       "  <tbody>\n",
       "    <tr>\n",
       "      <th>0</th>\n",
       "      <td>Premios BAFTA (Reino Unido)</td>\n",
       "      <td>Mejor película</td>\n",
       "      <td>Sin novedad en el frente</td>\n",
       "    </tr>\n",
       "    <tr>\n",
       "      <th>1</th>\n",
       "      <td>Premios BAFTA (Reino Unido)</td>\n",
       "      <td>Mejor película</td>\n",
       "      <td>El poder del perro</td>\n",
       "    </tr>\n",
       "    <tr>\n",
       "      <th>2</th>\n",
       "      <td>Premios BAFTA (Reino Unido)</td>\n",
       "      <td>Mejor película</td>\n",
       "      <td>Nomadland</td>\n",
       "    </tr>\n",
       "    <tr>\n",
       "      <th>3</th>\n",
       "      <td>Premios BAFTA (Reino Unido)</td>\n",
       "      <td>Mejor película</td>\n",
       "      <td>1917</td>\n",
       "    </tr>\n",
       "    <tr>\n",
       "      <th>4</th>\n",
       "      <td>Premios BAFTA (Reino Unido)</td>\n",
       "      <td>Mejor película</td>\n",
       "      <td>Roma</td>\n",
       "    </tr>\n",
       "  </tbody>\n",
       "</table>\n",
       "</div>"
      ],
      "text/plain": [
       "                        premio       categoria                  pelicula\n",
       "0  Premios BAFTA (Reino Unido)  Mejor película  Sin novedad en el frente\n",
       "1  Premios BAFTA (Reino Unido)  Mejor película        El poder del perro\n",
       "2  Premios BAFTA (Reino Unido)  Mejor película                 Nomadland\n",
       "3  Premios BAFTA (Reino Unido)  Mejor película                      1917\n",
       "4  Premios BAFTA (Reino Unido)  Mejor película                      Roma"
      ]
     },
     "execution_count": 5,
     "metadata": {},
     "output_type": "execute_result"
    }
   ],
   "source": [
    "# load dataset\n",
    "\n",
    "df_2 = pd.read_csv(\"bafta_film_award.csv\", encoding=\"utf_16\", index_col=0)\n",
    "df_2.head()\n"
   ]
  }
 ],
 "metadata": {
  "interpreter": {
   "hash": "7c77fdb427e7cbc9bc1367dd530fc2b36aacdbbde1ac83c85833b10dfa8b831c"
  },
  "kernelspec": {
   "display_name": "Python 3.7.4 64-bit",
   "language": "python",
   "name": "python3"
  },
  "language_info": {
   "codemirror_mode": {
    "name": "ipython",
    "version": 3
   },
   "file_extension": ".py",
   "mimetype": "text/x-python",
   "name": "python",
   "nbconvert_exporter": "python",
   "pygments_lexer": "ipython3",
   "version": "3.9.16"
  },
  "orig_nbformat": 4
 },
 "nbformat": 4,
 "nbformat_minor": 2
}
