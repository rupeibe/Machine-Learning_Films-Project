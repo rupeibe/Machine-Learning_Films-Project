{
 "cells": [
  {
   "cell_type": "code",
   "execution_count": 1,
   "metadata": {},
   "outputs": [],
   "source": [
    "import os"
   ]
  },
  {
   "attachments": {},
   "cell_type": "markdown",
   "metadata": {},
   "source": [
    "## La estructura de trabajo del análisis exploratorio de datos ha sido la siguiente:\n",
    "\n",
    "\n",
    "### Obtención de los datos:\n",
    "\n",
    "[Obtencion_Datos_Scrapping.ipynb](Obtencion_Datos_Scrapping.ipynb) : Proceso de extracción de datos a través de Beautiful Soup y Selenium de la web Filmaffinity.\n",
    "\n",
    "- Función de conexión a la web y almacenamiento de las URLs\n",
    "- Obtención de las fichas del total de películas, así como de los premios obtenidos por las películas en diferentes festivales de cine.\n",
    "       \n",
    "        \n",
    "### Limpieza y transformación de los datos:\n",
    "\n",
    "[Limpieza_Transformacion_Datos.ipynb](Limpieza_Transformacion_Datos.ipynb) : Limpieza y preprocesamiento de los datos para posterior entrenamiento de algoritmos de Machine Learning.\n",
    "\n",
    "- Unión de datos de fichas de películas y de premios de festivales (técnica y artística) de las películas premiadas.\n",
    "- Tratamiento (creación nuevas columnas) a partir de información obtenida en los premios de las peliculas, también parte técnica y  artística.\n",
    "- Tratamiento (discretización) de las columnas con alta cardinalidad.\n",
    "- Análisis de las distribuciones de las columnas y representaciones gráficas (Seaborn y Matplotlib)\n",
    "\n",
    "### Creación de los modelos de Machine Learning:\n",
    "\n",
    "[Creacion_Modelo_Datos.ipynb](Creacion_Modelo_Datos.ipynb) : Entrenamiento de modelos, optimización y seleccion de importancia de columnas.\n",
    "\n",
    "- Separación en \"features\" y \"target\" del conjunto de datos.\n",
    "- Partición en subset de entrenamiento y test.\n",
    "- Entrenamiento de batería de modelos.\n",
    "- Optimización de los modelos con mejores rendimientos.\n",
    "- Selección de importancia de \"fetures\" como medida de optimización del modelo.\n",
    "- Representación gráfica de la comparativa de las métricas que señalan la eficicacia/ error de los modelos (Plotly). "
   ]
  }
 ],
 "metadata": {
  "kernelspec": {
   "display_name": "core",
   "language": "python",
   "name": "python3"
  },
  "language_info": {
   "codemirror_mode": {
    "name": "ipython",
    "version": 3
   },
   "file_extension": ".py",
   "mimetype": "text/x-python",
   "name": "python",
   "nbconvert_exporter": "python",
   "pygments_lexer": "ipython3",
   "version": "3.9.16"
  },
  "orig_nbformat": 4
 },
 "nbformat": 4,
 "nbformat_minor": 2
}
