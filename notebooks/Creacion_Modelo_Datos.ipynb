{
 "cells": [
  {
   "attachments": {},
   "cell_type": "markdown",
   "metadata": {},
   "source": [
    "# A partir de un problema de regresión voy a tratar de encontrar el modelo que mas eficacia tenga a la hora de predecir la puntuación de las películas"
   ]
  },
  {
   "cell_type": "code",
   "execution_count": 79,
   "metadata": {},
   "outputs": [],
   "source": [
    "import pandas as pd\n",
    "import numpy as np\n",
    "\n",
    "import seaborn as sns\n",
    "import matplotlib.pyplot as plt\n",
    "\n",
    "import warnings\n",
    "warnings.filterwarnings('ignore')"
   ]
  },
  {
   "attachments": {},
   "cell_type": "markdown",
   "metadata": {},
   "source": [
    "## Cargo los datos"
   ]
  },
  {
   "cell_type": "code",
   "execution_count": 80,
   "metadata": {},
   "outputs": [
    {
     "data": {
      "text/html": [
       "<div>\n",
       "<style scoped>\n",
       "    .dataframe tbody tr th:only-of-type {\n",
       "        vertical-align: middle;\n",
       "    }\n",
       "\n",
       "    .dataframe tbody tr th {\n",
       "        vertical-align: top;\n",
       "    }\n",
       "\n",
       "    .dataframe thead th {\n",
       "        text-align: right;\n",
       "    }\n",
       "</style>\n",
       "<table border=\"1\" class=\"dataframe\">\n",
       "  <thead>\n",
       "    <tr style=\"text-align: right;\">\n",
       "      <th></th>\n",
       "      <th>puntuacion</th>\n",
       "      <th>total_premios</th>\n",
       "      <th>razzie</th>\n",
       "      <th>director</th>\n",
       "      <th>guion</th>\n",
       "      <th>musica</th>\n",
       "      <th>fotografia</th>\n",
       "      <th>reparto_1</th>\n",
       "      <th>reparto_2</th>\n",
       "      <th>reparto_3</th>\n",
       "      <th>...</th>\n",
       "      <th>drama</th>\n",
       "      <th>fantastico</th>\n",
       "      <th>infantil</th>\n",
       "      <th>intriga</th>\n",
       "      <th>musical</th>\n",
       "      <th>romance</th>\n",
       "      <th>terror</th>\n",
       "      <th>thriller</th>\n",
       "      <th>western</th>\n",
       "      <th>pais</th>\n",
       "    </tr>\n",
       "  </thead>\n",
       "  <tbody>\n",
       "    <tr>\n",
       "      <th>0</th>\n",
       "      <td>6.7</td>\n",
       "      <td>0</td>\n",
       "      <td>0</td>\n",
       "      <td>0</td>\n",
       "      <td>3</td>\n",
       "      <td>1</td>\n",
       "      <td>7</td>\n",
       "      <td>3</td>\n",
       "      <td>1</td>\n",
       "      <td>0</td>\n",
       "      <td>...</td>\n",
       "      <td>0</td>\n",
       "      <td>0</td>\n",
       "      <td>0</td>\n",
       "      <td>1</td>\n",
       "      <td>0</td>\n",
       "      <td>0</td>\n",
       "      <td>0</td>\n",
       "      <td>0</td>\n",
       "      <td>0</td>\n",
       "      <td>5182</td>\n",
       "    </tr>\n",
       "    <tr>\n",
       "      <th>1</th>\n",
       "      <td>5.1</td>\n",
       "      <td>1</td>\n",
       "      <td>2</td>\n",
       "      <td>0</td>\n",
       "      <td>0</td>\n",
       "      <td>1</td>\n",
       "      <td>5</td>\n",
       "      <td>0</td>\n",
       "      <td>1</td>\n",
       "      <td>1</td>\n",
       "      <td>...</td>\n",
       "      <td>0</td>\n",
       "      <td>0</td>\n",
       "      <td>0</td>\n",
       "      <td>0</td>\n",
       "      <td>0</td>\n",
       "      <td>0</td>\n",
       "      <td>0</td>\n",
       "      <td>0</td>\n",
       "      <td>0</td>\n",
       "      <td>5182</td>\n",
       "    </tr>\n",
       "    <tr>\n",
       "      <th>2</th>\n",
       "      <td>7.0</td>\n",
       "      <td>0</td>\n",
       "      <td>0</td>\n",
       "      <td>0</td>\n",
       "      <td>0</td>\n",
       "      <td>2</td>\n",
       "      <td>2</td>\n",
       "      <td>3</td>\n",
       "      <td>0</td>\n",
       "      <td>0</td>\n",
       "      <td>...</td>\n",
       "      <td>1</td>\n",
       "      <td>0</td>\n",
       "      <td>0</td>\n",
       "      <td>0</td>\n",
       "      <td>0</td>\n",
       "      <td>0</td>\n",
       "      <td>0</td>\n",
       "      <td>0</td>\n",
       "      <td>0</td>\n",
       "      <td>879</td>\n",
       "    </tr>\n",
       "    <tr>\n",
       "      <th>4</th>\n",
       "      <td>5.5</td>\n",
       "      <td>0</td>\n",
       "      <td>0</td>\n",
       "      <td>0</td>\n",
       "      <td>0</td>\n",
       "      <td>0</td>\n",
       "      <td>2</td>\n",
       "      <td>15</td>\n",
       "      <td>2</td>\n",
       "      <td>2</td>\n",
       "      <td>...</td>\n",
       "      <td>0</td>\n",
       "      <td>0</td>\n",
       "      <td>0</td>\n",
       "      <td>0</td>\n",
       "      <td>0</td>\n",
       "      <td>0</td>\n",
       "      <td>0</td>\n",
       "      <td>0</td>\n",
       "      <td>1</td>\n",
       "      <td>5182</td>\n",
       "    </tr>\n",
       "    <tr>\n",
       "      <th>5</th>\n",
       "      <td>5.0</td>\n",
       "      <td>0</td>\n",
       "      <td>0</td>\n",
       "      <td>0</td>\n",
       "      <td>1</td>\n",
       "      <td>0</td>\n",
       "      <td>0</td>\n",
       "      <td>0</td>\n",
       "      <td>0</td>\n",
       "      <td>0</td>\n",
       "      <td>...</td>\n",
       "      <td>1</td>\n",
       "      <td>0</td>\n",
       "      <td>0</td>\n",
       "      <td>0</td>\n",
       "      <td>0</td>\n",
       "      <td>0</td>\n",
       "      <td>0</td>\n",
       "      <td>0</td>\n",
       "      <td>0</td>\n",
       "      <td>78</td>\n",
       "    </tr>\n",
       "  </tbody>\n",
       "</table>\n",
       "<p>5 rows × 30 columns</p>\n",
       "</div>"
      ],
      "text/plain": [
       "   puntuacion  total_premios  razzie  director  guion  musica  fotografia  \\\n",
       "0         6.7              0       0         0      3       1           7   \n",
       "1         5.1              1       2         0      0       1           5   \n",
       "2         7.0              0       0         0      0       2           2   \n",
       "4         5.5              0       0         0      0       0           2   \n",
       "5         5.0              0       0         0      1       0           0   \n",
       "\n",
       "   reparto_1  reparto_2  reparto_3  ...  drama  fantastico  infantil  intriga  \\\n",
       "0          3          1          0  ...      0           0         0        1   \n",
       "1          0          1          1  ...      0           0         0        0   \n",
       "2          3          0          0  ...      1           0         0        0   \n",
       "4         15          2          2  ...      0           0         0        0   \n",
       "5          0          0          0  ...      1           0         0        0   \n",
       "\n",
       "   musical  romance  terror  thriller  western  pais  \n",
       "0        0        0       0         0        0  5182  \n",
       "1        0        0       0         0        0  5182  \n",
       "2        0        0       0         0        0   879  \n",
       "4        0        0       0         0        1  5182  \n",
       "5        0        0       0         0        0    78  \n",
       "\n",
       "[5 rows x 30 columns]"
      ]
     },
     "execution_count": 80,
     "metadata": {},
     "output_type": "execute_result"
    }
   ],
   "source": [
    "df = pd.read_csv(r\"..\\data\\processed\\peliculas_analisis_ML.csv\",index_col=0)\n",
    "df.head()"
   ]
  },
  {
   "cell_type": "code",
   "execution_count": 81,
   "metadata": {},
   "outputs": [
    {
     "data": {
      "text/html": [
       "<div>\n",
       "<style scoped>\n",
       "    .dataframe tbody tr th:only-of-type {\n",
       "        vertical-align: middle;\n",
       "    }\n",
       "\n",
       "    .dataframe tbody tr th {\n",
       "        vertical-align: top;\n",
       "    }\n",
       "\n",
       "    .dataframe thead th {\n",
       "        text-align: right;\n",
       "    }\n",
       "</style>\n",
       "<table border=\"1\" class=\"dataframe\">\n",
       "  <thead>\n",
       "    <tr style=\"text-align: right;\">\n",
       "      <th></th>\n",
       "      <th>year</th>\n",
       "      <th>accion</th>\n",
       "      <th>aventuras</th>\n",
       "      <th>belico</th>\n",
       "      <th>ciencia ficcion</th>\n",
       "      <th>cine negro</th>\n",
       "      <th>comedia</th>\n",
       "      <th>drama</th>\n",
       "      <th>fantastico</th>\n",
       "      <th>infantil</th>\n",
       "      <th>intriga</th>\n",
       "      <th>musical</th>\n",
       "      <th>romance</th>\n",
       "      <th>terror</th>\n",
       "      <th>thriller</th>\n",
       "      <th>western</th>\n",
       "    </tr>\n",
       "  </thead>\n",
       "  <tbody>\n",
       "    <tr>\n",
       "      <th>0</th>\n",
       "      <td>3</td>\n",
       "      <td>0</td>\n",
       "      <td>0</td>\n",
       "      <td>0</td>\n",
       "      <td>0</td>\n",
       "      <td>0</td>\n",
       "      <td>0</td>\n",
       "      <td>0</td>\n",
       "      <td>0</td>\n",
       "      <td>0</td>\n",
       "      <td>1</td>\n",
       "      <td>0</td>\n",
       "      <td>0</td>\n",
       "      <td>0</td>\n",
       "      <td>0</td>\n",
       "      <td>0</td>\n",
       "    </tr>\n",
       "    <tr>\n",
       "      <th>1</th>\n",
       "      <td>4</td>\n",
       "      <td>0</td>\n",
       "      <td>0</td>\n",
       "      <td>0</td>\n",
       "      <td>1</td>\n",
       "      <td>0</td>\n",
       "      <td>0</td>\n",
       "      <td>0</td>\n",
       "      <td>0</td>\n",
       "      <td>0</td>\n",
       "      <td>0</td>\n",
       "      <td>0</td>\n",
       "      <td>0</td>\n",
       "      <td>0</td>\n",
       "      <td>0</td>\n",
       "      <td>0</td>\n",
       "    </tr>\n",
       "    <tr>\n",
       "      <th>2</th>\n",
       "      <td>4</td>\n",
       "      <td>0</td>\n",
       "      <td>0</td>\n",
       "      <td>0</td>\n",
       "      <td>0</td>\n",
       "      <td>0</td>\n",
       "      <td>0</td>\n",
       "      <td>1</td>\n",
       "      <td>0</td>\n",
       "      <td>0</td>\n",
       "      <td>0</td>\n",
       "      <td>0</td>\n",
       "      <td>0</td>\n",
       "      <td>0</td>\n",
       "      <td>0</td>\n",
       "      <td>0</td>\n",
       "    </tr>\n",
       "    <tr>\n",
       "      <th>4</th>\n",
       "      <td>3</td>\n",
       "      <td>0</td>\n",
       "      <td>0</td>\n",
       "      <td>0</td>\n",
       "      <td>0</td>\n",
       "      <td>0</td>\n",
       "      <td>0</td>\n",
       "      <td>0</td>\n",
       "      <td>0</td>\n",
       "      <td>0</td>\n",
       "      <td>0</td>\n",
       "      <td>0</td>\n",
       "      <td>0</td>\n",
       "      <td>0</td>\n",
       "      <td>0</td>\n",
       "      <td>1</td>\n",
       "    </tr>\n",
       "    <tr>\n",
       "      <th>5</th>\n",
       "      <td>4</td>\n",
       "      <td>0</td>\n",
       "      <td>0</td>\n",
       "      <td>0</td>\n",
       "      <td>0</td>\n",
       "      <td>0</td>\n",
       "      <td>0</td>\n",
       "      <td>1</td>\n",
       "      <td>0</td>\n",
       "      <td>0</td>\n",
       "      <td>0</td>\n",
       "      <td>0</td>\n",
       "      <td>0</td>\n",
       "      <td>0</td>\n",
       "      <td>0</td>\n",
       "      <td>0</td>\n",
       "    </tr>\n",
       "    <tr>\n",
       "      <th>...</th>\n",
       "      <td>...</td>\n",
       "      <td>...</td>\n",
       "      <td>...</td>\n",
       "      <td>...</td>\n",
       "      <td>...</td>\n",
       "      <td>...</td>\n",
       "      <td>...</td>\n",
       "      <td>...</td>\n",
       "      <td>...</td>\n",
       "      <td>...</td>\n",
       "      <td>...</td>\n",
       "      <td>...</td>\n",
       "      <td>...</td>\n",
       "      <td>...</td>\n",
       "      <td>...</td>\n",
       "      <td>...</td>\n",
       "    </tr>\n",
       "    <tr>\n",
       "      <th>12137</th>\n",
       "      <td>2</td>\n",
       "      <td>0</td>\n",
       "      <td>0</td>\n",
       "      <td>0</td>\n",
       "      <td>0</td>\n",
       "      <td>1</td>\n",
       "      <td>0</td>\n",
       "      <td>0</td>\n",
       "      <td>0</td>\n",
       "      <td>0</td>\n",
       "      <td>0</td>\n",
       "      <td>0</td>\n",
       "      <td>0</td>\n",
       "      <td>0</td>\n",
       "      <td>0</td>\n",
       "      <td>0</td>\n",
       "    </tr>\n",
       "    <tr>\n",
       "      <th>12138</th>\n",
       "      <td>3</td>\n",
       "      <td>0</td>\n",
       "      <td>0</td>\n",
       "      <td>0</td>\n",
       "      <td>0</td>\n",
       "      <td>0</td>\n",
       "      <td>1</td>\n",
       "      <td>0</td>\n",
       "      <td>0</td>\n",
       "      <td>0</td>\n",
       "      <td>0</td>\n",
       "      <td>0</td>\n",
       "      <td>0</td>\n",
       "      <td>0</td>\n",
       "      <td>0</td>\n",
       "      <td>0</td>\n",
       "    </tr>\n",
       "    <tr>\n",
       "      <th>12139</th>\n",
       "      <td>4</td>\n",
       "      <td>0</td>\n",
       "      <td>0</td>\n",
       "      <td>0</td>\n",
       "      <td>0</td>\n",
       "      <td>0</td>\n",
       "      <td>0</td>\n",
       "      <td>0</td>\n",
       "      <td>0</td>\n",
       "      <td>0</td>\n",
       "      <td>0</td>\n",
       "      <td>0</td>\n",
       "      <td>0</td>\n",
       "      <td>1</td>\n",
       "      <td>0</td>\n",
       "      <td>0</td>\n",
       "    </tr>\n",
       "    <tr>\n",
       "      <th>12140</th>\n",
       "      <td>4</td>\n",
       "      <td>0</td>\n",
       "      <td>0</td>\n",
       "      <td>0</td>\n",
       "      <td>0</td>\n",
       "      <td>0</td>\n",
       "      <td>0</td>\n",
       "      <td>0</td>\n",
       "      <td>0</td>\n",
       "      <td>0</td>\n",
       "      <td>0</td>\n",
       "      <td>0</td>\n",
       "      <td>0</td>\n",
       "      <td>1</td>\n",
       "      <td>0</td>\n",
       "      <td>0</td>\n",
       "    </tr>\n",
       "    <tr>\n",
       "      <th>12141</th>\n",
       "      <td>4</td>\n",
       "      <td>0</td>\n",
       "      <td>0</td>\n",
       "      <td>0</td>\n",
       "      <td>0</td>\n",
       "      <td>0</td>\n",
       "      <td>0</td>\n",
       "      <td>0</td>\n",
       "      <td>1</td>\n",
       "      <td>0</td>\n",
       "      <td>0</td>\n",
       "      <td>0</td>\n",
       "      <td>0</td>\n",
       "      <td>0</td>\n",
       "      <td>0</td>\n",
       "      <td>0</td>\n",
       "    </tr>\n",
       "  </tbody>\n",
       "</table>\n",
       "<p>10128 rows × 16 columns</p>\n",
       "</div>"
      ],
      "text/plain": [
       "       year  accion  aventuras  belico  ciencia ficcion  cine negro  comedia  \\\n",
       "0         3       0          0       0                0           0        0   \n",
       "1         4       0          0       0                1           0        0   \n",
       "2         4       0          0       0                0           0        0   \n",
       "4         3       0          0       0                0           0        0   \n",
       "5         4       0          0       0                0           0        0   \n",
       "...     ...     ...        ...     ...              ...         ...      ...   \n",
       "12137     2       0          0       0                0           1        0   \n",
       "12138     3       0          0       0                0           0        1   \n",
       "12139     4       0          0       0                0           0        0   \n",
       "12140     4       0          0       0                0           0        0   \n",
       "12141     4       0          0       0                0           0        0   \n",
       "\n",
       "       drama  fantastico  infantil  intriga  musical  romance  terror  \\\n",
       "0          0           0         0        1        0        0       0   \n",
       "1          0           0         0        0        0        0       0   \n",
       "2          1           0         0        0        0        0       0   \n",
       "4          0           0         0        0        0        0       0   \n",
       "5          1           0         0        0        0        0       0   \n",
       "...      ...         ...       ...      ...      ...      ...     ...   \n",
       "12137      0           0         0        0        0        0       0   \n",
       "12138      0           0         0        0        0        0       0   \n",
       "12139      0           0         0        0        0        0       1   \n",
       "12140      0           0         0        0        0        0       1   \n",
       "12141      0           1         0        0        0        0       0   \n",
       "\n",
       "       thriller  western  \n",
       "0             0        0  \n",
       "1             0        0  \n",
       "2             0        0  \n",
       "4             0        1  \n",
       "5             0        0  \n",
       "...         ...      ...  \n",
       "12137         0        0  \n",
       "12138         0        0  \n",
       "12139         0        0  \n",
       "12140         0        0  \n",
       "12141         0        0  \n",
       "\n",
       "[10128 rows x 16 columns]"
      ]
     },
     "execution_count": 81,
     "metadata": {},
     "output_type": "execute_result"
    }
   ],
   "source": [
    "df.iloc[:,13:-1]"
   ]
  },
  {
   "cell_type": "code",
   "execution_count": 82,
   "metadata": {},
   "outputs": [],
   "source": [
    "# import pandas as pd\n",
    "# from sklearn.model_selection import train_test_split\n",
    "# from sklearn.preprocessing import StandardScaler\n",
    "\n",
    "# df_generos = df.iloc[:,13:-1]\n",
    "\n",
    "# df = pd.DataFrame(data)\n",
    "\n",
    "# # Dividir los datos en conjuntos de entrenamiento y prueba\n",
    "# X = df.drop('puntuacion', axis=1)\n",
    "# y = df['puntuacion']\n",
    "# X_train, X_test, y_train, y_test = train_test_split(X, y, test_size=0.2, random_state=42)\n",
    "\n",
    "# # Normalizar los datos de entrenamiento\n",
    "# scaler = StandardScaler()\n",
    "# X_train_normalized = pd.DataFrame(scaler.fit_transform(X_train), columns=X_train.columns)\n",
    "\n",
    "# # Aplicar la misma normalización a los datos de prueba\n",
    "# X_test_normalized = pd.DataFrame(scaler.transform(X_test), columns=X_test.columns)\n",
    "\n",
    "# # Definir los coeficientes de importancia de las características\n",
    "# coeficientes = {\n",
    "#     'total_premios': 0.8,\n",
    "#     'razzie': 0.5,\n",
    "#     'director': 0.7,\n",
    "#     'guion': 0.7,\n",
    "#     'musica': 0.7,\n",
    "#     'fotografia': 0.7,\n",
    "#     'reparto_1': 0.6,\n",
    "#     'reparto_2': 0.6,\n",
    "#     'reparto_3': 0.6,\n",
    "#     'reparto_4': 0.6,\n",
    "#     'reparto_5': 0.6,\n",
    "# }\n",
    "\t\t\n",
    "# # Aplicar los coeficientes de importancia a los datos normalizados\n",
    "# for columna, coeficiente in coeficientes.items():\n",
    "#     X_train_normalized[columna] = X_train_normalized[columna] * coeficiente\n",
    "#     X_test_normalized[columna] = X_test_normalized[columna] * coeficiente\n",
    "\n",
    "# print(X_train_normalized)\n",
    "# print(X_test_normalized)"
   ]
  },
  {
   "cell_type": "code",
   "execution_count": 83,
   "metadata": {},
   "outputs": [
    {
     "data": {
      "text/html": [
       "<div>\n",
       "<style scoped>\n",
       "    .dataframe tbody tr th:only-of-type {\n",
       "        vertical-align: middle;\n",
       "    }\n",
       "\n",
       "    .dataframe tbody tr th {\n",
       "        vertical-align: top;\n",
       "    }\n",
       "\n",
       "    .dataframe thead th {\n",
       "        text-align: right;\n",
       "    }\n",
       "</style>\n",
       "<table border=\"1\" class=\"dataframe\">\n",
       "  <thead>\n",
       "    <tr style=\"text-align: right;\">\n",
       "      <th></th>\n",
       "      <th>count</th>\n",
       "      <th>mean</th>\n",
       "      <th>std</th>\n",
       "      <th>min</th>\n",
       "      <th>25%</th>\n",
       "      <th>50%</th>\n",
       "      <th>75%</th>\n",
       "      <th>max</th>\n",
       "    </tr>\n",
       "  </thead>\n",
       "  <tbody>\n",
       "    <tr>\n",
       "      <th>puntuacion</th>\n",
       "      <td>10128.0</td>\n",
       "      <td>5.975207</td>\n",
       "      <td>1.131193</td>\n",
       "      <td>3.7</td>\n",
       "      <td>5.1</td>\n",
       "      <td>6.2</td>\n",
       "      <td>6.8</td>\n",
       "      <td>9.0</td>\n",
       "    </tr>\n",
       "    <tr>\n",
       "      <th>total_premios</th>\n",
       "      <td>10128.0</td>\n",
       "      <td>0.685229</td>\n",
       "      <td>2.244608</td>\n",
       "      <td>0.0</td>\n",
       "      <td>0.0</td>\n",
       "      <td>0.0</td>\n",
       "      <td>0.0</td>\n",
       "      <td>35.0</td>\n",
       "    </tr>\n",
       "    <tr>\n",
       "      <th>razzie</th>\n",
       "      <td>10128.0</td>\n",
       "      <td>0.021919</td>\n",
       "      <td>0.278085</td>\n",
       "      <td>0.0</td>\n",
       "      <td>0.0</td>\n",
       "      <td>0.0</td>\n",
       "      <td>0.0</td>\n",
       "      <td>10.0</td>\n",
       "    </tr>\n",
       "    <tr>\n",
       "      <th>director</th>\n",
       "      <td>10128.0</td>\n",
       "      <td>0.643661</td>\n",
       "      <td>1.383113</td>\n",
       "      <td>0.0</td>\n",
       "      <td>0.0</td>\n",
       "      <td>0.0</td>\n",
       "      <td>1.0</td>\n",
       "      <td>10.0</td>\n",
       "    </tr>\n",
       "    <tr>\n",
       "      <th>guion</th>\n",
       "      <td>10128.0</td>\n",
       "      <td>0.288211</td>\n",
       "      <td>0.879740</td>\n",
       "      <td>0.0</td>\n",
       "      <td>0.0</td>\n",
       "      <td>0.0</td>\n",
       "      <td>0.0</td>\n",
       "      <td>9.0</td>\n",
       "    </tr>\n",
       "    <tr>\n",
       "      <th>musica</th>\n",
       "      <td>10128.0</td>\n",
       "      <td>0.761848</td>\n",
       "      <td>2.370109</td>\n",
       "      <td>0.0</td>\n",
       "      <td>0.0</td>\n",
       "      <td>0.0</td>\n",
       "      <td>0.0</td>\n",
       "      <td>17.0</td>\n",
       "    </tr>\n",
       "    <tr>\n",
       "      <th>fotografia</th>\n",
       "      <td>10128.0</td>\n",
       "      <td>0.495754</td>\n",
       "      <td>1.330303</td>\n",
       "      <td>0.0</td>\n",
       "      <td>0.0</td>\n",
       "      <td>0.0</td>\n",
       "      <td>0.0</td>\n",
       "      <td>11.0</td>\n",
       "    </tr>\n",
       "    <tr>\n",
       "      <th>reparto_1</th>\n",
       "      <td>10128.0</td>\n",
       "      <td>1.475217</td>\n",
       "      <td>2.498578</td>\n",
       "      <td>0.0</td>\n",
       "      <td>0.0</td>\n",
       "      <td>0.0</td>\n",
       "      <td>2.0</td>\n",
       "      <td>19.0</td>\n",
       "    </tr>\n",
       "    <tr>\n",
       "      <th>reparto_2</th>\n",
       "      <td>10128.0</td>\n",
       "      <td>1.057662</td>\n",
       "      <td>2.084289</td>\n",
       "      <td>0.0</td>\n",
       "      <td>0.0</td>\n",
       "      <td>0.0</td>\n",
       "      <td>1.0</td>\n",
       "      <td>19.0</td>\n",
       "    </tr>\n",
       "    <tr>\n",
       "      <th>reparto_3</th>\n",
       "      <td>10128.0</td>\n",
       "      <td>0.743681</td>\n",
       "      <td>1.767480</td>\n",
       "      <td>0.0</td>\n",
       "      <td>0.0</td>\n",
       "      <td>0.0</td>\n",
       "      <td>1.0</td>\n",
       "      <td>19.0</td>\n",
       "    </tr>\n",
       "    <tr>\n",
       "      <th>reparto_4</th>\n",
       "      <td>10128.0</td>\n",
       "      <td>0.523795</td>\n",
       "      <td>1.433227</td>\n",
       "      <td>0.0</td>\n",
       "      <td>0.0</td>\n",
       "      <td>0.0</td>\n",
       "      <td>0.0</td>\n",
       "      <td>18.0</td>\n",
       "    </tr>\n",
       "    <tr>\n",
       "      <th>reparto_5</th>\n",
       "      <td>10128.0</td>\n",
       "      <td>0.373321</td>\n",
       "      <td>1.205607</td>\n",
       "      <td>0.0</td>\n",
       "      <td>0.0</td>\n",
       "      <td>0.0</td>\n",
       "      <td>0.0</td>\n",
       "      <td>19.0</td>\n",
       "    </tr>\n",
       "    <tr>\n",
       "      <th>duracion</th>\n",
       "      <td>10128.0</td>\n",
       "      <td>1.547295</td>\n",
       "      <td>0.503307</td>\n",
       "      <td>1.0</td>\n",
       "      <td>1.0</td>\n",
       "      <td>2.0</td>\n",
       "      <td>2.0</td>\n",
       "      <td>3.0</td>\n",
       "    </tr>\n",
       "    <tr>\n",
       "      <th>year</th>\n",
       "      <td>10128.0</td>\n",
       "      <td>3.606536</td>\n",
       "      <td>0.716509</td>\n",
       "      <td>1.0</td>\n",
       "      <td>3.0</td>\n",
       "      <td>4.0</td>\n",
       "      <td>4.0</td>\n",
       "      <td>4.0</td>\n",
       "    </tr>\n",
       "    <tr>\n",
       "      <th>accion</th>\n",
       "      <td>10128.0</td>\n",
       "      <td>0.056872</td>\n",
       "      <td>0.231609</td>\n",
       "      <td>0.0</td>\n",
       "      <td>0.0</td>\n",
       "      <td>0.0</td>\n",
       "      <td>0.0</td>\n",
       "      <td>1.0</td>\n",
       "    </tr>\n",
       "    <tr>\n",
       "      <th>aventuras</th>\n",
       "      <td>10128.0</td>\n",
       "      <td>0.037125</td>\n",
       "      <td>0.189077</td>\n",
       "      <td>0.0</td>\n",
       "      <td>0.0</td>\n",
       "      <td>0.0</td>\n",
       "      <td>0.0</td>\n",
       "      <td>1.0</td>\n",
       "    </tr>\n",
       "    <tr>\n",
       "      <th>belico</th>\n",
       "      <td>10128.0</td>\n",
       "      <td>0.015205</td>\n",
       "      <td>0.122375</td>\n",
       "      <td>0.0</td>\n",
       "      <td>0.0</td>\n",
       "      <td>0.0</td>\n",
       "      <td>0.0</td>\n",
       "      <td>1.0</td>\n",
       "    </tr>\n",
       "    <tr>\n",
       "      <th>ciencia ficcion</th>\n",
       "      <td>10128.0</td>\n",
       "      <td>0.041370</td>\n",
       "      <td>0.199155</td>\n",
       "      <td>0.0</td>\n",
       "      <td>0.0</td>\n",
       "      <td>0.0</td>\n",
       "      <td>0.0</td>\n",
       "      <td>1.0</td>\n",
       "    </tr>\n",
       "    <tr>\n",
       "      <th>cine negro</th>\n",
       "      <td>10128.0</td>\n",
       "      <td>0.013922</td>\n",
       "      <td>0.117172</td>\n",
       "      <td>0.0</td>\n",
       "      <td>0.0</td>\n",
       "      <td>0.0</td>\n",
       "      <td>0.0</td>\n",
       "      <td>1.0</td>\n",
       "    </tr>\n",
       "    <tr>\n",
       "      <th>comedia</th>\n",
       "      <td>10128.0</td>\n",
       "      <td>0.197571</td>\n",
       "      <td>0.398186</td>\n",
       "      <td>0.0</td>\n",
       "      <td>0.0</td>\n",
       "      <td>0.0</td>\n",
       "      <td>0.0</td>\n",
       "      <td>1.0</td>\n",
       "    </tr>\n",
       "    <tr>\n",
       "      <th>drama</th>\n",
       "      <td>10128.0</td>\n",
       "      <td>0.333037</td>\n",
       "      <td>0.471323</td>\n",
       "      <td>0.0</td>\n",
       "      <td>0.0</td>\n",
       "      <td>0.0</td>\n",
       "      <td>1.0</td>\n",
       "      <td>1.0</td>\n",
       "    </tr>\n",
       "    <tr>\n",
       "      <th>fantastico</th>\n",
       "      <td>10128.0</td>\n",
       "      <td>0.023104</td>\n",
       "      <td>0.150242</td>\n",
       "      <td>0.0</td>\n",
       "      <td>0.0</td>\n",
       "      <td>0.0</td>\n",
       "      <td>0.0</td>\n",
       "      <td>1.0</td>\n",
       "    </tr>\n",
       "    <tr>\n",
       "      <th>infantil</th>\n",
       "      <td>10128.0</td>\n",
       "      <td>0.001481</td>\n",
       "      <td>0.038458</td>\n",
       "      <td>0.0</td>\n",
       "      <td>0.0</td>\n",
       "      <td>0.0</td>\n",
       "      <td>0.0</td>\n",
       "      <td>1.0</td>\n",
       "    </tr>\n",
       "    <tr>\n",
       "      <th>intriga</th>\n",
       "      <td>10128.0</td>\n",
       "      <td>0.034854</td>\n",
       "      <td>0.183419</td>\n",
       "      <td>0.0</td>\n",
       "      <td>0.0</td>\n",
       "      <td>0.0</td>\n",
       "      <td>0.0</td>\n",
       "      <td>1.0</td>\n",
       "    </tr>\n",
       "    <tr>\n",
       "      <th>musical</th>\n",
       "      <td>10128.0</td>\n",
       "      <td>0.011750</td>\n",
       "      <td>0.107762</td>\n",
       "      <td>0.0</td>\n",
       "      <td>0.0</td>\n",
       "      <td>0.0</td>\n",
       "      <td>0.0</td>\n",
       "      <td>1.0</td>\n",
       "    </tr>\n",
       "    <tr>\n",
       "      <th>romance</th>\n",
       "      <td>10128.0</td>\n",
       "      <td>0.047887</td>\n",
       "      <td>0.213538</td>\n",
       "      <td>0.0</td>\n",
       "      <td>0.0</td>\n",
       "      <td>0.0</td>\n",
       "      <td>0.0</td>\n",
       "      <td>1.0</td>\n",
       "    </tr>\n",
       "    <tr>\n",
       "      <th>terror</th>\n",
       "      <td>10128.0</td>\n",
       "      <td>0.078100</td>\n",
       "      <td>0.268343</td>\n",
       "      <td>0.0</td>\n",
       "      <td>0.0</td>\n",
       "      <td>0.0</td>\n",
       "      <td>0.0</td>\n",
       "      <td>1.0</td>\n",
       "    </tr>\n",
       "    <tr>\n",
       "      <th>thriller</th>\n",
       "      <td>10128.0</td>\n",
       "      <td>0.085012</td>\n",
       "      <td>0.278913</td>\n",
       "      <td>0.0</td>\n",
       "      <td>0.0</td>\n",
       "      <td>0.0</td>\n",
       "      <td>0.0</td>\n",
       "      <td>1.0</td>\n",
       "    </tr>\n",
       "    <tr>\n",
       "      <th>western</th>\n",
       "      <td>10128.0</td>\n",
       "      <td>0.022709</td>\n",
       "      <td>0.148983</td>\n",
       "      <td>0.0</td>\n",
       "      <td>0.0</td>\n",
       "      <td>0.0</td>\n",
       "      <td>0.0</td>\n",
       "      <td>1.0</td>\n",
       "    </tr>\n",
       "    <tr>\n",
       "      <th>pais</th>\n",
       "      <td>10128.0</td>\n",
       "      <td>2913.019550</td>\n",
       "      <td>2339.837990</td>\n",
       "      <td>1.0</td>\n",
       "      <td>716.0</td>\n",
       "      <td>5182.0</td>\n",
       "      <td>5182.0</td>\n",
       "      <td>5182.0</td>\n",
       "    </tr>\n",
       "  </tbody>\n",
       "</table>\n",
       "</div>"
      ],
      "text/plain": [
       "                   count         mean          std  min    25%     50%  \\\n",
       "puntuacion       10128.0     5.975207     1.131193  3.7    5.1     6.2   \n",
       "total_premios    10128.0     0.685229     2.244608  0.0    0.0     0.0   \n",
       "razzie           10128.0     0.021919     0.278085  0.0    0.0     0.0   \n",
       "director         10128.0     0.643661     1.383113  0.0    0.0     0.0   \n",
       "guion            10128.0     0.288211     0.879740  0.0    0.0     0.0   \n",
       "musica           10128.0     0.761848     2.370109  0.0    0.0     0.0   \n",
       "fotografia       10128.0     0.495754     1.330303  0.0    0.0     0.0   \n",
       "reparto_1        10128.0     1.475217     2.498578  0.0    0.0     0.0   \n",
       "reparto_2        10128.0     1.057662     2.084289  0.0    0.0     0.0   \n",
       "reparto_3        10128.0     0.743681     1.767480  0.0    0.0     0.0   \n",
       "reparto_4        10128.0     0.523795     1.433227  0.0    0.0     0.0   \n",
       "reparto_5        10128.0     0.373321     1.205607  0.0    0.0     0.0   \n",
       "duracion         10128.0     1.547295     0.503307  1.0    1.0     2.0   \n",
       "year             10128.0     3.606536     0.716509  1.0    3.0     4.0   \n",
       "accion           10128.0     0.056872     0.231609  0.0    0.0     0.0   \n",
       "aventuras        10128.0     0.037125     0.189077  0.0    0.0     0.0   \n",
       "belico           10128.0     0.015205     0.122375  0.0    0.0     0.0   \n",
       "ciencia ficcion  10128.0     0.041370     0.199155  0.0    0.0     0.0   \n",
       "cine negro       10128.0     0.013922     0.117172  0.0    0.0     0.0   \n",
       "comedia          10128.0     0.197571     0.398186  0.0    0.0     0.0   \n",
       "drama            10128.0     0.333037     0.471323  0.0    0.0     0.0   \n",
       "fantastico       10128.0     0.023104     0.150242  0.0    0.0     0.0   \n",
       "infantil         10128.0     0.001481     0.038458  0.0    0.0     0.0   \n",
       "intriga          10128.0     0.034854     0.183419  0.0    0.0     0.0   \n",
       "musical          10128.0     0.011750     0.107762  0.0    0.0     0.0   \n",
       "romance          10128.0     0.047887     0.213538  0.0    0.0     0.0   \n",
       "terror           10128.0     0.078100     0.268343  0.0    0.0     0.0   \n",
       "thriller         10128.0     0.085012     0.278913  0.0    0.0     0.0   \n",
       "western          10128.0     0.022709     0.148983  0.0    0.0     0.0   \n",
       "pais             10128.0  2913.019550  2339.837990  1.0  716.0  5182.0   \n",
       "\n",
       "                    75%     max  \n",
       "puntuacion          6.8     9.0  \n",
       "total_premios       0.0    35.0  \n",
       "razzie              0.0    10.0  \n",
       "director            1.0    10.0  \n",
       "guion               0.0     9.0  \n",
       "musica              0.0    17.0  \n",
       "fotografia          0.0    11.0  \n",
       "reparto_1           2.0    19.0  \n",
       "reparto_2           1.0    19.0  \n",
       "reparto_3           1.0    19.0  \n",
       "reparto_4           0.0    18.0  \n",
       "reparto_5           0.0    19.0  \n",
       "duracion            2.0     3.0  \n",
       "year                4.0     4.0  \n",
       "accion              0.0     1.0  \n",
       "aventuras           0.0     1.0  \n",
       "belico              0.0     1.0  \n",
       "ciencia ficcion     0.0     1.0  \n",
       "cine negro          0.0     1.0  \n",
       "comedia             0.0     1.0  \n",
       "drama               1.0     1.0  \n",
       "fantastico          0.0     1.0  \n",
       "infantil            0.0     1.0  \n",
       "intriga             0.0     1.0  \n",
       "musical             0.0     1.0  \n",
       "romance             0.0     1.0  \n",
       "terror              0.0     1.0  \n",
       "thriller            0.0     1.0  \n",
       "western             0.0     1.0  \n",
       "pais             5182.0  5182.0  "
      ]
     },
     "execution_count": 83,
     "metadata": {},
     "output_type": "execute_result"
    }
   ],
   "source": [
    "df.describe().T"
   ]
  },
  {
   "attachments": {},
   "cell_type": "markdown",
   "metadata": {},
   "source": [
    "## Separo la columna \"target\" de los \"features\" y particiono en train y test"
   ]
  },
  {
   "cell_type": "code",
   "execution_count": 84,
   "metadata": {},
   "outputs": [],
   "source": [
    "from sklearn.model_selection import train_test_split\n",
    "\n",
    "X = df.drop('puntuacion', axis=1)\n",
    "y = df['puntuacion']\n",
    "\n",
    "\n",
    "X_train, X_test, y_train, y_test = train_test_split(X,\n",
    "                                                    y,\n",
    "                                                    test_size=0.15,\n",
    "                                                    random_state=42)"
   ]
  },
  {
   "attachments": {},
   "cell_type": "markdown",
   "metadata": {},
   "source": [
    "## Escalo los datos previamente. StandardScaler"
   ]
  },
  {
   "cell_type": "code",
   "execution_count": 85,
   "metadata": {},
   "outputs": [],
   "source": [
    "from sklearn.preprocessing import StandardScaler\n",
    "\n",
    "scaler = StandardScaler()\n",
    "scaler.fit(X_train)\n",
    "\n",
    "X_train = scaler.transform(X_train)\n",
    "X_test = scaler.transform(X_test)"
   ]
  },
  {
   "attachments": {},
   "cell_type": "markdown",
   "metadata": {},
   "source": [
    "# Feature Selection"
   ]
  },
  {
   "attachments": {},
   "cell_type": "markdown",
   "metadata": {},
   "source": [
    "### Obtengo la media del target para tener una referencia en cuanto a la métrica MAE"
   ]
  },
  {
   "cell_type": "code",
   "execution_count": 86,
   "metadata": {},
   "outputs": [
    {
     "data": {
      "text/plain": [
       "5.9752073459715636"
      ]
     },
     "execution_count": 86,
     "metadata": {},
     "output_type": "execute_result"
    }
   ],
   "source": [
    "df[\"puntuacion\"].mean()"
   ]
  },
  {
   "attachments": {},
   "cell_type": "markdown",
   "metadata": {},
   "source": [
    "### Compruebo mediante el Feature Importances que columnas son mas importantes para el modelo"
   ]
  },
  {
   "cell_type": "code",
   "execution_count": 87,
   "metadata": {},
   "outputs": [
    {
     "data": {
      "text/html": [
       "<div>\n",
       "<style scoped>\n",
       "    .dataframe tbody tr th:only-of-type {\n",
       "        vertical-align: middle;\n",
       "    }\n",
       "\n",
       "    .dataframe tbody tr th {\n",
       "        vertical-align: top;\n",
       "    }\n",
       "\n",
       "    .dataframe thead th {\n",
       "        text-align: right;\n",
       "    }\n",
       "</style>\n",
       "<table border=\"1\" class=\"dataframe\">\n",
       "  <thead>\n",
       "    <tr style=\"text-align: right;\">\n",
       "      <th></th>\n",
       "      <th>column</th>\n",
       "      <th>Feat_Import</th>\n",
       "    </tr>\n",
       "  </thead>\n",
       "  <tbody>\n",
       "    <tr>\n",
       "      <th>12</th>\n",
       "      <td>year</td>\n",
       "      <td>0.217533</td>\n",
       "    </tr>\n",
       "    <tr>\n",
       "      <th>19</th>\n",
       "      <td>drama</td>\n",
       "      <td>0.147779</td>\n",
       "    </tr>\n",
       "    <tr>\n",
       "      <th>28</th>\n",
       "      <td>pais</td>\n",
       "      <td>0.096538</td>\n",
       "    </tr>\n",
       "    <tr>\n",
       "      <th>0</th>\n",
       "      <td>total_premios</td>\n",
       "      <td>0.076168</td>\n",
       "    </tr>\n",
       "    <tr>\n",
       "      <th>2</th>\n",
       "      <td>director</td>\n",
       "      <td>0.060850</td>\n",
       "    </tr>\n",
       "  </tbody>\n",
       "</table>\n",
       "</div>"
      ],
      "text/plain": [
       "           column  Feat_Import\n",
       "12           year     0.217533\n",
       "19          drama     0.147779\n",
       "28           pais     0.096538\n",
       "0   total_premios     0.076168\n",
       "2        director     0.060850"
      ]
     },
     "execution_count": 87,
     "metadata": {},
     "output_type": "execute_result"
    }
   ],
   "source": [
    "from sklearn.ensemble import RandomForestRegressor\n",
    "from sklearn.metrics import r2_score, mean_squared_error, mean_absolute_error\n",
    "\n",
    "seed = 42\n",
    "\n",
    "RndFrst_Model = RandomForestRegressor(random_state= seed)\n",
    "RndFrst_Model.fit(X_train, y_train)\n",
    "\n",
    "feature_importances = RndFrst_Model.feature_importances_\n",
    "\n",
    "df_Feat_Import = pd.DataFrame({'column': X.columns, 'score': feature_importances}).sort_values('score', ascending=False)\n",
    "df_Feat_Import.rename(columns={\"score\":\"Feat_Import\"},inplace=True)\n",
    "df_Feat_Import.head()"
   ]
  },
  {
   "attachments": {},
   "cell_type": "markdown",
   "metadata": {},
   "source": [
    "### Compruebo mediante el SelectKBest que columnas son mas importantes para el modelo"
   ]
  },
  {
   "cell_type": "code",
   "execution_count": 88,
   "metadata": {},
   "outputs": [
    {
     "data": {
      "text/html": [
       "<div>\n",
       "<style scoped>\n",
       "    .dataframe tbody tr th:only-of-type {\n",
       "        vertical-align: middle;\n",
       "    }\n",
       "\n",
       "    .dataframe tbody tr th {\n",
       "        vertical-align: top;\n",
       "    }\n",
       "\n",
       "    .dataframe thead th {\n",
       "        text-align: right;\n",
       "    }\n",
       "</style>\n",
       "<table border=\"1\" class=\"dataframe\">\n",
       "  <thead>\n",
       "    <tr style=\"text-align: right;\">\n",
       "      <th></th>\n",
       "      <th>column</th>\n",
       "      <th>Select_KBest</th>\n",
       "    </tr>\n",
       "  </thead>\n",
       "  <tbody>\n",
       "    <tr>\n",
       "      <th>12</th>\n",
       "      <td>year</td>\n",
       "      <td>67.653866</td>\n",
       "    </tr>\n",
       "    <tr>\n",
       "      <th>19</th>\n",
       "      <td>drama</td>\n",
       "      <td>39.407297</td>\n",
       "    </tr>\n",
       "    <tr>\n",
       "      <th>2</th>\n",
       "      <td>director</td>\n",
       "      <td>25.551162</td>\n",
       "    </tr>\n",
       "    <tr>\n",
       "      <th>0</th>\n",
       "      <td>total_premios</td>\n",
       "      <td>21.560013</td>\n",
       "    </tr>\n",
       "    <tr>\n",
       "      <th>11</th>\n",
       "      <td>duracion</td>\n",
       "      <td>17.062560</td>\n",
       "    </tr>\n",
       "  </tbody>\n",
       "</table>\n",
       "</div>"
      ],
      "text/plain": [
       "           column  Select_KBest\n",
       "12           year     67.653866\n",
       "19          drama     39.407297\n",
       "2        director     25.551162\n",
       "0   total_premios     21.560013\n",
       "11       duracion     17.062560"
      ]
     },
     "execution_count": 88,
     "metadata": {},
     "output_type": "execute_result"
    }
   ],
   "source": [
    "from sklearn.feature_selection import SelectKBest\n",
    "\n",
    "# Separar características y objetivo\n",
    "X = df.drop('puntuacion', axis=1)\n",
    "y = df['puntuacion']\n",
    "\n",
    "# Seleccionar las 10 mejores características\n",
    "sel = SelectKBest(k=10)\n",
    "X_new = sel.fit_transform(X, y)\n",
    "\n",
    "# Imprimir la forma de X_new y los puntajes de todas las características\n",
    "df_SelectKBest = pd.DataFrame({'column': X.columns, 'score': sel.scores_}).sort_values('score', ascending=False)\n",
    "df_SelectKBest.rename(columns={\"score\":\"Select_KBest\"}, inplace= True)\n",
    "df_SelectKBest.head()"
   ]
  },
  {
   "attachments": {},
   "cell_type": "markdown",
   "metadata": {},
   "source": [
    "### Visualizo la comparativa en un dataframe"
   ]
  },
  {
   "cell_type": "code",
   "execution_count": 89,
   "metadata": {},
   "outputs": [
    {
     "data": {
      "text/html": [
       "<div>\n",
       "<style scoped>\n",
       "    .dataframe tbody tr th:only-of-type {\n",
       "        vertical-align: middle;\n",
       "    }\n",
       "\n",
       "    .dataframe tbody tr th {\n",
       "        vertical-align: top;\n",
       "    }\n",
       "\n",
       "    .dataframe thead th {\n",
       "        text-align: right;\n",
       "    }\n",
       "</style>\n",
       "<table border=\"1\" class=\"dataframe\">\n",
       "  <thead>\n",
       "    <tr style=\"text-align: right;\">\n",
       "      <th></th>\n",
       "      <th>column</th>\n",
       "      <th>Select_KBest</th>\n",
       "      <th>Feat_Import</th>\n",
       "    </tr>\n",
       "  </thead>\n",
       "  <tbody>\n",
       "    <tr>\n",
       "      <th>0</th>\n",
       "      <td>year</td>\n",
       "      <td>67.653866</td>\n",
       "      <td>0.217533</td>\n",
       "    </tr>\n",
       "    <tr>\n",
       "      <th>1</th>\n",
       "      <td>drama</td>\n",
       "      <td>39.407297</td>\n",
       "      <td>0.147779</td>\n",
       "    </tr>\n",
       "    <tr>\n",
       "      <th>2</th>\n",
       "      <td>director</td>\n",
       "      <td>25.551162</td>\n",
       "      <td>0.060850</td>\n",
       "    </tr>\n",
       "    <tr>\n",
       "      <th>3</th>\n",
       "      <td>total_premios</td>\n",
       "      <td>21.560013</td>\n",
       "      <td>0.076168</td>\n",
       "    </tr>\n",
       "    <tr>\n",
       "      <th>4</th>\n",
       "      <td>duracion</td>\n",
       "      <td>17.062560</td>\n",
       "      <td>0.051786</td>\n",
       "    </tr>\n",
       "  </tbody>\n",
       "</table>\n",
       "</div>"
      ],
      "text/plain": [
       "          column  Select_KBest  Feat_Import\n",
       "0           year     67.653866     0.217533\n",
       "1          drama     39.407297     0.147779\n",
       "2       director     25.551162     0.060850\n",
       "3  total_premios     21.560013     0.076168\n",
       "4       duracion     17.062560     0.051786"
      ]
     },
     "execution_count": 89,
     "metadata": {},
     "output_type": "execute_result"
    }
   ],
   "source": [
    "df_features = pd.merge(df_SelectKBest, df_Feat_Import, left_on=\"column\", right_on=\"column\")\n",
    "df_features.head()"
   ]
  },
  {
   "attachments": {},
   "cell_type": "markdown",
   "metadata": {},
   "source": [
    "### Muestro en un dataframe las columnas más importantes y su porcentaje sobre el total en el Select KBest"
   ]
  },
  {
   "cell_type": "code",
   "execution_count": 90,
   "metadata": {},
   "outputs": [
    {
     "data": {
      "text/html": [
       "<div>\n",
       "<style scoped>\n",
       "    .dataframe tbody tr th:only-of-type {\n",
       "        vertical-align: middle;\n",
       "    }\n",
       "\n",
       "    .dataframe tbody tr th {\n",
       "        vertical-align: top;\n",
       "    }\n",
       "\n",
       "    .dataframe thead th {\n",
       "        text-align: right;\n",
       "    }\n",
       "</style>\n",
       "<table border=\"1\" class=\"dataframe\">\n",
       "  <thead>\n",
       "    <tr style=\"text-align: right;\">\n",
       "      <th></th>\n",
       "      <th>column</th>\n",
       "      <th>Select_KBest</th>\n",
       "      <th>Select_KBest %</th>\n",
       "    </tr>\n",
       "  </thead>\n",
       "  <tbody>\n",
       "    <tr>\n",
       "      <th>0</th>\n",
       "      <td>year</td>\n",
       "      <td>67.653866</td>\n",
       "      <td>25.421590</td>\n",
       "    </tr>\n",
       "    <tr>\n",
       "      <th>1</th>\n",
       "      <td>drama</td>\n",
       "      <td>39.407297</td>\n",
       "      <td>14.807670</td>\n",
       "    </tr>\n",
       "    <tr>\n",
       "      <th>2</th>\n",
       "      <td>director</td>\n",
       "      <td>25.551162</td>\n",
       "      <td>9.601095</td>\n",
       "    </tr>\n",
       "    <tr>\n",
       "      <th>3</th>\n",
       "      <td>total_premios</td>\n",
       "      <td>21.560013</td>\n",
       "      <td>8.101382</td>\n",
       "    </tr>\n",
       "    <tr>\n",
       "      <th>4</th>\n",
       "      <td>duracion</td>\n",
       "      <td>17.062560</td>\n",
       "      <td>6.411421</td>\n",
       "    </tr>\n",
       "  </tbody>\n",
       "</table>\n",
       "</div>"
      ],
      "text/plain": [
       "          column  Select_KBest  Select_KBest %\n",
       "0           year     67.653866       25.421590\n",
       "1          drama     39.407297       14.807670\n",
       "2       director     25.551162        9.601095\n",
       "3  total_premios     21.560013        8.101382\n",
       "4       duracion     17.062560        6.411421"
      ]
     },
     "execution_count": 90,
     "metadata": {},
     "output_type": "execute_result"
    }
   ],
   "source": [
    "total_kbest = df_features['Select_KBest'].sum()\n",
    "total_feat_import = df_features['Feat_Import'].sum()\n",
    "\n",
    "df_features['Select_KBest %'] = (df_features['Select_KBest'] / total_kbest) * 100\n",
    "df_features['Feat_Import %'] = (df_features['Feat_Import'] / total_feat_import) * 100\n",
    "df_select_KBest =df_features.sort_values(by=\"Select_KBest %\", ascending= False).iloc[:,[0,1,3]]\n",
    "df_select_KBest.head()"
   ]
  },
  {
   "attachments": {},
   "cell_type": "markdown",
   "metadata": {},
   "source": [
    "## Visualizo en una gráfica de barras mismo resultado"
   ]
  },
  {
   "cell_type": "code",
   "execution_count": 91,
   "metadata": {},
   "outputs": [],
   "source": [
    "import plotly.express as px\n",
    "import pandas as pd\n",
    "import numpy as np\n",
    "\n",
    "colors = [\"#86A0B1\", \"#FEE28F\", \"#FFB144\", \"#FFFFFF\"]\n",
    "\n",
    "\n",
    "df_KBest = pd.DataFrame({\n",
    "    'column': ['Año', 'Drama', 'Director', 'Premios'],\n",
    "    'Select_KBest': [68.270571, 39.608074, 25.560473, 20.967556],\n",
    "    'Select_KBest %': [25.724929, 14.924658, 9.631403, 7.900753]\n",
    "})\n",
    "\n",
    "fig = px.bar(\n",
    "    df_KBest, \n",
    "    x='column', \n",
    "    y='Select_KBest %', \n",
    "    text=None,\n",
    "    width=10\n",
    ")\n",
    "\n",
    "fig.update_traces(\n",
    "    marker_color=np.tile(colors, 2), # repeat the color palette for each bar\n",
    "    textposition='auto',\n",
    "    textfont=dict(size=16),\n",
    ")\n",
    "\n",
    "# set the size of the chart\n",
    "fig.update_layout(\n",
    "    width=500,\n",
    "    height=500\n",
    ")\n",
    "\n",
    "# remove the axes\n",
    "fig.update_xaxes(showticklabels=True, \n",
    "                 tickfont=dict(size=20, color='white'),\n",
    "                 title=None\n",
    "                 )\n",
    "\n",
    "fig.update_yaxes(showticklabels=True,\n",
    "                 title=None,\n",
    "                 tickfont=dict(size=20, color='white')\n",
    "                 )\n",
    "\n",
    "# set the background color to transparent\n",
    "fig.update_layout(\n",
    "    plot_bgcolor='rgba(0,0,0,0)',\n",
    "    paper_bgcolor='rgba(0,0,0,0)'\n",
    ")\n",
    "\n",
    "# # set the y axis tick values and labels\n",
    "y_tickvals = [0, 5, 10, 15, 20, 25]\n",
    "y_ticktext = ['0%', '5%', '10%', '15%', '20%', '25%']\n",
    "fig.update_layout(yaxis={'tickvals': y_tickvals, 'ticktext': y_ticktext, 'showticklabels': True})\n",
    "\n",
    "\n",
    "fig.write_image(r'charts\\select_k_best.png')\n",
    "\n",
    "# show the chart\n",
    "# fig.show()"
   ]
  },
  {
   "cell_type": "code",
   "execution_count": 92,
   "metadata": {},
   "outputs": [],
   "source": [
    "df_select_KBest = pd.DataFrame({\n",
    "    'column': ['year', 'drama', 'director', 'total_premios', 'duracion', 'terror', 'comedia', 'pais', 'guion', 'accion', 'cine negro', 'reparto_1', 'fotografia', 'musica', 'western', 'razzie', 'reparto_4', 'thriller', 'ciencia ficcion', 'reparto_2', 'infantil', 'romance', 'belico', 'intriga', 'reparto_3', 'reparto_5', 'fantastico', 'aventuras', 'musical'],\n",
    "    'Select_KBest': [68.270571, 39.608074, 25.560473, 20.967556, 16.959625, 12.766236, 11.151253, 8.863364, 7.451181, 6.325492, 5.428509, 4.423287, 4.142718, 3.846031, 2.864087, 2.831693, 2.587299, 2.584808, 2.581842, 2.539733, 2.342012, 1.861715, 1.749711, 1.513346, 1.506185, 1.417109, 1.213879, 1.045425, 0.983604],\n",
    "    'Select_KBest %': [25.724929, 14.924658, 9.631403, 7.900753, 6.39053, 4.810426, 4.201887, 3.339791, 2.807668, 2.383499, 2.045508, 1.666732, 1.561011, 1.449217, 1.079212, 1.067006, 0.974916, 0.973977, 0.97286, 0.956993, 0.88249, 0.70151, 0.659306, 0.570242, 0.567543, 0.533979, 0.4574, 0.393925, 0.37063]\n",
    "})"
   ]
  },
  {
   "attachments": {},
   "cell_type": "markdown",
   "metadata": {},
   "source": [
    "## Visualizo en una gráfica de pie pero con todas las columnas"
   ]
  },
  {
   "cell_type": "code",
   "execution_count": 93,
   "metadata": {},
   "outputs": [],
   "source": [
    "import plotly.express as px\n",
    "\n",
    "colors = [\"#86A0B1\", \"#FEE28F\", \"#FFB144\", \"#FFFFFF\"]\n",
    "\n",
    "fig = px.pie(df_select_KBest, values='Select_KBest %', names='column',\n",
    "             hole=0.4, opacity=1,\n",
    "             color_discrete_sequence=colors)\n",
    "\n",
    "\n",
    "fig.update_traces(textposition='inside',\n",
    "                #   textinfo='percent+label'\n",
    "                  textinfo='none')\n",
    "\n",
    "fig.update_layout(showlegend=False,\n",
    "                  paper_bgcolor='rgba(0,0,0,0)',\n",
    "                  plot_bgcolor='rgba(0,0,0,0)')\n",
    "\n",
    "fig.write_image(r'charts\\pie_select_k_best_100.png')\n",
    "\n",
    "# fig.show()"
   ]
  },
  {
   "attachments": {},
   "cell_type": "markdown",
   "metadata": {},
   "source": [
    "## Muestro en un dataframe las columnas más importantes y su porcentaje sobre el total en el feature importance"
   ]
  },
  {
   "cell_type": "code",
   "execution_count": 94,
   "metadata": {},
   "outputs": [
    {
     "data": {
      "text/html": [
       "<div>\n",
       "<style scoped>\n",
       "    .dataframe tbody tr th:only-of-type {\n",
       "        vertical-align: middle;\n",
       "    }\n",
       "\n",
       "    .dataframe tbody tr th {\n",
       "        vertical-align: top;\n",
       "    }\n",
       "\n",
       "    .dataframe thead th {\n",
       "        text-align: right;\n",
       "    }\n",
       "</style>\n",
       "<table border=\"1\" class=\"dataframe\">\n",
       "  <thead>\n",
       "    <tr style=\"text-align: right;\">\n",
       "      <th></th>\n",
       "      <th>column</th>\n",
       "      <th>Feat_Import</th>\n",
       "      <th>Feat_Import %</th>\n",
       "    </tr>\n",
       "  </thead>\n",
       "  <tbody>\n",
       "    <tr>\n",
       "      <th>0</th>\n",
       "      <td>year</td>\n",
       "      <td>0.217533</td>\n",
       "      <td>21.753266</td>\n",
       "    </tr>\n",
       "    <tr>\n",
       "      <th>1</th>\n",
       "      <td>drama</td>\n",
       "      <td>0.147779</td>\n",
       "      <td>14.777909</td>\n",
       "    </tr>\n",
       "    <tr>\n",
       "      <th>7</th>\n",
       "      <td>pais</td>\n",
       "      <td>0.096538</td>\n",
       "      <td>9.653812</td>\n",
       "    </tr>\n",
       "    <tr>\n",
       "      <th>3</th>\n",
       "      <td>total_premios</td>\n",
       "      <td>0.076168</td>\n",
       "      <td>7.616780</td>\n",
       "    </tr>\n",
       "    <tr>\n",
       "      <th>2</th>\n",
       "      <td>director</td>\n",
       "      <td>0.060850</td>\n",
       "      <td>6.084998</td>\n",
       "    </tr>\n",
       "  </tbody>\n",
       "</table>\n",
       "</div>"
      ],
      "text/plain": [
       "          column  Feat_Import  Feat_Import %\n",
       "0           year     0.217533      21.753266\n",
       "1          drama     0.147779      14.777909\n",
       "7           pais     0.096538       9.653812\n",
       "3  total_premios     0.076168       7.616780\n",
       "2       director     0.060850       6.084998"
      ]
     },
     "execution_count": 94,
     "metadata": {},
     "output_type": "execute_result"
    }
   ],
   "source": [
    "total_kbest = df_features['Select_KBest'].sum()\n",
    "total_feat_import = df_features['Feat_Import'].sum()\n",
    "\n",
    "df_features['Select_KBest %'] = (df_features['Select_KBest'] / total_kbest) * 100\n",
    "df_features['Feat_Import %'] = (df_features['Feat_Import'] / total_feat_import) * 100\n",
    "df_features_importances = df_features.sort_values(by=\"Feat_Import %\", ascending= False).iloc[:,::2]\n",
    "df_features_importances.head()"
   ]
  },
  {
   "attachments": {},
   "cell_type": "markdown",
   "metadata": {},
   "source": [
    "## Visualizo en una gráfica de barras mismo resultado"
   ]
  },
  {
   "cell_type": "code",
   "execution_count": 95,
   "metadata": {},
   "outputs": [],
   "source": [
    "import plotly.express as px\n",
    "import pandas as pd\n",
    "import numpy as np\n",
    "\n",
    "colors = [\"#86A0B1\", \"#FEE28F\", \"#FFB144\", \"#FFFFFF\"]\n",
    "\n",
    "\n",
    "df_Feat_Importances = pd.DataFrame({\n",
    "    'column': ['Año', 'Drama', 'Pais', 'Premios'],\n",
    "    'Feat_Import': [0.234898, 0.144383, 0.094264, 0.081676],\n",
    "    'Feat_Import %': [23.489831, 14.438292, 9.426434, 8.167604]\n",
    "})\n",
    "\n",
    "fig = px.bar(\n",
    "    df_Feat_Importances, \n",
    "    x='column', \n",
    "    y='Feat_Import %', \n",
    "    text=None,\n",
    "    width=10\n",
    ")\n",
    "\n",
    "\n",
    "fig.update_traces(\n",
    "    marker_color=np.tile(colors, 2), # repeat the color palette for each bar\n",
    "    textposition='auto',\n",
    "    textfont=dict(size=16),\n",
    ")\n",
    "\n",
    "# set the size of the chart\n",
    "fig.update_layout(\n",
    "    width=500,\n",
    "    height=500\n",
    ")\n",
    "\n",
    "# remove the axes\n",
    "fig.update_xaxes(showticklabels=True, \n",
    "                 tickfont=dict(size=20, color='white'),\n",
    "                 title=None\n",
    "                 )\n",
    "\n",
    "fig.update_yaxes(showticklabels=True,\n",
    "                 title=None,\n",
    "                 tickfont=dict(size=20, color='white')\n",
    "                 )\n",
    "\n",
    "# set the background color to transparent\n",
    "fig.update_layout(\n",
    "    plot_bgcolor='rgba(0,0,0,0)',\n",
    "    paper_bgcolor='rgba(0,0,0,0)'\n",
    ")\n",
    "\n",
    "# set the y axis tick values and labels\n",
    "y_tickvals = [0, 5, 10, 15, 20, 25]\n",
    "y_ticktext = ['0%', '5%', '10%', '15%', '20%', '25%']\n",
    "fig.update_layout(yaxis={'tickvals': y_tickvals, 'ticktext': y_ticktext, 'showticklabels': True})\n",
    "\n",
    "\n",
    "fig.write_image(r'charts\\features_importances.png')\n",
    "\n",
    "# show the chart\n",
    "# fig.show()"
   ]
  },
  {
   "attachments": {},
   "cell_type": "markdown",
   "metadata": {},
   "source": [
    "## Visualizo en una gráfica de pie mismo resultado"
   ]
  },
  {
   "cell_type": "code",
   "execution_count": 96,
   "metadata": {},
   "outputs": [],
   "source": [
    "import plotly.express as px\n",
    "\n",
    "colors = [\"#86A0B1\", \"#FEE28F\", \"#FFB144\", \"#FFFFFF\"]\n",
    "\n",
    "fig = px.pie(df_Feat_Importances, values='Feat_Import %', names='column',\n",
    "             hole=0.4, opacity=1,\n",
    "             color_discrete_sequence=colors)\n",
    "\n",
    "\n",
    "fig.update_traces(textposition='inside',\n",
    "                #   textinfo='percent+label'\n",
    "                  textinfo='none')\n",
    "\n",
    "fig.update_layout(showlegend=False,\n",
    "                  paper_bgcolor='rgba(0,0,0,0)',\n",
    "                  plot_bgcolor='rgba(0,0,0,0)')\n",
    "\n",
    "fig.write_image(r'charts\\pie_features_importances.png')\n",
    "\n",
    "# fig.show()"
   ]
  },
  {
   "attachments": {},
   "cell_type": "markdown",
   "metadata": {},
   "source": [
    "### Visualizo gráficamente las más importantes/ menos importantes de ambos métodos"
   ]
  },
  {
   "cell_type": "code",
   "execution_count": 97,
   "metadata": {},
   "outputs": [
    {
     "data": {
      "image/png": "[encoded data removed]",
      "text/plain": [
       "<Figure size 2000x600 with 2 Axes>"
      ]
     },
     "metadata": {},
     "output_type": "display_data"
    }
   ],
   "source": [
    "import seaborn as sns\n",
    "import matplotlib.pyplot as plt\n",
    "\n",
    "# Establecer el estilo global\n",
    "sns.set_theme(style='whitegrid')\n",
    "\n",
    "# Obtener las características menos importantes\n",
    "feature_importances = RndFrst_Model.feature_importances_\n",
    "important_features = sorted(zip(feature_importances, df.columns[1:]), reverse=True)[:10]\n",
    "important_features_names = [f[1] for f in important_features][::-1]\n",
    "important_features_importances = [f[0] for f in important_features][::-1]\n",
    "\n",
    "# Crear el gráfico de barras 1\n",
    "fig, (ax1, ax2) = plt.subplots(ncols=2, figsize=(20, 6))\n",
    "\n",
    "sns.barplot(x=important_features_names, y=important_features_importances, ax=ax1)\n",
    "ax1.set_title('10 mas importantes - Features Importances')\n",
    "ax1.set_xlabel('Característica')\n",
    "ax1.set_ylabel('Importancia')\n",
    "ax1.set_xticklabels(labels=important_features_names, rotation=90)\n",
    "\n",
    "# Agregar etiquetas a las barras\n",
    "for i, v in enumerate(important_features_importances):\n",
    "    ax1.text(i, v, str(round(v, 2)), color='black', ha='center')\n",
    "\n",
    "# Ordenar el dataframe por score en orden ascendente\n",
    "df_SelectKBest_sorted = df_SelectKBest.sort_values(by='Select_KBest', ascending=False)\n",
    "\n",
    "# Crear el gráfico de barras 2\n",
    "sns.barplot(data=df_SelectKBest_sorted.head(10), x='column', y='Select_KBest', ax=ax2)\n",
    "ax2.set_title('10 mas importantes - Select KBest')\n",
    "ax2.set_xlabel('Característica')\n",
    "ax2.set_ylabel('Importancia')\n",
    "ax2.set_xticklabels(labels=df_SelectKBest_sorted['column'].head(10), rotation=90)\n",
    "\n",
    "# Agregar etiquetas a las barras\n",
    "for i, v in enumerate(df_SelectKBest_sorted['Select_KBest'].head(10)):\n",
    "    ax2.text(i, v, str(round(v, 2)), color='black', ha='center')\n",
    "\n",
    "# fig.write_image(r'charts\\pie_features_importances_select_kbest.png')\n",
    "\n",
    "# plt.show()"
   ]
  },
  {
   "cell_type": "code",
   "execution_count": 98,
   "metadata": {},
   "outputs": [
    {
     "data": {
      "image/png": "[encoded data removed]",
      "text/plain": [
       "<Figure size 2000x600 with 2 Axes>"
      ]
     },
     "metadata": {},
     "output_type": "display_data"
    }
   ],
   "source": [
    "import seaborn as sns\n",
    "import matplotlib.pyplot as plt\n",
    "\n",
    "# Establecer el estilo global\n",
    "sns.set_theme(style='whitegrid')\n",
    "\n",
    "# Obtener las características menos importantes\n",
    "feature_importances = RndFrst_Model.feature_importances_\n",
    "important_features = sorted(zip(feature_importances, df.columns[1:]), reverse=False)[:10]\n",
    "important_features_names = [f[1] for f in important_features][::-1]\n",
    "important_features_importances = [f[0] for f in important_features][::-1]\n",
    "\n",
    "# Crear el gráfico de barras 1\n",
    "fig, (ax1, ax2) = plt.subplots(ncols=2, figsize=(20, 6))\n",
    "\n",
    "sns.barplot(x=important_features_names, y=important_features_importances, ax=ax1)\n",
    "ax1.set_title('10 menos importantes - Features Importances')\n",
    "ax1.set_xlabel('Columna')\n",
    "ax1.set_ylabel('Importancia')\n",
    "ax1.set_xticklabels(labels=important_features_names, rotation=90)\n",
    "\n",
    "# Agregar etiquetas a las barras\n",
    "for i, v in enumerate(important_features_importances):\n",
    "    ax1.text(i, v, str(round(v, 2)), color='black', ha='center')\n",
    "\n",
    "# Ordenar el dataframe por score en orden ascendente\n",
    "df_SelectKBest_sorted = df_SelectKBest.sort_values(by='Select_KBest', ascending=True)\n",
    "\n",
    "# Crear el gráfico de barras 2\n",
    "sns.barplot(data=df_SelectKBest_sorted.head(10), x='column', y='Select_KBest', ax=ax2)\n",
    "ax2.set_title('10 menos importantes - Select KBest')\n",
    "ax2.set_xlabel('Columna')\n",
    "ax2.set_ylabel('Importancia')\n",
    "ax2.set_xticklabels(labels=df_SelectKBest_sorted['column'].head(10), rotation=90)\n",
    "\n",
    "# Agregar etiquetas a las barras\n",
    "for i, v in enumerate(df_SelectKBest_sorted['Select_KBest'].head(10)):\n",
    "    ax2.text(i, v, str(round(v, 2)), color='black', ha='center')\n",
    "\n",
    "# fig.write_image(r'charts\\pie_features_importances_select_kbest_001.png')\n",
    "\n",
    "# plt.show()"
   ]
  },
  {
   "attachments": {},
   "cell_type": "markdown",
   "metadata": {},
   "source": [
    "# Comienzo a probar modelos para ver su performance"
   ]
  },
  {
   "attachments": {},
   "cell_type": "markdown",
   "metadata": {},
   "source": [
    "# 1. Regression Algorithms"
   ]
  },
  {
   "attachments": {},
   "cell_type": "markdown",
   "metadata": {},
   "source": [
    "### OrthogonalMatchingPursuit"
   ]
  },
  {
   "cell_type": "code",
   "execution_count": 99,
   "metadata": {},
   "outputs": [
    {
     "name": "stdout",
     "output_type": "stream",
     "text": [
      "R2 (test): 48.3173 %\n",
      "MAE (test): 0.651146485406857\n"
     ]
    }
   ],
   "source": [
    "from sklearn.linear_model import OrthogonalMatchingPursuit\n",
    "from sklearn.metrics import r2_score, mean_absolute_error\n",
    "\n",
    "seed = 42\n",
    "\n",
    "OrthogonalMP_Model = OrthogonalMatchingPursuit(n_nonzero_coefs= 20, tol= 1.2)\n",
    "OrthogonalMP_Model.fit(X_train, y_train)\n",
    "\n",
    "y_pred_OrthogonalMP_Model = OrthogonalMP_Model.predict(X_test)\n",
    "\n",
    "R2_y_pred_OrthogonalMP_Model = r2_score(y_test, y_pred_OrthogonalMP_Model)\n",
    "MAE_y_pred_OrthogonalMP_Model = mean_absolute_error(y_test, y_pred_OrthogonalMP_Model)\n",
    "\n",
    "print(\"R2 (test):\", round(((R2_y_pred_OrthogonalMP_Model)*100),4),\"%\")\n",
    "print(\"MAE (test):\", MAE_y_pred_OrthogonalMP_Model)"
   ]
  },
  {
   "attachments": {},
   "cell_type": "markdown",
   "metadata": {},
   "source": [
    "### RANSACRegressor"
   ]
  },
  {
   "cell_type": "code",
   "execution_count": 100,
   "metadata": {},
   "outputs": [
    {
     "name": "stdout",
     "output_type": "stream",
     "text": [
      "R2 (test): 48.2814 %\n",
      "MAE (test): 0.6511678993691978\n"
     ]
    }
   ],
   "source": [
    "from sklearn.linear_model import RANSACRegressor\n",
    "from sklearn.metrics import r2_score, mean_absolute_error\n",
    "\n",
    "seed = 42\n",
    "\n",
    "RANSAC_Model = RANSACRegressor(random_state=42, min_samples= 1 ,residual_threshold= 100)\n",
    "RANSAC_Model.fit(X_train, y_train)\n",
    "\n",
    "y_pred_RANSAC_Model = RANSAC_Model.predict(X_test)\n",
    "\n",
    "R2_y_pred_RANSAC_Model = r2_score(y_test, y_pred_RANSAC_Model)\n",
    "MAE_y_pred_RANSAC_Model = mean_absolute_error(y_test, y_pred_RANSAC_Model)\n",
    "\n",
    "print(\"R2 (test):\", round(((R2_y_pred_RANSAC_Model)*100),4),\"%\")\n",
    "print(\"MAE (test):\", MAE_y_pred_RANSAC_Model)"
   ]
  },
  {
   "attachments": {},
   "cell_type": "markdown",
   "metadata": {},
   "source": [
    "### HuberRegressor"
   ]
  },
  {
   "cell_type": "code",
   "execution_count": 101,
   "metadata": {},
   "outputs": [
    {
     "name": "stdout",
     "output_type": "stream",
     "text": [
      "R2 (test): 48.1698 %\n",
      "MAE (test): 0.6497083036300612\n"
     ]
    }
   ],
   "source": [
    "from sklearn.linear_model import HuberRegressor\n",
    "from sklearn.metrics import r2_score, mean_absolute_error\n",
    "\n",
    "Huber_Model = HuberRegressor(epsilon = 1.5, alpha = 0.5)\n",
    "Huber_Model.fit(X_train, y_train)\n",
    "\n",
    "y_pred_Huber_Model = Huber_Model.predict(X_test)\n",
    "\n",
    "R2_Huber_Model = r2_score(y_test, y_pred_Huber_Model)\n",
    "MAE_Huber_Model = mean_absolute_error(y_test, y_pred_Huber_Model)\n",
    "\n",
    "print(\"R2 (test):\", round(((R2_Huber_Model)*100),4),\"%\")\n",
    "print(\"MAE (test):\", MAE_Huber_Model)"
   ]
  },
  {
   "attachments": {},
   "cell_type": "markdown",
   "metadata": {},
   "source": [
    "### LARS"
   ]
  },
  {
   "cell_type": "code",
   "execution_count": 102,
   "metadata": {},
   "outputs": [
    {
     "name": "stdout",
     "output_type": "stream",
     "text": [
      "R2 (test): 48.3173 %\n",
      "MAE (test): 0.6511464854068619\n"
     ]
    }
   ],
   "source": [
    "from sklearn.linear_model import Lars\n",
    "from sklearn.metrics import r2_score, mean_absolute_error\n",
    "\n",
    "seed = 42\n",
    "\n",
    "Lars_Model = Lars(fit_intercept= True, random_state=seed)\n",
    "Lars_Model.fit(X_train, y_train)\n",
    "\n",
    "y_pred_Lars_Model = Lars_Model.predict(X_test)\n",
    "\n",
    "R2_Lars_Model = r2_score(y_test, y_pred_Lars_Model)\n",
    "MAE_Lars_Model = mean_absolute_error(y_test, y_pred_Lars_Model)\n",
    "\n",
    "print(\"R2 (test):\", round(((R2_Lars_Model)*100),4),\"%\")\n",
    "print(\"MAE (test):\", MAE_Lars_Model)"
   ]
  },
  {
   "attachments": {},
   "cell_type": "markdown",
   "metadata": {},
   "source": [
    "### LinearRegression"
   ]
  },
  {
   "cell_type": "code",
   "execution_count": 103,
   "metadata": {},
   "outputs": [
    {
     "name": "stdout",
     "output_type": "stream",
     "text": [
      "R2 (test): 48.3048 %\n",
      "MAE (test): 0.651173779833822\n"
     ]
    }
   ],
   "source": [
    "from sklearn.linear_model import LinearRegression\n",
    "from sklearn.metrics import r2_score, mean_absolute_error\n",
    "\n",
    "seed = 42\n",
    "\n",
    "LinReg_Model = LinearRegression()\n",
    "LinReg_Model.fit(X_train, y_train)\n",
    "\n",
    "y_pred_LinReg_Model = LinReg_Model.predict(X_test)\n",
    "\n",
    "R2_LinReg_Model = r2_score(y_test, y_pred_LinReg_Model)\n",
    "MAE_LinReg_Model = mean_absolute_error(y_test, y_pred_LinReg_Model)\n",
    "\n",
    "print(\"R2 (test):\", round(((R2_LinReg_Model)*100),4),\"%\")\n",
    "print(\"MAE (test):\", MAE_LinReg_Model)"
   ]
  },
  {
   "attachments": {},
   "cell_type": "markdown",
   "metadata": {},
   "source": [
    "# 2. Regularization Algorithms"
   ]
  },
  {
   "attachments": {},
   "cell_type": "markdown",
   "metadata": {},
   "source": [
    "### Ridge"
   ]
  },
  {
   "cell_type": "code",
   "execution_count": 104,
   "metadata": {},
   "outputs": [
    {
     "name": "stdout",
     "output_type": "stream",
     "text": [
      "R2 (test): 48.3175 %\n",
      "MAE (test): 0.6511486571833071\n"
     ]
    }
   ],
   "source": [
    "from sklearn.linear_model import Ridge\n",
    "from sklearn.metrics import r2_score, mean_absolute_error\n",
    "\n",
    "seed = 42\n",
    "\n",
    "Ridge_Model = Ridge(random_state=seed)\n",
    "Ridge_Model.fit(X_train, y_train)\n",
    "\n",
    "y_pred_Ridge_Model = Ridge_Model.predict(X_test)\n",
    "\n",
    "R2_Ridge_Model = r2_score(y_test, y_pred_Ridge_Model)\n",
    "MAE_Ridge_Model = mean_absolute_error(y_test, y_pred_Ridge_Model)\n",
    "\n",
    "print(\"R2 (test):\", round(((R2_Ridge_Model)*100),4),\"%\")\n",
    "print(\"MAE (test):\", MAE_Ridge_Model)"
   ]
  },
  {
   "attachments": {},
   "cell_type": "markdown",
   "metadata": {},
   "source": [
    "### Lasso"
   ]
  },
  {
   "cell_type": "code",
   "execution_count": 105,
   "metadata": {},
   "outputs": [
    {
     "name": "stdout",
     "output_type": "stream",
     "text": [
      "R2 (test): -0.0066 %\n",
      "MAE (test): 0.9628794358980629\n"
     ]
    }
   ],
   "source": [
    "from sklearn.linear_model import Lasso\n",
    "from sklearn.metrics import r2_score, mean_absolute_error\n",
    "\n",
    "seed = 42\n",
    "\n",
    "Lasso_Model = Lasso(alpha = 10, max_iter= 100000, random_state=seed)\n",
    "Lasso_Model.fit(X_train, y_train)\n",
    "\n",
    "y_pred_Lasso_Model = Lasso_Model.predict(X_test)\n",
    "\n",
    "R2_Lasso_Model = r2_score(y_test, y_pred_Lasso_Model)\n",
    "MAE_Lasso_Model = mean_absolute_error(y_test, y_pred_Lasso_Model)\n",
    "\n",
    "print(\"R2 (test):\", round(((R2_Lasso_Model)*100),4),\"%\")\n",
    "print(\"MAE (test):\", MAE_Lasso_Model)"
   ]
  },
  {
   "attachments": {},
   "cell_type": "markdown",
   "metadata": {},
   "source": [
    "### ElasticNet"
   ]
  },
  {
   "cell_type": "code",
   "execution_count": 106,
   "metadata": {},
   "outputs": [
    {
     "name": "stdout",
     "output_type": "stream",
     "text": [
      "R2 (test): -0.0066 %\n",
      "MAE (test): 0.9628794358980629\n"
     ]
    }
   ],
   "source": [
    "from sklearn.linear_model import ElasticNet\n",
    "from sklearn.metrics import r2_score, mean_absolute_error\n",
    "\n",
    "seed = 42\n",
    "\n",
    "ElasticNet_Model = ElasticNet(alpha = 10, l1_ratio= 0.5, random_state=seed)\n",
    "ElasticNet_Model.fit(X_train, y_train)\n",
    "\n",
    "y_pred_ElasticNet_Model = ElasticNet_Model.predict(X_test)\n",
    "\n",
    "R2_ElasticNet_Model = r2_score(y_test, y_pred_ElasticNet_Model)\n",
    "MAE_ElasticNet_Model = mean_absolute_error(y_test, y_pred_ElasticNet_Model)\n",
    "\n",
    "print(\"R2 (test):\", round(((R2_ElasticNet_Model)*100),4),\"%\")\n",
    "print(\"MAE (test):\", MAE_ElasticNet_Model)"
   ]
  },
  {
   "attachments": {},
   "cell_type": "markdown",
   "metadata": {},
   "source": [
    "### BayesianRidge"
   ]
  },
  {
   "cell_type": "code",
   "execution_count": 107,
   "metadata": {},
   "outputs": [
    {
     "name": "stdout",
     "output_type": "stream",
     "text": [
      "R2 (test): 48.3248 %\n",
      "MAE (test): 0.6512410770564802\n"
     ]
    }
   ],
   "source": [
    "from sklearn.linear_model import BayesianRidge\n",
    "from sklearn.metrics import r2_score, mean_absolute_error\n",
    "\n",
    "Bayesian_Model = BayesianRidge(n_iter = 5000)\n",
    "Bayesian_Model.fit(X_train, y_train)\n",
    "\n",
    "y_pred_Bayesian_Model = Bayesian_Model.predict(X_test)\n",
    "\n",
    "R2_Bayesian_Model = r2_score(y_test, y_pred_Bayesian_Model)\n",
    "MAE_Bayesian_Model = mean_absolute_error(y_test, y_pred_Bayesian_Model)\n",
    "\n",
    "print(\"R2 (test):\", round(((R2_Bayesian_Model)*100),4),\"%\")\n",
    "print(\"MAE (test):\", MAE_Bayesian_Model)"
   ]
  },
  {
   "attachments": {},
   "cell_type": "markdown",
   "metadata": {},
   "source": [
    "# 3. Tree Based Models"
   ]
  },
  {
   "attachments": {},
   "cell_type": "markdown",
   "metadata": {},
   "source": [
    "### RandomForestRegressor"
   ]
  },
  {
   "cell_type": "code",
   "execution_count": 108,
   "metadata": {},
   "outputs": [
    {
     "name": "stdout",
     "output_type": "stream",
     "text": [
      "R2 (test): 54.3915 %\n",
      "MAE (test): 0.5883758404558237\n"
     ]
    }
   ],
   "source": [
    "from sklearn.ensemble import RandomForestRegressor\n",
    "from sklearn.metrics import r2_score, mean_squared_error, mean_absolute_error\n",
    "\n",
    "seed = 42\n",
    "\n",
    "RndFrst_Model = RandomForestRegressor(random_state= seed)\n",
    "RndFrst_Model.fit(X_train, y_train)                          \n",
    "\n",
    "y_pred_RndFrst_Model = RndFrst_Model.predict(X_test)\n",
    "         \n",
    "R2_RndFrst_Model = r2_score(y_test, y_pred_RndFrst_Model)\n",
    "MAE_RndFrst_Model = mean_absolute_error(y_test, y_pred_RndFrst_Model)\n",
    "\n",
    "print(\"R2 (test):\", round(((R2_RndFrst_Model)*100),4),\"%\")\n",
    "print(\"MAE (test):\", MAE_RndFrst_Model)"
   ]
  },
  {
   "attachments": {},
   "cell_type": "markdown",
   "metadata": {},
   "source": [
    "### DecisionTreeRegressor"
   ]
  },
  {
   "cell_type": "code",
   "execution_count": 109,
   "metadata": {},
   "outputs": [
    {
     "name": "stdout",
     "output_type": "stream",
     "text": [
      "R2 (test): 25.1468 %\n",
      "MAE (test): 0.7305871323195801\n"
     ]
    }
   ],
   "source": [
    "from sklearn.tree import DecisionTreeRegressor\n",
    "from sklearn.metrics import r2_score, mean_absolute_error\n",
    "\n",
    "seed = 42\n",
    "\n",
    "DcsTree_Model = DecisionTreeRegressor(random_state= seed)\n",
    "DcsTree_Model.fit(X_train, y_train)\n",
    "\n",
    "y_pred_DcsTree_Model = DcsTree_Model.predict(X_test)\n",
    "\n",
    "R2_DcsTree_Model = r2_score(y_test, y_pred_DcsTree_Model)\n",
    "MAE_DcsTree_Model = mean_absolute_error(y_test, y_pred_DcsTree_Model)\n",
    "\n",
    "print(\"R2 (test):\", round(((R2_DcsTree_Model)*100),4),\"%\")\n",
    "print(\"MAE (test):\", MAE_DcsTree_Model)"
   ]
  },
  {
   "attachments": {},
   "cell_type": "markdown",
   "metadata": {},
   "source": [
    "### CatBoostRegressor"
   ]
  },
  {
   "cell_type": "code",
   "execution_count": 110,
   "metadata": {},
   "outputs": [
    {
     "name": "stdout",
     "output_type": "stream",
     "text": [
      "R2 (test): 58.2321 %\n",
      "MAE (test): 0.5644351585175662\n"
     ]
    }
   ],
   "source": [
    "from catboost import CatBoostRegressor\n",
    "from sklearn.metrics import r2_score, mean_absolute_error\n",
    "\n",
    "seed = 42\n",
    "\n",
    "CatBoost_Model = CatBoostRegressor(random_state= seed, verbose = False, learning_rate= 0.1, max_depth= 8, n_estimators= 300)\n",
    "CatBoost_Model.fit(X_train, y_train)\n",
    "\n",
    "y_pred_CatBoost_Model = CatBoost_Model.predict(X_test)\n",
    "\n",
    "R2_CatBoost_Model = r2_score(y_test, y_pred_CatBoost_Model)\n",
    "MAE_CatBoost_Model = mean_absolute_error(y_test, y_pred_CatBoost_Model)\n",
    "\n",
    "print(\"R2 (test):\", round(((R2_CatBoost_Model)*100),4),\"%\")\n",
    "print(\"MAE (test):\", MAE_CatBoost_Model)"
   ]
  },
  {
   "attachments": {},
   "cell_type": "markdown",
   "metadata": {},
   "source": [
    "### Light GBM"
   ]
  },
  {
   "cell_type": "code",
   "execution_count": 111,
   "metadata": {},
   "outputs": [
    {
     "name": "stdout",
     "output_type": "stream",
     "text": [
      "[LightGBM] [Warning] Auto-choosing row-wise multi-threading, the overhead of testing was 0.001147 seconds.\n",
      "You can set `force_row_wise=true` to remove the overhead.\n",
      "And if memory is not enough, you can set `force_col_wise=true`.\n",
      "[LightGBM] [Info] Total Bins 267\n",
      "[LightGBM] [Info] Number of data points in the train set: 8608, number of used features: 28\n",
      "[LightGBM] [Info] Start training from score 5.976568\n",
      "R2 (test): 58.6354 %\n",
      "MAE (test): 0.5679038370083881\n"
     ]
    }
   ],
   "source": [
    "import lightgbm as lgb\n",
    "from sklearn.metrics import r2_score, mean_absolute_error\n",
    "\n",
    "\n",
    "lgb_train = lgb.Dataset(X_train, y_train)\n",
    "\n",
    "params = {\n",
    "    'objective': 'regression',\n",
    "    'metric': 'rmse',\n",
    "    'num_leaves': 31,\n",
    "    'learning_rate': 0.05\n",
    "}\n",
    "\n",
    "num_round = 100\n",
    "LGBM_Model = lgb.train(params, lgb_train, num_boost_round=num_round)\n",
    "\n",
    "y_pred_LGBM_Model = LGBM_Model.predict(X_test)\n",
    "\n",
    "R2_LGBM_Model= r2_score(y_test, y_pred_LGBM_Model)\n",
    "MAE_LGBM_Model = mean_absolute_error(y_test, y_pred_LGBM_Model)\n",
    "\n",
    "print(\"R2 (test):\", round(((R2_LGBM_Model)*100),4),\"%\")\n",
    "print(\"MAE (test):\", MAE_LGBM_Model)"
   ]
  },
  {
   "attachments": {},
   "cell_type": "markdown",
   "metadata": {},
   "source": [
    "### GradientBoostingRegressor"
   ]
  },
  {
   "cell_type": "code",
   "execution_count": 112,
   "metadata": {},
   "outputs": [
    {
     "name": "stdout",
     "output_type": "stream",
     "text": [
      "R2 (test): 54.9304 %\n",
      "MAE (test): 0.5804072184229707\n"
     ]
    }
   ],
   "source": [
    "from sklearn.ensemble import GradientBoostingRegressor\n",
    "from sklearn.metrics import r2_score, mean_absolute_error\n",
    "\n",
    "seed = 42\n",
    "\n",
    "GradBoost_Model = GradientBoostingRegressor(random_state= seed, verbose = False, learning_rate= 0.1, max_depth= 8, n_estimators= 300)\n",
    "GradBoost_Model.fit(X_train, y_train)\n",
    "\n",
    "y_pred_GradBoost_Model = GradBoost_Model.predict(X_test)\n",
    "\n",
    "R2_GradBoost_Model = r2_score(y_test, y_pred_GradBoost_Model)\n",
    "MAE_GradBoost_Model = mean_absolute_error(y_test, y_pred_GradBoost_Model)\n",
    "\n",
    "print(\"R2 (test):\", round(((R2_GradBoost_Model)*100),4),\"%\")\n",
    "print(\"MAE (test):\", MAE_GradBoost_Model)"
   ]
  },
  {
   "attachments": {},
   "cell_type": "markdown",
   "metadata": {},
   "source": [
    "### XGBRegressor"
   ]
  },
  {
   "cell_type": "code",
   "execution_count": 113,
   "metadata": {},
   "outputs": [
    {
     "name": "stdout",
     "output_type": "stream",
     "text": [
      "R2 (test): 56.6519 %\n",
      "MAE (test): 0.5737171549546091\n"
     ]
    }
   ],
   "source": [
    "from xgboost import XGBRegressor\n",
    "from sklearn.metrics import r2_score, mean_absolute_error\n",
    "\n",
    "seed = 42\n",
    "\n",
    "XGBBoost_Model = XGBRegressor(random_state=seed, learning_rate= 0.1, max_depth= 8, n_estimators= 300)\n",
    "XGBBoost_Model.fit(X_train, y_train)\n",
    "\n",
    "y_pred_XGBBoost_Model = XGBBoost_Model.predict(X_test)\n",
    "\n",
    "R2_XGBBoost_Model = r2_score(y_test, y_pred_XGBBoost_Model)\n",
    "MAE_XGBBoost_Model = mean_absolute_error(y_test, y_pred_XGBBoost_Model)\n",
    "\n",
    "print(\"R2 (test):\", round(((R2_XGBBoost_Model)*100),4),\"%\")\n",
    "print(\"MAE (test):\", MAE_XGBBoost_Model)"
   ]
  },
  {
   "attachments": {},
   "cell_type": "markdown",
   "metadata": {},
   "source": [
    "### AdaBoost"
   ]
  },
  {
   "cell_type": "code",
   "execution_count": 114,
   "metadata": {},
   "outputs": [
    {
     "name": "stdout",
     "output_type": "stream",
     "text": [
      "R2 (test): 46.532 %\n",
      "MAE (test): 0.675554808335709\n"
     ]
    }
   ],
   "source": [
    "from sklearn.ensemble import AdaBoostRegressor\n",
    "from sklearn.metrics import r2_score, mean_absolute_error\n",
    "\n",
    "seed = 42\n",
    "\n",
    "AdaBoost_Model = AdaBoostRegressor(random_state= seed, learning_rate= 0.1, n_estimators= 150)\n",
    "AdaBoost_Model.fit(X_train, y_train)\n",
    "\n",
    "y_pred_AdaBoost_Model = AdaBoost_Model.predict(X_test)\n",
    "\n",
    "R2_AdaBoost_Model = r2_score(y_test, y_pred_AdaBoost_Model)\n",
    "MAE_AdaBoost_Model = mean_absolute_error(y_test, y_pred_AdaBoost_Model)\n",
    "\n",
    "print(\"R2 (test):\", round(((R2_AdaBoost_Model)*100),4),\"%\")\n",
    "print(\"MAE (test):\", MAE_AdaBoost_Model)"
   ]
  },
  {
   "attachments": {},
   "cell_type": "markdown",
   "metadata": {},
   "source": [
    "# 4. Misc - Models"
   ]
  },
  {
   "attachments": {},
   "cell_type": "markdown",
   "metadata": {},
   "source": [
    "### KNeighborsRegressor"
   ]
  },
  {
   "cell_type": "code",
   "execution_count": 115,
   "metadata": {},
   "outputs": [
    {
     "name": "stdout",
     "output_type": "stream",
     "text": [
      "R2 (test): 43.2567 %\n",
      "MAE (test): 0.6584078947368421\n"
     ]
    }
   ],
   "source": [
    "from sklearn.neighbors import KNeighborsRegressor\n",
    "from sklearn.metrics import r2_score, mean_absolute_error\n",
    "\n",
    "KNN_Model = KNeighborsRegressor()\n",
    "KNN_Model.fit(X_train, y_train)\n",
    "\n",
    "y_pred_KNN_Model = KNN_Model.predict(X_test)\n",
    "\n",
    "R2_KNN_Model = r2_score(y_test, y_pred_KNN_Model)\n",
    "MAE_KNN_Model = mean_absolute_error(y_test, y_pred_KNN_Model)\n",
    "\n",
    "print(\"R2 (test):\", round(((R2_KNN_Model)*100),4),\"%\")\n",
    "print(\"MAE (test):\", MAE_KNN_Model)"
   ]
  },
  {
   "attachments": {},
   "cell_type": "markdown",
   "metadata": {},
   "source": [
    "### Support Vector Machine"
   ]
  },
  {
   "cell_type": "code",
   "execution_count": 116,
   "metadata": {},
   "outputs": [
    {
     "name": "stdout",
     "output_type": "stream",
     "text": [
      "R2 (test): 51.8969 %\n",
      "MAE (test): 0.6021992326945005\n"
     ]
    }
   ],
   "source": [
    "from sklearn.svm import SVR\n",
    "from sklearn.metrics import r2_score, mean_absolute_error\n",
    "\n",
    "SupVecMac_Model = SVR()\n",
    "SupVecMac_Model.fit(X_train, y_train)\n",
    "\n",
    "y_pred_SupVecMac_Model = SupVecMac_Model.predict(X_test)\n",
    "\n",
    "R2_SupVecMac_Model= r2_score(y_test, y_pred_SupVecMac_Model)\n",
    "MAE_SupVecMac_Model = mean_absolute_error(y_test, y_pred_SupVecMac_Model)\n",
    "\n",
    "print(\"R2 (test):\", round(((R2_SupVecMac_Model)*100),4),\"%\")\n",
    "print(\"MAE (test):\", MAE_SupVecMac_Model)"
   ]
  },
  {
   "attachments": {},
   "cell_type": "markdown",
   "metadata": {},
   "source": [
    "# 5. Neural Networks and Deep Learning"
   ]
  },
  {
   "attachments": {},
   "cell_type": "markdown",
   "metadata": {},
   "source": [
    "### MLP Regressor"
   ]
  },
  {
   "cell_type": "code",
   "execution_count": 117,
   "metadata": {},
   "outputs": [
    {
     "name": "stdout",
     "output_type": "stream",
     "text": [
      "R2 (test): 52.9739 %\n",
      "MAE (test): 0.5998415883481364\n"
     ]
    }
   ],
   "source": [
    "from sklearn.neural_network import MLPRegressor\n",
    "from sklearn.metrics import r2_score, mean_absolute_error\n",
    "\n",
    "seed = 42\n",
    "\n",
    "MLP_Model = MLPRegressor(hidden_layer_sizes=(100, ), activation='relu', solver='adam', random_state=seed)\n",
    "MLP_Model.fit(X_train, y_train)\n",
    "\n",
    "y_pred_MLP_Model = MLP_Model.predict(X_test)\n",
    "\n",
    "R2_MLP_Model = r2_score(y_test, y_pred_MLP_Model)\n",
    "MAE_SupVecMac_Model = mean_absolute_error(y_test, y_pred_MLP_Model)\n",
    "\n",
    "print(\"R2 (test):\", round(((R2_MLP_Model)*100),4),\"%\")\n",
    "print(\"MAE (test):\", MAE_SupVecMac_Model)"
   ]
  },
  {
   "attachments": {},
   "cell_type": "markdown",
   "metadata": {},
   "source": [
    "# Optimización de modelos"
   ]
  },
  {
   "attachments": {},
   "cell_type": "markdown",
   "metadata": {},
   "source": [
    "### Comparo las métricas de todos los modelos en un DataFrame"
   ]
  },
  {
   "cell_type": "code",
   "execution_count": 118,
   "metadata": {},
   "outputs": [],
   "source": [
    "import types\n",
    "\n",
    "pred_lista = []\n",
    "\n",
    "# Obtener copia del espacio de nombres de usuario\n",
    "user_ns = dict(get_ipython().user_ns)\n",
    "\n",
    "# Obtener variables definidas en las celdas del notebook\n",
    "notebook_vars = []\n",
    "for var_name, var_value in user_ns.items():\n",
    "    # Excluir variables internas del entorno y módulos importados\n",
    "    if not var_name.startswith('_') and not isinstance(var_value, types.ModuleType) and var_name.startswith('y_pred'):\n",
    "        notebook_vars.append(var_name)\n",
    "\n",
    "for var in notebook_vars:\n",
    "    pred_lista.append(var)\n",
    "\n",
    "models_list = []\n",
    "for model in pred_lista:\n",
    "    models_list.append(model.split(\"_Model\")[0].split(\"y_pred_\")[1]+\" \")"
   ]
  },
  {
   "cell_type": "code",
   "execution_count": 119,
   "metadata": {},
   "outputs": [],
   "source": [
    "pred_lista = [y_pred_OrthogonalMP_Model, y_pred_RANSAC_Model, y_pred_Huber_Model, y_pred_Lars_Model, y_pred_LinReg_Model, y_pred_Ridge_Model, y_pred_Lasso_Model, y_pred_ElasticNet_Model,\n",
    " y_pred_Bayesian_Model, y_pred_RndFrst_Model, y_pred_DcsTree_Model, y_pred_CatBoost_Model, y_pred_LGBM_Model, y_pred_GradBoost_Model, y_pred_XGBBoost_Model, y_pred_AdaBoost_Model,\n",
    " y_pred_KNN_Model, y_pred_SupVecMac_Model,y_pred_MLP_Model]\n",
    "\n",
    "rmse_metric = []\n",
    "mse_metric = []\n",
    "r2_metric = []\n",
    "mae_metric = []\n",
    "\n",
    "def metrics(y_true, lista_pred):\n",
    "\n",
    "    from sklearn.metrics import mean_squared_error\n",
    "\n",
    "    for pred in lista_pred:\n",
    "        r2_metric.append(r2_score(y_true, pred))\n",
    "        mse_metric.append(mean_squared_error(y_true, pred, squared=True))\n",
    "        rmse_metric.append(mean_squared_error(y_true, pred, squared=False))\n",
    "        mae_metric.append(mean_absolute_error(y_true, pred))\n",
    "\n",
    "metrics(y_test, pred_lista)"
   ]
  },
  {
   "cell_type": "code",
   "execution_count": 120,
   "metadata": {},
   "outputs": [
    {
     "data": {
      "text/html": [
       "<div>\n",
       "<style scoped>\n",
       "    .dataframe tbody tr th:only-of-type {\n",
       "        vertical-align: middle;\n",
       "    }\n",
       "\n",
       "    .dataframe tbody tr th {\n",
       "        vertical-align: top;\n",
       "    }\n",
       "\n",
       "    .dataframe thead th {\n",
       "        text-align: right;\n",
       "    }\n",
       "</style>\n",
       "<table border=\"1\" class=\"dataframe\">\n",
       "  <thead>\n",
       "    <tr style=\"text-align: right;\">\n",
       "      <th></th>\n",
       "      <th>Modelos</th>\n",
       "      <th>RMSE</th>\n",
       "      <th>MSE</th>\n",
       "      <th>R2_SCORE</th>\n",
       "      <th>MAE</th>\n",
       "    </tr>\n",
       "  </thead>\n",
       "  <tbody>\n",
       "    <tr>\n",
       "      <th>0</th>\n",
       "      <td>LGBM</td>\n",
       "      <td>0.717513</td>\n",
       "      <td>0.514825</td>\n",
       "      <td>0.586354</td>\n",
       "      <td>0.567904</td>\n",
       "    </tr>\n",
       "    <tr>\n",
       "      <th>1</th>\n",
       "      <td>CatBoost</td>\n",
       "      <td>0.721002</td>\n",
       "      <td>0.519844</td>\n",
       "      <td>0.582321</td>\n",
       "      <td>0.564435</td>\n",
       "    </tr>\n",
       "    <tr>\n",
       "      <th>2</th>\n",
       "      <td>XGBBoost</td>\n",
       "      <td>0.734514</td>\n",
       "      <td>0.539511</td>\n",
       "      <td>0.566519</td>\n",
       "      <td>0.573717</td>\n",
       "    </tr>\n",
       "    <tr>\n",
       "      <th>3</th>\n",
       "      <td>GradBoost</td>\n",
       "      <td>0.748957</td>\n",
       "      <td>0.560936</td>\n",
       "      <td>0.549304</td>\n",
       "      <td>0.580407</td>\n",
       "    </tr>\n",
       "    <tr>\n",
       "      <th>4</th>\n",
       "      <td>RndFrst</td>\n",
       "      <td>0.753421</td>\n",
       "      <td>0.567644</td>\n",
       "      <td>0.543915</td>\n",
       "      <td>0.588376</td>\n",
       "    </tr>\n",
       "    <tr>\n",
       "      <th>5</th>\n",
       "      <td>MLP</td>\n",
       "      <td>0.765041</td>\n",
       "      <td>0.585288</td>\n",
       "      <td>0.529739</td>\n",
       "      <td>0.599842</td>\n",
       "    </tr>\n",
       "    <tr>\n",
       "      <th>6</th>\n",
       "      <td>SupVecMac</td>\n",
       "      <td>0.773752</td>\n",
       "      <td>0.598692</td>\n",
       "      <td>0.518969</td>\n",
       "      <td>0.602199</td>\n",
       "    </tr>\n",
       "    <tr>\n",
       "      <th>7</th>\n",
       "      <td>Bayesian</td>\n",
       "      <td>0.801967</td>\n",
       "      <td>0.643150</td>\n",
       "      <td>0.483248</td>\n",
       "      <td>0.651241</td>\n",
       "    </tr>\n",
       "    <tr>\n",
       "      <th>8</th>\n",
       "      <td>Ridge</td>\n",
       "      <td>0.802023</td>\n",
       "      <td>0.643241</td>\n",
       "      <td>0.483175</td>\n",
       "      <td>0.651149</td>\n",
       "    </tr>\n",
       "    <tr>\n",
       "      <th>9</th>\n",
       "      <td>Lars</td>\n",
       "      <td>0.802025</td>\n",
       "      <td>0.643243</td>\n",
       "      <td>0.483173</td>\n",
       "      <td>0.651146</td>\n",
       "    </tr>\n",
       "  </tbody>\n",
       "</table>\n",
       "</div>"
      ],
      "text/plain": [
       "      Modelos      RMSE       MSE  R2_SCORE       MAE\n",
       "0       LGBM   0.717513  0.514825  0.586354  0.567904\n",
       "1   CatBoost   0.721002  0.519844  0.582321  0.564435\n",
       "2   XGBBoost   0.734514  0.539511  0.566519  0.573717\n",
       "3  GradBoost   0.748957  0.560936  0.549304  0.580407\n",
       "4    RndFrst   0.753421  0.567644  0.543915  0.588376\n",
       "5        MLP   0.765041  0.585288  0.529739  0.599842\n",
       "6  SupVecMac   0.773752  0.598692  0.518969  0.602199\n",
       "7   Bayesian   0.801967  0.643150  0.483248  0.651241\n",
       "8      Ridge   0.802023  0.643241  0.483175  0.651149\n",
       "9       Lars   0.802025  0.643243  0.483173  0.651146"
      ]
     },
     "execution_count": 120,
     "metadata": {},
     "output_type": "execute_result"
    }
   ],
   "source": [
    "df_metrics_14 = pd.DataFrame({'RMSE': rmse_metric, 'MSE': mse_metric, 'R2_SCORE': r2_metric, 'MAE': mae_metric}, index=models_list)\n",
    "df_metrics_14 = df_metrics_14.sort_values('R2_SCORE', ascending=False).reset_index().iloc[:-9,:]\n",
    "df_metrics_14.rename(columns = {\"index\":\"Modelos\"}, inplace =True)\n",
    "df_metrics_14.head(14)"
   ]
  },
  {
   "attachments": {},
   "cell_type": "markdown",
   "metadata": {},
   "source": [
    "### Muestro en una gráfica los resultados de las performance de los modelos"
   ]
  },
  {
   "cell_type": "code",
   "execution_count": 121,
   "metadata": {},
   "outputs": [
    {
     "data": {
      "application/vnd.plotly.v1+json": {
       "config": {
        "plotlyServerURL": "https://plot.ly"
       },
       "data": [
        {
         "alignmentgroup": "True",
         "hovertemplate": "R2_SCORE=%{marker.color}<br>Modelos=%{y}<extra></extra>",
         "legendgroup": "",
         "marker": {
          "color": [
           "#86A0B1",
           "#FEE28F",
           "#FFB144",
           "#FFFFFF",
           "#86A0B1",
           "#FEE28F",
           "#FFB144",
           "#FFFFFF",
           "#86A0B1",
           "#FEE28F",
           "#FFB144",
           "#FFFFFF",
           "#86A0B1",
           "#FEE28F",
           "#FFB144",
           "#FFFFFF",
           "#86A0B1",
           "#FEE28F",
           "#FFB144",
           "#FFFFFF"
          ],
          "coloraxis": "coloraxis",
          "pattern": {
           "shape": ""
          }
         },
         "name": "",
         "offsetgroup": "",
         "orientation": "h",
         "showlegend": false,
         "textfont": {
          "size": 16
         },
         "textposition": "auto",
         "type": "bar",
         "x": [
          0.4831732134424719,
          0.48317517073677674,
          0.48324807485538257,
          0.5189693756626392,
          0.5297388045806614,
          0.5439153099397601,
          0.5493044911286151,
          0.5665191383710062,
          0.5823209312828723,
          0.5863536580085924
         ],
         "xaxis": "x",
         "y": [
          "Lars ",
          "Ridge ",
          "Bayesian ",
          "SupVecMac ",
          "MLP ",
          "RndFrst ",
          "GradBoost ",
          "XGBBoost ",
          "CatBoost ",
          "LGBM "
         ],
         "yaxis": "y"
        }
       ],
       "layout": {
        "barmode": "group",
        "coloraxis": {
         "colorbar": {
          "title": {
           "text": "R2_SCORE"
          }
         },
         "colorscale": [
          [
           0,
           "#0d0887"
          ],
          [
           0.1111111111111111,
           "#46039f"
          ],
          [
           0.2222222222222222,
           "#7201a8"
          ],
          [
           0.3333333333333333,
           "#9c179e"
          ],
          [
           0.4444444444444444,
           "#bd3786"
          ],
          [
           0.5555555555555556,
           "#d8576b"
          ],
          [
           0.6666666666666666,
           "#ed7953"
          ],
          [
           0.7777777777777778,
           "#fb9f3a"
          ],
          [
           0.8888888888888888,
           "#fdca26"
          ],
          [
           1,
           "#f0f921"
          ]
         ]
        },
        "height": 700,
        "legend": {
         "tracegroupgap": 0
        },
        "margin": {
         "t": 60
        },
        "paper_bgcolor": "rgba(0,0,0,0)",
        "plot_bgcolor": "rgba(0,0,0,0)",
        "template": {
         "data": {
          "bar": [
           {
            "error_x": {
             "color": "#2a3f5f"
            },
            "error_y": {
             "color": "#2a3f5f"
            },
            "marker": {
             "line": {
              "color": "#E5ECF6",
              "width": 0.5
             },
             "pattern": {
              "fillmode": "overlay",
              "size": 10,
              "solidity": 0.2
             }
            },
            "type": "bar"
           }
          ],
          "barpolar": [
           {
            "marker": {
             "line": {
              "color": "#E5ECF6",
              "width": 0.5
             },
             "pattern": {
              "fillmode": "overlay",
              "size": 10,
              "solidity": 0.2
             }
            },
            "type": "barpolar"
           }
          ],
          "carpet": [
           {
            "aaxis": {
             "endlinecolor": "#2a3f5f",
             "gridcolor": "white",
             "linecolor": "white",
             "minorgridcolor": "white",
             "startlinecolor": "#2a3f5f"
            },
            "baxis": {
             "endlinecolor": "#2a3f5f",
             "gridcolor": "white",
             "linecolor": "white",
             "minorgridcolor": "white",
             "startlinecolor": "#2a3f5f"
            },
            "type": "carpet"
           }
          ],
          "choropleth": [
           {
            "colorbar": {
             "outlinewidth": 0,
             "ticks": ""
            },
            "type": "choropleth"
           }
          ],
          "contour": [
           {
            "colorbar": {
             "outlinewidth": 0,
             "ticks": ""
            },
            "colorscale": [
             [
              0,
              "#0d0887"
             ],
             [
              0.1111111111111111,
              "#46039f"
             ],
             [
              0.2222222222222222,
              "#7201a8"
             ],
             [
              0.3333333333333333,
              "#9c179e"
             ],
             [
              0.4444444444444444,
              "#bd3786"
             ],
             [
              0.5555555555555556,
              "#d8576b"
             ],
             [
              0.6666666666666666,
              "#ed7953"
             ],
             [
              0.7777777777777778,
              "#fb9f3a"
             ],
             [
              0.8888888888888888,
              "#fdca26"
             ],
             [
              1,
              "#f0f921"
             ]
            ],
            "type": "contour"
           }
          ],
          "contourcarpet": [
           {
            "colorbar": {
             "outlinewidth": 0,
             "ticks": ""
            },
            "type": "contourcarpet"
           }
          ],
          "heatmap": [
           {
            "colorbar": {
             "outlinewidth": 0,
             "ticks": ""
            },
            "colorscale": [
             [
              0,
              "#0d0887"
             ],
             [
              0.1111111111111111,
              "#46039f"
             ],
             [
              0.2222222222222222,
              "#7201a8"
             ],
             [
              0.3333333333333333,
              "#9c179e"
             ],
             [
              0.4444444444444444,
              "#bd3786"
             ],
             [
              0.5555555555555556,
              "#d8576b"
             ],
             [
              0.6666666666666666,
              "#ed7953"
             ],
             [
              0.7777777777777778,
              "#fb9f3a"
             ],
             [
              0.8888888888888888,
              "#fdca26"
             ],
             [
              1,
              "#f0f921"
             ]
            ],
            "type": "heatmap"
           }
          ],
          "heatmapgl": [
           {
            "colorbar": {
             "outlinewidth": 0,
             "ticks": ""
            },
            "colorscale": [
             [
              0,
              "#0d0887"
             ],
             [
              0.1111111111111111,
              "#46039f"
             ],
             [
              0.2222222222222222,
              "#7201a8"
             ],
             [
              0.3333333333333333,
              "#9c179e"
             ],
             [
              0.4444444444444444,
              "#bd3786"
             ],
             [
              0.5555555555555556,
              "#d8576b"
             ],
             [
              0.6666666666666666,
              "#ed7953"
             ],
             [
              0.7777777777777778,
              "#fb9f3a"
             ],
             [
              0.8888888888888888,
              "#fdca26"
             ],
             [
              1,
              "#f0f921"
             ]
            ],
            "type": "heatmapgl"
           }
          ],
          "histogram": [
           {
            "marker": {
             "pattern": {
              "fillmode": "overlay",
              "size": 10,
              "solidity": 0.2
             }
            },
            "type": "histogram"
           }
          ],
          "histogram2d": [
           {
            "colorbar": {
             "outlinewidth": 0,
             "ticks": ""
            },
            "colorscale": [
             [
              0,
              "#0d0887"
             ],
             [
              0.1111111111111111,
              "#46039f"
             ],
             [
              0.2222222222222222,
              "#7201a8"
             ],
             [
              0.3333333333333333,
              "#9c179e"
             ],
             [
              0.4444444444444444,
              "#bd3786"
             ],
             [
              0.5555555555555556,
              "#d8576b"
             ],
             [
              0.6666666666666666,
              "#ed7953"
             ],
             [
              0.7777777777777778,
              "#fb9f3a"
             ],
             [
              0.8888888888888888,
              "#fdca26"
             ],
             [
              1,
              "#f0f921"
             ]
            ],
            "type": "histogram2d"
           }
          ],
          "histogram2dcontour": [
           {
            "colorbar": {
             "outlinewidth": 0,
             "ticks": ""
            },
            "colorscale": [
             [
              0,
              "#0d0887"
             ],
             [
              0.1111111111111111,
              "#46039f"
             ],
             [
              0.2222222222222222,
              "#7201a8"
             ],
             [
              0.3333333333333333,
              "#9c179e"
             ],
             [
              0.4444444444444444,
              "#bd3786"
             ],
             [
              0.5555555555555556,
              "#d8576b"
             ],
             [
              0.6666666666666666,
              "#ed7953"
             ],
             [
              0.7777777777777778,
              "#fb9f3a"
             ],
             [
              0.8888888888888888,
              "#fdca26"
             ],
             [
              1,
              "#f0f921"
             ]
            ],
            "type": "histogram2dcontour"
           }
          ],
          "mesh3d": [
           {
            "colorbar": {
             "outlinewidth": 0,
             "ticks": ""
            },
            "type": "mesh3d"
           }
          ],
          "parcoords": [
           {
            "line": {
             "colorbar": {
              "outlinewidth": 0,
              "ticks": ""
             }
            },
            "type": "parcoords"
           }
          ],
          "pie": [
           {
            "automargin": true,
            "type": "pie"
           }
          ],
          "scatter": [
           {
            "fillpattern": {
             "fillmode": "overlay",
             "size": 10,
             "solidity": 0.2
            },
            "type": "scatter"
           }
          ],
          "scatter3d": [
           {
            "line": {
             "colorbar": {
              "outlinewidth": 0,
              "ticks": ""
             }
            },
            "marker": {
             "colorbar": {
              "outlinewidth": 0,
              "ticks": ""
             }
            },
            "type": "scatter3d"
           }
          ],
          "scattercarpet": [
           {
            "marker": {
             "colorbar": {
              "outlinewidth": 0,
              "ticks": ""
             }
            },
            "type": "scattercarpet"
           }
          ],
          "scattergeo": [
           {
            "marker": {
             "colorbar": {
              "outlinewidth": 0,
              "ticks": ""
             }
            },
            "type": "scattergeo"
           }
          ],
          "scattergl": [
           {
            "marker": {
             "colorbar": {
              "outlinewidth": 0,
              "ticks": ""
             }
            },
            "type": "scattergl"
           }
          ],
          "scattermapbox": [
           {
            "marker": {
             "colorbar": {
              "outlinewidth": 0,
              "ticks": ""
             }
            },
            "type": "scattermapbox"
           }
          ],
          "scatterpolar": [
           {
            "marker": {
             "colorbar": {
              "outlinewidth": 0,
              "ticks": ""
             }
            },
            "type": "scatterpolar"
           }
          ],
          "scatterpolargl": [
           {
            "marker": {
             "colorbar": {
              "outlinewidth": 0,
              "ticks": ""
             }
            },
            "type": "scatterpolargl"
           }
          ],
          "scatterternary": [
           {
            "marker": {
             "colorbar": {
              "outlinewidth": 0,
              "ticks": ""
             }
            },
            "type": "scatterternary"
           }
          ],
          "surface": [
           {
            "colorbar": {
             "outlinewidth": 0,
             "ticks": ""
            },
            "colorscale": [
             [
              0,
              "#0d0887"
             ],
             [
              0.1111111111111111,
              "#46039f"
             ],
             [
              0.2222222222222222,
              "#7201a8"
             ],
             [
              0.3333333333333333,
              "#9c179e"
             ],
             [
              0.4444444444444444,
              "#bd3786"
             ],
             [
              0.5555555555555556,
              "#d8576b"
             ],
             [
              0.6666666666666666,
              "#ed7953"
             ],
             [
              0.7777777777777778,
              "#fb9f3a"
             ],
             [
              0.8888888888888888,
              "#fdca26"
             ],
             [
              1,
              "#f0f921"
             ]
            ],
            "type": "surface"
           }
          ],
          "table": [
           {
            "cells": {
             "fill": {
              "color": "#EBF0F8"
             },
             "line": {
              "color": "white"
             }
            },
            "header": {
             "fill": {
              "color": "#C8D4E3"
             },
             "line": {
              "color": "white"
             }
            },
            "type": "table"
           }
          ]
         },
         "layout": {
          "annotationdefaults": {
           "arrowcolor": "#2a3f5f",
           "arrowhead": 0,
           "arrowwidth": 1
          },
          "autotypenumbers": "strict",
          "coloraxis": {
           "colorbar": {
            "outlinewidth": 0,
            "ticks": ""
           }
          },
          "colorscale": {
           "diverging": [
            [
             0,
             "#8e0152"
            ],
            [
             0.1,
             "#c51b7d"
            ],
            [
             0.2,
             "#de77ae"
            ],
            [
             0.3,
             "#f1b6da"
            ],
            [
             0.4,
             "#fde0ef"
            ],
            [
             0.5,
             "#f7f7f7"
            ],
            [
             0.6,
             "#e6f5d0"
            ],
            [
             0.7,
             "#b8e186"
            ],
            [
             0.8,
             "#7fbc41"
            ],
            [
             0.9,
             "#4d9221"
            ],
            [
             1,
             "#276419"
            ]
           ],
           "sequential": [
            [
             0,
             "#0d0887"
            ],
            [
             0.1111111111111111,
             "#46039f"
            ],
            [
             0.2222222222222222,
             "#7201a8"
            ],
            [
             0.3333333333333333,
             "#9c179e"
            ],
            [
             0.4444444444444444,
             "#bd3786"
            ],
            [
             0.5555555555555556,
             "#d8576b"
            ],
            [
             0.6666666666666666,
             "#ed7953"
            ],
            [
             0.7777777777777778,
             "#fb9f3a"
            ],
            [
             0.8888888888888888,
             "#fdca26"
            ],
            [
             1,
             "#f0f921"
            ]
           ],
           "sequentialminus": [
            [
             0,
             "#0d0887"
            ],
            [
             0.1111111111111111,
             "#46039f"
            ],
            [
             0.2222222222222222,
             "#7201a8"
            ],
            [
             0.3333333333333333,
             "#9c179e"
            ],
            [
             0.4444444444444444,
             "#bd3786"
            ],
            [
             0.5555555555555556,
             "#d8576b"
            ],
            [
             0.6666666666666666,
             "#ed7953"
            ],
            [
             0.7777777777777778,
             "#fb9f3a"
            ],
            [
             0.8888888888888888,
             "#fdca26"
            ],
            [
             1,
             "#f0f921"
            ]
           ]
          },
          "colorway": [
           "#636efa",
           "#EF553B",
           "#00cc96",
           "#ab63fa",
           "#FFA15A",
           "#19d3f3",
           "#FF6692",
           "#B6E880",
           "#FF97FF",
           "#FECB52"
          ],
          "font": {
           "color": "#2a3f5f"
          },
          "geo": {
           "bgcolor": "white",
           "lakecolor": "white",
           "landcolor": "#E5ECF6",
           "showlakes": true,
           "showland": true,
           "subunitcolor": "white"
          },
          "hoverlabel": {
           "align": "left"
          },
          "hovermode": "closest",
          "mapbox": {
           "style": "light"
          },
          "paper_bgcolor": "white",
          "plot_bgcolor": "#E5ECF6",
          "polar": {
           "angularaxis": {
            "gridcolor": "white",
            "linecolor": "white",
            "ticks": ""
           },
           "bgcolor": "#E5ECF6",
           "radialaxis": {
            "gridcolor": "white",
            "linecolor": "white",
            "ticks": ""
           }
          },
          "scene": {
           "xaxis": {
            "backgroundcolor": "#E5ECF6",
            "gridcolor": "white",
            "gridwidth": 2,
            "linecolor": "white",
            "showbackground": true,
            "ticks": "",
            "zerolinecolor": "white"
           },
           "yaxis": {
            "backgroundcolor": "#E5ECF6",
            "gridcolor": "white",
            "gridwidth": 2,
            "linecolor": "white",
            "showbackground": true,
            "ticks": "",
            "zerolinecolor": "white"
           },
           "zaxis": {
            "backgroundcolor": "#E5ECF6",
            "gridcolor": "white",
            "gridwidth": 2,
            "linecolor": "white",
            "showbackground": true,
            "ticks": "",
            "zerolinecolor": "white"
           }
          },
          "shapedefaults": {
           "line": {
            "color": "#2a3f5f"
           }
          },
          "ternary": {
           "aaxis": {
            "gridcolor": "white",
            "linecolor": "white",
            "ticks": ""
           },
           "baxis": {
            "gridcolor": "white",
            "linecolor": "white",
            "ticks": ""
           },
           "bgcolor": "#E5ECF6",
           "caxis": {
            "gridcolor": "white",
            "linecolor": "white",
            "ticks": ""
           }
          },
          "title": {
           "x": 0.05
          },
          "xaxis": {
           "automargin": true,
           "gridcolor": "white",
           "linecolor": "white",
           "ticks": "",
           "title": {
            "standoff": 15
           },
           "zerolinecolor": "white",
           "zerolinewidth": 2
          },
          "yaxis": {
           "automargin": true,
           "gridcolor": "white",
           "linecolor": "white",
           "ticks": "",
           "title": {
            "standoff": 15
           },
           "zerolinecolor": "white",
           "zerolinewidth": 2
          }
         }
        },
        "width": 900,
        "xaxis": {
         "anchor": "y",
         "domain": [
          0,
          1
         ],
         "showticklabels": true,
         "tickfont": {
          "color": "white",
          "size": 20
         },
         "title": {
          "font": {
           "color": "white",
           "size": 18
          },
          "text": "R2 Score"
         }
        },
        "yaxis": {
         "anchor": "x",
         "domain": [
          0,
          1
         ],
         "showticklabels": true,
         "tickfont": {
          "color": "white",
          "size": 20
         },
         "title": {}
        }
       }
      }
     },
     "metadata": {},
     "output_type": "display_data"
    }
   ],
   "source": [
    "import plotly.express as px\n",
    "import pandas as pd\n",
    "\n",
    "colors = ['#86A0B1', '#FEE28F', '#FFB144', '#FFFFFF']\n",
    "\n",
    "fig = px.bar(df_metrics_14[::-1],\n",
    "             x='R2_SCORE',\n",
    "             y='Modelos',\n",
    "             color='R2_SCORE', # add color parameter\n",
    "             orientation='h',\n",
    "             barmode='group',\n",
    "            #  color_discrete_sequence=colors,\n",
    "             height=500,\n",
    "             title=None)\n",
    "\n",
    "fig.update_traces(\n",
    "    marker_color=np.tile(colors, 5),\n",
    "    textfont=dict(size=16),\n",
    ")\n",
    "\n",
    "fig.update_xaxes(showticklabels=True, \n",
    "                 tickfont=dict(size=20, color='white'),\n",
    "                 title=\"R2 Score\",\n",
    "                 title_font=dict(size=18, color='white'))\n",
    "\n",
    "fig.update_yaxes(showticklabels=True,\n",
    "                 title=None,\n",
    "                 tickfont=dict(size=20, color='white'))\n",
    "\n",
    "\n",
    "# set the background color to transparent\n",
    "fig.update_layout(\n",
    "    width=900,\n",
    "    height=700,\n",
    "    plot_bgcolor='rgba(0,0,0,0)',\n",
    "    paper_bgcolor='rgba(0,0,0,0)')\n",
    "\n",
    "\n",
    "fig.write_image(r'charts\\model_metrics_14.png')\n",
    "\n",
    "fig.show()"
   ]
  },
  {
   "attachments": {},
   "cell_type": "markdown",
   "metadata": {},
   "source": [
    "### Voting"
   ]
  },
  {
   "cell_type": "code",
   "execution_count": 122,
   "metadata": {},
   "outputs": [
    {
     "data": {
      "text/html": [
       "<style>#sk-container-id-1 {color: black;background-color: white;}#sk-container-id-1 pre{padding: 0;}#sk-container-id-1 div.sk-toggleable {background-color: white;}#sk-container-id-1 label.sk-toggleable__label {cursor: pointer;display: block;width: 100%;margin-bottom: 0;padding: 0.3em;box-sizing: border-box;text-align: center;}#sk-container-id-1 label.sk-toggleable__label-arrow:before {content: \"▸\";float: left;margin-right: 0.25em;color: #696969;}#sk-container-id-1 label.sk-toggleable__label-arrow:hover:before {color: black;}#sk-container-id-1 div.sk-estimator:hover label.sk-toggleable__label-arrow:before {color: black;}#sk-container-id-1 div.sk-toggleable__content {max-height: 0;max-width: 0;overflow: hidden;text-align: left;background-color: #f0f8ff;}#sk-container-id-1 div.sk-toggleable__content pre {margin: 0.2em;color: black;border-radius: 0.25em;background-color: #f0f8ff;}#sk-container-id-1 input.sk-toggleable__control:checked~div.sk-toggleable__content {max-height: 200px;max-width: 100%;overflow: auto;}#sk-container-id-1 input.sk-toggleable__control:checked~label.sk-toggleable__label-arrow:before {content: \"▾\";}#sk-container-id-1 div.sk-estimator input.sk-toggleable__control:checked~label.sk-toggleable__label {background-color: #d4ebff;}#sk-container-id-1 div.sk-label input.sk-toggleable__control:checked~label.sk-toggleable__label {background-color: #d4ebff;}#sk-container-id-1 input.sk-hidden--visually {border: 0;clip: rect(1px 1px 1px 1px);clip: rect(1px, 1px, 1px, 1px);height: 1px;margin: -1px;overflow: hidden;padding: 0;position: absolute;width: 1px;}#sk-container-id-1 div.sk-estimator {font-family: monospace;background-color: #f0f8ff;border: 1px dotted black;border-radius: 0.25em;box-sizing: border-box;margin-bottom: 0.5em;}#sk-container-id-1 div.sk-estimator:hover {background-color: #d4ebff;}#sk-container-id-1 div.sk-parallel-item::after {content: \"\";width: 100%;border-bottom: 1px solid gray;flex-grow: 1;}#sk-container-id-1 div.sk-label:hover label.sk-toggleable__label {background-color: #d4ebff;}#sk-container-id-1 div.sk-serial::before {content: \"\";position: absolute;border-left: 1px solid gray;box-sizing: border-box;top: 0;bottom: 0;left: 50%;z-index: 0;}#sk-container-id-1 div.sk-serial {display: flex;flex-direction: column;align-items: center;background-color: white;padding-right: 0.2em;padding-left: 0.2em;position: relative;}#sk-container-id-1 div.sk-item {position: relative;z-index: 1;}#sk-container-id-1 div.sk-parallel {display: flex;align-items: stretch;justify-content: center;background-color: white;position: relative;}#sk-container-id-1 div.sk-item::before, #sk-container-id-1 div.sk-parallel-item::before {content: \"\";position: absolute;border-left: 1px solid gray;box-sizing: border-box;top: 0;bottom: 0;left: 50%;z-index: -1;}#sk-container-id-1 div.sk-parallel-item {display: flex;flex-direction: column;z-index: 1;position: relative;background-color: white;}#sk-container-id-1 div.sk-parallel-item:first-child::after {align-self: flex-end;width: 50%;}#sk-container-id-1 div.sk-parallel-item:last-child::after {align-self: flex-start;width: 50%;}#sk-container-id-1 div.sk-parallel-item:only-child::after {width: 0;}#sk-container-id-1 div.sk-dashed-wrapped {border: 1px dashed gray;margin: 0 0.4em 0.5em 0.4em;box-sizing: border-box;padding-bottom: 0.4em;background-color: white;}#sk-container-id-1 div.sk-label label {font-family: monospace;font-weight: bold;display: inline-block;line-height: 1.2em;}#sk-container-id-1 div.sk-label-container {text-align: center;}#sk-container-id-1 div.sk-container {/* jupyter's `normalize.less` sets `[hidden] { display: none; }` but bootstrap.min.css set `[hidden] { display: none !important; }` so we also need the `!important` here to be able to override the default hidden behavior on the sphinx rendered scikit-learn.org. See: https://github.com/scikit-learn/scikit-learn/issues/21755 */display: inline-block !important;position: relative;}#sk-container-id-1 div.sk-text-repr-fallback {display: none;}</style><div id=\"sk-container-id-1\" class=\"sk-top-container\"><div class=\"sk-text-repr-fallback\"><pre>VotingRegressor(estimators=[(&#x27;ridge&#x27;, Ridge(random_state=42)),\n",
       "                            (&#x27;lin_reg&#x27;, LinearRegression()),\n",
       "                            (&#x27;huber&#x27;, HuberRegressor(alpha=0.5, epsilon=1.5)),\n",
       "                            (&#x27;cat&#x27;,\n",
       "                             &lt;catboost.core.CatBoostRegressor object at 0x0000029D33AA4AC0&gt;),\n",
       "                            (&#x27;svm&#x27;, SVR()),\n",
       "                            (&#x27;red_neu&#x27;, MLPRegressor(random_state=42))])</pre><b>In a Jupyter environment, please rerun this cell to show the HTML representation or trust the notebook. <br />On GitHub, the HTML representation is unable to render, please try loading this page with nbviewer.org.</b></div><div class=\"sk-container\" hidden><div class=\"sk-item sk-dashed-wrapped\"><div class=\"sk-label-container\"><div class=\"sk-label sk-toggleable\"><input class=\"sk-toggleable__control sk-hidden--visually\" id=\"sk-estimator-id-1\" type=\"checkbox\" ><label for=\"sk-estimator-id-1\" class=\"sk-toggleable__label sk-toggleable__label-arrow\">VotingRegressor</label><div class=\"sk-toggleable__content\"><pre>VotingRegressor(estimators=[(&#x27;ridge&#x27;, Ridge(random_state=42)),\n",
       "                            (&#x27;lin_reg&#x27;, LinearRegression()),\n",
       "                            (&#x27;huber&#x27;, HuberRegressor(alpha=0.5, epsilon=1.5)),\n",
       "                            (&#x27;cat&#x27;,\n",
       "                             &lt;catboost.core.CatBoostRegressor object at 0x0000029D33AA4AC0&gt;),\n",
       "                            (&#x27;svm&#x27;, SVR()),\n",
       "                            (&#x27;red_neu&#x27;, MLPRegressor(random_state=42))])</pre></div></div></div><div class=\"sk-parallel\"><div class=\"sk-parallel-item\"><div class=\"sk-item\"><div class=\"sk-label-container\"><div class=\"sk-label sk-toggleable\"><label>ridge</label></div></div><div class=\"sk-serial\"><div class=\"sk-item\"><div class=\"sk-estimator sk-toggleable\"><input class=\"sk-toggleable__control sk-hidden--visually\" id=\"sk-estimator-id-2\" type=\"checkbox\" ><label for=\"sk-estimator-id-2\" class=\"sk-toggleable__label sk-toggleable__label-arrow\">Ridge</label><div class=\"sk-toggleable__content\"><pre>Ridge(random_state=42)</pre></div></div></div></div></div></div><div class=\"sk-parallel-item\"><div class=\"sk-item\"><div class=\"sk-label-container\"><div class=\"sk-label sk-toggleable\"><label>lin_reg</label></div></div><div class=\"sk-serial\"><div class=\"sk-item\"><div class=\"sk-estimator sk-toggleable\"><input class=\"sk-toggleable__control sk-hidden--visually\" id=\"sk-estimator-id-3\" type=\"checkbox\" ><label for=\"sk-estimator-id-3\" class=\"sk-toggleable__label sk-toggleable__label-arrow\">LinearRegression</label><div class=\"sk-toggleable__content\"><pre>LinearRegression()</pre></div></div></div></div></div></div><div class=\"sk-parallel-item\"><div class=\"sk-item\"><div class=\"sk-label-container\"><div class=\"sk-label sk-toggleable\"><label>huber</label></div></div><div class=\"sk-serial\"><div class=\"sk-item\"><div class=\"sk-estimator sk-toggleable\"><input class=\"sk-toggleable__control sk-hidden--visually\" id=\"sk-estimator-id-4\" type=\"checkbox\" ><label for=\"sk-estimator-id-4\" class=\"sk-toggleable__label sk-toggleable__label-arrow\">HuberRegressor</label><div class=\"sk-toggleable__content\"><pre>HuberRegressor(alpha=0.5, epsilon=1.5)</pre></div></div></div></div></div></div><div class=\"sk-parallel-item\"><div class=\"sk-item\"><div class=\"sk-label-container\"><div class=\"sk-label sk-toggleable\"><label>cat</label></div></div><div class=\"sk-serial\"><div class=\"sk-item\"><div class=\"sk-estimator sk-toggleable\"><input class=\"sk-toggleable__control sk-hidden--visually\" id=\"sk-estimator-id-5\" type=\"checkbox\" ><label for=\"sk-estimator-id-5\" class=\"sk-toggleable__label sk-toggleable__label-arrow\">CatBoostRegressor</label><div class=\"sk-toggleable__content\"><pre>&lt;catboost.core.CatBoostRegressor object at 0x0000029D33AA4AC0&gt;</pre></div></div></div></div></div></div><div class=\"sk-parallel-item\"><div class=\"sk-item\"><div class=\"sk-label-container\"><div class=\"sk-label sk-toggleable\"><label>svm</label></div></div><div class=\"sk-serial\"><div class=\"sk-item\"><div class=\"sk-estimator sk-toggleable\"><input class=\"sk-toggleable__control sk-hidden--visually\" id=\"sk-estimator-id-6\" type=\"checkbox\" ><label for=\"sk-estimator-id-6\" class=\"sk-toggleable__label sk-toggleable__label-arrow\">SVR</label><div class=\"sk-toggleable__content\"><pre>SVR()</pre></div></div></div></div></div></div><div class=\"sk-parallel-item\"><div class=\"sk-item\"><div class=\"sk-label-container\"><div class=\"sk-label sk-toggleable\"><label>red_neu</label></div></div><div class=\"sk-serial\"><div class=\"sk-item\"><div class=\"sk-estimator sk-toggleable\"><input class=\"sk-toggleable__control sk-hidden--visually\" id=\"sk-estimator-id-7\" type=\"checkbox\" ><label for=\"sk-estimator-id-7\" class=\"sk-toggleable__label sk-toggleable__label-arrow\">MLPRegressor</label><div class=\"sk-toggleable__content\"><pre>MLPRegressor(random_state=42)</pre></div></div></div></div></div></div></div></div></div></div>"
      ],
      "text/plain": [
       "VotingRegressor(estimators=[('ridge', Ridge(random_state=42)),\n",
       "                            ('lin_reg', LinearRegression()),\n",
       "                            ('huber', HuberRegressor(alpha=0.5, epsilon=1.5)),\n",
       "                            ('cat',\n",
       "                             <catboost.core.CatBoostRegressor object at 0x0000029D33AA4AC0>),\n",
       "                            ('svm', SVR()),\n",
       "                            ('red_neu', MLPRegressor(random_state=42))])"
      ]
     },
     "execution_count": 122,
     "metadata": {},
     "output_type": "execute_result"
    }
   ],
   "source": [
    "from sklearn.ensemble import VotingRegressor\n",
    "\n",
    "estimators = [('ridge', Ridge_Model), \n",
    "              ('lin_reg', LinReg_Model), \n",
    "              ('huber', Huber_Model), \n",
    "              ('cat', CatBoost_Model), \n",
    "              ('svm', SupVecMac_Model),\n",
    "              ('red_neu',MLP_Model),\n",
    "              ]\n",
    "\n",
    "Voting_Model = VotingRegressor(estimators=estimators)\n",
    "Voting_Model"
   ]
  },
  {
   "cell_type": "code",
   "execution_count": 123,
   "metadata": {},
   "outputs": [
    {
     "name": "stdout",
     "output_type": "stream",
     "text": [
      "Ridge 0.48317517073677674\n",
      "LinearRegression 0.48304802866212115\n",
      "HuberRegressor 0.48169759752143504\n",
      "CatBoostRegressor 0.5823209312828723\n",
      "SVR 0.5189693756626392\n",
      "MLPRegressor 0.5297388045806614\n",
      "VotingRegressor 0.5435062977865115\n"
     ]
    }
   ],
   "source": [
    "from sklearn.metrics import r2_score\n",
    "\n",
    "model_list = [Ridge_Model, LinReg_Model, Huber_Model, CatBoost_Model, SupVecMac_Model, MLP_Model, Voting_Model]\n",
    "\n",
    "for model in model_list:\n",
    "    model.fit(X_train, y_train)\n",
    "    y_pred = model.predict(X_test)\n",
    "    print(model.__class__.__name__, r2_score(y_test, y_pred))\n"
   ]
  },
  {
   "cell_type": "code",
   "execution_count": 124,
   "metadata": {},
   "outputs": [
    {
     "name": "stdout",
     "output_type": "stream",
     "text": [
      "R2 (test): 54.3506 %\n",
      "MAE (test): 0.6016625670825925\n"
     ]
    }
   ],
   "source": [
    "y_pred_Voting_Model = Voting_Model.predict(X_test)\n",
    "\n",
    "R2_Voting_Model = r2_score(y_test, y_pred_Voting_Model)\n",
    "MAE_Voting_Model = mean_absolute_error(y_test, y_pred_Voting_Model)\n",
    "\n",
    "print(\"R2 (test):\", round(((R2_Voting_Model)*100),4),\"%\")\n",
    "print(\"MAE (test):\", MAE_Voting_Model)"
   ]
  },
  {
   "attachments": {},
   "cell_type": "markdown",
   "metadata": {},
   "source": [
    "### Combino las predicciones ponderando en función de la precisión (R2 score) de los 3 mejores modelos"
   ]
  },
  {
   "cell_type": "code",
   "execution_count": 125,
   "metadata": {},
   "outputs": [],
   "source": [
    "best_models = [SupVecMac_Model, CatBoost_Model, LGBM_Model]\n",
    "best_metrics = [R2_SupVecMac_Model, R2_CatBoost_Model, R2_LGBM_Model]\n",
    "best_predictions = [y_pred_SupVecMac_Model, y_pred_CatBoost_Model, y_pred_LGBM_Model]"
   ]
  },
  {
   "cell_type": "code",
   "execution_count": 126,
   "metadata": {},
   "outputs": [
    {
     "name": "stdout",
     "output_type": "stream",
     "text": [
      "R2 (test): 57.9522 %\n",
      "MAE (test): 0.567948782093453\n"
     ]
    }
   ],
   "source": [
    "y_pred_SVM_CAT_LGBM = (R2_SupVecMac_Model * y_pred_SupVecMac_Model + R2_CatBoost_Model * y_pred_CatBoost_Model + R2_LGBM_Model * y_pred_LGBM_Model) / (R2_SupVecMac_Model + R2_CatBoost_Model + R2_LGBM_Model)\n",
    "\n",
    "R2_SVM_CAT_LGBM_Model = r2_score(y_test, y_pred_SVM_CAT_LGBM)\n",
    "MAE_SVM_CAT_LGBM_Model = mean_absolute_error(y_test, y_pred_SVM_CAT_LGBM)\n",
    "\n",
    "print(\"R2 (test):\", round(((R2_SVM_CAT_LGBM_Model)*100),4),\"%\")\n",
    "print(\"MAE (test):\", MAE_SVM_CAT_LGBM_Model)"
   ]
  },
  {
   "attachments": {},
   "cell_type": "markdown",
   "metadata": {},
   "source": [
    "### Combino las predicciones ponderando en función de la precisión (RMSE) de los 2 mejores modelos"
   ]
  },
  {
   "cell_type": "code",
   "execution_count": 127,
   "metadata": {},
   "outputs": [
    {
     "name": "stdout",
     "output_type": "stream",
     "text": [
      "R2 (test): 58.8466 %\n",
      "MAE (test): 0.563433960358097\n"
     ]
    }
   ],
   "source": [
    "from sklearn.metrics import mean_squared_error\n",
    "\n",
    "RMSE_CatBoost_Model = mean_squared_error(y_test, y_pred_CatBoost_Model) \n",
    "RMSE_LGB_Model = mean_squared_error(y_test, y_pred_LGBM_Model)\n",
    "\n",
    "y_pred_CAT_LGBM_Model = (y_pred_LGBM_Model / RMSE_CatBoost_Model*2 + y_pred_CatBoost_Model / RMSE_LGB_Model*2) / (1 / RMSE_CatBoost_Model*2 + 1 / RMSE_LGB_Model*2)\n",
    "\n",
    "R2_CAT_LGBM_Model = r2_score(y_test, y_pred_CAT_LGBM_Model)\n",
    "MAE_CAT_LGBM_Model = mean_absolute_error(y_test, y_pred_CAT_LGBM_Model)\n",
    "\n",
    "print(\"R2 (test):\", round(((R2_CAT_LGBM_Model)*100),4),\"%\")\n",
    "print(\"MAE (test):\", MAE_CAT_LGBM_Model)"
   ]
  },
  {
   "attachments": {},
   "cell_type": "markdown",
   "metadata": {},
   "source": [
    "### Bagging"
   ]
  },
  {
   "cell_type": "code",
   "execution_count": 128,
   "metadata": {},
   "outputs": [
    {
     "name": "stdout",
     "output_type": "stream",
     "text": [
      "R2 (test): 58.502 %\n",
      "MAE (test): 0.5650105149165349\n"
     ]
    }
   ],
   "source": [
    "from sklearn.ensemble import BaggingRegressor\n",
    "from sklearn.metrics import r2_score\n",
    "\n",
    "seed = 42\n",
    "\n",
    "# Entrenamos un ensamblaje de árboles de decisión utilizando la técnica de bagging\n",
    "Bagging_Model = BaggingRegressor(base_estimator=CatBoost_Model, n_estimators=10, random_state=seed)\n",
    "Bagging_Model.fit(X_train, y_train)\n",
    "\n",
    "# Hacemos una predicción con el árbol de decisión y el ensamblaje de árboles de decisión\n",
    "y_pred_Bagging_Model = Bagging_Model.predict(X_test)\n",
    "\n",
    "# Medimos la precisión de los modelos utilizando el coeficiente de determinación R^2\n",
    "R2_Bagging_Model = r2_score(y_test, y_pred_Bagging_Model)\n",
    "MAE_Bagging_Model = mean_absolute_error(y_test, y_pred_Bagging_Model)\n",
    "\n",
    "print(\"R2 (test):\", round(((R2_Bagging_Model)*100),4),\"%\")\n",
    "print(\"MAE (test):\", MAE_Bagging_Model)"
   ]
  },
  {
   "attachments": {},
   "cell_type": "markdown",
   "metadata": {},
   "source": [
    "### GridSearch"
   ]
  },
  {
   "attachments": {},
   "cell_type": "markdown",
   "metadata": {},
   "source": [
    "Algunas recomendaciones sobre los hiperparámetros que se pueden ajustar en CatBoost y los rangos de valores que podrías probar. Lista de los hiperparámetros y los rangos sugeridos:\n",
    "\n",
    "- learning_rate: tasa de aprendizaje, controla la velocidad a la que se adapta el modelo a los datos. Valores típicos son ```[0.01, 0.03, 0.1, 0.3, 1]```.\n",
    "- max_depth: profundidad máxima del árbol. Un valor demasiado alto puede provocar sobreajuste. Valores típicos son ```[3, 5, 7, 9, 11]```, -1 (sin límite de profundidad).\n",
    "- l2_leaf_reg: parámetro de regularización L2. Ayuda a prevenir el sobreajuste. Valores típicos son ```[1, 3, 5, 7, 9]```.\n",
    "- colsample_bylevel: porcentaje de características que se toman en cuenta para cada árbol. Valores típicos son ```[0.5, 0.7, 0.8, 1]```.\n",
    "- subsample: porcentaje de muestras que se toman en cuenta para cada árbol. Valores típicos son ```[0.5, 0.7, 0.8, 1]```.\n",
    "- iterations: número de iteraciones del modelo. Valores típicos son ```[500, 1000, 2000]```.\n",
    "\n",
    "El valor para el parámetro cv en GridSearchCV depende del tamaño de tus datos y del tiempo se esté dispuesto a esperar para que el modelo se ajuste. En general, se recomienda usar un valor de cv entre 5 y 10 para conjuntos de datos de tamaño moderado a grande.\n",
    "\n",
    "Dado que el conjunto de datos es de unos 10,000 registros, un valor de cv de 5 sería razonable. Esto significa que los datos se dividirían en 5 partes iguales y se ajustarían 5 modelos separados, cada uno de los cuales se ajusta en 4 partes y se evalúa en la restante."
   ]
  },
  {
   "cell_type": "code",
   "execution_count": 129,
   "metadata": {},
   "outputs": [
    {
     "data": {
      "text/html": [
       "<style>#sk-container-id-2 {color: black;background-color: white;}#sk-container-id-2 pre{padding: 0;}#sk-container-id-2 div.sk-toggleable {background-color: white;}#sk-container-id-2 label.sk-toggleable__label {cursor: pointer;display: block;width: 100%;margin-bottom: 0;padding: 0.3em;box-sizing: border-box;text-align: center;}#sk-container-id-2 label.sk-toggleable__label-arrow:before {content: \"▸\";float: left;margin-right: 0.25em;color: #696969;}#sk-container-id-2 label.sk-toggleable__label-arrow:hover:before {color: black;}#sk-container-id-2 div.sk-estimator:hover label.sk-toggleable__label-arrow:before {color: black;}#sk-container-id-2 div.sk-toggleable__content {max-height: 0;max-width: 0;overflow: hidden;text-align: left;background-color: #f0f8ff;}#sk-container-id-2 div.sk-toggleable__content pre {margin: 0.2em;color: black;border-radius: 0.25em;background-color: #f0f8ff;}#sk-container-id-2 input.sk-toggleable__control:checked~div.sk-toggleable__content {max-height: 200px;max-width: 100%;overflow: auto;}#sk-container-id-2 input.sk-toggleable__control:checked~label.sk-toggleable__label-arrow:before {content: \"▾\";}#sk-container-id-2 div.sk-estimator input.sk-toggleable__control:checked~label.sk-toggleable__label {background-color: #d4ebff;}#sk-container-id-2 div.sk-label input.sk-toggleable__control:checked~label.sk-toggleable__label {background-color: #d4ebff;}#sk-container-id-2 input.sk-hidden--visually {border: 0;clip: rect(1px 1px 1px 1px);clip: rect(1px, 1px, 1px, 1px);height: 1px;margin: -1px;overflow: hidden;padding: 0;position: absolute;width: 1px;}#sk-container-id-2 div.sk-estimator {font-family: monospace;background-color: #f0f8ff;border: 1px dotted black;border-radius: 0.25em;box-sizing: border-box;margin-bottom: 0.5em;}#sk-container-id-2 div.sk-estimator:hover {background-color: #d4ebff;}#sk-container-id-2 div.sk-parallel-item::after {content: \"\";width: 100%;border-bottom: 1px solid gray;flex-grow: 1;}#sk-container-id-2 div.sk-label:hover label.sk-toggleable__label {background-color: #d4ebff;}#sk-container-id-2 div.sk-serial::before {content: \"\";position: absolute;border-left: 1px solid gray;box-sizing: border-box;top: 0;bottom: 0;left: 50%;z-index: 0;}#sk-container-id-2 div.sk-serial {display: flex;flex-direction: column;align-items: center;background-color: white;padding-right: 0.2em;padding-left: 0.2em;position: relative;}#sk-container-id-2 div.sk-item {position: relative;z-index: 1;}#sk-container-id-2 div.sk-parallel {display: flex;align-items: stretch;justify-content: center;background-color: white;position: relative;}#sk-container-id-2 div.sk-item::before, #sk-container-id-2 div.sk-parallel-item::before {content: \"\";position: absolute;border-left: 1px solid gray;box-sizing: border-box;top: 0;bottom: 0;left: 50%;z-index: -1;}#sk-container-id-2 div.sk-parallel-item {display: flex;flex-direction: column;z-index: 1;position: relative;background-color: white;}#sk-container-id-2 div.sk-parallel-item:first-child::after {align-self: flex-end;width: 50%;}#sk-container-id-2 div.sk-parallel-item:last-child::after {align-self: flex-start;width: 50%;}#sk-container-id-2 div.sk-parallel-item:only-child::after {width: 0;}#sk-container-id-2 div.sk-dashed-wrapped {border: 1px dashed gray;margin: 0 0.4em 0.5em 0.4em;box-sizing: border-box;padding-bottom: 0.4em;background-color: white;}#sk-container-id-2 div.sk-label label {font-family: monospace;font-weight: bold;display: inline-block;line-height: 1.2em;}#sk-container-id-2 div.sk-label-container {text-align: center;}#sk-container-id-2 div.sk-container {/* jupyter's `normalize.less` sets `[hidden] { display: none; }` but bootstrap.min.css set `[hidden] { display: none !important; }` so we also need the `!important` here to be able to override the default hidden behavior on the sphinx rendered scikit-learn.org. See: https://github.com/scikit-learn/scikit-learn/issues/21755 */display: inline-block !important;position: relative;}#sk-container-id-2 div.sk-text-repr-fallback {display: none;}</style><div id=\"sk-container-id-2\" class=\"sk-top-container\"><div class=\"sk-text-repr-fallback\"><pre>GridSearchCV(cv=5,\n",
       "             estimator=&lt;catboost.core.CatBoostRegressor object at 0x0000029D33AA4AC0&gt;,\n",
       "             param_grid={&#x27;learning_rate&#x27;: [0.01, 0.03, 0.1, 0.3, 1],\n",
       "                         &#x27;max_depth&#x27;: [3, 5, 7, 9, 11],\n",
       "                         &#x27;n_estimators&#x27;: [100, 150, 200]})</pre><b>In a Jupyter environment, please rerun this cell to show the HTML representation or trust the notebook. <br />On GitHub, the HTML representation is unable to render, please try loading this page with nbviewer.org.</b></div><div class=\"sk-container\" hidden><div class=\"sk-item sk-dashed-wrapped\"><div class=\"sk-label-container\"><div class=\"sk-label sk-toggleable\"><input class=\"sk-toggleable__control sk-hidden--visually\" id=\"sk-estimator-id-8\" type=\"checkbox\" ><label for=\"sk-estimator-id-8\" class=\"sk-toggleable__label sk-toggleable__label-arrow\">GridSearchCV</label><div class=\"sk-toggleable__content\"><pre>GridSearchCV(cv=5,\n",
       "             estimator=&lt;catboost.core.CatBoostRegressor object at 0x0000029D33AA4AC0&gt;,\n",
       "             param_grid={&#x27;learning_rate&#x27;: [0.01, 0.03, 0.1, 0.3, 1],\n",
       "                         &#x27;max_depth&#x27;: [3, 5, 7, 9, 11],\n",
       "                         &#x27;n_estimators&#x27;: [100, 150, 200]})</pre></div></div></div><div class=\"sk-parallel\"><div class=\"sk-parallel-item\"><div class=\"sk-item\"><div class=\"sk-label-container\"><div class=\"sk-label sk-toggleable\"><input class=\"sk-toggleable__control sk-hidden--visually\" id=\"sk-estimator-id-9\" type=\"checkbox\" ><label for=\"sk-estimator-id-9\" class=\"sk-toggleable__label sk-toggleable__label-arrow\">estimator: CatBoostRegressor</label><div class=\"sk-toggleable__content\"><pre>&lt;catboost.core.CatBoostRegressor object at 0x0000029D33AA4AC0&gt;</pre></div></div></div><div class=\"sk-serial\"><div class=\"sk-item\"><div class=\"sk-estimator sk-toggleable\"><input class=\"sk-toggleable__control sk-hidden--visually\" id=\"sk-estimator-id-10\" type=\"checkbox\" ><label for=\"sk-estimator-id-10\" class=\"sk-toggleable__label sk-toggleable__label-arrow\">CatBoostRegressor</label><div class=\"sk-toggleable__content\"><pre>&lt;catboost.core.CatBoostRegressor object at 0x0000029D33AA4AC0&gt;</pre></div></div></div></div></div></div></div></div></div></div>"
      ],
      "text/plain": [
       "GridSearchCV(cv=5,\n",
       "             estimator=<catboost.core.CatBoostRegressor object at 0x0000029D33AA4AC0>,\n",
       "             param_grid={'learning_rate': [0.01, 0.03, 0.1, 0.3, 1],\n",
       "                         'max_depth': [3, 5, 7, 9, 11],\n",
       "                         'n_estimators': [100, 150, 200]})"
      ]
     },
     "execution_count": 129,
     "metadata": {},
     "output_type": "execute_result"
    }
   ],
   "source": [
    "from sklearn.model_selection import GridSearchCV\n",
    "\n",
    "parameters = {'n_estimators':[100, 150, 200],\n",
    "              'max_depth': [3, 5, 7, 9, 11],\n",
    "              'learning_rate': [0.01, 0.03, 0.1, 0.3, 1],\n",
    "            }\n",
    "\n",
    "GridSearch_model = GridSearchCV(CatBoost_Model, param_grid= parameters, cv= 5)\n",
    "GridSearch_model.fit(X_train, y_train)"
   ]
  },
  {
   "cell_type": "code",
   "execution_count": 130,
   "metadata": {},
   "outputs": [
    {
     "data": {
      "text/plain": [
       "{'learning_rate': 0.1, 'max_depth': 7, 'n_estimators': 200}"
      ]
     },
     "execution_count": 130,
     "metadata": {},
     "output_type": "execute_result"
    }
   ],
   "source": [
    "GridSearch_model.best_params_"
   ]
  },
  {
   "cell_type": "code",
   "execution_count": 131,
   "metadata": {},
   "outputs": [
    {
     "name": "stdout",
     "output_type": "stream",
     "text": [
      "R2 (test): 58.1556 %\n",
      "MAE (test): 0.5686491368899836\n"
     ]
    }
   ],
   "source": [
    "from sklearn.metrics import r2_score, mean_absolute_error\n",
    "\n",
    "Best_GridSearch_model = GridSearch_model.best_estimator_\n",
    "y_pred_Best_GridSearch_model = Best_GridSearch_model.predict(X_test)\n",
    "\n",
    "R2_Best_GridSearch_model = r2_score(y_test, y_pred_Best_GridSearch_model)\n",
    "MAE_Best_GridSearch_model = mean_absolute_error(y_test, y_pred_Best_GridSearch_model)\n",
    "\n",
    "print(\"R2 (test):\", round(((R2_Best_GridSearch_model)*100),4),\"%\")\n",
    "print(\"MAE (test):\", MAE_Best_GridSearch_model)"
   ]
  },
  {
   "cell_type": "code",
   "execution_count": 132,
   "metadata": {},
   "outputs": [],
   "source": [
    "# import types\n",
    "\n",
    "# pred_lista_optimazed = []\n",
    "\n",
    "# # Obtener copia del espacio de nombres de usuario\n",
    "# user_ns = dict(get_ipython().user_ns)\n",
    "\n",
    "# # Obtener variables definidas en las celdas del notebook\n",
    "# notebook_vars = []\n",
    "# for var_name, var_value in user_ns.items():\n",
    "#     # Excluir variables internas del entorno y módulos importados\n",
    "#     if not var_name.startswith('_') and not isinstance(var_value, types.ModuleType) and var_name.startswith('y_pred'):\n",
    "#             notebook_vars.append(var_name)\n",
    "\n",
    "# for var in notebook_vars:\n",
    "#     if var not in pred_lista:\n",
    "#         pred_lista_optimazed.append(var)"
   ]
  },
  {
   "cell_type": "code",
   "execution_count": 133,
   "metadata": {},
   "outputs": [],
   "source": [
    "pred_lista_01 = [y_pred_CatBoost_Model, y_pred_LGBM_Model, y_pred_Voting_Model, y_pred_SVM_CAT_LGBM, y_pred_CAT_LGBM_Model, y_pred_Bagging_Model, y_pred_Best_GridSearch_model, y_pred_SupVecMac_Model]\n",
    "models_lista_01 = ['CatBoost ', 'LGBM ', 'Voting ','SVM_CAT_LGBM ','CAT_LGBM ','Bagging ','GridSearch ', 'SVM']\n",
    "\n",
    "rmse_metric_01 = []\n",
    "mse_metric_01 = []\n",
    "r2_metric_01 = []\n",
    "mae_metric_01 = []\n",
    "\n",
    "def metrics(y_true, lista_pred):\n",
    "\n",
    "    from sklearn.metrics import mean_squared_error\n",
    "\n",
    "    for pred in lista_pred:\n",
    "        r2_metric_01.append(r2_score(y_true, pred))\n",
    "        mse_metric_01.append(mean_squared_error(y_true, pred, squared=True))\n",
    "        rmse_metric_01.append(mean_squared_error(y_true, pred, squared=False))\n",
    "        mae_metric_01.append(mean_absolute_error(y_true, pred))\n",
    "\n",
    "metrics(y_test, pred_lista_01)"
   ]
  },
  {
   "attachments": {},
   "cell_type": "markdown",
   "metadata": {},
   "source": [
    "### Muestro en un dataframe los resultados"
   ]
  },
  {
   "cell_type": "code",
   "execution_count": 134,
   "metadata": {},
   "outputs": [
    {
     "data": {
      "text/html": [
       "<div>\n",
       "<style scoped>\n",
       "    .dataframe tbody tr th:only-of-type {\n",
       "        vertical-align: middle;\n",
       "    }\n",
       "\n",
       "    .dataframe tbody tr th {\n",
       "        vertical-align: top;\n",
       "    }\n",
       "\n",
       "    .dataframe thead th {\n",
       "        text-align: right;\n",
       "    }\n",
       "</style>\n",
       "<table border=\"1\" class=\"dataframe\">\n",
       "  <thead>\n",
       "    <tr style=\"text-align: right;\">\n",
       "      <th></th>\n",
       "      <th>Modelos</th>\n",
       "      <th>RMSE</th>\n",
       "      <th>MSE</th>\n",
       "      <th>R2_SCORE</th>\n",
       "      <th>MAE</th>\n",
       "    </tr>\n",
       "  </thead>\n",
       "  <tbody>\n",
       "    <tr>\n",
       "      <th>0</th>\n",
       "      <td>CAT_LGBM</td>\n",
       "      <td>0.715679</td>\n",
       "      <td>0.512196</td>\n",
       "      <td>0.588466</td>\n",
       "      <td>0.563434</td>\n",
       "    </tr>\n",
       "    <tr>\n",
       "      <th>1</th>\n",
       "      <td>CatBoost</td>\n",
       "      <td>0.721002</td>\n",
       "      <td>0.519844</td>\n",
       "      <td>0.582321</td>\n",
       "      <td>0.564435</td>\n",
       "    </tr>\n",
       "    <tr>\n",
       "      <th>2</th>\n",
       "      <td>Bagging</td>\n",
       "      <td>0.718669</td>\n",
       "      <td>0.516485</td>\n",
       "      <td>0.585020</td>\n",
       "      <td>0.565011</td>\n",
       "    </tr>\n",
       "    <tr>\n",
       "      <th>3</th>\n",
       "      <td>LGBM</td>\n",
       "      <td>0.717513</td>\n",
       "      <td>0.514825</td>\n",
       "      <td>0.586354</td>\n",
       "      <td>0.567904</td>\n",
       "    </tr>\n",
       "    <tr>\n",
       "      <th>4</th>\n",
       "      <td>SVM_CAT_LGBM</td>\n",
       "      <td>0.723414</td>\n",
       "      <td>0.523328</td>\n",
       "      <td>0.579522</td>\n",
       "      <td>0.567949</td>\n",
       "    </tr>\n",
       "    <tr>\n",
       "      <th>5</th>\n",
       "      <td>GridSearch</td>\n",
       "      <td>0.721662</td>\n",
       "      <td>0.520796</td>\n",
       "      <td>0.581556</td>\n",
       "      <td>0.568649</td>\n",
       "    </tr>\n",
       "  </tbody>\n",
       "</table>\n",
       "</div>"
      ],
      "text/plain": [
       "         Modelos      RMSE       MSE  R2_SCORE       MAE\n",
       "0      CAT_LGBM   0.715679  0.512196  0.588466  0.563434\n",
       "1      CatBoost   0.721002  0.519844  0.582321  0.564435\n",
       "2       Bagging   0.718669  0.516485  0.585020  0.565011\n",
       "3          LGBM   0.717513  0.514825  0.586354  0.567904\n",
       "4  SVM_CAT_LGBM   0.723414  0.523328  0.579522  0.567949\n",
       "5    GridSearch   0.721662  0.520796  0.581556  0.568649"
      ]
     },
     "execution_count": 134,
     "metadata": {},
     "output_type": "execute_result"
    }
   ],
   "source": [
    "df_metrics_8 = pd.DataFrame({'RMSE': rmse_metric_01, 'MSE': mse_metric_01, 'R2_SCORE': r2_metric_01, 'MAE': mae_metric_01}, index=models_lista_01)\n",
    "df_metrics_8 = df_metrics_8.sort_values('MAE', ascending=True).reset_index().iloc[:-2,:]\n",
    "df_metrics_8.rename(columns = {\"index\":\"Modelos\"}, inplace =True)\n",
    "df_metrics_8"
   ]
  },
  {
   "attachments": {},
   "cell_type": "markdown",
   "metadata": {},
   "source": [
    "### Visualizo los resultados en una gráfica"
   ]
  },
  {
   "cell_type": "code",
   "execution_count": 135,
   "metadata": {},
   "outputs": [
    {
     "data": {
      "application/vnd.plotly.v1+json": {
       "config": {
        "plotlyServerURL": "https://plot.ly"
       },
       "data": [
        {
         "alignmentgroup": "True",
         "hovertemplate": "MAE=%{x}<br>Modelos=%{y}<br>RMSE=%{marker.color}<extra></extra>",
         "legendgroup": "",
         "marker": {
          "color": [
           "#86A0B1",
           "#FEE28F",
           "#FFB144",
           "#FFFFFF",
           "#86A0B1",
           "#FEE28F",
           "#FFB144",
           "#FFFFFF",
           "#86A0B1",
           "#FEE28F",
           "#FFB144",
           "#FFFFFF",
           "#86A0B1",
           "#FEE28F",
           "#FFB144",
           "#FFFFFF"
          ],
          "coloraxis": "coloraxis",
          "pattern": {
           "shape": ""
          }
         },
         "name": "",
         "offsetgroup": "",
         "orientation": "h",
         "showlegend": false,
         "textfont": {
          "size": 16
         },
         "textposition": "auto",
         "type": "bar",
         "x": [
          0.5686491368899836,
          0.567948782093453,
          0.5679038370083881,
          0.5650105149165349,
          0.5644351585175662,
          0.563433960358097
         ],
         "xaxis": "x",
         "y": [
          "GridSearch ",
          "SVM_CAT_LGBM ",
          "LGBM ",
          "Bagging ",
          "CatBoost ",
          "CAT_LGBM "
         ],
         "yaxis": "y"
        }
       ],
       "layout": {
        "barmode": "group",
        "coloraxis": {
         "colorbar": {
          "title": {
           "text": "RMSE"
          }
         },
         "colorscale": [
          [
           0,
           "#0d0887"
          ],
          [
           0.1111111111111111,
           "#46039f"
          ],
          [
           0.2222222222222222,
           "#7201a8"
          ],
          [
           0.3333333333333333,
           "#9c179e"
          ],
          [
           0.4444444444444444,
           "#bd3786"
          ],
          [
           0.5555555555555556,
           "#d8576b"
          ],
          [
           0.6666666666666666,
           "#ed7953"
          ],
          [
           0.7777777777777778,
           "#fb9f3a"
          ],
          [
           0.8888888888888888,
           "#fdca26"
          ],
          [
           1,
           "#f0f921"
          ]
         ]
        },
        "height": 900,
        "legend": {
         "tracegroupgap": 0
        },
        "margin": {
         "t": 60
        },
        "paper_bgcolor": "rgba(0,0,0,0)",
        "plot_bgcolor": "rgba(0,0,0,0)",
        "template": {
         "data": {
          "bar": [
           {
            "error_x": {
             "color": "#2a3f5f"
            },
            "error_y": {
             "color": "#2a3f5f"
            },
            "marker": {
             "line": {
              "color": "#E5ECF6",
              "width": 0.5
             },
             "pattern": {
              "fillmode": "overlay",
              "size": 10,
              "solidity": 0.2
             }
            },
            "type": "bar"
           }
          ],
          "barpolar": [
           {
            "marker": {
             "line": {
              "color": "#E5ECF6",
              "width": 0.5
             },
             "pattern": {
              "fillmode": "overlay",
              "size": 10,
              "solidity": 0.2
             }
            },
            "type": "barpolar"
           }
          ],
          "carpet": [
           {
            "aaxis": {
             "endlinecolor": "#2a3f5f",
             "gridcolor": "white",
             "linecolor": "white",
             "minorgridcolor": "white",
             "startlinecolor": "#2a3f5f"
            },
            "baxis": {
             "endlinecolor": "#2a3f5f",
             "gridcolor": "white",
             "linecolor": "white",
             "minorgridcolor": "white",
             "startlinecolor": "#2a3f5f"
            },
            "type": "carpet"
           }
          ],
          "choropleth": [
           {
            "colorbar": {
             "outlinewidth": 0,
             "ticks": ""
            },
            "type": "choropleth"
           }
          ],
          "contour": [
           {
            "colorbar": {
             "outlinewidth": 0,
             "ticks": ""
            },
            "colorscale": [
             [
              0,
              "#0d0887"
             ],
             [
              0.1111111111111111,
              "#46039f"
             ],
             [
              0.2222222222222222,
              "#7201a8"
             ],
             [
              0.3333333333333333,
              "#9c179e"
             ],
             [
              0.4444444444444444,
              "#bd3786"
             ],
             [
              0.5555555555555556,
              "#d8576b"
             ],
             [
              0.6666666666666666,
              "#ed7953"
             ],
             [
              0.7777777777777778,
              "#fb9f3a"
             ],
             [
              0.8888888888888888,
              "#fdca26"
             ],
             [
              1,
              "#f0f921"
             ]
            ],
            "type": "contour"
           }
          ],
          "contourcarpet": [
           {
            "colorbar": {
             "outlinewidth": 0,
             "ticks": ""
            },
            "type": "contourcarpet"
           }
          ],
          "heatmap": [
           {
            "colorbar": {
             "outlinewidth": 0,
             "ticks": ""
            },
            "colorscale": [
             [
              0,
              "#0d0887"
             ],
             [
              0.1111111111111111,
              "#46039f"
             ],
             [
              0.2222222222222222,
              "#7201a8"
             ],
             [
              0.3333333333333333,
              "#9c179e"
             ],
             [
              0.4444444444444444,
              "#bd3786"
             ],
             [
              0.5555555555555556,
              "#d8576b"
             ],
             [
              0.6666666666666666,
              "#ed7953"
             ],
             [
              0.7777777777777778,
              "#fb9f3a"
             ],
             [
              0.8888888888888888,
              "#fdca26"
             ],
             [
              1,
              "#f0f921"
             ]
            ],
            "type": "heatmap"
           }
          ],
          "heatmapgl": [
           {
            "colorbar": {
             "outlinewidth": 0,
             "ticks": ""
            },
            "colorscale": [
             [
              0,
              "#0d0887"
             ],
             [
              0.1111111111111111,
              "#46039f"
             ],
             [
              0.2222222222222222,
              "#7201a8"
             ],
             [
              0.3333333333333333,
              "#9c179e"
             ],
             [
              0.4444444444444444,
              "#bd3786"
             ],
             [
              0.5555555555555556,
              "#d8576b"
             ],
             [
              0.6666666666666666,
              "#ed7953"
             ],
             [
              0.7777777777777778,
              "#fb9f3a"
             ],
             [
              0.8888888888888888,
              "#fdca26"
             ],
             [
              1,
              "#f0f921"
             ]
            ],
            "type": "heatmapgl"
           }
          ],
          "histogram": [
           {
            "marker": {
             "pattern": {
              "fillmode": "overlay",
              "size": 10,
              "solidity": 0.2
             }
            },
            "type": "histogram"
           }
          ],
          "histogram2d": [
           {
            "colorbar": {
             "outlinewidth": 0,
             "ticks": ""
            },
            "colorscale": [
             [
              0,
              "#0d0887"
             ],
             [
              0.1111111111111111,
              "#46039f"
             ],
             [
              0.2222222222222222,
              "#7201a8"
             ],
             [
              0.3333333333333333,
              "#9c179e"
             ],
             [
              0.4444444444444444,
              "#bd3786"
             ],
             [
              0.5555555555555556,
              "#d8576b"
             ],
             [
              0.6666666666666666,
              "#ed7953"
             ],
             [
              0.7777777777777778,
              "#fb9f3a"
             ],
             [
              0.8888888888888888,
              "#fdca26"
             ],
             [
              1,
              "#f0f921"
             ]
            ],
            "type": "histogram2d"
           }
          ],
          "histogram2dcontour": [
           {
            "colorbar": {
             "outlinewidth": 0,
             "ticks": ""
            },
            "colorscale": [
             [
              0,
              "#0d0887"
             ],
             [
              0.1111111111111111,
              "#46039f"
             ],
             [
              0.2222222222222222,
              "#7201a8"
             ],
             [
              0.3333333333333333,
              "#9c179e"
             ],
             [
              0.4444444444444444,
              "#bd3786"
             ],
             [
              0.5555555555555556,
              "#d8576b"
             ],
             [
              0.6666666666666666,
              "#ed7953"
             ],
             [
              0.7777777777777778,
              "#fb9f3a"
             ],
             [
              0.8888888888888888,
              "#fdca26"
             ],
             [
              1,
              "#f0f921"
             ]
            ],
            "type": "histogram2dcontour"
           }
          ],
          "mesh3d": [
           {
            "colorbar": {
             "outlinewidth": 0,
             "ticks": ""
            },
            "type": "mesh3d"
           }
          ],
          "parcoords": [
           {
            "line": {
             "colorbar": {
              "outlinewidth": 0,
              "ticks": ""
             }
            },
            "type": "parcoords"
           }
          ],
          "pie": [
           {
            "automargin": true,
            "type": "pie"
           }
          ],
          "scatter": [
           {
            "fillpattern": {
             "fillmode": "overlay",
             "size": 10,
             "solidity": 0.2
            },
            "type": "scatter"
           }
          ],
          "scatter3d": [
           {
            "line": {
             "colorbar": {
              "outlinewidth": 0,
              "ticks": ""
             }
            },
            "marker": {
             "colorbar": {
              "outlinewidth": 0,
              "ticks": ""
             }
            },
            "type": "scatter3d"
           }
          ],
          "scattercarpet": [
           {
            "marker": {
             "colorbar": {
              "outlinewidth": 0,
              "ticks": ""
             }
            },
            "type": "scattercarpet"
           }
          ],
          "scattergeo": [
           {
            "marker": {
             "colorbar": {
              "outlinewidth": 0,
              "ticks": ""
             }
            },
            "type": "scattergeo"
           }
          ],
          "scattergl": [
           {
            "marker": {
             "colorbar": {
              "outlinewidth": 0,
              "ticks": ""
             }
            },
            "type": "scattergl"
           }
          ],
          "scattermapbox": [
           {
            "marker": {
             "colorbar": {
              "outlinewidth": 0,
              "ticks": ""
             }
            },
            "type": "scattermapbox"
           }
          ],
          "scatterpolar": [
           {
            "marker": {
             "colorbar": {
              "outlinewidth": 0,
              "ticks": ""
             }
            },
            "type": "scatterpolar"
           }
          ],
          "scatterpolargl": [
           {
            "marker": {
             "colorbar": {
              "outlinewidth": 0,
              "ticks": ""
             }
            },
            "type": "scatterpolargl"
           }
          ],
          "scatterternary": [
           {
            "marker": {
             "colorbar": {
              "outlinewidth": 0,
              "ticks": ""
             }
            },
            "type": "scatterternary"
           }
          ],
          "surface": [
           {
            "colorbar": {
             "outlinewidth": 0,
             "ticks": ""
            },
            "colorscale": [
             [
              0,
              "#0d0887"
             ],
             [
              0.1111111111111111,
              "#46039f"
             ],
             [
              0.2222222222222222,
              "#7201a8"
             ],
             [
              0.3333333333333333,
              "#9c179e"
             ],
             [
              0.4444444444444444,
              "#bd3786"
             ],
             [
              0.5555555555555556,
              "#d8576b"
             ],
             [
              0.6666666666666666,
              "#ed7953"
             ],
             [
              0.7777777777777778,
              "#fb9f3a"
             ],
             [
              0.8888888888888888,
              "#fdca26"
             ],
             [
              1,
              "#f0f921"
             ]
            ],
            "type": "surface"
           }
          ],
          "table": [
           {
            "cells": {
             "fill": {
              "color": "#EBF0F8"
             },
             "line": {
              "color": "white"
             }
            },
            "header": {
             "fill": {
              "color": "#C8D4E3"
             },
             "line": {
              "color": "white"
             }
            },
            "type": "table"
           }
          ]
         },
         "layout": {
          "annotationdefaults": {
           "arrowcolor": "#2a3f5f",
           "arrowhead": 0,
           "arrowwidth": 1
          },
          "autotypenumbers": "strict",
          "coloraxis": {
           "colorbar": {
            "outlinewidth": 0,
            "ticks": ""
           }
          },
          "colorscale": {
           "diverging": [
            [
             0,
             "#8e0152"
            ],
            [
             0.1,
             "#c51b7d"
            ],
            [
             0.2,
             "#de77ae"
            ],
            [
             0.3,
             "#f1b6da"
            ],
            [
             0.4,
             "#fde0ef"
            ],
            [
             0.5,
             "#f7f7f7"
            ],
            [
             0.6,
             "#e6f5d0"
            ],
            [
             0.7,
             "#b8e186"
            ],
            [
             0.8,
             "#7fbc41"
            ],
            [
             0.9,
             "#4d9221"
            ],
            [
             1,
             "#276419"
            ]
           ],
           "sequential": [
            [
             0,
             "#0d0887"
            ],
            [
             0.1111111111111111,
             "#46039f"
            ],
            [
             0.2222222222222222,
             "#7201a8"
            ],
            [
             0.3333333333333333,
             "#9c179e"
            ],
            [
             0.4444444444444444,
             "#bd3786"
            ],
            [
             0.5555555555555556,
             "#d8576b"
            ],
            [
             0.6666666666666666,
             "#ed7953"
            ],
            [
             0.7777777777777778,
             "#fb9f3a"
            ],
            [
             0.8888888888888888,
             "#fdca26"
            ],
            [
             1,
             "#f0f921"
            ]
           ],
           "sequentialminus": [
            [
             0,
             "#0d0887"
            ],
            [
             0.1111111111111111,
             "#46039f"
            ],
            [
             0.2222222222222222,
             "#7201a8"
            ],
            [
             0.3333333333333333,
             "#9c179e"
            ],
            [
             0.4444444444444444,
             "#bd3786"
            ],
            [
             0.5555555555555556,
             "#d8576b"
            ],
            [
             0.6666666666666666,
             "#ed7953"
            ],
            [
             0.7777777777777778,
             "#fb9f3a"
            ],
            [
             0.8888888888888888,
             "#fdca26"
            ],
            [
             1,
             "#f0f921"
            ]
           ]
          },
          "colorway": [
           "#636efa",
           "#EF553B",
           "#00cc96",
           "#ab63fa",
           "#FFA15A",
           "#19d3f3",
           "#FF6692",
           "#B6E880",
           "#FF97FF",
           "#FECB52"
          ],
          "font": {
           "color": "#2a3f5f"
          },
          "geo": {
           "bgcolor": "white",
           "lakecolor": "white",
           "landcolor": "#E5ECF6",
           "showlakes": true,
           "showland": true,
           "subunitcolor": "white"
          },
          "hoverlabel": {
           "align": "left"
          },
          "hovermode": "closest",
          "mapbox": {
           "style": "light"
          },
          "paper_bgcolor": "white",
          "plot_bgcolor": "#E5ECF6",
          "polar": {
           "angularaxis": {
            "gridcolor": "white",
            "linecolor": "white",
            "ticks": ""
           },
           "bgcolor": "#E5ECF6",
           "radialaxis": {
            "gridcolor": "white",
            "linecolor": "white",
            "ticks": ""
           }
          },
          "scene": {
           "xaxis": {
            "backgroundcolor": "#E5ECF6",
            "gridcolor": "white",
            "gridwidth": 2,
            "linecolor": "white",
            "showbackground": true,
            "ticks": "",
            "zerolinecolor": "white"
           },
           "yaxis": {
            "backgroundcolor": "#E5ECF6",
            "gridcolor": "white",
            "gridwidth": 2,
            "linecolor": "white",
            "showbackground": true,
            "ticks": "",
            "zerolinecolor": "white"
           },
           "zaxis": {
            "backgroundcolor": "#E5ECF6",
            "gridcolor": "white",
            "gridwidth": 2,
            "linecolor": "white",
            "showbackground": true,
            "ticks": "",
            "zerolinecolor": "white"
           }
          },
          "shapedefaults": {
           "line": {
            "color": "#2a3f5f"
           }
          },
          "ternary": {
           "aaxis": {
            "gridcolor": "white",
            "linecolor": "white",
            "ticks": ""
           },
           "baxis": {
            "gridcolor": "white",
            "linecolor": "white",
            "ticks": ""
           },
           "bgcolor": "#E5ECF6",
           "caxis": {
            "gridcolor": "white",
            "linecolor": "white",
            "ticks": ""
           }
          },
          "title": {
           "x": 0.05
          },
          "xaxis": {
           "automargin": true,
           "gridcolor": "white",
           "linecolor": "white",
           "ticks": "",
           "title": {
            "standoff": 15
           },
           "zerolinecolor": "white",
           "zerolinewidth": 2
          },
          "yaxis": {
           "automargin": true,
           "gridcolor": "white",
           "linecolor": "white",
           "ticks": "",
           "title": {
            "standoff": 15
           },
           "zerolinecolor": "white",
           "zerolinewidth": 2
          }
         }
        },
        "width": 1100,
        "xaxis": {
         "anchor": "y",
         "domain": [
          0,
          1
         ],
         "dtick": 0.006,
         "range": [
          0.544,
          0.566
         ],
         "showticklabels": true,
         "tickfont": {
          "color": "white",
          "size": 26
         },
         "title": {
          "font": {
           "color": "white",
           "size": 24
          },
          "text": "MAE"
         }
        },
        "yaxis": {
         "anchor": "x",
         "domain": [
          0,
          1
         ],
         "showticklabels": true,
         "tickfont": {
          "color": "white",
          "size": 26
         },
         "title": {}
        }
       }
      }
     },
     "metadata": {},
     "output_type": "display_data"
    }
   ],
   "source": [
    "import plotly.express as px\n",
    "import pandas as pd\n",
    "\n",
    "colors = ['#86A0B1', '#FEE28F', '#FFB144', '#FFFFFF']\n",
    "\n",
    "fig = px.bar(df_metrics_8[::-1],\n",
    "             x='MAE',\n",
    "             y='Modelos',\n",
    "             color='RMSE', # add color parameter\n",
    "             orientation='h',\n",
    "             barmode='group',\n",
    "\n",
    "             height=500,\n",
    "             title=None)\n",
    "\n",
    "fig.update_traces(\n",
    "    marker_color=np.tile(colors, 4),\n",
    "    textfont=dict(size=16),\n",
    ")\n",
    "\n",
    "fig.update_xaxes(showticklabels=True, \n",
    "                 tickfont=dict(size=26, color='white'),\n",
    "                 title=\"MAE\",\n",
    "                 title_font=dict(size=24, color='white'),\n",
    "                 range=[0.544, 0.566],\n",
    "                 dtick=0.006)\n",
    "\n",
    "fig.update_yaxes(showticklabels=True,\n",
    "                 title=None,\n",
    "                 tickfont=dict(size=26, color='white'))\n",
    "\n",
    "\n",
    "# set the background color to transparent\n",
    "fig.update_layout(\n",
    "    width=1100,\n",
    "    height=900,\n",
    "    plot_bgcolor='rgba(0,0,0,0)',\n",
    "    paper_bgcolor='rgba(0,0,0,0)')\n",
    "\n",
    "\n",
    "fig.write_image(r'charts\\model_metrics_8_MAE.png')\n",
    "\n",
    "fig.show()"
   ]
  },
  {
   "attachments": {},
   "cell_type": "markdown",
   "metadata": {},
   "source": [
    "## Obtengo las columnas menos importantes a partir de Features Importance, Select KBest y RFE."
   ]
  },
  {
   "cell_type": "code",
   "execution_count": 136,
   "metadata": {},
   "outputs": [],
   "source": [
    "menos_importantes_Feat_Imp = ['aventuras', 'belico', 'ciencia ficcion', 'cine negro', 'fantastico', 'infantil', 'intriga', 'musical', 'romance', 'thriller', 'western']\n",
    "\n",
    "menos_importantes_Select_Kbest = ['ciencia ficcion', 'reparto_2', 'infantil', 'romance', 'belico', 'intriga', 'reparto_3', 'reparto_5', 'fantastico', 'aventuras', 'musical']\n",
    "\n",
    "menos_importantes_RFE = ['ciencia ficcion', 'aventuras', 'thriller', 'romance', 'intriga', 'cine negro', 'western', 'belico', 'fantastico', 'musical', 'infantil']"
   ]
  },
  {
   "attachments": {},
   "cell_type": "markdown",
   "metadata": {},
   "source": [
    "## Las elimino y mido la eficiencia de predicción del algoritmo:"
   ]
  },
  {
   "attachments": {},
   "cell_type": "markdown",
   "metadata": {},
   "source": [
    "### Features Importances"
   ]
  },
  {
   "cell_type": "code",
   "execution_count": 137,
   "metadata": {},
   "outputs": [
    {
     "name": "stdout",
     "output_type": "stream",
     "text": [
      "R2 (test): 57.5306 %\n",
      "MAE (test): 0.5718228867434932\n"
     ]
    }
   ],
   "source": [
    "import pandas as pd\n",
    "\n",
    "df = pd.read_csv(r\"..\\data\\processed\\peliculas_analisis_ML.csv\",index_col=0)\n",
    "\n",
    "X_001 = df.drop(\"puntuacion\", axis = 1)\n",
    "X_01 = X_001.drop(menos_importantes_Feat_Imp, axis = 1)\n",
    "y_01 = df['puntuacion']\n",
    "\n",
    "\n",
    "from sklearn.model_selection import train_test_split\n",
    "\n",
    "X_train_01, X_test_01, y_train_01, y_test_01 = train_test_split(X_01,\n",
    "                                                    y_01,\n",
    "                                                    test_size=0.15,\n",
    "                                                    random_state=42)\n",
    "\n",
    "\n",
    "from sklearn.preprocessing import StandardScaler\n",
    "scaler = StandardScaler()\n",
    "scaler.fit(X_train_01)\n",
    "\n",
    "X_train_01 = scaler.transform(X_train_01)\n",
    "X_test_01 = scaler.transform(X_test_01)\n",
    "\n",
    "\n",
    "from catboost import CatBoostRegressor\n",
    "\n",
    "seed = 42\n",
    "Features_Imp_model = CatBoostRegressor(random_state= seed, verbose = False, learning_rate= 0.1, max_depth= 8, n_estimators= 300) \n",
    "Features_Imp_model.fit(X_train_01, y_train_01)\n",
    "\n",
    "y_pred_Features_Imp_model = Features_Imp_model.predict(X_test_01)\n",
    "\n",
    "\n",
    "from sklearn.metrics import r2_score, mean_absolute_error\n",
    "\n",
    "R2_Features_Imp_model= r2_score(y_test_01, y_pred_Features_Imp_model)\n",
    "MAE_Features_Imp_model = mean_absolute_error(y_test_01, y_pred_Features_Imp_model)\n",
    "\n",
    "print(\"R2 (test):\", round(((R2_Features_Imp_model)*100),4),\"%\")\n",
    "print(\"MAE (test):\", MAE_Features_Imp_model)"
   ]
  },
  {
   "attachments": {},
   "cell_type": "markdown",
   "metadata": {},
   "source": [
    "### Select Kbest"
   ]
  },
  {
   "cell_type": "code",
   "execution_count": 138,
   "metadata": {},
   "outputs": [
    {
     "name": "stdout",
     "output_type": "stream",
     "text": [
      "R2 (test): 58.9166 %\n",
      "MAE (test): 0.5643279701654194\n"
     ]
    }
   ],
   "source": [
    "import pandas as pd\n",
    "\n",
    "df = pd.read_csv(r\"..\\data\\processed\\peliculas_analisis_ML.csv\",index_col=0)\n",
    "\n",
    "X_001 = df.drop(\"puntuacion\", axis = 1)\n",
    "X_01 = X_001.drop(menos_importantes_Select_Kbest, axis = 1)\n",
    "y_01 = df['puntuacion']\n",
    "\n",
    "from sklearn.model_selection import train_test_split\n",
    "\n",
    "X_train_01, X_test_01, y_train_01, y_test_01 = train_test_split(X_01,\n",
    "                                                    y_01,\n",
    "                                                    test_size=0.15,\n",
    "                                                    random_state=42)\n",
    "\n",
    "\n",
    "from sklearn.preprocessing import StandardScaler\n",
    "scaler = StandardScaler()\n",
    "scaler.fit(X_train_01)\n",
    "\n",
    "X_train_01 = scaler.transform(X_train_01)\n",
    "X_test_01 = scaler.transform(X_test_01)\n",
    "\n",
    "\n",
    "from catboost import CatBoostRegressor\n",
    "\n",
    "seed = 42\n",
    "Select_Kbest_model = CatBoostRegressor(random_state= seed, verbose = False, learning_rate= 0.1, max_depth= 8, n_estimators= 300) \n",
    "Select_Kbest_model.fit(X_train_01, y_train_01)\n",
    "\n",
    "y_pred_Select_Kbest_model = Select_Kbest_model.predict(X_test_01)\n",
    "\n",
    "\n",
    "from sklearn.metrics import r2_score, mean_absolute_error\n",
    "\n",
    "R2_Select_Kbest_model = r2_score(y_test_01, y_pred_Select_Kbest_model)\n",
    "MAE_Select_Kbest_model = mean_absolute_error(y_test_01, y_pred_Select_Kbest_model)\n",
    "\n",
    "print(\"R2 (test):\", round(((R2_Select_Kbest_model)*100),4),\"%\")\n",
    "print(\"MAE (test):\", MAE_Select_Kbest_model)"
   ]
  },
  {
   "attachments": {},
   "cell_type": "markdown",
   "metadata": {},
   "source": [
    "### Recursive Feature Elimination"
   ]
  },
  {
   "cell_type": "code",
   "execution_count": 139,
   "metadata": {},
   "outputs": [
    {
     "name": "stdout",
     "output_type": "stream",
     "text": [
      "R2 (test): 52.6548 %\n",
      "MAE (test): 0.6035923611547124\n"
     ]
    }
   ],
   "source": [
    "from catboost import CatBoostRegressor\n",
    "from sklearn.feature_selection import RFE # \"Recursive Feature Elimination\"\n",
    "\n",
    "df = pd.read_csv(r\"..\\data\\processed\\peliculas_analisis_ML.csv\",index_col=0)\n",
    "\n",
    "features_01 = df.drop(\"puntuacion\", axis = 1)\n",
    "features = features_01.drop(menos_importantes_RFE, axis = 1)\n",
    "target = df['puntuacion'] \n",
    "\n",
    "from sklearn.model_selection import train_test_split\n",
    "\n",
    "X_train, X_test, y_train, y_test = train_test_split(features,\n",
    "                                                    target,\n",
    "                                                    test_size=0.15,\n",
    "                                                    random_state=42)\n",
    "\n",
    "from sklearn.preprocessing import StandardScaler\n",
    "\n",
    "scaler = StandardScaler()\n",
    "scaler.fit(X_train)\n",
    "\n",
    "features_train = scaler.transform(X_train)\n",
    "features_test = scaler.transform(X_test)\n",
    "\n",
    "seed = 42\n",
    "\n",
    "RFE_model = CatBoostRegressor(random_state= seed, verbose = False, learning_rate= 0.1, max_depth= 8, n_estimators= 300) \n",
    "RFE_model.fit(features_train, y_train)\n",
    "\n",
    "# Crear un objeto RFE especificando el número de características a seleccionar\n",
    "rfe = RFE(RFE_model, n_features_to_select=5)\n",
    "\n",
    "# Ajustar el objeto RFE al conjunto de datos\n",
    "rfe.fit(X_train, y_train)\n",
    "\n",
    "y_pred_rfe_model = rfe.predict(X_test)\n",
    "\n",
    "from sklearn.metrics import r2_score, mean_absolute_error\n",
    "\n",
    "R2_rfe_model = r2_score(y_test, y_pred_rfe_model)\n",
    "MAE_rfe_model = mean_absolute_error(y_test, y_pred_rfe_model)\n",
    "\n",
    "print(\"R2 (test):\", round(((R2_rfe_model)*100),4),\"%\")\n",
    "print(\"MAE (test):\", MAE_rfe_model)"
   ]
  },
  {
   "attachments": {},
   "cell_type": "markdown",
   "metadata": {},
   "source": [
    "### Visualizo los grados de importancia según el método RFE"
   ]
  },
  {
   "cell_type": "code",
   "execution_count": 140,
   "metadata": {},
   "outputs": [
    {
     "data": {
      "text/html": [
       "<div>\n",
       "<style scoped>\n",
       "    .dataframe tbody tr th:only-of-type {\n",
       "        vertical-align: middle;\n",
       "    }\n",
       "\n",
       "    .dataframe tbody tr th {\n",
       "        vertical-align: top;\n",
       "    }\n",
       "\n",
       "    .dataframe thead th {\n",
       "        text-align: right;\n",
       "    }\n",
       "</style>\n",
       "<table border=\"1\" class=\"dataframe\">\n",
       "  <thead>\n",
       "    <tr style=\"text-align: right;\">\n",
       "      <th></th>\n",
       "      <th>Feature</th>\n",
       "      <th>Importance</th>\n",
       "    </tr>\n",
       "  </thead>\n",
       "  <tbody>\n",
       "    <tr>\n",
       "      <th>11</th>\n",
       "      <td>duracion</td>\n",
       "      <td>1</td>\n",
       "    </tr>\n",
       "    <tr>\n",
       "      <th>17</th>\n",
       "      <td>pais</td>\n",
       "      <td>1</td>\n",
       "    </tr>\n",
       "    <tr>\n",
       "      <th>2</th>\n",
       "      <td>director</td>\n",
       "      <td>2</td>\n",
       "    </tr>\n",
       "    <tr>\n",
       "      <th>6</th>\n",
       "      <td>reparto_1</td>\n",
       "      <td>3</td>\n",
       "    </tr>\n",
       "    <tr>\n",
       "      <th>7</th>\n",
       "      <td>reparto_2</td>\n",
       "      <td>4</td>\n",
       "    </tr>\n",
       "    <tr>\n",
       "      <th>3</th>\n",
       "      <td>guion</td>\n",
       "      <td>5</td>\n",
       "    </tr>\n",
       "    <tr>\n",
       "      <th>14</th>\n",
       "      <td>comedia</td>\n",
       "      <td>6</td>\n",
       "    </tr>\n",
       "    <tr>\n",
       "      <th>8</th>\n",
       "      <td>reparto_3</td>\n",
       "      <td>7</td>\n",
       "    </tr>\n",
       "    <tr>\n",
       "      <th>5</th>\n",
       "      <td>fotografia</td>\n",
       "      <td>8</td>\n",
       "    </tr>\n",
       "    <tr>\n",
       "      <th>9</th>\n",
       "      <td>reparto_4</td>\n",
       "      <td>9</td>\n",
       "    </tr>\n",
       "    <tr>\n",
       "      <th>4</th>\n",
       "      <td>musica</td>\n",
       "      <td>10</td>\n",
       "    </tr>\n",
       "    <tr>\n",
       "      <th>10</th>\n",
       "      <td>reparto_5</td>\n",
       "      <td>11</td>\n",
       "    </tr>\n",
       "    <tr>\n",
       "      <th>16</th>\n",
       "      <td>terror</td>\n",
       "      <td>12</td>\n",
       "    </tr>\n",
       "    <tr>\n",
       "      <th>1</th>\n",
       "      <td>razzie</td>\n",
       "      <td>13</td>\n",
       "    </tr>\n",
       "    <tr>\n",
       "      <th>13</th>\n",
       "      <td>accion</td>\n",
       "      <td>14</td>\n",
       "    </tr>\n",
       "  </tbody>\n",
       "</table>\n",
       "</div>"
      ],
      "text/plain": [
       "       Feature  Importance\n",
       "11    duracion           1\n",
       "17        pais           1\n",
       "2     director           2\n",
       "6    reparto_1           3\n",
       "7    reparto_2           4\n",
       "3        guion           5\n",
       "14     comedia           6\n",
       "8    reparto_3           7\n",
       "5   fotografia           8\n",
       "9    reparto_4           9\n",
       "4       musica          10\n",
       "10   reparto_5          11\n",
       "16      terror          12\n",
       "1       razzie          13\n",
       "13      accion          14"
      ]
     },
     "execution_count": 140,
     "metadata": {},
     "output_type": "execute_result"
    }
   ],
   "source": [
    "# obtener los coeficientes de importancia y crear una tabla ordenada\n",
    "importance_df = pd.DataFrame({'Feature': features.columns, 'Importance': rfe.ranking_})\n",
    "importance_df = importance_df.sort_values('Importance')\n",
    "importance_df.tail(15)"
   ]
  },
  {
   "cell_type": "code",
   "execution_count": 141,
   "metadata": {},
   "outputs": [],
   "source": [
    "# import types\n",
    "\n",
    "# pred_lista_feat_sel = []\n",
    "\n",
    "# # Obtener copia del espacio de nombres de usuario\n",
    "# user_ns = dict(get_ipython().user_ns)\n",
    "\n",
    "# # Obtener variables definidas en las celdas del notebook\n",
    "# notebook_vars = []\n",
    "# for var_name, var_value in user_ns.items():\n",
    "#     # Excluir variables internas del entorno y módulos importados\n",
    "#     if not var_name.startswith('_') and not isinstance(var_value, types.ModuleType) and var_name.startswith('y_pred'):\n",
    "#             notebook_vars.append(var_name)\n",
    "\n",
    "# for var in notebook_vars:\n",
    "#     if var not in pred_lista:\n",
    "#         pred_lista_feat_sel.append(var)"
   ]
  },
  {
   "cell_type": "code",
   "execution_count": 142,
   "metadata": {},
   "outputs": [],
   "source": [
    "pred_lista_02 = [y_pred_CatBoost_Model,y_pred_LGBM_Model, y_pred_SVM_CAT_LGBM, y_pred_CAT_LGBM_Model, y_pred_Bagging_Model, y_pred_Best_GridSearch_model, y_pred_Features_Imp_model, y_pred_Select_Kbest_model]\n",
    "models_lista_02 = ['CatBoost ','LGBM ','SVM_CAT_LGBM ','CAT_LGBM ','Bagging ','GridSearch ', 'Feat_Importance ', 'Select_KBest ']\n",
    "\n",
    "rmse_metric_02 = []\n",
    "mse_metric_02 = []\n",
    "r2_metric_02 = []\n",
    "mae_metric_02 = []\n",
    "\n",
    "def metrics(y_true, lista_pred):\n",
    "\n",
    "    from sklearn.metrics import mean_squared_error\n",
    "\n",
    "    for pred in lista_pred:\n",
    "        r2_metric_02.append(r2_score(y_true, pred))\n",
    "        mse_metric_02.append(mean_squared_error(y_true, pred, squared=True))\n",
    "        rmse_metric_02.append(mean_squared_error(y_true, pred, squared=False))\n",
    "        mae_metric_02.append(mean_absolute_error(y_true, pred))\n",
    "\n",
    "metrics(y_test, pred_lista_02)"
   ]
  },
  {
   "cell_type": "code",
   "execution_count": 143,
   "metadata": {},
   "outputs": [
    {
     "data": {
      "text/html": [
       "<div>\n",
       "<style scoped>\n",
       "    .dataframe tbody tr th:only-of-type {\n",
       "        vertical-align: middle;\n",
       "    }\n",
       "\n",
       "    .dataframe tbody tr th {\n",
       "        vertical-align: top;\n",
       "    }\n",
       "\n",
       "    .dataframe thead th {\n",
       "        text-align: right;\n",
       "    }\n",
       "</style>\n",
       "<table border=\"1\" class=\"dataframe\">\n",
       "  <thead>\n",
       "    <tr style=\"text-align: right;\">\n",
       "      <th></th>\n",
       "      <th>Modelos</th>\n",
       "      <th>RMSE</th>\n",
       "      <th>MSE</th>\n",
       "      <th>R2_SCORE</th>\n",
       "      <th>MAE</th>\n",
       "    </tr>\n",
       "  </thead>\n",
       "  <tbody>\n",
       "    <tr>\n",
       "      <th>0</th>\n",
       "      <td>Select_KBest</td>\n",
       "      <td>0.715070</td>\n",
       "      <td>0.511325</td>\n",
       "      <td>0.589166</td>\n",
       "      <td>0.564328</td>\n",
       "    </tr>\n",
       "    <tr>\n",
       "      <th>1</th>\n",
       "      <td>CAT_LGBM</td>\n",
       "      <td>0.715679</td>\n",
       "      <td>0.512196</td>\n",
       "      <td>0.588466</td>\n",
       "      <td>0.563434</td>\n",
       "    </tr>\n",
       "    <tr>\n",
       "      <th>2</th>\n",
       "      <td>LGBM</td>\n",
       "      <td>0.717513</td>\n",
       "      <td>0.514825</td>\n",
       "      <td>0.586354</td>\n",
       "      <td>0.567904</td>\n",
       "    </tr>\n",
       "    <tr>\n",
       "      <th>3</th>\n",
       "      <td>Bagging</td>\n",
       "      <td>0.718669</td>\n",
       "      <td>0.516485</td>\n",
       "      <td>0.585020</td>\n",
       "      <td>0.565011</td>\n",
       "    </tr>\n",
       "    <tr>\n",
       "      <th>4</th>\n",
       "      <td>CatBoost</td>\n",
       "      <td>0.721002</td>\n",
       "      <td>0.519844</td>\n",
       "      <td>0.582321</td>\n",
       "      <td>0.564435</td>\n",
       "    </tr>\n",
       "  </tbody>\n",
       "</table>\n",
       "</div>"
      ],
      "text/plain": [
       "         Modelos      RMSE       MSE  R2_SCORE       MAE\n",
       "0  Select_KBest   0.715070  0.511325  0.589166  0.564328\n",
       "1      CAT_LGBM   0.715679  0.512196  0.588466  0.563434\n",
       "2          LGBM   0.717513  0.514825  0.586354  0.567904\n",
       "3       Bagging   0.718669  0.516485  0.585020  0.565011\n",
       "4      CatBoost   0.721002  0.519844  0.582321  0.564435"
      ]
     },
     "execution_count": 143,
     "metadata": {},
     "output_type": "execute_result"
    }
   ],
   "source": [
    "df_metrics_sel_feat = pd.DataFrame({'RMSE': rmse_metric_02, 'MSE': mse_metric_02, 'R2_SCORE': r2_metric_02, 'MAE': mae_metric_02}, index=models_lista_02)\n",
    "df_metrics_sel_feat = df_metrics_sel_feat.sort_values('RMSE', ascending=True).reset_index().iloc[:-3,:]\n",
    "df_metrics_sel_feat.rename(columns = {\"index\":\"Modelos\"}, inplace =True)\n",
    "df_metrics_sel_feat"
   ]
  },
  {
   "cell_type": "code",
   "execution_count": 144,
   "metadata": {},
   "outputs": [
    {
     "data": {
      "application/vnd.plotly.v1+json": {
       "config": {
        "plotlyServerURL": "https://plot.ly"
       },
       "data": [
        {
         "alignmentgroup": "True",
         "hovertemplate": "RMSE=%{marker.color}<br>Modelos=%{y}<extra></extra>",
         "legendgroup": "",
         "marker": {
          "color": [
           "#86A0B1",
           "#FEE28F",
           "#FFB144",
           "#FFFFFF",
           "#86A0B1",
           "#FEE28F",
           "#FFB144",
           "#FFFFFF",
           "#86A0B1",
           "#FEE28F",
           "#FFB144",
           "#FFFFFF",
           "#86A0B1",
           "#FEE28F",
           "#FFB144",
           "#FFFFFF"
          ],
          "coloraxis": "coloraxis",
          "pattern": {
           "shape": ""
          }
         },
         "name": "",
         "offsetgroup": "",
         "orientation": "h",
         "showlegend": false,
         "textfont": {
          "size": 16
         },
         "textposition": "auto",
         "type": "bar",
         "x": [
          0.721002119204576,
          0.718668902259556,
          0.7175130086499366,
          0.7156785296897898,
          0.7150699519570395
         ],
         "xaxis": "x",
         "y": [
          "CatBoost ",
          "Bagging ",
          "LGBM ",
          "CAT_LGBM ",
          "Select_KBest "
         ],
         "yaxis": "y"
        }
       ],
       "layout": {
        "barmode": "group",
        "coloraxis": {
         "colorbar": {
          "title": {
           "text": "RMSE"
          }
         },
         "colorscale": [
          [
           0,
           "#0d0887"
          ],
          [
           0.1111111111111111,
           "#46039f"
          ],
          [
           0.2222222222222222,
           "#7201a8"
          ],
          [
           0.3333333333333333,
           "#9c179e"
          ],
          [
           0.4444444444444444,
           "#bd3786"
          ],
          [
           0.5555555555555556,
           "#d8576b"
          ],
          [
           0.6666666666666666,
           "#ed7953"
          ],
          [
           0.7777777777777778,
           "#fb9f3a"
          ],
          [
           0.8888888888888888,
           "#fdca26"
          ],
          [
           1,
           "#f0f921"
          ]
         ]
        },
        "height": 900,
        "legend": {
         "tracegroupgap": 0
        },
        "margin": {
         "t": 60
        },
        "paper_bgcolor": "rgba(0,0,0,0)",
        "plot_bgcolor": "rgba(0,0,0,0)",
        "template": {
         "data": {
          "bar": [
           {
            "error_x": {
             "color": "#2a3f5f"
            },
            "error_y": {
             "color": "#2a3f5f"
            },
            "marker": {
             "line": {
              "color": "#E5ECF6",
              "width": 0.5
             },
             "pattern": {
              "fillmode": "overlay",
              "size": 10,
              "solidity": 0.2
             }
            },
            "type": "bar"
           }
          ],
          "barpolar": [
           {
            "marker": {
             "line": {
              "color": "#E5ECF6",
              "width": 0.5
             },
             "pattern": {
              "fillmode": "overlay",
              "size": 10,
              "solidity": 0.2
             }
            },
            "type": "barpolar"
           }
          ],
          "carpet": [
           {
            "aaxis": {
             "endlinecolor": "#2a3f5f",
             "gridcolor": "white",
             "linecolor": "white",
             "minorgridcolor": "white",
             "startlinecolor": "#2a3f5f"
            },
            "baxis": {
             "endlinecolor": "#2a3f5f",
             "gridcolor": "white",
             "linecolor": "white",
             "minorgridcolor": "white",
             "startlinecolor": "#2a3f5f"
            },
            "type": "carpet"
           }
          ],
          "choropleth": [
           {
            "colorbar": {
             "outlinewidth": 0,
             "ticks": ""
            },
            "type": "choropleth"
           }
          ],
          "contour": [
           {
            "colorbar": {
             "outlinewidth": 0,
             "ticks": ""
            },
            "colorscale": [
             [
              0,
              "#0d0887"
             ],
             [
              0.1111111111111111,
              "#46039f"
             ],
             [
              0.2222222222222222,
              "#7201a8"
             ],
             [
              0.3333333333333333,
              "#9c179e"
             ],
             [
              0.4444444444444444,
              "#bd3786"
             ],
             [
              0.5555555555555556,
              "#d8576b"
             ],
             [
              0.6666666666666666,
              "#ed7953"
             ],
             [
              0.7777777777777778,
              "#fb9f3a"
             ],
             [
              0.8888888888888888,
              "#fdca26"
             ],
             [
              1,
              "#f0f921"
             ]
            ],
            "type": "contour"
           }
          ],
          "contourcarpet": [
           {
            "colorbar": {
             "outlinewidth": 0,
             "ticks": ""
            },
            "type": "contourcarpet"
           }
          ],
          "heatmap": [
           {
            "colorbar": {
             "outlinewidth": 0,
             "ticks": ""
            },
            "colorscale": [
             [
              0,
              "#0d0887"
             ],
             [
              0.1111111111111111,
              "#46039f"
             ],
             [
              0.2222222222222222,
              "#7201a8"
             ],
             [
              0.3333333333333333,
              "#9c179e"
             ],
             [
              0.4444444444444444,
              "#bd3786"
             ],
             [
              0.5555555555555556,
              "#d8576b"
             ],
             [
              0.6666666666666666,
              "#ed7953"
             ],
             [
              0.7777777777777778,
              "#fb9f3a"
             ],
             [
              0.8888888888888888,
              "#fdca26"
             ],
             [
              1,
              "#f0f921"
             ]
            ],
            "type": "heatmap"
           }
          ],
          "heatmapgl": [
           {
            "colorbar": {
             "outlinewidth": 0,
             "ticks": ""
            },
            "colorscale": [
             [
              0,
              "#0d0887"
             ],
             [
              0.1111111111111111,
              "#46039f"
             ],
             [
              0.2222222222222222,
              "#7201a8"
             ],
             [
              0.3333333333333333,
              "#9c179e"
             ],
             [
              0.4444444444444444,
              "#bd3786"
             ],
             [
              0.5555555555555556,
              "#d8576b"
             ],
             [
              0.6666666666666666,
              "#ed7953"
             ],
             [
              0.7777777777777778,
              "#fb9f3a"
             ],
             [
              0.8888888888888888,
              "#fdca26"
             ],
             [
              1,
              "#f0f921"
             ]
            ],
            "type": "heatmapgl"
           }
          ],
          "histogram": [
           {
            "marker": {
             "pattern": {
              "fillmode": "overlay",
              "size": 10,
              "solidity": 0.2
             }
            },
            "type": "histogram"
           }
          ],
          "histogram2d": [
           {
            "colorbar": {
             "outlinewidth": 0,
             "ticks": ""
            },
            "colorscale": [
             [
              0,
              "#0d0887"
             ],
             [
              0.1111111111111111,
              "#46039f"
             ],
             [
              0.2222222222222222,
              "#7201a8"
             ],
             [
              0.3333333333333333,
              "#9c179e"
             ],
             [
              0.4444444444444444,
              "#bd3786"
             ],
             [
              0.5555555555555556,
              "#d8576b"
             ],
             [
              0.6666666666666666,
              "#ed7953"
             ],
             [
              0.7777777777777778,
              "#fb9f3a"
             ],
             [
              0.8888888888888888,
              "#fdca26"
             ],
             [
              1,
              "#f0f921"
             ]
            ],
            "type": "histogram2d"
           }
          ],
          "histogram2dcontour": [
           {
            "colorbar": {
             "outlinewidth": 0,
             "ticks": ""
            },
            "colorscale": [
             [
              0,
              "#0d0887"
             ],
             [
              0.1111111111111111,
              "#46039f"
             ],
             [
              0.2222222222222222,
              "#7201a8"
             ],
             [
              0.3333333333333333,
              "#9c179e"
             ],
             [
              0.4444444444444444,
              "#bd3786"
             ],
             [
              0.5555555555555556,
              "#d8576b"
             ],
             [
              0.6666666666666666,
              "#ed7953"
             ],
             [
              0.7777777777777778,
              "#fb9f3a"
             ],
             [
              0.8888888888888888,
              "#fdca26"
             ],
             [
              1,
              "#f0f921"
             ]
            ],
            "type": "histogram2dcontour"
           }
          ],
          "mesh3d": [
           {
            "colorbar": {
             "outlinewidth": 0,
             "ticks": ""
            },
            "type": "mesh3d"
           }
          ],
          "parcoords": [
           {
            "line": {
             "colorbar": {
              "outlinewidth": 0,
              "ticks": ""
             }
            },
            "type": "parcoords"
           }
          ],
          "pie": [
           {
            "automargin": true,
            "type": "pie"
           }
          ],
          "scatter": [
           {
            "fillpattern": {
             "fillmode": "overlay",
             "size": 10,
             "solidity": 0.2
            },
            "type": "scatter"
           }
          ],
          "scatter3d": [
           {
            "line": {
             "colorbar": {
              "outlinewidth": 0,
              "ticks": ""
             }
            },
            "marker": {
             "colorbar": {
              "outlinewidth": 0,
              "ticks": ""
             }
            },
            "type": "scatter3d"
           }
          ],
          "scattercarpet": [
           {
            "marker": {
             "colorbar": {
              "outlinewidth": 0,
              "ticks": ""
             }
            },
            "type": "scattercarpet"
           }
          ],
          "scattergeo": [
           {
            "marker": {
             "colorbar": {
              "outlinewidth": 0,
              "ticks": ""
             }
            },
            "type": "scattergeo"
           }
          ],
          "scattergl": [
           {
            "marker": {
             "colorbar": {
              "outlinewidth": 0,
              "ticks": ""
             }
            },
            "type": "scattergl"
           }
          ],
          "scattermapbox": [
           {
            "marker": {
             "colorbar": {
              "outlinewidth": 0,
              "ticks": ""
             }
            },
            "type": "scattermapbox"
           }
          ],
          "scatterpolar": [
           {
            "marker": {
             "colorbar": {
              "outlinewidth": 0,
              "ticks": ""
             }
            },
            "type": "scatterpolar"
           }
          ],
          "scatterpolargl": [
           {
            "marker": {
             "colorbar": {
              "outlinewidth": 0,
              "ticks": ""
             }
            },
            "type": "scatterpolargl"
           }
          ],
          "scatterternary": [
           {
            "marker": {
             "colorbar": {
              "outlinewidth": 0,
              "ticks": ""
             }
            },
            "type": "scatterternary"
           }
          ],
          "surface": [
           {
            "colorbar": {
             "outlinewidth": 0,
             "ticks": ""
            },
            "colorscale": [
             [
              0,
              "#0d0887"
             ],
             [
              0.1111111111111111,
              "#46039f"
             ],
             [
              0.2222222222222222,
              "#7201a8"
             ],
             [
              0.3333333333333333,
              "#9c179e"
             ],
             [
              0.4444444444444444,
              "#bd3786"
             ],
             [
              0.5555555555555556,
              "#d8576b"
             ],
             [
              0.6666666666666666,
              "#ed7953"
             ],
             [
              0.7777777777777778,
              "#fb9f3a"
             ],
             [
              0.8888888888888888,
              "#fdca26"
             ],
             [
              1,
              "#f0f921"
             ]
            ],
            "type": "surface"
           }
          ],
          "table": [
           {
            "cells": {
             "fill": {
              "color": "#EBF0F8"
             },
             "line": {
              "color": "white"
             }
            },
            "header": {
             "fill": {
              "color": "#C8D4E3"
             },
             "line": {
              "color": "white"
             }
            },
            "type": "table"
           }
          ]
         },
         "layout": {
          "annotationdefaults": {
           "arrowcolor": "#2a3f5f",
           "arrowhead": 0,
           "arrowwidth": 1
          },
          "autotypenumbers": "strict",
          "coloraxis": {
           "colorbar": {
            "outlinewidth": 0,
            "ticks": ""
           }
          },
          "colorscale": {
           "diverging": [
            [
             0,
             "#8e0152"
            ],
            [
             0.1,
             "#c51b7d"
            ],
            [
             0.2,
             "#de77ae"
            ],
            [
             0.3,
             "#f1b6da"
            ],
            [
             0.4,
             "#fde0ef"
            ],
            [
             0.5,
             "#f7f7f7"
            ],
            [
             0.6,
             "#e6f5d0"
            ],
            [
             0.7,
             "#b8e186"
            ],
            [
             0.8,
             "#7fbc41"
            ],
            [
             0.9,
             "#4d9221"
            ],
            [
             1,
             "#276419"
            ]
           ],
           "sequential": [
            [
             0,
             "#0d0887"
            ],
            [
             0.1111111111111111,
             "#46039f"
            ],
            [
             0.2222222222222222,
             "#7201a8"
            ],
            [
             0.3333333333333333,
             "#9c179e"
            ],
            [
             0.4444444444444444,
             "#bd3786"
            ],
            [
             0.5555555555555556,
             "#d8576b"
            ],
            [
             0.6666666666666666,
             "#ed7953"
            ],
            [
             0.7777777777777778,
             "#fb9f3a"
            ],
            [
             0.8888888888888888,
             "#fdca26"
            ],
            [
             1,
             "#f0f921"
            ]
           ],
           "sequentialminus": [
            [
             0,
             "#0d0887"
            ],
            [
             0.1111111111111111,
             "#46039f"
            ],
            [
             0.2222222222222222,
             "#7201a8"
            ],
            [
             0.3333333333333333,
             "#9c179e"
            ],
            [
             0.4444444444444444,
             "#bd3786"
            ],
            [
             0.5555555555555556,
             "#d8576b"
            ],
            [
             0.6666666666666666,
             "#ed7953"
            ],
            [
             0.7777777777777778,
             "#fb9f3a"
            ],
            [
             0.8888888888888888,
             "#fdca26"
            ],
            [
             1,
             "#f0f921"
            ]
           ]
          },
          "colorway": [
           "#636efa",
           "#EF553B",
           "#00cc96",
           "#ab63fa",
           "#FFA15A",
           "#19d3f3",
           "#FF6692",
           "#B6E880",
           "#FF97FF",
           "#FECB52"
          ],
          "font": {
           "color": "#2a3f5f"
          },
          "geo": {
           "bgcolor": "white",
           "lakecolor": "white",
           "landcolor": "#E5ECF6",
           "showlakes": true,
           "showland": true,
           "subunitcolor": "white"
          },
          "hoverlabel": {
           "align": "left"
          },
          "hovermode": "closest",
          "mapbox": {
           "style": "light"
          },
          "paper_bgcolor": "white",
          "plot_bgcolor": "#E5ECF6",
          "polar": {
           "angularaxis": {
            "gridcolor": "white",
            "linecolor": "white",
            "ticks": ""
           },
           "bgcolor": "#E5ECF6",
           "radialaxis": {
            "gridcolor": "white",
            "linecolor": "white",
            "ticks": ""
           }
          },
          "scene": {
           "xaxis": {
            "backgroundcolor": "#E5ECF6",
            "gridcolor": "white",
            "gridwidth": 2,
            "linecolor": "white",
            "showbackground": true,
            "ticks": "",
            "zerolinecolor": "white"
           },
           "yaxis": {
            "backgroundcolor": "#E5ECF6",
            "gridcolor": "white",
            "gridwidth": 2,
            "linecolor": "white",
            "showbackground": true,
            "ticks": "",
            "zerolinecolor": "white"
           },
           "zaxis": {
            "backgroundcolor": "#E5ECF6",
            "gridcolor": "white",
            "gridwidth": 2,
            "linecolor": "white",
            "showbackground": true,
            "ticks": "",
            "zerolinecolor": "white"
           }
          },
          "shapedefaults": {
           "line": {
            "color": "#2a3f5f"
           }
          },
          "ternary": {
           "aaxis": {
            "gridcolor": "white",
            "linecolor": "white",
            "ticks": ""
           },
           "baxis": {
            "gridcolor": "white",
            "linecolor": "white",
            "ticks": ""
           },
           "bgcolor": "#E5ECF6",
           "caxis": {
            "gridcolor": "white",
            "linecolor": "white",
            "ticks": ""
           }
          },
          "title": {
           "x": 0.05
          },
          "xaxis": {
           "automargin": true,
           "gridcolor": "white",
           "linecolor": "white",
           "ticks": "",
           "title": {
            "standoff": 15
           },
           "zerolinecolor": "white",
           "zerolinewidth": 2
          },
          "yaxis": {
           "automargin": true,
           "gridcolor": "white",
           "linecolor": "white",
           "ticks": "",
           "title": {
            "standoff": 15
           },
           "zerolinecolor": "white",
           "zerolinewidth": 2
          }
         }
        },
        "width": 1200,
        "xaxis": {
         "anchor": "y",
         "domain": [
          0,
          1
         ],
         "dtick": 0.006,
         "range": [
          0.71,
          0.722
         ],
         "showticklabels": true,
         "tickfont": {
          "color": "white",
          "size": 28
         },
         "title": {
          "font": {
           "color": "white",
           "size": 26
          },
          "text": "RMSE"
         }
        },
        "yaxis": {
         "anchor": "x",
         "domain": [
          0,
          1
         ],
         "showticklabels": true,
         "tickfont": {
          "color": "white",
          "size": 32
         },
         "title": {}
        }
       }
      }
     },
     "metadata": {},
     "output_type": "display_data"
    }
   ],
   "source": [
    "import plotly.express as px\n",
    "import pandas as pd\n",
    "\n",
    "colors = ['#86A0B1', '#FEE28F', '#FFB144', '#FFFFFF']\n",
    "\n",
    "fig = px.bar(df_metrics_sel_feat[::-1],\n",
    "             x='RMSE',\n",
    "             y='Modelos',\n",
    "             color='RMSE', # add color parameter\n",
    "             orientation='h',\n",
    "             barmode='group',\n",
    "             height=500,\n",
    "             title=None)\n",
    "\n",
    "fig.update_traces(\n",
    "    marker_color=np.tile(colors, 4),\n",
    "    textfont=dict(size=16),\n",
    ")\n",
    "\n",
    "fig.update_xaxes(showticklabels=True, \n",
    "                 tickfont=dict(size=28, color='white'),\n",
    "                 title=\"RMSE\",\n",
    "                 title_font=dict(size=26, color='white'),\n",
    "                 range=[0.71, 0.722],\n",
    "                 dtick=0.006)\n",
    "\n",
    "fig.update_yaxes(showticklabels=True,\n",
    "                 title=None,\n",
    "                 tickfont=dict(size=32, color='white'))\n",
    "\n",
    "\n",
    "# set the background color to transparent\n",
    "fig.update_layout(\n",
    "    width=1200,\n",
    "    height=900,\n",
    "    plot_bgcolor='rgba(0,0,0,0)',\n",
    "    paper_bgcolor='rgba(0,0,0,0)')\n",
    "\n",
    "\n",
    "fig.write_image(r'charts\\model_metrics_feature_selection_RMSE.png')\n",
    "\n",
    "fig.show()"
   ]
  },
  {
   "attachments": {},
   "cell_type": "markdown",
   "metadata": {},
   "source": [
    "### Comparo las predicciones con los registros de y_test para ver en que registros se está fallando más"
   ]
  },
  {
   "cell_type": "code",
   "execution_count": 145,
   "metadata": {},
   "outputs": [],
   "source": [
    "predicciones = pd.DataFrame(y_pred_Bagging_Model)\n",
    "predicciones.rename(columns={0:\"pred_puntuacion\"}, inplace =True)\n",
    "\n",
    "notas_test = pd.DataFrame(y_test).reset_index().iloc[:,1:]"
   ]
  },
  {
   "cell_type": "code",
   "execution_count": 146,
   "metadata": {},
   "outputs": [
    {
     "data": {
      "text/html": [
       "<div>\n",
       "<style scoped>\n",
       "    .dataframe tbody tr th:only-of-type {\n",
       "        vertical-align: middle;\n",
       "    }\n",
       "\n",
       "    .dataframe tbody tr th {\n",
       "        vertical-align: top;\n",
       "    }\n",
       "\n",
       "    .dataframe thead th {\n",
       "        text-align: right;\n",
       "    }\n",
       "</style>\n",
       "<table border=\"1\" class=\"dataframe\">\n",
       "  <thead>\n",
       "    <tr style=\"text-align: right;\">\n",
       "      <th></th>\n",
       "      <th>puntuacion</th>\n",
       "      <th>predicciones</th>\n",
       "      <th>error</th>\n",
       "    </tr>\n",
       "  </thead>\n",
       "  <tbody>\n",
       "    <tr>\n",
       "      <th>0</th>\n",
       "      <td>6.8</td>\n",
       "      <td>6.067</td>\n",
       "      <td>-0.733</td>\n",
       "    </tr>\n",
       "    <tr>\n",
       "      <th>1</th>\n",
       "      <td>3.8</td>\n",
       "      <td>5.227</td>\n",
       "      <td>1.427</td>\n",
       "    </tr>\n",
       "    <tr>\n",
       "      <th>2</th>\n",
       "      <td>6.3</td>\n",
       "      <td>6.639</td>\n",
       "      <td>0.339</td>\n",
       "    </tr>\n",
       "    <tr>\n",
       "      <th>3</th>\n",
       "      <td>7.1</td>\n",
       "      <td>6.624</td>\n",
       "      <td>-0.476</td>\n",
       "    </tr>\n",
       "    <tr>\n",
       "      <th>4</th>\n",
       "      <td>5.5</td>\n",
       "      <td>5.518</td>\n",
       "      <td>0.018</td>\n",
       "    </tr>\n",
       "    <tr>\n",
       "      <th>...</th>\n",
       "      <td>...</td>\n",
       "      <td>...</td>\n",
       "      <td>...</td>\n",
       "    </tr>\n",
       "    <tr>\n",
       "      <th>1515</th>\n",
       "      <td>6.9</td>\n",
       "      <td>6.709</td>\n",
       "      <td>-0.191</td>\n",
       "    </tr>\n",
       "    <tr>\n",
       "      <th>1516</th>\n",
       "      <td>5.1</td>\n",
       "      <td>5.542</td>\n",
       "      <td>0.442</td>\n",
       "    </tr>\n",
       "    <tr>\n",
       "      <th>1517</th>\n",
       "      <td>5.1</td>\n",
       "      <td>4.719</td>\n",
       "      <td>-0.381</td>\n",
       "    </tr>\n",
       "    <tr>\n",
       "      <th>1518</th>\n",
       "      <td>4.5</td>\n",
       "      <td>4.581</td>\n",
       "      <td>0.081</td>\n",
       "    </tr>\n",
       "    <tr>\n",
       "      <th>1519</th>\n",
       "      <td>5.1</td>\n",
       "      <td>5.403</td>\n",
       "      <td>0.303</td>\n",
       "    </tr>\n",
       "  </tbody>\n",
       "</table>\n",
       "<p>1520 rows × 3 columns</p>\n",
       "</div>"
      ],
      "text/plain": [
       "      puntuacion  predicciones  error\n",
       "0            6.8         6.067 -0.733\n",
       "1            3.8         5.227  1.427\n",
       "2            6.3         6.639  0.339\n",
       "3            7.1         6.624 -0.476\n",
       "4            5.5         5.518  0.018\n",
       "...          ...           ...    ...\n",
       "1515         6.9         6.709 -0.191\n",
       "1516         5.1         5.542  0.442\n",
       "1517         5.1         4.719 -0.381\n",
       "1518         4.5         4.581  0.081\n",
       "1519         5.1         5.403  0.303\n",
       "\n",
       "[1520 rows x 3 columns]"
      ]
     },
     "execution_count": 146,
     "metadata": {},
     "output_type": "execute_result"
    }
   ],
   "source": [
    "notas_test[\"predicciones\"] = (predicciones[\"pred_puntuacion\"].apply(lambda x: round((x),3)))\n",
    "notas_test[\"error\"] = round((notas_test[\"predicciones\"] - notas_test[\"puntuacion\"]),3)\n",
    "notas_test"
   ]
  },
  {
   "attachments": {},
   "cell_type": "markdown",
   "metadata": {},
   "source": [
    "### Compruebo las máximas y mínimas diferencias sobre el error"
   ]
  },
  {
   "cell_type": "code",
   "execution_count": 147,
   "metadata": {},
   "outputs": [
    {
     "data": {
      "text/plain": [
       "(2.248, -2.445)"
      ]
     },
     "execution_count": 147,
     "metadata": {},
     "output_type": "execute_result"
    }
   ],
   "source": [
    "notas_test[\"error\"].max(),notas_test[\"error\"].min()"
   ]
  },
  {
   "cell_type": "code",
   "execution_count": 148,
   "metadata": {},
   "outputs": [
    {
     "data": {
      "text/plain": [
       "(8.9, 3.7)"
      ]
     },
     "execution_count": 148,
     "metadata": {},
     "output_type": "execute_result"
    }
   ],
   "source": [
    "notas_test[\"puntuacion\"].max(),notas_test[\"puntuacion\"].min()"
   ]
  },
  {
   "attachments": {},
   "cell_type": "markdown",
   "metadata": {},
   "source": [
    "### Reviso los errores máximos en que rango de notas se cometen poara tomar acciones en cuanto a la elección del modelo (modelos que no penalicen tanto los errtores en los valores extremos), optimización del modelo (ajustar hiperparámetros que favorezcan estas desigualdades) o métrica en la que fijarse (métrica que me indique si el modelo comete errores \"groseros\")"
   ]
  },
  {
   "cell_type": "code",
   "execution_count": 149,
   "metadata": {},
   "outputs": [
    {
     "data": {
      "text/plain": [
       "puntuacion\n",
       "6.5    1\n",
       "6.6    1\n",
       "6.7    1\n",
       "7.4    1\n",
       "7.9    1\n",
       "Name: error, dtype: int64"
      ]
     },
     "execution_count": 149,
     "metadata": {},
     "output_type": "execute_result"
    }
   ],
   "source": [
    "notas_test[notas_test[\"error\"] < - 2].groupby(\"puntuacion\")[\"error\"].count().sort_values(ascending=False)"
   ]
  },
  {
   "cell_type": "code",
   "execution_count": 150,
   "metadata": {},
   "outputs": [
    {
     "data": {
      "text/plain": [
       "puntuacion\n",
       "4.1    2\n",
       "4.3    2\n",
       "4.4    1\n",
       "4.5    1\n",
       "Name: error, dtype: int64"
      ]
     },
     "execution_count": 150,
     "metadata": {},
     "output_type": "execute_result"
    }
   ],
   "source": [
    "notas_test[notas_test[\"error\"] > 2].groupby(\"puntuacion\")[\"error\"].count().sort_values(ascending=False)"
   ]
  }
 ],
 "metadata": {
  "kernelspec": {
   "display_name": "Python 3.7.11 ('basic_ds')",
   "language": "python",
   "name": "python3"
  },
  "language_info": {
   "codemirror_mode": {
    "name": "ipython",
    "version": 3
   },
   "file_extension": ".py",
   "mimetype": "text/x-python",
   "name": "python",
   "nbconvert_exporter": "python",
   "pygments_lexer": "ipython3",
   "version": "3.9.16"
  },
  "orig_nbformat": 4,
  "vscode": {
   "interpreter": {
    "hash": "70dd3549dabd1ce49e5001f72f872ceffdb9455a9d169ec133c29fbc27295603"
   }
  }
 },
 "nbformat": 4,
 "nbformat_minor": 2
}
