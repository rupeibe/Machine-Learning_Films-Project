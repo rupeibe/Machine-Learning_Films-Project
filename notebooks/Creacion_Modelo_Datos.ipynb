{
 "cells": [
  {
   "attachments": {},
   "cell_type": "markdown",
   "metadata": {},
   "source": [
    "# A partir de un problema de regresión voy a tratar de encontrar el modelo que mas eficacia tenga a la hora de predecir la puntuación de las películas"
   ]
  },
  {
   "cell_type": "code",
   "execution_count": 1,
   "metadata": {},
   "outputs": [],
   "source": [
    "import pandas as pd\n",
    "import numpy as np\n",
    "\n",
    "import seaborn as sns\n",
    "import matplotlib.pyplot as plt\n",
    "\n",
    "import warnings\n",
    "warnings.filterwarnings('ignore')"
   ]
  },
  {
   "attachments": {},
   "cell_type": "markdown",
   "metadata": {},
   "source": [
    "## Cargo los datos"
   ]
  },
  {
   "cell_type": "code",
   "execution_count": 3,
   "metadata": {},
   "outputs": [
    {
     "data": {
      "text/html": [
       "<div>\n",
       "<style scoped>\n",
       "    .dataframe tbody tr th:only-of-type {\n",
       "        vertical-align: middle;\n",
       "    }\n",
       "\n",
       "    .dataframe tbody tr th {\n",
       "        vertical-align: top;\n",
       "    }\n",
       "\n",
       "    .dataframe thead th {\n",
       "        text-align: right;\n",
       "    }\n",
       "</style>\n",
       "<table border=\"1\" class=\"dataframe\">\n",
       "  <thead>\n",
       "    <tr style=\"text-align: right;\">\n",
       "      <th></th>\n",
       "      <th>puntuacion</th>\n",
       "      <th>total_premios</th>\n",
       "      <th>razzie</th>\n",
       "      <th>director</th>\n",
       "      <th>guion</th>\n",
       "      <th>musica</th>\n",
       "      <th>fotografia</th>\n",
       "      <th>reparto_1</th>\n",
       "      <th>reparto_2</th>\n",
       "      <th>reparto_3</th>\n",
       "      <th>...</th>\n",
       "      <th>drama</th>\n",
       "      <th>fantastico</th>\n",
       "      <th>infantil</th>\n",
       "      <th>intriga</th>\n",
       "      <th>musical</th>\n",
       "      <th>romance</th>\n",
       "      <th>terror</th>\n",
       "      <th>thriller</th>\n",
       "      <th>western</th>\n",
       "      <th>pais</th>\n",
       "    </tr>\n",
       "  </thead>\n",
       "  <tbody>\n",
       "    <tr>\n",
       "      <th>0</th>\n",
       "      <td>6.7</td>\n",
       "      <td>0</td>\n",
       "      <td>0</td>\n",
       "      <td>4</td>\n",
       "      <td>0</td>\n",
       "      <td>0</td>\n",
       "      <td>0</td>\n",
       "      <td>5</td>\n",
       "      <td>1</td>\n",
       "      <td>0</td>\n",
       "      <td>...</td>\n",
       "      <td>1</td>\n",
       "      <td>0</td>\n",
       "      <td>0</td>\n",
       "      <td>0</td>\n",
       "      <td>0</td>\n",
       "      <td>0</td>\n",
       "      <td>0</td>\n",
       "      <td>0</td>\n",
       "      <td>0</td>\n",
       "      <td>5178</td>\n",
       "    </tr>\n",
       "    <tr>\n",
       "      <th>1</th>\n",
       "      <td>7.2</td>\n",
       "      <td>0</td>\n",
       "      <td>0</td>\n",
       "      <td>0</td>\n",
       "      <td>0</td>\n",
       "      <td>0</td>\n",
       "      <td>0</td>\n",
       "      <td>0</td>\n",
       "      <td>0</td>\n",
       "      <td>0</td>\n",
       "      <td>...</td>\n",
       "      <td>0</td>\n",
       "      <td>0</td>\n",
       "      <td>0</td>\n",
       "      <td>0</td>\n",
       "      <td>0</td>\n",
       "      <td>0</td>\n",
       "      <td>0</td>\n",
       "      <td>1</td>\n",
       "      <td>0</td>\n",
       "      <td>5178</td>\n",
       "    </tr>\n",
       "    <tr>\n",
       "      <th>2</th>\n",
       "      <td>6.5</td>\n",
       "      <td>0</td>\n",
       "      <td>0</td>\n",
       "      <td>0</td>\n",
       "      <td>0</td>\n",
       "      <td>1</td>\n",
       "      <td>0</td>\n",
       "      <td>0</td>\n",
       "      <td>0</td>\n",
       "      <td>0</td>\n",
       "      <td>...</td>\n",
       "      <td>0</td>\n",
       "      <td>0</td>\n",
       "      <td>0</td>\n",
       "      <td>0</td>\n",
       "      <td>0</td>\n",
       "      <td>0</td>\n",
       "      <td>0</td>\n",
       "      <td>0</td>\n",
       "      <td>0</td>\n",
       "      <td>5178</td>\n",
       "    </tr>\n",
       "    <tr>\n",
       "      <th>3</th>\n",
       "      <td>4.7</td>\n",
       "      <td>0</td>\n",
       "      <td>0</td>\n",
       "      <td>0</td>\n",
       "      <td>0</td>\n",
       "      <td>0</td>\n",
       "      <td>0</td>\n",
       "      <td>2</td>\n",
       "      <td>0</td>\n",
       "      <td>0</td>\n",
       "      <td>...</td>\n",
       "      <td>0</td>\n",
       "      <td>0</td>\n",
       "      <td>0</td>\n",
       "      <td>0</td>\n",
       "      <td>0</td>\n",
       "      <td>0</td>\n",
       "      <td>0</td>\n",
       "      <td>1</td>\n",
       "      <td>0</td>\n",
       "      <td>175</td>\n",
       "    </tr>\n",
       "    <tr>\n",
       "      <th>4</th>\n",
       "      <td>5.1</td>\n",
       "      <td>0</td>\n",
       "      <td>0</td>\n",
       "      <td>1</td>\n",
       "      <td>1</td>\n",
       "      <td>0</td>\n",
       "      <td>0</td>\n",
       "      <td>0</td>\n",
       "      <td>0</td>\n",
       "      <td>0</td>\n",
       "      <td>...</td>\n",
       "      <td>0</td>\n",
       "      <td>0</td>\n",
       "      <td>0</td>\n",
       "      <td>0</td>\n",
       "      <td>0</td>\n",
       "      <td>0</td>\n",
       "      <td>0</td>\n",
       "      <td>0</td>\n",
       "      <td>0</td>\n",
       "      <td>5178</td>\n",
       "    </tr>\n",
       "  </tbody>\n",
       "</table>\n",
       "<p>5 rows × 30 columns</p>\n",
       "</div>"
      ],
      "text/plain": [
       "   puntuacion  total_premios  razzie  director  guion  musica  fotografia  \\\n",
       "0         6.7              0       0         4      0       0           0   \n",
       "1         7.2              0       0         0      0       0           0   \n",
       "2         6.5              0       0         0      0       1           0   \n",
       "3         4.7              0       0         0      0       0           0   \n",
       "4         5.1              0       0         1      1       0           0   \n",
       "\n",
       "   reparto_1  reparto_2  reparto_3  ...  drama  fantastico  infantil  intriga  \\\n",
       "0          5          1          0  ...      1           0         0        0   \n",
       "1          0          0          0  ...      0           0         0        0   \n",
       "2          0          0          0  ...      0           0         0        0   \n",
       "3          2          0          0  ...      0           0         0        0   \n",
       "4          0          0          0  ...      0           0         0        0   \n",
       "\n",
       "   musical  romance  terror  thriller  western  pais  \n",
       "0        0        0       0         0        0  5178  \n",
       "1        0        0       0         1        0  5178  \n",
       "2        0        0       0         0        0  5178  \n",
       "3        0        0       0         1        0   175  \n",
       "4        0        0       0         0        0  5178  \n",
       "\n",
       "[5 rows x 30 columns]"
      ]
     },
     "execution_count": 3,
     "metadata": {},
     "output_type": "execute_result"
    }
   ],
   "source": [
    "df = pd.read_csv(r\"..\\data\\processed\\peliculas_analisis_ML.csv\",index_col=0)\n",
    "df.head()"
   ]
  },
  {
   "cell_type": "code",
   "execution_count": 6,
   "metadata": {},
   "outputs": [
    {
     "data": {
      "text/html": [
       "<div>\n",
       "<style scoped>\n",
       "    .dataframe tbody tr th:only-of-type {\n",
       "        vertical-align: middle;\n",
       "    }\n",
       "\n",
       "    .dataframe tbody tr th {\n",
       "        vertical-align: top;\n",
       "    }\n",
       "\n",
       "    .dataframe thead th {\n",
       "        text-align: right;\n",
       "    }\n",
       "</style>\n",
       "<table border=\"1\" class=\"dataframe\">\n",
       "  <thead>\n",
       "    <tr style=\"text-align: right;\">\n",
       "      <th></th>\n",
       "      <th>count</th>\n",
       "      <th>mean</th>\n",
       "      <th>std</th>\n",
       "      <th>min</th>\n",
       "      <th>25%</th>\n",
       "      <th>50%</th>\n",
       "      <th>75%</th>\n",
       "      <th>max</th>\n",
       "    </tr>\n",
       "  </thead>\n",
       "  <tbody>\n",
       "    <tr>\n",
       "      <th>puntuacion</th>\n",
       "      <td>10128.0</td>\n",
       "      <td>5.974743</td>\n",
       "      <td>1.130100</td>\n",
       "      <td>3.7</td>\n",
       "      <td>5.1</td>\n",
       "      <td>6.2</td>\n",
       "      <td>6.8</td>\n",
       "      <td>9.0</td>\n",
       "    </tr>\n",
       "    <tr>\n",
       "      <th>total_premios</th>\n",
       "      <td>10128.0</td>\n",
       "      <td>0.685920</td>\n",
       "      <td>2.244859</td>\n",
       "      <td>0.0</td>\n",
       "      <td>0.0</td>\n",
       "      <td>0.0</td>\n",
       "      <td>0.0</td>\n",
       "      <td>35.0</td>\n",
       "    </tr>\n",
       "    <tr>\n",
       "      <th>razzie</th>\n",
       "      <td>10128.0</td>\n",
       "      <td>0.022117</td>\n",
       "      <td>0.278779</td>\n",
       "      <td>0.0</td>\n",
       "      <td>0.0</td>\n",
       "      <td>0.0</td>\n",
       "      <td>0.0</td>\n",
       "      <td>10.0</td>\n",
       "    </tr>\n",
       "    <tr>\n",
       "      <th>director</th>\n",
       "      <td>10128.0</td>\n",
       "      <td>0.645241</td>\n",
       "      <td>1.385445</td>\n",
       "      <td>0.0</td>\n",
       "      <td>0.0</td>\n",
       "      <td>0.0</td>\n",
       "      <td>1.0</td>\n",
       "      <td>10.0</td>\n",
       "    </tr>\n",
       "    <tr>\n",
       "      <th>guion</th>\n",
       "      <td>10128.0</td>\n",
       "      <td>0.288803</td>\n",
       "      <td>0.880107</td>\n",
       "      <td>0.0</td>\n",
       "      <td>0.0</td>\n",
       "      <td>0.0</td>\n",
       "      <td>0.0</td>\n",
       "      <td>9.0</td>\n",
       "    </tr>\n",
       "    <tr>\n",
       "      <th>musica</th>\n",
       "      <td>10128.0</td>\n",
       "      <td>0.757998</td>\n",
       "      <td>2.359718</td>\n",
       "      <td>0.0</td>\n",
       "      <td>0.0</td>\n",
       "      <td>0.0</td>\n",
       "      <td>0.0</td>\n",
       "      <td>17.0</td>\n",
       "    </tr>\n",
       "    <tr>\n",
       "      <th>fotografia</th>\n",
       "      <td>10128.0</td>\n",
       "      <td>0.495853</td>\n",
       "      <td>1.333195</td>\n",
       "      <td>0.0</td>\n",
       "      <td>0.0</td>\n",
       "      <td>0.0</td>\n",
       "      <td>0.0</td>\n",
       "      <td>11.0</td>\n",
       "    </tr>\n",
       "    <tr>\n",
       "      <th>reparto_1</th>\n",
       "      <td>10128.0</td>\n",
       "      <td>1.473341</td>\n",
       "      <td>2.493218</td>\n",
       "      <td>0.0</td>\n",
       "      <td>0.0</td>\n",
       "      <td>0.0</td>\n",
       "      <td>2.0</td>\n",
       "      <td>19.0</td>\n",
       "    </tr>\n",
       "    <tr>\n",
       "      <th>reparto_2</th>\n",
       "      <td>10128.0</td>\n",
       "      <td>1.053416</td>\n",
       "      <td>2.077640</td>\n",
       "      <td>0.0</td>\n",
       "      <td>0.0</td>\n",
       "      <td>0.0</td>\n",
       "      <td>1.0</td>\n",
       "      <td>19.0</td>\n",
       "    </tr>\n",
       "    <tr>\n",
       "      <th>reparto_3</th>\n",
       "      <td>10128.0</td>\n",
       "      <td>0.744767</td>\n",
       "      <td>1.772630</td>\n",
       "      <td>0.0</td>\n",
       "      <td>0.0</td>\n",
       "      <td>0.0</td>\n",
       "      <td>1.0</td>\n",
       "      <td>19.0</td>\n",
       "    </tr>\n",
       "    <tr>\n",
       "      <th>reparto_4</th>\n",
       "      <td>10128.0</td>\n",
       "      <td>0.523499</td>\n",
       "      <td>1.433852</td>\n",
       "      <td>0.0</td>\n",
       "      <td>0.0</td>\n",
       "      <td>0.0</td>\n",
       "      <td>0.0</td>\n",
       "      <td>18.0</td>\n",
       "    </tr>\n",
       "    <tr>\n",
       "      <th>reparto_5</th>\n",
       "      <td>10128.0</td>\n",
       "      <td>0.373025</td>\n",
       "      <td>1.206149</td>\n",
       "      <td>0.0</td>\n",
       "      <td>0.0</td>\n",
       "      <td>0.0</td>\n",
       "      <td>0.0</td>\n",
       "      <td>19.0</td>\n",
       "    </tr>\n",
       "    <tr>\n",
       "      <th>duracion</th>\n",
       "      <td>10128.0</td>\n",
       "      <td>1.547887</td>\n",
       "      <td>0.503447</td>\n",
       "      <td>1.0</td>\n",
       "      <td>1.0</td>\n",
       "      <td>2.0</td>\n",
       "      <td>2.0</td>\n",
       "      <td>3.0</td>\n",
       "    </tr>\n",
       "    <tr>\n",
       "      <th>year</th>\n",
       "      <td>10128.0</td>\n",
       "      <td>4.218898</td>\n",
       "      <td>0.999936</td>\n",
       "      <td>1.0</td>\n",
       "      <td>3.0</td>\n",
       "      <td>5.0</td>\n",
       "      <td>5.0</td>\n",
       "      <td>5.0</td>\n",
       "    </tr>\n",
       "    <tr>\n",
       "      <th>accion</th>\n",
       "      <td>10128.0</td>\n",
       "      <td>0.056872</td>\n",
       "      <td>0.231609</td>\n",
       "      <td>0.0</td>\n",
       "      <td>0.0</td>\n",
       "      <td>0.0</td>\n",
       "      <td>0.0</td>\n",
       "      <td>1.0</td>\n",
       "    </tr>\n",
       "    <tr>\n",
       "      <th>aventuras</th>\n",
       "      <td>10128.0</td>\n",
       "      <td>0.037026</td>\n",
       "      <td>0.188835</td>\n",
       "      <td>0.0</td>\n",
       "      <td>0.0</td>\n",
       "      <td>0.0</td>\n",
       "      <td>0.0</td>\n",
       "      <td>1.0</td>\n",
       "    </tr>\n",
       "    <tr>\n",
       "      <th>belico</th>\n",
       "      <td>10128.0</td>\n",
       "      <td>0.015205</td>\n",
       "      <td>0.122375</td>\n",
       "      <td>0.0</td>\n",
       "      <td>0.0</td>\n",
       "      <td>0.0</td>\n",
       "      <td>0.0</td>\n",
       "      <td>1.0</td>\n",
       "    </tr>\n",
       "    <tr>\n",
       "      <th>ciencia ficcion</th>\n",
       "      <td>10128.0</td>\n",
       "      <td>0.041370</td>\n",
       "      <td>0.199155</td>\n",
       "      <td>0.0</td>\n",
       "      <td>0.0</td>\n",
       "      <td>0.0</td>\n",
       "      <td>0.0</td>\n",
       "      <td>1.0</td>\n",
       "    </tr>\n",
       "    <tr>\n",
       "      <th>cine negro</th>\n",
       "      <td>10128.0</td>\n",
       "      <td>0.013823</td>\n",
       "      <td>0.116762</td>\n",
       "      <td>0.0</td>\n",
       "      <td>0.0</td>\n",
       "      <td>0.0</td>\n",
       "      <td>0.0</td>\n",
       "      <td>1.0</td>\n",
       "    </tr>\n",
       "    <tr>\n",
       "      <th>comedia</th>\n",
       "      <td>10128.0</td>\n",
       "      <td>0.197472</td>\n",
       "      <td>0.398111</td>\n",
       "      <td>0.0</td>\n",
       "      <td>0.0</td>\n",
       "      <td>0.0</td>\n",
       "      <td>0.0</td>\n",
       "      <td>1.0</td>\n",
       "    </tr>\n",
       "    <tr>\n",
       "      <th>drama</th>\n",
       "      <td>10128.0</td>\n",
       "      <td>0.332840</td>\n",
       "      <td>0.471253</td>\n",
       "      <td>0.0</td>\n",
       "      <td>0.0</td>\n",
       "      <td>0.0</td>\n",
       "      <td>1.0</td>\n",
       "      <td>1.0</td>\n",
       "    </tr>\n",
       "    <tr>\n",
       "      <th>fantastico</th>\n",
       "      <td>10128.0</td>\n",
       "      <td>0.023006</td>\n",
       "      <td>0.149928</td>\n",
       "      <td>0.0</td>\n",
       "      <td>0.0</td>\n",
       "      <td>0.0</td>\n",
       "      <td>0.0</td>\n",
       "      <td>1.0</td>\n",
       "    </tr>\n",
       "    <tr>\n",
       "      <th>infantil</th>\n",
       "      <td>10128.0</td>\n",
       "      <td>0.001481</td>\n",
       "      <td>0.038458</td>\n",
       "      <td>0.0</td>\n",
       "      <td>0.0</td>\n",
       "      <td>0.0</td>\n",
       "      <td>0.0</td>\n",
       "      <td>1.0</td>\n",
       "    </tr>\n",
       "    <tr>\n",
       "      <th>intriga</th>\n",
       "      <td>10128.0</td>\n",
       "      <td>0.035249</td>\n",
       "      <td>0.184417</td>\n",
       "      <td>0.0</td>\n",
       "      <td>0.0</td>\n",
       "      <td>0.0</td>\n",
       "      <td>0.0</td>\n",
       "      <td>1.0</td>\n",
       "    </tr>\n",
       "    <tr>\n",
       "      <th>musical</th>\n",
       "      <td>10128.0</td>\n",
       "      <td>0.011848</td>\n",
       "      <td>0.108209</td>\n",
       "      <td>0.0</td>\n",
       "      <td>0.0</td>\n",
       "      <td>0.0</td>\n",
       "      <td>0.0</td>\n",
       "      <td>1.0</td>\n",
       "    </tr>\n",
       "    <tr>\n",
       "      <th>romance</th>\n",
       "      <td>10128.0</td>\n",
       "      <td>0.048183</td>\n",
       "      <td>0.214164</td>\n",
       "      <td>0.0</td>\n",
       "      <td>0.0</td>\n",
       "      <td>0.0</td>\n",
       "      <td>0.0</td>\n",
       "      <td>1.0</td>\n",
       "    </tr>\n",
       "    <tr>\n",
       "      <th>terror</th>\n",
       "      <td>10128.0</td>\n",
       "      <td>0.078100</td>\n",
       "      <td>0.268343</td>\n",
       "      <td>0.0</td>\n",
       "      <td>0.0</td>\n",
       "      <td>0.0</td>\n",
       "      <td>0.0</td>\n",
       "      <td>1.0</td>\n",
       "    </tr>\n",
       "    <tr>\n",
       "      <th>thriller</th>\n",
       "      <td>10128.0</td>\n",
       "      <td>0.085012</td>\n",
       "      <td>0.278913</td>\n",
       "      <td>0.0</td>\n",
       "      <td>0.0</td>\n",
       "      <td>0.0</td>\n",
       "      <td>0.0</td>\n",
       "      <td>1.0</td>\n",
       "    </tr>\n",
       "    <tr>\n",
       "      <th>western</th>\n",
       "      <td>10128.0</td>\n",
       "      <td>0.022512</td>\n",
       "      <td>0.148348</td>\n",
       "      <td>0.0</td>\n",
       "      <td>0.0</td>\n",
       "      <td>0.0</td>\n",
       "      <td>0.0</td>\n",
       "      <td>1.0</td>\n",
       "    </tr>\n",
       "    <tr>\n",
       "      <th>pais</th>\n",
       "      <td>10128.0</td>\n",
       "      <td>2909.187006</td>\n",
       "      <td>2336.488679</td>\n",
       "      <td>1.0</td>\n",
       "      <td>717.0</td>\n",
       "      <td>5177.0</td>\n",
       "      <td>5177.0</td>\n",
       "      <td>5177.0</td>\n",
       "    </tr>\n",
       "  </tbody>\n",
       "</table>\n",
       "</div>"
      ],
      "text/plain": [
       "                   count         mean          std  min    25%     50%  \\\n",
       "puntuacion       10128.0     5.974743     1.130100  3.7    5.1     6.2   \n",
       "total_premios    10128.0     0.685920     2.244859  0.0    0.0     0.0   \n",
       "razzie           10128.0     0.022117     0.278779  0.0    0.0     0.0   \n",
       "director         10128.0     0.645241     1.385445  0.0    0.0     0.0   \n",
       "guion            10128.0     0.288803     0.880107  0.0    0.0     0.0   \n",
       "musica           10128.0     0.757998     2.359718  0.0    0.0     0.0   \n",
       "fotografia       10128.0     0.495853     1.333195  0.0    0.0     0.0   \n",
       "reparto_1        10128.0     1.473341     2.493218  0.0    0.0     0.0   \n",
       "reparto_2        10128.0     1.053416     2.077640  0.0    0.0     0.0   \n",
       "reparto_3        10128.0     0.744767     1.772630  0.0    0.0     0.0   \n",
       "reparto_4        10128.0     0.523499     1.433852  0.0    0.0     0.0   \n",
       "reparto_5        10128.0     0.373025     1.206149  0.0    0.0     0.0   \n",
       "duracion         10128.0     1.547887     0.503447  1.0    1.0     2.0   \n",
       "year             10128.0     4.218898     0.999936  1.0    3.0     5.0   \n",
       "accion           10128.0     0.056872     0.231609  0.0    0.0     0.0   \n",
       "aventuras        10128.0     0.037026     0.188835  0.0    0.0     0.0   \n",
       "belico           10128.0     0.015205     0.122375  0.0    0.0     0.0   \n",
       "ciencia ficcion  10128.0     0.041370     0.199155  0.0    0.0     0.0   \n",
       "cine negro       10128.0     0.013823     0.116762  0.0    0.0     0.0   \n",
       "comedia          10128.0     0.197472     0.398111  0.0    0.0     0.0   \n",
       "drama            10128.0     0.332840     0.471253  0.0    0.0     0.0   \n",
       "fantastico       10128.0     0.023006     0.149928  0.0    0.0     0.0   \n",
       "infantil         10128.0     0.001481     0.038458  0.0    0.0     0.0   \n",
       "intriga          10128.0     0.035249     0.184417  0.0    0.0     0.0   \n",
       "musical          10128.0     0.011848     0.108209  0.0    0.0     0.0   \n",
       "romance          10128.0     0.048183     0.214164  0.0    0.0     0.0   \n",
       "terror           10128.0     0.078100     0.268343  0.0    0.0     0.0   \n",
       "thriller         10128.0     0.085012     0.278913  0.0    0.0     0.0   \n",
       "western          10128.0     0.022512     0.148348  0.0    0.0     0.0   \n",
       "pais             10128.0  2909.187006  2336.488679  1.0  717.0  5177.0   \n",
       "\n",
       "                    75%     max  \n",
       "puntuacion          6.8     9.0  \n",
       "total_premios       0.0    35.0  \n",
       "razzie              0.0    10.0  \n",
       "director            1.0    10.0  \n",
       "guion               0.0     9.0  \n",
       "musica              0.0    17.0  \n",
       "fotografia          0.0    11.0  \n",
       "reparto_1           2.0    19.0  \n",
       "reparto_2           1.0    19.0  \n",
       "reparto_3           1.0    19.0  \n",
       "reparto_4           0.0    18.0  \n",
       "reparto_5           0.0    19.0  \n",
       "duracion            2.0     3.0  \n",
       "year                5.0     5.0  \n",
       "accion              0.0     1.0  \n",
       "aventuras           0.0     1.0  \n",
       "belico              0.0     1.0  \n",
       "ciencia ficcion     0.0     1.0  \n",
       "cine negro          0.0     1.0  \n",
       "comedia             0.0     1.0  \n",
       "drama               1.0     1.0  \n",
       "fantastico          0.0     1.0  \n",
       "infantil            0.0     1.0  \n",
       "intriga             0.0     1.0  \n",
       "musical             0.0     1.0  \n",
       "romance             0.0     1.0  \n",
       "terror              0.0     1.0  \n",
       "thriller            0.0     1.0  \n",
       "western             0.0     1.0  \n",
       "pais             5177.0  5177.0  "
      ]
     },
     "execution_count": 6,
     "metadata": {},
     "output_type": "execute_result"
    }
   ],
   "source": [
    "df.describe().T"
   ]
  },
  {
   "attachments": {},
   "cell_type": "markdown",
   "metadata": {},
   "source": [
    "## Separo la columna \"target\" de los \"features\" y particiono en train y test"
   ]
  },
  {
   "cell_type": "code",
   "execution_count": 7,
   "metadata": {},
   "outputs": [],
   "source": [
    "from sklearn.model_selection import train_test_split\n",
    "\n",
    "X = df.drop('puntuacion', axis=1)\n",
    "y = df['puntuacion']\n",
    "\n",
    "X_train, X_test, y_train, y_test = train_test_split(X,\n",
    "                                                    y,\n",
    "                                                    test_size=0.15,\n",
    "                                                    random_state=42)"
   ]
  },
  {
   "attachments": {},
   "cell_type": "markdown",
   "metadata": {},
   "source": [
    "## Escalo los datos previamente. StandardScaler"
   ]
  },
  {
   "cell_type": "code",
   "execution_count": 8,
   "metadata": {},
   "outputs": [],
   "source": [
    "from sklearn.preprocessing import StandardScaler\n",
    "\n",
    "scaler = StandardScaler()\n",
    "scaler.fit(X_train)\n",
    "\n",
    "X_train = scaler.transform(X_train)\n",
    "X_test = scaler.transform(X_test)"
   ]
  },
  {
   "attachments": {},
   "cell_type": "markdown",
   "metadata": {},
   "source": [
    "# Feature Selection"
   ]
  },
  {
   "attachments": {},
   "cell_type": "markdown",
   "metadata": {},
   "source": [
    "### Obtengo la media del target para tener una referencia en cuanto a la métrica MAE"
   ]
  },
  {
   "cell_type": "code",
   "execution_count": 9,
   "metadata": {},
   "outputs": [
    {
     "data": {
      "text/plain": [
       "5.974743285939968"
      ]
     },
     "execution_count": 9,
     "metadata": {},
     "output_type": "execute_result"
    }
   ],
   "source": [
    "df[\"puntuacion\"].mean()"
   ]
  },
  {
   "attachments": {},
   "cell_type": "markdown",
   "metadata": {},
   "source": [
    "### Compruebo mediante el Feature Importances que columnas son mas importantes para el modelo"
   ]
  },
  {
   "cell_type": "code",
   "execution_count": 10,
   "metadata": {},
   "outputs": [
    {
     "data": {
      "text/html": [
       "<div>\n",
       "<style scoped>\n",
       "    .dataframe tbody tr th:only-of-type {\n",
       "        vertical-align: middle;\n",
       "    }\n",
       "\n",
       "    .dataframe tbody tr th {\n",
       "        vertical-align: top;\n",
       "    }\n",
       "\n",
       "    .dataframe thead th {\n",
       "        text-align: right;\n",
       "    }\n",
       "</style>\n",
       "<table border=\"1\" class=\"dataframe\">\n",
       "  <thead>\n",
       "    <tr style=\"text-align: right;\">\n",
       "      <th></th>\n",
       "      <th>column</th>\n",
       "      <th>Feat_Import</th>\n",
       "    </tr>\n",
       "  </thead>\n",
       "  <tbody>\n",
       "    <tr>\n",
       "      <th>12</th>\n",
       "      <td>year</td>\n",
       "      <td>0.234898</td>\n",
       "    </tr>\n",
       "    <tr>\n",
       "      <th>19</th>\n",
       "      <td>drama</td>\n",
       "      <td>0.144383</td>\n",
       "    </tr>\n",
       "    <tr>\n",
       "      <th>28</th>\n",
       "      <td>pais</td>\n",
       "      <td>0.094264</td>\n",
       "    </tr>\n",
       "    <tr>\n",
       "      <th>0</th>\n",
       "      <td>total_premios</td>\n",
       "      <td>0.081676</td>\n",
       "    </tr>\n",
       "    <tr>\n",
       "      <th>2</th>\n",
       "      <td>director</td>\n",
       "      <td>0.054695</td>\n",
       "    </tr>\n",
       "  </tbody>\n",
       "</table>\n",
       "</div>"
      ],
      "text/plain": [
       "           column  Feat_Import\n",
       "12           year     0.234898\n",
       "19          drama     0.144383\n",
       "28           pais     0.094264\n",
       "0   total_premios     0.081676\n",
       "2        director     0.054695"
      ]
     },
     "execution_count": 10,
     "metadata": {},
     "output_type": "execute_result"
    }
   ],
   "source": [
    "from sklearn.ensemble import RandomForestRegressor\n",
    "from sklearn.metrics import r2_score, mean_squared_error, mean_absolute_error\n",
    "\n",
    "seed = 42\n",
    "\n",
    "RndFrst_Model = RandomForestRegressor(random_state= seed)\n",
    "RndFrst_Model.fit(X_train, y_train)\n",
    "\n",
    "feature_importances = RndFrst_Model.feature_importances_\n",
    "\n",
    "df_Feat_Import = pd.DataFrame({'column': X.columns, 'score': feature_importances}).sort_values('score', ascending=False)\n",
    "df_Feat_Import.rename(columns={\"score\":\"Feat_Import\"},inplace=True)\n",
    "df_Feat_Import.head()"
   ]
  },
  {
   "attachments": {},
   "cell_type": "markdown",
   "metadata": {},
   "source": [
    "### Compruebo mediante el SelectKBest que columnas son mas importantes para el modelo"
   ]
  },
  {
   "cell_type": "code",
   "execution_count": 11,
   "metadata": {},
   "outputs": [
    {
     "data": {
      "text/html": [
       "<div>\n",
       "<style scoped>\n",
       "    .dataframe tbody tr th:only-of-type {\n",
       "        vertical-align: middle;\n",
       "    }\n",
       "\n",
       "    .dataframe tbody tr th {\n",
       "        vertical-align: top;\n",
       "    }\n",
       "\n",
       "    .dataframe thead th {\n",
       "        text-align: right;\n",
       "    }\n",
       "</style>\n",
       "<table border=\"1\" class=\"dataframe\">\n",
       "  <thead>\n",
       "    <tr style=\"text-align: right;\">\n",
       "      <th></th>\n",
       "      <th>column</th>\n",
       "      <th>Select_KBest</th>\n",
       "    </tr>\n",
       "  </thead>\n",
       "  <tbody>\n",
       "    <tr>\n",
       "      <th>12</th>\n",
       "      <td>year</td>\n",
       "      <td>68.270571</td>\n",
       "    </tr>\n",
       "    <tr>\n",
       "      <th>19</th>\n",
       "      <td>drama</td>\n",
       "      <td>39.608074</td>\n",
       "    </tr>\n",
       "    <tr>\n",
       "      <th>2</th>\n",
       "      <td>director</td>\n",
       "      <td>25.560473</td>\n",
       "    </tr>\n",
       "    <tr>\n",
       "      <th>0</th>\n",
       "      <td>total_premios</td>\n",
       "      <td>20.967556</td>\n",
       "    </tr>\n",
       "    <tr>\n",
       "      <th>11</th>\n",
       "      <td>duracion</td>\n",
       "      <td>16.959625</td>\n",
       "    </tr>\n",
       "  </tbody>\n",
       "</table>\n",
       "</div>"
      ],
      "text/plain": [
       "           column  Select_KBest\n",
       "12           year     68.270571\n",
       "19          drama     39.608074\n",
       "2        director     25.560473\n",
       "0   total_premios     20.967556\n",
       "11       duracion     16.959625"
      ]
     },
     "execution_count": 11,
     "metadata": {},
     "output_type": "execute_result"
    }
   ],
   "source": [
    "from sklearn.feature_selection import SelectKBest\n",
    "\n",
    "# Separar características y objetivo\n",
    "X = df.drop('puntuacion', axis=1)\n",
    "y = df['puntuacion']\n",
    "\n",
    "# Seleccionar las 10 mejores características\n",
    "sel = SelectKBest(k=10)\n",
    "X_new = sel.fit_transform(X, y)\n",
    "\n",
    "# Imprimir la forma de X_new y los puntajes de todas las características\n",
    "df_SelectKBest = pd.DataFrame({'column': X.columns, 'score': sel.scores_}).sort_values('score', ascending=False)\n",
    "df_SelectKBest.rename(columns={\"score\":\"Select_KBest\"}, inplace= True)\n",
    "df_SelectKBest.head()"
   ]
  },
  {
   "attachments": {},
   "cell_type": "markdown",
   "metadata": {},
   "source": [
    "### Visualizo la comparativa en un dataframe"
   ]
  },
  {
   "cell_type": "code",
   "execution_count": 12,
   "metadata": {},
   "outputs": [
    {
     "data": {
      "text/html": [
       "<div>\n",
       "<style scoped>\n",
       "    .dataframe tbody tr th:only-of-type {\n",
       "        vertical-align: middle;\n",
       "    }\n",
       "\n",
       "    .dataframe tbody tr th {\n",
       "        vertical-align: top;\n",
       "    }\n",
       "\n",
       "    .dataframe thead th {\n",
       "        text-align: right;\n",
       "    }\n",
       "</style>\n",
       "<table border=\"1\" class=\"dataframe\">\n",
       "  <thead>\n",
       "    <tr style=\"text-align: right;\">\n",
       "      <th></th>\n",
       "      <th>column</th>\n",
       "      <th>Select_KBest</th>\n",
       "      <th>Feat_Import</th>\n",
       "    </tr>\n",
       "  </thead>\n",
       "  <tbody>\n",
       "    <tr>\n",
       "      <th>0</th>\n",
       "      <td>year</td>\n",
       "      <td>68.270571</td>\n",
       "      <td>0.234898</td>\n",
       "    </tr>\n",
       "    <tr>\n",
       "      <th>1</th>\n",
       "      <td>drama</td>\n",
       "      <td>39.608074</td>\n",
       "      <td>0.144383</td>\n",
       "    </tr>\n",
       "    <tr>\n",
       "      <th>2</th>\n",
       "      <td>director</td>\n",
       "      <td>25.560473</td>\n",
       "      <td>0.054695</td>\n",
       "    </tr>\n",
       "    <tr>\n",
       "      <th>3</th>\n",
       "      <td>total_premios</td>\n",
       "      <td>20.967556</td>\n",
       "      <td>0.081676</td>\n",
       "    </tr>\n",
       "    <tr>\n",
       "      <th>4</th>\n",
       "      <td>duracion</td>\n",
       "      <td>16.959625</td>\n",
       "      <td>0.046710</td>\n",
       "    </tr>\n",
       "  </tbody>\n",
       "</table>\n",
       "</div>"
      ],
      "text/plain": [
       "          column  Select_KBest  Feat_Import\n",
       "0           year     68.270571     0.234898\n",
       "1          drama     39.608074     0.144383\n",
       "2       director     25.560473     0.054695\n",
       "3  total_premios     20.967556     0.081676\n",
       "4       duracion     16.959625     0.046710"
      ]
     },
     "execution_count": 12,
     "metadata": {},
     "output_type": "execute_result"
    }
   ],
   "source": [
    "df_features = pd.merge(df_SelectKBest, df_Feat_Import, left_on=\"column\", right_on=\"column\")\n",
    "df_features.head()"
   ]
  },
  {
   "attachments": {},
   "cell_type": "markdown",
   "metadata": {},
   "source": [
    "### Muestro en un dataframe las columnas más importantes y su porcentaje sobre el total en el Select KBest"
   ]
  },
  {
   "cell_type": "code",
   "execution_count": 13,
   "metadata": {},
   "outputs": [
    {
     "data": {
      "text/html": [
       "<div>\n",
       "<style scoped>\n",
       "    .dataframe tbody tr th:only-of-type {\n",
       "        vertical-align: middle;\n",
       "    }\n",
       "\n",
       "    .dataframe tbody tr th {\n",
       "        vertical-align: top;\n",
       "    }\n",
       "\n",
       "    .dataframe thead th {\n",
       "        text-align: right;\n",
       "    }\n",
       "</style>\n",
       "<table border=\"1\" class=\"dataframe\">\n",
       "  <thead>\n",
       "    <tr style=\"text-align: right;\">\n",
       "      <th></th>\n",
       "      <th>column</th>\n",
       "      <th>Select_KBest</th>\n",
       "      <th>Select_KBest %</th>\n",
       "    </tr>\n",
       "  </thead>\n",
       "  <tbody>\n",
       "    <tr>\n",
       "      <th>0</th>\n",
       "      <td>year</td>\n",
       "      <td>68.270571</td>\n",
       "      <td>25.724929</td>\n",
       "    </tr>\n",
       "    <tr>\n",
       "      <th>1</th>\n",
       "      <td>drama</td>\n",
       "      <td>39.608074</td>\n",
       "      <td>14.924658</td>\n",
       "    </tr>\n",
       "    <tr>\n",
       "      <th>2</th>\n",
       "      <td>director</td>\n",
       "      <td>25.560473</td>\n",
       "      <td>9.631403</td>\n",
       "    </tr>\n",
       "    <tr>\n",
       "      <th>3</th>\n",
       "      <td>total_premios</td>\n",
       "      <td>20.967556</td>\n",
       "      <td>7.900753</td>\n",
       "    </tr>\n",
       "    <tr>\n",
       "      <th>4</th>\n",
       "      <td>duracion</td>\n",
       "      <td>16.959625</td>\n",
       "      <td>6.390530</td>\n",
       "    </tr>\n",
       "  </tbody>\n",
       "</table>\n",
       "</div>"
      ],
      "text/plain": [
       "          column  Select_KBest  Select_KBest %\n",
       "0           year     68.270571       25.724929\n",
       "1          drama     39.608074       14.924658\n",
       "2       director     25.560473        9.631403\n",
       "3  total_premios     20.967556        7.900753\n",
       "4       duracion     16.959625        6.390530"
      ]
     },
     "execution_count": 13,
     "metadata": {},
     "output_type": "execute_result"
    }
   ],
   "source": [
    "total_kbest = df_features['Select_KBest'].sum()\n",
    "total_feat_import = df_features['Feat_Import'].sum()\n",
    "\n",
    "df_features['Select_KBest %'] = (df_features['Select_KBest'] / total_kbest) * 100\n",
    "df_features['Feat_Import %'] = (df_features['Feat_Import'] / total_feat_import) * 100\n",
    "df_select_KBest =df_features.sort_values(by=\"Select_KBest %\", ascending= False).iloc[:,[0,1,3]]\n",
    "df_select_KBest.head()"
   ]
  },
  {
   "attachments": {},
   "cell_type": "markdown",
   "metadata": {},
   "source": [
    "## Visualizo en una gráfica de barras mismo resultado"
   ]
  },
  {
   "cell_type": "code",
   "execution_count": 14,
   "metadata": {},
   "outputs": [],
   "source": [
    "import plotly.express as px\n",
    "import pandas as pd\n",
    "import numpy as np\n",
    "\n",
    "colors = [\"#86A0B1\", \"#FEE28F\", \"#FFB144\", \"#FFFFFF\"]\n",
    "\n",
    "\n",
    "df_KBest = pd.DataFrame({\n",
    "    'column': ['Año', 'Drama', 'Director', 'Premios'],\n",
    "    'Select_KBest': [68.270571, 39.608074, 25.560473, 20.967556],\n",
    "    'Select_KBest %': [25.724929, 14.924658, 9.631403, 7.900753]\n",
    "})\n",
    "\n",
    "fig = px.bar(\n",
    "    df_KBest, \n",
    "    x='column', \n",
    "    y='Select_KBest %', \n",
    "    text=None,\n",
    "    width=10\n",
    ")\n",
    "\n",
    "fig.update_traces(\n",
    "    marker_color=np.tile(colors, 2), # repeat the color palette for each bar\n",
    "    textposition='auto',\n",
    "    textfont=dict(size=16),\n",
    ")\n",
    "\n",
    "# set the size of the chart\n",
    "fig.update_layout(\n",
    "    width=500,\n",
    "    height=500\n",
    ")\n",
    "\n",
    "# remove the axes\n",
    "fig.update_xaxes(showticklabels=True, \n",
    "                 tickfont=dict(size=20, color='white'),\n",
    "                 title=None\n",
    "                 )\n",
    "\n",
    "fig.update_yaxes(showticklabels=True,\n",
    "                 title=None,\n",
    "                 tickfont=dict(size=20, color='white')\n",
    "                 )\n",
    "\n",
    "# set the background color to transparent\n",
    "fig.update_layout(\n",
    "    plot_bgcolor='rgba(0,0,0,0)',\n",
    "    paper_bgcolor='rgba(0,0,0,0)'\n",
    ")\n",
    "\n",
    "# # set the y axis tick values and labels\n",
    "y_tickvals = [0, 5, 10, 15, 20, 25]\n",
    "y_ticktext = ['0%', '5%', '10%', '15%', '20%', '25%']\n",
    "fig.update_layout(yaxis={'tickvals': y_tickvals, 'ticktext': y_ticktext, 'showticklabels': True})\n",
    "\n",
    "\n",
    "fig.write_image('select_k_best.png')\n",
    "\n",
    "# show the chart\n",
    "# fig.show()"
   ]
  },
  {
   "cell_type": "code",
   "execution_count": 15,
   "metadata": {},
   "outputs": [],
   "source": [
    "df_select_KBest = pd.DataFrame({\n",
    "    'column': ['year', 'drama', 'director', 'total_premios', 'duracion', 'terror', 'comedia', 'pais', 'guion', 'accion', 'cine negro', 'reparto_1', 'fotografia', 'musica', 'western', 'razzie', 'reparto_4', 'thriller', 'ciencia ficcion', 'reparto_2', 'infantil', 'romance', 'belico', 'intriga', 'reparto_3', 'reparto_5', 'fantastico', 'aventuras', 'musical'],\n",
    "    'Select_KBest': [68.270571, 39.608074, 25.560473, 20.967556, 16.959625, 12.766236, 11.151253, 8.863364, 7.451181, 6.325492, 5.428509, 4.423287, 4.142718, 3.846031, 2.864087, 2.831693, 2.587299, 2.584808, 2.581842, 2.539733, 2.342012, 1.861715, 1.749711, 1.513346, 1.506185, 1.417109, 1.213879, 1.045425, 0.983604],\n",
    "    'Select_KBest %': [25.724929, 14.924658, 9.631403, 7.900753, 6.39053, 4.810426, 4.201887, 3.339791, 2.807668, 2.383499, 2.045508, 1.666732, 1.561011, 1.449217, 1.079212, 1.067006, 0.974916, 0.973977, 0.97286, 0.956993, 0.88249, 0.70151, 0.659306, 0.570242, 0.567543, 0.533979, 0.4574, 0.393925, 0.37063]\n",
    "})"
   ]
  },
  {
   "attachments": {},
   "cell_type": "markdown",
   "metadata": {},
   "source": [
    "## Visualizo en una gráfica de pie pero con todas las columnas"
   ]
  },
  {
   "cell_type": "code",
   "execution_count": 16,
   "metadata": {},
   "outputs": [],
   "source": [
    "import plotly.express as px\n",
    "\n",
    "colors = [\"#86A0B1\", \"#FEE28F\", \"#FFB144\", \"#FFFFFF\"]\n",
    "\n",
    "fig = px.pie(df_select_KBest, values='Select_KBest %', names='column',\n",
    "             hole=0.4, opacity=1,\n",
    "             color_discrete_sequence=colors)\n",
    "\n",
    "\n",
    "fig.update_traces(textposition='inside',\n",
    "                #   textinfo='percent+label'\n",
    "                  textinfo='none')\n",
    "\n",
    "fig.update_layout(showlegend=False,\n",
    "                  paper_bgcolor='rgba(0,0,0,0)',\n",
    "                  plot_bgcolor='rgba(0,0,0,0)')\n",
    "\n",
    "fig.write_image('pie_select_k_best_100.png')\n",
    "\n",
    "# fig.show()"
   ]
  },
  {
   "attachments": {},
   "cell_type": "markdown",
   "metadata": {},
   "source": [
    "## Muestro en un dataframe las columnas más importantes y su porcentaje sobre el total en el feature importance"
   ]
  },
  {
   "cell_type": "code",
   "execution_count": 17,
   "metadata": {},
   "outputs": [
    {
     "data": {
      "text/html": [
       "<div>\n",
       "<style scoped>\n",
       "    .dataframe tbody tr th:only-of-type {\n",
       "        vertical-align: middle;\n",
       "    }\n",
       "\n",
       "    .dataframe tbody tr th {\n",
       "        vertical-align: top;\n",
       "    }\n",
       "\n",
       "    .dataframe thead th {\n",
       "        text-align: right;\n",
       "    }\n",
       "</style>\n",
       "<table border=\"1\" class=\"dataframe\">\n",
       "  <thead>\n",
       "    <tr style=\"text-align: right;\">\n",
       "      <th></th>\n",
       "      <th>column</th>\n",
       "      <th>Feat_Import</th>\n",
       "      <th>Feat_Import %</th>\n",
       "    </tr>\n",
       "  </thead>\n",
       "  <tbody>\n",
       "    <tr>\n",
       "      <th>0</th>\n",
       "      <td>year</td>\n",
       "      <td>0.234898</td>\n",
       "      <td>23.489831</td>\n",
       "    </tr>\n",
       "    <tr>\n",
       "      <th>1</th>\n",
       "      <td>drama</td>\n",
       "      <td>0.144383</td>\n",
       "      <td>14.438292</td>\n",
       "    </tr>\n",
       "    <tr>\n",
       "      <th>7</th>\n",
       "      <td>pais</td>\n",
       "      <td>0.094264</td>\n",
       "      <td>9.426434</td>\n",
       "    </tr>\n",
       "    <tr>\n",
       "      <th>3</th>\n",
       "      <td>total_premios</td>\n",
       "      <td>0.081676</td>\n",
       "      <td>8.167604</td>\n",
       "    </tr>\n",
       "    <tr>\n",
       "      <th>2</th>\n",
       "      <td>director</td>\n",
       "      <td>0.054695</td>\n",
       "      <td>5.469463</td>\n",
       "    </tr>\n",
       "  </tbody>\n",
       "</table>\n",
       "</div>"
      ],
      "text/plain": [
       "          column  Feat_Import  Feat_Import %\n",
       "0           year     0.234898      23.489831\n",
       "1          drama     0.144383      14.438292\n",
       "7           pais     0.094264       9.426434\n",
       "3  total_premios     0.081676       8.167604\n",
       "2       director     0.054695       5.469463"
      ]
     },
     "execution_count": 17,
     "metadata": {},
     "output_type": "execute_result"
    }
   ],
   "source": [
    "total_kbest = df_features['Select_KBest'].sum()\n",
    "total_feat_import = df_features['Feat_Import'].sum()\n",
    "\n",
    "df_features['Select_KBest %'] = (df_features['Select_KBest'] / total_kbest) * 100\n",
    "df_features['Feat_Import %'] = (df_features['Feat_Import'] / total_feat_import) * 100\n",
    "df_features_importances = df_features.sort_values(by=\"Feat_Import %\", ascending= False).iloc[:,::2]\n",
    "df_features_importances.head()"
   ]
  },
  {
   "attachments": {},
   "cell_type": "markdown",
   "metadata": {},
   "source": [
    "## Visualizo en una gráfica de barras mismo resultado"
   ]
  },
  {
   "cell_type": "code",
   "execution_count": 18,
   "metadata": {},
   "outputs": [],
   "source": [
    "import plotly.express as px\n",
    "import pandas as pd\n",
    "import numpy as np\n",
    "\n",
    "colors = [\"#86A0B1\", \"#FEE28F\", \"#FFB144\", \"#FFFFFF\"]\n",
    "\n",
    "\n",
    "df_Feat_Importances = pd.DataFrame({\n",
    "    'column': ['Año', 'Drama', 'Pais', 'Premios'],\n",
    "    'Feat_Import': [0.234898, 0.144383, 0.094264, 0.081676],\n",
    "    'Feat_Import %': [23.489831, 14.438292, 9.426434, 8.167604]\n",
    "})\n",
    "\n",
    "fig = px.bar(\n",
    "    df_Feat_Importances, \n",
    "    x='column', \n",
    "    y='Feat_Import %', \n",
    "    text=None,\n",
    "    width=10\n",
    ")\n",
    "\n",
    "\n",
    "fig.update_traces(\n",
    "    marker_color=np.tile(colors, 2), # repeat the color palette for each bar\n",
    "    textposition='auto',\n",
    "    textfont=dict(size=16),\n",
    ")\n",
    "\n",
    "# set the size of the chart\n",
    "fig.update_layout(\n",
    "    width=500,\n",
    "    height=500\n",
    ")\n",
    "\n",
    "# remove the axes\n",
    "fig.update_xaxes(showticklabels=True, \n",
    "                 tickfont=dict(size=20, color='white'),\n",
    "                 title=None\n",
    "                 )\n",
    "\n",
    "fig.update_yaxes(showticklabels=True,\n",
    "                 title=None,\n",
    "                 tickfont=dict(size=20, color='white')\n",
    "                 )\n",
    "\n",
    "# set the background color to transparent\n",
    "fig.update_layout(\n",
    "    plot_bgcolor='rgba(0,0,0,0)',\n",
    "    paper_bgcolor='rgba(0,0,0,0)'\n",
    ")\n",
    "\n",
    "# set the y axis tick values and labels\n",
    "y_tickvals = [0, 5, 10, 15, 20, 25]\n",
    "y_ticktext = ['0%', '5%', '10%', '15%', '20%', '25%']\n",
    "fig.update_layout(yaxis={'tickvals': y_tickvals, 'ticktext': y_ticktext, 'showticklabels': True})\n",
    "\n",
    "\n",
    "fig.write_image('features_importances.png')\n",
    "\n",
    "# show the chart\n",
    "# fig.show()"
   ]
  },
  {
   "attachments": {},
   "cell_type": "markdown",
   "metadata": {},
   "source": [
    "## Visualizo en una gráfica de pie mismo resultado"
   ]
  },
  {
   "cell_type": "code",
   "execution_count": 19,
   "metadata": {},
   "outputs": [],
   "source": [
    "import plotly.express as px\n",
    "\n",
    "colors = [\"#86A0B1\", \"#FEE28F\", \"#FFB144\", \"#FFFFFF\"]\n",
    "\n",
    "fig = px.pie(df_Feat_Importances, values='Feat_Import %', names='column',\n",
    "             hole=0.4, opacity=1,\n",
    "             color_discrete_sequence=colors)\n",
    "\n",
    "\n",
    "fig.update_traces(textposition='inside',\n",
    "                #   textinfo='percent+label'\n",
    "                  textinfo='none')\n",
    "\n",
    "fig.update_layout(showlegend=False,\n",
    "                  paper_bgcolor='rgba(0,0,0,0)',\n",
    "                  plot_bgcolor='rgba(0,0,0,0)')\n",
    "\n",
    "fig.write_image('pie_features_importances.png')\n",
    "\n",
    "# fig.show()"
   ]
  },
  {
   "attachments": {},
   "cell_type": "markdown",
   "metadata": {},
   "source": [
    "### Visualizo gráficamente las más importantes/ menos importantes de ambos métodos"
   ]
  },
  {
   "cell_type": "code",
   "execution_count": 20,
   "metadata": {},
   "outputs": [
    {
     "data": {
      "image/png": "[encoded data removed]",
      "text/plain": [
       "<Figure size 2000x600 with 2 Axes>"
      ]
     },
     "metadata": {},
     "output_type": "display_data"
    }
   ],
   "source": [
    "import seaborn as sns\n",
    "import matplotlib.pyplot as plt\n",
    "\n",
    "# Establecer el estilo global\n",
    "sns.set_theme(style='whitegrid')\n",
    "\n",
    "# Obtener las características menos importantes\n",
    "feature_importances = RndFrst_Model.feature_importances_\n",
    "important_features = sorted(zip(feature_importances, df.columns[1:]), reverse=True)[:10]\n",
    "important_features_names = [f[1] for f in important_features][::-1]\n",
    "important_features_importances = [f[0] for f in important_features][::-1]\n",
    "\n",
    "# Crear el gráfico de barras 1\n",
    "fig, (ax1, ax2) = plt.subplots(ncols=2, figsize=(20, 6))\n",
    "\n",
    "sns.barplot(x=important_features_names, y=important_features_importances, ax=ax1)\n",
    "ax1.set_title('10 mas importantes - Features Importances')\n",
    "ax1.set_xlabel('Característica')\n",
    "ax1.set_ylabel('Importancia')\n",
    "ax1.set_xticklabels(labels=important_features_names, rotation=90)\n",
    "\n",
    "# Agregar etiquetas a las barras\n",
    "for i, v in enumerate(important_features_importances):\n",
    "    ax1.text(i, v, str(round(v, 2)), color='black', ha='center')\n",
    "\n",
    "# Ordenar el dataframe por score en orden ascendente\n",
    "df_SelectKBest_sorted = df_SelectKBest.sort_values(by='Select_KBest', ascending=False)\n",
    "\n",
    "# Crear el gráfico de barras 2\n",
    "sns.barplot(data=df_SelectKBest_sorted.head(10), x='column', y='Select_KBest', ax=ax2)\n",
    "ax2.set_title('10 mas importantes - Select KBest')\n",
    "ax2.set_xlabel('Característica')\n",
    "ax2.set_ylabel('Importancia')\n",
    "ax2.set_xticklabels(labels=df_SelectKBest_sorted['column'].head(10), rotation=90)\n",
    "\n",
    "# Agregar etiquetas a las barras\n",
    "for i, v in enumerate(df_SelectKBest_sorted['Select_KBest'].head(10)):\n",
    "    ax2.text(i, v, str(round(v, 2)), color='black', ha='center')\n",
    "\n",
    "# plt.show()"
   ]
  },
  {
   "cell_type": "code",
   "execution_count": 21,
   "metadata": {},
   "outputs": [
    {
     "data": {
      "image/png": "[encoded data removed]",
      "text/plain": [
       "<Figure size 2000x600 with 2 Axes>"
      ]
     },
     "metadata": {},
     "output_type": "display_data"
    }
   ],
   "source": [
    "import seaborn as sns\n",
    "import matplotlib.pyplot as plt\n",
    "\n",
    "# Establecer el estilo global\n",
    "sns.set_theme(style='whitegrid')\n",
    "\n",
    "# Obtener las características menos importantes\n",
    "feature_importances = RndFrst_Model.feature_importances_\n",
    "important_features = sorted(zip(feature_importances, df.columns[1:]), reverse=False)[:10]\n",
    "important_features_names = [f[1] for f in important_features][::-1]\n",
    "important_features_importances = [f[0] for f in important_features][::-1]\n",
    "\n",
    "# Crear el gráfico de barras 1\n",
    "fig, (ax1, ax2) = plt.subplots(ncols=2, figsize=(20, 6))\n",
    "\n",
    "sns.barplot(x=important_features_names, y=important_features_importances, ax=ax1)\n",
    "ax1.set_title('10 menos importantes - Features Importances')\n",
    "ax1.set_xlabel('Columna')\n",
    "ax1.set_ylabel('Importancia')\n",
    "ax1.set_xticklabels(labels=important_features_names, rotation=90)\n",
    "\n",
    "# Agregar etiquetas a las barras\n",
    "for i, v in enumerate(important_features_importances):\n",
    "    ax1.text(i, v, str(round(v, 2)), color='black', ha='center')\n",
    "\n",
    "# Ordenar el dataframe por score en orden ascendente\n",
    "df_SelectKBest_sorted = df_SelectKBest.sort_values(by='Select_KBest', ascending=True)\n",
    "\n",
    "# Crear el gráfico de barras 2\n",
    "sns.barplot(data=df_SelectKBest_sorted.head(10), x='column', y='Select_KBest', ax=ax2)\n",
    "ax2.set_title('10 menos importantes - Select KBest')\n",
    "ax2.set_xlabel('Columna')\n",
    "ax2.set_ylabel('Importancia')\n",
    "ax2.set_xticklabels(labels=df_SelectKBest_sorted['column'].head(10), rotation=90)\n",
    "\n",
    "# Agregar etiquetas a las barras\n",
    "for i, v in enumerate(df_SelectKBest_sorted['Select_KBest'].head(10)):\n",
    "    ax2.text(i, v, str(round(v, 2)), color='black', ha='center')\n",
    "\n",
    "# plt.show()"
   ]
  },
  {
   "attachments": {},
   "cell_type": "markdown",
   "metadata": {},
   "source": [
    "# Comienzo a probar modelos para ver su performance"
   ]
  },
  {
   "attachments": {},
   "cell_type": "markdown",
   "metadata": {},
   "source": [
    "# 1. Regression Algorithms"
   ]
  },
  {
   "attachments": {},
   "cell_type": "markdown",
   "metadata": {},
   "source": [
    "### OrthogonalMatchingPursuit"
   ]
  },
  {
   "cell_type": "code",
   "execution_count": 22,
   "metadata": {},
   "outputs": [
    {
     "name": "stdout",
     "output_type": "stream",
     "text": [
      "R2 (test): 48.5093 %\n",
      "MAE (test): 0.638511097316851\n"
     ]
    }
   ],
   "source": [
    "from sklearn.linear_model import OrthogonalMatchingPursuit\n",
    "from sklearn.metrics import r2_score, mean_absolute_error\n",
    "\n",
    "seed = 42\n",
    "\n",
    "OrthogonalMP_Model = OrthogonalMatchingPursuit(n_nonzero_coefs= 20, tol= 1.2)\n",
    "OrthogonalMP_Model.fit(X_train, y_train)\n",
    "\n",
    "y_pred_OrthogonalMP_Model = OrthogonalMP_Model.predict(X_test)\n",
    "\n",
    "R2_y_pred_OrthogonalMP_Model = r2_score(y_test, y_pred_OrthogonalMP_Model)\n",
    "MAE_y_pred_OrthogonalMP_Model = mean_absolute_error(y_test, y_pred_OrthogonalMP_Model)\n",
    "\n",
    "print(\"R2 (test):\", round(((R2_y_pred_OrthogonalMP_Model)*100),4),\"%\")\n",
    "print(\"MAE (test):\", MAE_y_pred_OrthogonalMP_Model)"
   ]
  },
  {
   "attachments": {},
   "cell_type": "markdown",
   "metadata": {},
   "source": [
    "### RANSACRegressor"
   ]
  },
  {
   "cell_type": "code",
   "execution_count": 23,
   "metadata": {},
   "outputs": [
    {
     "name": "stdout",
     "output_type": "stream",
     "text": [
      "R2 (test): 48.5745 %\n",
      "MAE (test): 0.6379019374416337\n"
     ]
    }
   ],
   "source": [
    "from sklearn.linear_model import RANSACRegressor\n",
    "from sklearn.metrics import r2_score, mean_absolute_error\n",
    "\n",
    "seed = 42\n",
    "\n",
    "RANSAC_Model = RANSACRegressor(random_state=42, min_samples= 1 ,residual_threshold= 100)\n",
    "RANSAC_Model.fit(X_train, y_train)\n",
    "\n",
    "y_pred_RANSAC_Model = RANSAC_Model.predict(X_test)\n",
    "\n",
    "R2_y_pred_RANSAC_Model = r2_score(y_test, y_pred_RANSAC_Model)\n",
    "MAE_y_pred_RANSAC_Model = mean_absolute_error(y_test, y_pred_RANSAC_Model)\n",
    "\n",
    "print(\"R2 (test):\", round(((R2_y_pred_RANSAC_Model)*100),4),\"%\")\n",
    "print(\"MAE (test):\", MAE_y_pred_RANSAC_Model)"
   ]
  },
  {
   "attachments": {},
   "cell_type": "markdown",
   "metadata": {},
   "source": [
    "### HuberRegressor"
   ]
  },
  {
   "cell_type": "code",
   "execution_count": 24,
   "metadata": {},
   "outputs": [
    {
     "name": "stdout",
     "output_type": "stream",
     "text": [
      "R2 (test): 48.3754 %\n",
      "MAE (test): 0.6361573614088634\n"
     ]
    }
   ],
   "source": [
    "from sklearn.linear_model import HuberRegressor\n",
    "from sklearn.metrics import r2_score, mean_absolute_error\n",
    "\n",
    "Huber_Model = HuberRegressor(epsilon = 1.5, alpha = 0.5)\n",
    "Huber_Model.fit(X_train, y_train)\n",
    "\n",
    "y_pred_Huber_Model = Huber_Model.predict(X_test)\n",
    "\n",
    "R2_Huber_Model = r2_score(y_test, y_pred_Huber_Model)\n",
    "MAE_Huber_Model = mean_absolute_error(y_test, y_pred_Huber_Model)\n",
    "\n",
    "print(\"R2 (test):\", round(((R2_Huber_Model)*100),4),\"%\")\n",
    "print(\"MAE (test):\", MAE_Huber_Model)"
   ]
  },
  {
   "attachments": {},
   "cell_type": "markdown",
   "metadata": {},
   "source": [
    "### LARS"
   ]
  },
  {
   "cell_type": "code",
   "execution_count": 25,
   "metadata": {},
   "outputs": [
    {
     "name": "stdout",
     "output_type": "stream",
     "text": [
      "R2 (test): 48.5093 %\n",
      "MAE (test): 0.638511097316851\n"
     ]
    }
   ],
   "source": [
    "from sklearn.linear_model import Lars\n",
    "from sklearn.metrics import r2_score, mean_absolute_error\n",
    "\n",
    "seed = 42\n",
    "\n",
    "Lars_Model = Lars(fit_intercept= True, random_state=seed)\n",
    "Lars_Model.fit(X_train, y_train)\n",
    "\n",
    "y_pred_Lars_Model = Lars_Model.predict(X_test)\n",
    "\n",
    "R2_Lars_Model = r2_score(y_test, y_pred_Lars_Model)\n",
    "MAE_Lars_Model = mean_absolute_error(y_test, y_pred_Lars_Model)\n",
    "\n",
    "print(\"R2 (test):\", round(((R2_Lars_Model)*100),4),\"%\")\n",
    "print(\"MAE (test):\", MAE_Lars_Model)"
   ]
  },
  {
   "attachments": {},
   "cell_type": "markdown",
   "metadata": {},
   "source": [
    "### LinearRegression"
   ]
  },
  {
   "cell_type": "code",
   "execution_count": 26,
   "metadata": {},
   "outputs": [
    {
     "name": "stdout",
     "output_type": "stream",
     "text": [
      "R2 (test): 48.591 %\n",
      "MAE (test): 0.6377916251447975\n"
     ]
    }
   ],
   "source": [
    "from sklearn.linear_model import LinearRegression\n",
    "from sklearn.metrics import r2_score, mean_absolute_error\n",
    "\n",
    "seed = 42\n",
    "\n",
    "LinReg_Model = LinearRegression()\n",
    "LinReg_Model.fit(X_train, y_train)\n",
    "\n",
    "y_pred_LinReg_Model = LinReg_Model.predict(X_test)\n",
    "\n",
    "R2_LinReg_Model = r2_score(y_test, y_pred_LinReg_Model)\n",
    "MAE_LinReg_Model = mean_absolute_error(y_test, y_pred_LinReg_Model)\n",
    "\n",
    "print(\"R2 (test):\", round(((R2_LinReg_Model)*100),4),\"%\")\n",
    "print(\"MAE (test):\", MAE_LinReg_Model)"
   ]
  },
  {
   "attachments": {},
   "cell_type": "markdown",
   "metadata": {},
   "source": [
    "# 2. Regularization Algorithms"
   ]
  },
  {
   "attachments": {},
   "cell_type": "markdown",
   "metadata": {},
   "source": [
    "### Ridge"
   ]
  },
  {
   "cell_type": "code",
   "execution_count": 27,
   "metadata": {},
   "outputs": [
    {
     "name": "stdout",
     "output_type": "stream",
     "text": [
      "R2 (test): 48.5094 %\n",
      "MAE (test): 0.6385139528232114\n"
     ]
    }
   ],
   "source": [
    "from sklearn.linear_model import Ridge\n",
    "from sklearn.metrics import r2_score, mean_absolute_error\n",
    "\n",
    "seed = 42\n",
    "\n",
    "Ridge_Model = Ridge(random_state=seed)\n",
    "Ridge_Model.fit(X_train, y_train)\n",
    "\n",
    "y_pred_Ridge_Model = Ridge_Model.predict(X_test)\n",
    "\n",
    "R2_Ridge_Model = r2_score(y_test, y_pred_Ridge_Model)\n",
    "MAE_Ridge_Model = mean_absolute_error(y_test, y_pred_Ridge_Model)\n",
    "\n",
    "print(\"R2 (test):\", round(((R2_Ridge_Model)*100),4),\"%\")\n",
    "print(\"MAE (test):\", MAE_Ridge_Model)"
   ]
  },
  {
   "attachments": {},
   "cell_type": "markdown",
   "metadata": {},
   "source": [
    "### Lasso"
   ]
  },
  {
   "cell_type": "code",
   "execution_count": 28,
   "metadata": {},
   "outputs": [
    {
     "name": "stdout",
     "output_type": "stream",
     "text": [
      "R2 (test): -0.0562 %\n",
      "MAE (test): 0.9448887204069655\n"
     ]
    }
   ],
   "source": [
    "from sklearn.linear_model import Lasso\n",
    "from sklearn.metrics import r2_score, mean_absolute_error\n",
    "\n",
    "seed = 42\n",
    "\n",
    "Lasso_Model = Lasso(alpha = 10, max_iter= 100000, random_state=seed)\n",
    "Lasso_Model.fit(X_train, y_train)\n",
    "\n",
    "y_pred_Lasso_Model = Lasso_Model.predict(X_test)\n",
    "\n",
    "R2_Lasso_Model = r2_score(y_test, y_pred_Lasso_Model)\n",
    "MAE_Lasso_Model = mean_absolute_error(y_test, y_pred_Lasso_Model)\n",
    "\n",
    "print(\"R2 (test):\", round(((R2_Lasso_Model)*100),4),\"%\")\n",
    "print(\"MAE (test):\", MAE_Lasso_Model)"
   ]
  },
  {
   "attachments": {},
   "cell_type": "markdown",
   "metadata": {},
   "source": [
    "### ElasticNet"
   ]
  },
  {
   "cell_type": "code",
   "execution_count": 29,
   "metadata": {},
   "outputs": [
    {
     "name": "stdout",
     "output_type": "stream",
     "text": [
      "R2 (test): -0.0562 %\n",
      "MAE (test): 0.9448887204069655\n"
     ]
    }
   ],
   "source": [
    "from sklearn.linear_model import ElasticNet\n",
    "from sklearn.metrics import r2_score, mean_absolute_error\n",
    "\n",
    "seed = 42\n",
    "\n",
    "ElasticNet_Model = ElasticNet(alpha = 10, l1_ratio= 0.5, random_state=seed)\n",
    "ElasticNet_Model.fit(X_train, y_train)\n",
    "\n",
    "y_pred_ElasticNet_Model = ElasticNet_Model.predict(X_test)\n",
    "\n",
    "R2_ElasticNet_Model = r2_score(y_test, y_pred_ElasticNet_Model)\n",
    "MAE_ElasticNet_Model = mean_absolute_error(y_test, y_pred_ElasticNet_Model)\n",
    "\n",
    "print(\"R2 (test):\", round(((R2_ElasticNet_Model)*100),4),\"%\")\n",
    "print(\"MAE (test):\", MAE_ElasticNet_Model)"
   ]
  },
  {
   "attachments": {},
   "cell_type": "markdown",
   "metadata": {},
   "source": [
    "### BayesianRidge"
   ]
  },
  {
   "cell_type": "code",
   "execution_count": 30,
   "metadata": {},
   "outputs": [
    {
     "name": "stdout",
     "output_type": "stream",
     "text": [
      "R2 (test): 48.5133 %\n",
      "MAE (test): 0.6386409979998462\n"
     ]
    }
   ],
   "source": [
    "from sklearn.linear_model import BayesianRidge\n",
    "from sklearn.metrics import r2_score, mean_absolute_error\n",
    "\n",
    "Bayesian_Model = BayesianRidge(n_iter = 5000)\n",
    "Bayesian_Model.fit(X_train, y_train)\n",
    "\n",
    "y_pred_Bayesian_Model = Bayesian_Model.predict(X_test)\n",
    "\n",
    "R2_Bayesian_Model = r2_score(y_test, y_pred_Bayesian_Model)\n",
    "MAE_Bayesian_Model = mean_absolute_error(y_test, y_pred_Bayesian_Model)\n",
    "\n",
    "print(\"R2 (test):\", round(((R2_Bayesian_Model)*100),4),\"%\")\n",
    "print(\"MAE (test):\", MAE_Bayesian_Model)"
   ]
  },
  {
   "attachments": {},
   "cell_type": "markdown",
   "metadata": {},
   "source": [
    "# 3. Tree Based Models"
   ]
  },
  {
   "attachments": {},
   "cell_type": "markdown",
   "metadata": {},
   "source": [
    "### RandomForestRegressor"
   ]
  },
  {
   "cell_type": "code",
   "execution_count": 31,
   "metadata": {},
   "outputs": [
    {
     "name": "stdout",
     "output_type": "stream",
     "text": [
      "R2 (test): 52.268 %\n",
      "MAE (test): 0.5870193596824616\n"
     ]
    }
   ],
   "source": [
    "from sklearn.ensemble import RandomForestRegressor\n",
    "from sklearn.metrics import r2_score, mean_squared_error, mean_absolute_error\n",
    "\n",
    "seed = 42\n",
    "\n",
    "RndFrst_Model = RandomForestRegressor(random_state= seed)\n",
    "RndFrst_Model.fit(X_train, y_train)                          \n",
    "\n",
    "y_pred_RndFrst_Model = RndFrst_Model.predict(X_test)\n",
    "         \n",
    "R2_RndFrst_Model = r2_score(y_test, y_pred_RndFrst_Model)\n",
    "MAE_RndFrst_Model = mean_absolute_error(y_test, y_pred_RndFrst_Model)\n",
    "\n",
    "print(\"R2 (test):\", round(((R2_RndFrst_Model)*100),4),\"%\")\n",
    "print(\"MAE (test):\", MAE_RndFrst_Model)"
   ]
  },
  {
   "attachments": {},
   "cell_type": "markdown",
   "metadata": {},
   "source": [
    "### DecisionTreeRegressor"
   ]
  },
  {
   "cell_type": "code",
   "execution_count": 32,
   "metadata": {},
   "outputs": [
    {
     "name": "stdout",
     "output_type": "stream",
     "text": [
      "R2 (test): 17.5807 %\n",
      "MAE (test): 0.7553901548900895\n"
     ]
    }
   ],
   "source": [
    "from sklearn.tree import DecisionTreeRegressor\n",
    "from sklearn.metrics import r2_score, mean_absolute_error\n",
    "\n",
    "seed = 42\n",
    "\n",
    "DcsTree_Model = DecisionTreeRegressor(random_state= seed)\n",
    "DcsTree_Model.fit(X_train, y_train)\n",
    "\n",
    "y_pred_DcsTree_Model = DcsTree_Model.predict(X_test)\n",
    "\n",
    "R2_DcsTree_Model = r2_score(y_test, y_pred_DcsTree_Model)\n",
    "MAE_DcsTree_Model = mean_absolute_error(y_test, y_pred_DcsTree_Model)\n",
    "\n",
    "print(\"R2 (test):\", round(((R2_DcsTree_Model)*100),4),\"%\")\n",
    "print(\"MAE (test):\", MAE_DcsTree_Model)"
   ]
  },
  {
   "attachments": {},
   "cell_type": "markdown",
   "metadata": {},
   "source": [
    "### CatBoostRegressor"
   ]
  },
  {
   "cell_type": "code",
   "execution_count": 33,
   "metadata": {},
   "outputs": [
    {
     "name": "stdout",
     "output_type": "stream",
     "text": [
      "R2 (test): 58.3686 %\n",
      "MAE (test): 0.5642408424792049\n"
     ]
    }
   ],
   "source": [
    "from catboost import CatBoostRegressor\n",
    "from sklearn.metrics import r2_score, mean_absolute_error\n",
    "\n",
    "seed = 42\n",
    "\n",
    "CatBoost_Model = CatBoostRegressor(random_state= seed, verbose = False, learning_rate= 0.1, max_depth= 8, n_estimators= 300)\n",
    "CatBoost_Model.fit(X_train, y_train)\n",
    "\n",
    "y_pred_CatBoost_Model = CatBoost_Model.predict(X_test)\n",
    "\n",
    "R2_CatBoost_Model = r2_score(y_test, y_pred_CatBoost_Model)\n",
    "MAE_CatBoost_Model = mean_absolute_error(y_test, y_pred_CatBoost_Model)\n",
    "\n",
    "print(\"R2 (test):\", round(((R2_CatBoost_Model)*100),4),\"%\")\n",
    "print(\"MAE (test):\", MAE_CatBoost_Model)"
   ]
  },
  {
   "attachments": {},
   "cell_type": "markdown",
   "metadata": {},
   "source": [
    "### Light GBM"
   ]
  },
  {
   "cell_type": "code",
   "execution_count": 34,
   "metadata": {},
   "outputs": [
    {
     "name": "stdout",
     "output_type": "stream",
     "text": [
      "[LightGBM] [Warning] Auto-choosing row-wise multi-threading, the overhead of testing was 0.000831 seconds.\n",
      "You can set `force_row_wise=true` to remove the overhead.\n",
      "And if memory is not enough, you can set `force_col_wise=true`.\n",
      "[LightGBM] [Info] Total Bins 267\n",
      "[LightGBM] [Info] Number of data points in the train set: 8608, number of used features: 28\n",
      "[LightGBM] [Info] Start training from score 5.978671\n",
      "R2 (test): 58.388 %\n",
      "MAE (test): 0.5650050693225112\n"
     ]
    }
   ],
   "source": [
    "import lightgbm as lgb\n",
    "from sklearn.metrics import r2_score, mean_absolute_error\n",
    "\n",
    "\n",
    "lgb_train = lgb.Dataset(X_train, y_train)\n",
    "\n",
    "params = {\n",
    "    'objective': 'regression',\n",
    "    'metric': 'rmse',\n",
    "    'num_leaves': 31,\n",
    "    'learning_rate': 0.05\n",
    "}\n",
    "\n",
    "num_round = 100\n",
    "LGBM_Model = lgb.train(params, lgb_train, num_boost_round=num_round)\n",
    "\n",
    "y_pred_LGBM_Model = LGBM_Model.predict(X_test)\n",
    "\n",
    "R2_LGBM_Model= r2_score(y_test, y_pred_LGBM_Model)\n",
    "MAE_LGBM_Model = mean_absolute_error(y_test, y_pred_LGBM_Model)\n",
    "\n",
    "print(\"R2 (test):\", round(((R2_LGBM_Model)*100),4),\"%\")\n",
    "print(\"MAE (test):\", MAE_LGBM_Model)"
   ]
  },
  {
   "attachments": {},
   "cell_type": "markdown",
   "metadata": {},
   "source": [
    "### GradientBoostingRegressor"
   ]
  },
  {
   "cell_type": "code",
   "execution_count": 35,
   "metadata": {},
   "outputs": [
    {
     "name": "stdout",
     "output_type": "stream",
     "text": [
      "R2 (test): 54.5947 %\n",
      "MAE (test): 0.5832691403009419\n"
     ]
    }
   ],
   "source": [
    "from sklearn.ensemble import GradientBoostingRegressor\n",
    "from sklearn.metrics import r2_score, mean_absolute_error\n",
    "\n",
    "seed = 42\n",
    "\n",
    "GradBoost_Model = GradientBoostingRegressor(random_state= seed, verbose = False, learning_rate= 0.1, max_depth= 8, n_estimators= 300)\n",
    "GradBoost_Model.fit(X_train, y_train)\n",
    "\n",
    "y_pred_GradBoost_Model = GradBoost_Model.predict(X_test)\n",
    "\n",
    "R2_GradBoost_Model = r2_score(y_test, y_pred_GradBoost_Model)\n",
    "MAE_GradBoost_Model = mean_absolute_error(y_test, y_pred_GradBoost_Model)\n",
    "\n",
    "print(\"R2 (test):\", round(((R2_GradBoost_Model)*100),4),\"%\")\n",
    "print(\"MAE (test):\", MAE_GradBoost_Model)"
   ]
  },
  {
   "attachments": {},
   "cell_type": "markdown",
   "metadata": {},
   "source": [
    "### XGBRegressor"
   ]
  },
  {
   "cell_type": "code",
   "execution_count": 36,
   "metadata": {},
   "outputs": [
    {
     "name": "stdout",
     "output_type": "stream",
     "text": [
      "R2 (test): 55.6065 %\n",
      "MAE (test): 0.5792470183184272\n"
     ]
    }
   ],
   "source": [
    "from xgboost import XGBRegressor\n",
    "from sklearn.metrics import r2_score, mean_absolute_error\n",
    "\n",
    "seed = 42\n",
    "\n",
    "XGBBoost_Model = XGBRegressor(random_state=seed, learning_rate= 0.1, max_depth= 8, n_estimators= 300)\n",
    "XGBBoost_Model.fit(X_train, y_train)\n",
    "\n",
    "y_pred_XGBBoost_Model = XGBBoost_Model.predict(X_test)\n",
    "\n",
    "R2_XGBBoost_Model = r2_score(y_test, y_pred_XGBBoost_Model)\n",
    "MAE_XGBBoost_Model = mean_absolute_error(y_test, y_pred_XGBBoost_Model)\n",
    "\n",
    "print(\"R2 (test):\", round(((R2_XGBBoost_Model)*100),4),\"%\")\n",
    "print(\"MAE (test):\", MAE_XGBBoost_Model)"
   ]
  },
  {
   "attachments": {},
   "cell_type": "markdown",
   "metadata": {},
   "source": [
    "### AdaBoost"
   ]
  },
  {
   "cell_type": "code",
   "execution_count": 37,
   "metadata": {},
   "outputs": [
    {
     "name": "stdout",
     "output_type": "stream",
     "text": [
      "R2 (test): 47.4691 %\n",
      "MAE (test): 0.658111875618868\n"
     ]
    }
   ],
   "source": [
    "from sklearn.ensemble import AdaBoostRegressor\n",
    "from sklearn.metrics import r2_score, mean_absolute_error\n",
    "\n",
    "seed = 42\n",
    "\n",
    "AdaBoost_Model = AdaBoostRegressor(random_state= seed, learning_rate= 0.1, n_estimators= 150)\n",
    "AdaBoost_Model.fit(X_train, y_train)\n",
    "\n",
    "y_pred_AdaBoost_Model = AdaBoost_Model.predict(X_test)\n",
    "\n",
    "R2_AdaBoost_Model = r2_score(y_test, y_pred_AdaBoost_Model)\n",
    "MAE_AdaBoost_Model = mean_absolute_error(y_test, y_pred_AdaBoost_Model)\n",
    "\n",
    "print(\"R2 (test):\", round(((R2_AdaBoost_Model)*100),4),\"%\")\n",
    "print(\"MAE (test):\", MAE_AdaBoost_Model)"
   ]
  },
  {
   "attachments": {},
   "cell_type": "markdown",
   "metadata": {},
   "source": [
    "# 4. Misc - Models"
   ]
  },
  {
   "attachments": {},
   "cell_type": "markdown",
   "metadata": {},
   "source": [
    "### KNeighborsRegressor"
   ]
  },
  {
   "cell_type": "code",
   "execution_count": 38,
   "metadata": {},
   "outputs": [
    {
     "name": "stdout",
     "output_type": "stream",
     "text": [
      "R2 (test): 43.1269 %\n",
      "MAE (test): 0.6498552631578948\n"
     ]
    }
   ],
   "source": [
    "from sklearn.neighbors import KNeighborsRegressor\n",
    "from sklearn.metrics import r2_score, mean_absolute_error\n",
    "\n",
    "KNN_Model = KNeighborsRegressor()\n",
    "KNN_Model.fit(X_train, y_train)\n",
    "\n",
    "y_pred_KNN_Model = KNN_Model.predict(X_test)\n",
    "\n",
    "R2_KNN_Model = r2_score(y_test, y_pred_KNN_Model)\n",
    "MAE_KNN_Model = mean_absolute_error(y_test, y_pred_KNN_Model)\n",
    "\n",
    "print(\"R2 (test):\", round(((R2_KNN_Model)*100),4),\"%\")\n",
    "print(\"MAE (test):\", MAE_KNN_Model)"
   ]
  },
  {
   "attachments": {},
   "cell_type": "markdown",
   "metadata": {},
   "source": [
    "### Support Vector Machine"
   ]
  },
  {
   "cell_type": "code",
   "execution_count": 39,
   "metadata": {},
   "outputs": [
    {
     "name": "stdout",
     "output_type": "stream",
     "text": [
      "R2 (test): 52.084 %\n",
      "MAE (test): 0.5953772013556841\n"
     ]
    }
   ],
   "source": [
    "from sklearn.svm import SVR\n",
    "from sklearn.metrics import r2_score, mean_absolute_error\n",
    "\n",
    "SupVecMac_Model = SVR()\n",
    "SupVecMac_Model.fit(X_train, y_train)\n",
    "\n",
    "y_pred_SupVecMac_Model = SupVecMac_Model.predict(X_test)\n",
    "\n",
    "R2_SupVecMac_Model= r2_score(y_test, y_pred_SupVecMac_Model)\n",
    "MAE_SupVecMac_Model = mean_absolute_error(y_test, y_pred_SupVecMac_Model)\n",
    "\n",
    "print(\"R2 (test):\", round(((R2_SupVecMac_Model)*100),4),\"%\")\n",
    "print(\"MAE (test):\", MAE_SupVecMac_Model)"
   ]
  },
  {
   "attachments": {},
   "cell_type": "markdown",
   "metadata": {},
   "source": [
    "# 5. Neural Networks and Deep Learning"
   ]
  },
  {
   "attachments": {},
   "cell_type": "markdown",
   "metadata": {},
   "source": [
    "### MLP Regressor"
   ]
  },
  {
   "cell_type": "code",
   "execution_count": 40,
   "metadata": {},
   "outputs": [
    {
     "name": "stdout",
     "output_type": "stream",
     "text": [
      "R2 (test): 51.8805 %\n",
      "MAE (test): 0.611054317627869\n"
     ]
    }
   ],
   "source": [
    "from sklearn.neural_network import MLPRegressor\n",
    "from sklearn.metrics import r2_score, mean_absolute_error\n",
    "\n",
    "seed = 42\n",
    "\n",
    "MLP_Model = MLPRegressor(hidden_layer_sizes=(100, ), activation='relu', solver='adam', random_state=seed)\n",
    "MLP_Model.fit(X_train, y_train)\n",
    "\n",
    "y_pred_MLP_Model = MLP_Model.predict(X_test)\n",
    "\n",
    "R2_MLP_Model = r2_score(y_test, y_pred_MLP_Model)\n",
    "MAE_SupVecMac_Model = mean_absolute_error(y_test, y_pred_MLP_Model)\n",
    "\n",
    "print(\"R2 (test):\", round(((R2_MLP_Model)*100),4),\"%\")\n",
    "print(\"MAE (test):\", MAE_SupVecMac_Model)"
   ]
  },
  {
   "attachments": {},
   "cell_type": "markdown",
   "metadata": {},
   "source": [
    "# Optimización de modelos"
   ]
  },
  {
   "attachments": {},
   "cell_type": "markdown",
   "metadata": {},
   "source": [
    "### Comparo las métricas de todos los modelos en un DataFrame"
   ]
  },
  {
   "cell_type": "code",
   "execution_count": 41,
   "metadata": {},
   "outputs": [],
   "source": [
    "import types\n",
    "\n",
    "pred_lista = []\n",
    "\n",
    "# Obtener copia del espacio de nombres de usuario\n",
    "user_ns = dict(get_ipython().user_ns)\n",
    "\n",
    "# Obtener variables definidas en las celdas del notebook\n",
    "notebook_vars = []\n",
    "for var_name, var_value in user_ns.items():\n",
    "    # Excluir variables internas del entorno y módulos importados\n",
    "    if not var_name.startswith('_') and not isinstance(var_value, types.ModuleType) and var_name.startswith('y_pred'):\n",
    "        notebook_vars.append(var_name)\n",
    "\n",
    "for var in notebook_vars:\n",
    "    pred_lista.append(var)\n",
    "\n",
    "models_list = []\n",
    "for model in pred_lista:\n",
    "    models_list.append(model.split(\"_Model\")[0].split(\"y_pred_\")[1]+\" \")"
   ]
  },
  {
   "cell_type": "code",
   "execution_count": 42,
   "metadata": {},
   "outputs": [],
   "source": [
    "pred_lista = [y_pred_OrthogonalMP_Model, y_pred_RANSAC_Model, y_pred_Huber_Model, y_pred_Lars_Model, y_pred_LinReg_Model, y_pred_Ridge_Model, y_pred_Lasso_Model, y_pred_ElasticNet_Model,\n",
    " y_pred_Bayesian_Model, y_pred_RndFrst_Model, y_pred_DcsTree_Model, y_pred_CatBoost_Model, y_pred_LGBM_Model, y_pred_GradBoost_Model, y_pred_XGBBoost_Model, y_pred_AdaBoost_Model,\n",
    " y_pred_KNN_Model, y_pred_SupVecMac_Model,y_pred_MLP_Model]\n",
    "\n",
    "rmse_metric = []\n",
    "mse_metric = []\n",
    "r2_metric = []\n",
    "mae_metric = []\n",
    "\n",
    "def metrics(y_true, lista_pred):\n",
    "\n",
    "    from sklearn.metrics import mean_squared_error\n",
    "\n",
    "    for pred in lista_pred:\n",
    "        r2_metric.append(r2_score(y_true, pred))\n",
    "        mse_metric.append(mean_squared_error(y_true, pred, squared=True))\n",
    "        rmse_metric.append(mean_squared_error(y_true, pred, squared=False))\n",
    "        mae_metric.append(mean_absolute_error(y_true, pred))\n",
    "\n",
    "metrics(y_test, pred_lista)"
   ]
  },
  {
   "cell_type": "code",
   "execution_count": 43,
   "metadata": {},
   "outputs": [
    {
     "data": {
      "text/html": [
       "<div>\n",
       "<style scoped>\n",
       "    .dataframe tbody tr th:only-of-type {\n",
       "        vertical-align: middle;\n",
       "    }\n",
       "\n",
       "    .dataframe tbody tr th {\n",
       "        vertical-align: top;\n",
       "    }\n",
       "\n",
       "    .dataframe thead th {\n",
       "        text-align: right;\n",
       "    }\n",
       "</style>\n",
       "<table border=\"1\" class=\"dataframe\">\n",
       "  <thead>\n",
       "    <tr style=\"text-align: right;\">\n",
       "      <th></th>\n",
       "      <th>Modelos</th>\n",
       "      <th>RMSE</th>\n",
       "      <th>MSE</th>\n",
       "      <th>R2_SCORE</th>\n",
       "      <th>MAE</th>\n",
       "    </tr>\n",
       "  </thead>\n",
       "  <tbody>\n",
       "    <tr>\n",
       "      <th>0</th>\n",
       "      <td>LGBM</td>\n",
       "      <td>0.712171</td>\n",
       "      <td>0.507187</td>\n",
       "      <td>0.583880</td>\n",
       "      <td>0.565005</td>\n",
       "    </tr>\n",
       "    <tr>\n",
       "      <th>1</th>\n",
       "      <td>CatBoost</td>\n",
       "      <td>0.712337</td>\n",
       "      <td>0.507424</td>\n",
       "      <td>0.583686</td>\n",
       "      <td>0.564241</td>\n",
       "    </tr>\n",
       "    <tr>\n",
       "      <th>2</th>\n",
       "      <td>XGBBoost</td>\n",
       "      <td>0.735588</td>\n",
       "      <td>0.541090</td>\n",
       "      <td>0.556065</td>\n",
       "      <td>0.579247</td>\n",
       "    </tr>\n",
       "    <tr>\n",
       "      <th>3</th>\n",
       "      <td>GradBoost</td>\n",
       "      <td>0.743923</td>\n",
       "      <td>0.553422</td>\n",
       "      <td>0.545947</td>\n",
       "      <td>0.583269</td>\n",
       "    </tr>\n",
       "    <tr>\n",
       "      <th>4</th>\n",
       "      <td>RndFrst</td>\n",
       "      <td>0.762746</td>\n",
       "      <td>0.581781</td>\n",
       "      <td>0.522680</td>\n",
       "      <td>0.587019</td>\n",
       "    </tr>\n",
       "    <tr>\n",
       "      <th>5</th>\n",
       "      <td>SupVecMac</td>\n",
       "      <td>0.764214</td>\n",
       "      <td>0.584024</td>\n",
       "      <td>0.520840</td>\n",
       "      <td>0.595377</td>\n",
       "    </tr>\n",
       "    <tr>\n",
       "      <th>6</th>\n",
       "      <td>MLP</td>\n",
       "      <td>0.765836</td>\n",
       "      <td>0.586504</td>\n",
       "      <td>0.518805</td>\n",
       "      <td>0.611054</td>\n",
       "    </tr>\n",
       "    <tr>\n",
       "      <th>7</th>\n",
       "      <td>LinReg</td>\n",
       "      <td>0.791580</td>\n",
       "      <td>0.626598</td>\n",
       "      <td>0.485910</td>\n",
       "      <td>0.637792</td>\n",
       "    </tr>\n",
       "    <tr>\n",
       "      <th>8</th>\n",
       "      <td>RANSAC</td>\n",
       "      <td>0.791706</td>\n",
       "      <td>0.626799</td>\n",
       "      <td>0.485745</td>\n",
       "      <td>0.637902</td>\n",
       "    </tr>\n",
       "    <tr>\n",
       "      <th>9</th>\n",
       "      <td>Bayesian</td>\n",
       "      <td>0.792178</td>\n",
       "      <td>0.627546</td>\n",
       "      <td>0.485133</td>\n",
       "      <td>0.638641</td>\n",
       "    </tr>\n",
       "    <tr>\n",
       "      <th>10</th>\n",
       "      <td>Ridge</td>\n",
       "      <td>0.792208</td>\n",
       "      <td>0.627593</td>\n",
       "      <td>0.485094</td>\n",
       "      <td>0.638514</td>\n",
       "    </tr>\n",
       "    <tr>\n",
       "      <th>11</th>\n",
       "      <td>Lars</td>\n",
       "      <td>0.792208</td>\n",
       "      <td>0.627594</td>\n",
       "      <td>0.485093</td>\n",
       "      <td>0.638511</td>\n",
       "    </tr>\n",
       "    <tr>\n",
       "      <th>12</th>\n",
       "      <td>OrthogonalMP</td>\n",
       "      <td>0.792208</td>\n",
       "      <td>0.627594</td>\n",
       "      <td>0.485093</td>\n",
       "      <td>0.638511</td>\n",
       "    </tr>\n",
       "    <tr>\n",
       "      <th>13</th>\n",
       "      <td>Huber</td>\n",
       "      <td>0.793237</td>\n",
       "      <td>0.629226</td>\n",
       "      <td>0.483754</td>\n",
       "      <td>0.636157</td>\n",
       "    </tr>\n",
       "  </tbody>\n",
       "</table>\n",
       "</div>"
      ],
      "text/plain": [
       "          Modelos      RMSE       MSE  R2_SCORE       MAE\n",
       "0           LGBM   0.712171  0.507187  0.583880  0.565005\n",
       "1       CatBoost   0.712337  0.507424  0.583686  0.564241\n",
       "2       XGBBoost   0.735588  0.541090  0.556065  0.579247\n",
       "3      GradBoost   0.743923  0.553422  0.545947  0.583269\n",
       "4        RndFrst   0.762746  0.581781  0.522680  0.587019\n",
       "5      SupVecMac   0.764214  0.584024  0.520840  0.595377\n",
       "6            MLP   0.765836  0.586504  0.518805  0.611054\n",
       "7         LinReg   0.791580  0.626598  0.485910  0.637792\n",
       "8         RANSAC   0.791706  0.626799  0.485745  0.637902\n",
       "9       Bayesian   0.792178  0.627546  0.485133  0.638641\n",
       "10         Ridge   0.792208  0.627593  0.485094  0.638514\n",
       "11          Lars   0.792208  0.627594  0.485093  0.638511\n",
       "12  OrthogonalMP   0.792208  0.627594  0.485093  0.638511\n",
       "13         Huber   0.793237  0.629226  0.483754  0.636157"
      ]
     },
     "execution_count": 43,
     "metadata": {},
     "output_type": "execute_result"
    }
   ],
   "source": [
    "df_metrics_14 = pd.DataFrame({'RMSE': rmse_metric, 'MSE': mse_metric, 'R2_SCORE': r2_metric, 'MAE': mae_metric}, index=models_list)\n",
    "df_metrics_14 = df_metrics_14.sort_values('R2_SCORE', ascending=False).reset_index().iloc[:-2,:]\n",
    "df_metrics_14.rename(columns = {\"index\":\"Modelos\"}, inplace =True)\n",
    "df_metrics_14.head(14)"
   ]
  },
  {
   "attachments": {},
   "cell_type": "markdown",
   "metadata": {},
   "source": [
    "### Muestro en una gráfica los resultados de las performance de los modelos"
   ]
  },
  {
   "cell_type": "code",
   "execution_count": 44,
   "metadata": {},
   "outputs": [
    {
     "data": {
      "application/vnd.plotly.v1+json": {
       "config": {
        "plotlyServerURL": "https://plot.ly"
       },
       "data": [
        {
         "alignmentgroup": "True",
         "hovertemplate": "R2_SCORE=%{marker.color}<br>Modelos=%{y}<extra></extra>",
         "legendgroup": "",
         "marker": {
          "color": [
           "#86A0B1",
           "#FEE28F",
           "#FFB144",
           "#FFFFFF",
           "#86A0B1",
           "#FEE28F",
           "#FFB144",
           "#FFFFFF",
           "#86A0B1",
           "#FEE28F",
           "#FFB144",
           "#FFFFFF",
           "#86A0B1",
           "#FEE28F",
           "#FFB144",
           "#FFFFFF",
           "#86A0B1",
           "#FEE28F",
           "#FFB144",
           "#FFFFFF"
          ],
          "coloraxis": "coloraxis",
          "pattern": {
           "shape": ""
          }
         },
         "name": "",
         "offsetgroup": "",
         "orientation": "h",
         "showlegend": false,
         "textfont": {
          "size": 16
         },
         "textposition": "auto",
         "type": "bar",
         "x": [
          0.17580719186991434,
          0.4312690925784437,
          0.4746913527650132,
          0.48375430368931804,
          0.485092740484417,
          0.4850927404844172,
          0.4850938185642766,
          0.48513254585882726,
          0.48574546290804377,
          0.48590996512450524,
          0.5188048379852576,
          0.5208400938430394,
          0.5226798025721424,
          0.545947016750441,
          0.5560646401787113,
          0.5836861900636945,
          0.5838801110658536
         ],
         "xaxis": "x",
         "y": [
          "DcsTree ",
          "KNN ",
          "AdaBoost ",
          "Huber ",
          "OrthogonalMP ",
          "Lars ",
          "Ridge ",
          "Bayesian ",
          "RANSAC ",
          "LinReg ",
          "MLP ",
          "SupVecMac ",
          "RndFrst ",
          "GradBoost ",
          "XGBBoost ",
          "CatBoost ",
          "LGBM "
         ],
         "yaxis": "y"
        }
       ],
       "layout": {
        "barmode": "group",
        "coloraxis": {
         "colorbar": {
          "title": {
           "text": "R2_SCORE"
          }
         },
         "colorscale": [
          [
           0,
           "#0d0887"
          ],
          [
           0.1111111111111111,
           "#46039f"
          ],
          [
           0.2222222222222222,
           "#7201a8"
          ],
          [
           0.3333333333333333,
           "#9c179e"
          ],
          [
           0.4444444444444444,
           "#bd3786"
          ],
          [
           0.5555555555555556,
           "#d8576b"
          ],
          [
           0.6666666666666666,
           "#ed7953"
          ],
          [
           0.7777777777777778,
           "#fb9f3a"
          ],
          [
           0.8888888888888888,
           "#fdca26"
          ],
          [
           1,
           "#f0f921"
          ]
         ]
        },
        "height": 700,
        "legend": {
         "tracegroupgap": 0
        },
        "margin": {
         "t": 60
        },
        "paper_bgcolor": "rgba(0,0,0,0)",
        "plot_bgcolor": "rgba(0,0,0,0)",
        "template": {
         "data": {
          "bar": [
           {
            "error_x": {
             "color": "#2a3f5f"
            },
            "error_y": {
             "color": "#2a3f5f"
            },
            "marker": {
             "line": {
              "color": "#E5ECF6",
              "width": 0.5
             },
             "pattern": {
              "fillmode": "overlay",
              "size": 10,
              "solidity": 0.2
             }
            },
            "type": "bar"
           }
          ],
          "barpolar": [
           {
            "marker": {
             "line": {
              "color": "#E5ECF6",
              "width": 0.5
             },
             "pattern": {
              "fillmode": "overlay",
              "size": 10,
              "solidity": 0.2
             }
            },
            "type": "barpolar"
           }
          ],
          "carpet": [
           {
            "aaxis": {
             "endlinecolor": "#2a3f5f",
             "gridcolor": "white",
             "linecolor": "white",
             "minorgridcolor": "white",
             "startlinecolor": "#2a3f5f"
            },
            "baxis": {
             "endlinecolor": "#2a3f5f",
             "gridcolor": "white",
             "linecolor": "white",
             "minorgridcolor": "white",
             "startlinecolor": "#2a3f5f"
            },
            "type": "carpet"
           }
          ],
          "choropleth": [
           {
            "colorbar": {
             "outlinewidth": 0,
             "ticks": ""
            },
            "type": "choropleth"
           }
          ],
          "contour": [
           {
            "colorbar": {
             "outlinewidth": 0,
             "ticks": ""
            },
            "colorscale": [
             [
              0,
              "#0d0887"
             ],
             [
              0.1111111111111111,
              "#46039f"
             ],
             [
              0.2222222222222222,
              "#7201a8"
             ],
             [
              0.3333333333333333,
              "#9c179e"
             ],
             [
              0.4444444444444444,
              "#bd3786"
             ],
             [
              0.5555555555555556,
              "#d8576b"
             ],
             [
              0.6666666666666666,
              "#ed7953"
             ],
             [
              0.7777777777777778,
              "#fb9f3a"
             ],
             [
              0.8888888888888888,
              "#fdca26"
             ],
             [
              1,
              "#f0f921"
             ]
            ],
            "type": "contour"
           }
          ],
          "contourcarpet": [
           {
            "colorbar": {
             "outlinewidth": 0,
             "ticks": ""
            },
            "type": "contourcarpet"
           }
          ],
          "heatmap": [
           {
            "colorbar": {
             "outlinewidth": 0,
             "ticks": ""
            },
            "colorscale": [
             [
              0,
              "#0d0887"
             ],
             [
              0.1111111111111111,
              "#46039f"
             ],
             [
              0.2222222222222222,
              "#7201a8"
             ],
             [
              0.3333333333333333,
              "#9c179e"
             ],
             [
              0.4444444444444444,
              "#bd3786"
             ],
             [
              0.5555555555555556,
              "#d8576b"
             ],
             [
              0.6666666666666666,
              "#ed7953"
             ],
             [
              0.7777777777777778,
              "#fb9f3a"
             ],
             [
              0.8888888888888888,
              "#fdca26"
             ],
             [
              1,
              "#f0f921"
             ]
            ],
            "type": "heatmap"
           }
          ],
          "heatmapgl": [
           {
            "colorbar": {
             "outlinewidth": 0,
             "ticks": ""
            },
            "colorscale": [
             [
              0,
              "#0d0887"
             ],
             [
              0.1111111111111111,
              "#46039f"
             ],
             [
              0.2222222222222222,
              "#7201a8"
             ],
             [
              0.3333333333333333,
              "#9c179e"
             ],
             [
              0.4444444444444444,
              "#bd3786"
             ],
             [
              0.5555555555555556,
              "#d8576b"
             ],
             [
              0.6666666666666666,
              "#ed7953"
             ],
             [
              0.7777777777777778,
              "#fb9f3a"
             ],
             [
              0.8888888888888888,
              "#fdca26"
             ],
             [
              1,
              "#f0f921"
             ]
            ],
            "type": "heatmapgl"
           }
          ],
          "histogram": [
           {
            "marker": {
             "pattern": {
              "fillmode": "overlay",
              "size": 10,
              "solidity": 0.2
             }
            },
            "type": "histogram"
           }
          ],
          "histogram2d": [
           {
            "colorbar": {
             "outlinewidth": 0,
             "ticks": ""
            },
            "colorscale": [
             [
              0,
              "#0d0887"
             ],
             [
              0.1111111111111111,
              "#46039f"
             ],
             [
              0.2222222222222222,
              "#7201a8"
             ],
             [
              0.3333333333333333,
              "#9c179e"
             ],
             [
              0.4444444444444444,
              "#bd3786"
             ],
             [
              0.5555555555555556,
              "#d8576b"
             ],
             [
              0.6666666666666666,
              "#ed7953"
             ],
             [
              0.7777777777777778,
              "#fb9f3a"
             ],
             [
              0.8888888888888888,
              "#fdca26"
             ],
             [
              1,
              "#f0f921"
             ]
            ],
            "type": "histogram2d"
           }
          ],
          "histogram2dcontour": [
           {
            "colorbar": {
             "outlinewidth": 0,
             "ticks": ""
            },
            "colorscale": [
             [
              0,
              "#0d0887"
             ],
             [
              0.1111111111111111,
              "#46039f"
             ],
             [
              0.2222222222222222,
              "#7201a8"
             ],
             [
              0.3333333333333333,
              "#9c179e"
             ],
             [
              0.4444444444444444,
              "#bd3786"
             ],
             [
              0.5555555555555556,
              "#d8576b"
             ],
             [
              0.6666666666666666,
              "#ed7953"
             ],
             [
              0.7777777777777778,
              "#fb9f3a"
             ],
             [
              0.8888888888888888,
              "#fdca26"
             ],
             [
              1,
              "#f0f921"
             ]
            ],
            "type": "histogram2dcontour"
           }
          ],
          "mesh3d": [
           {
            "colorbar": {
             "outlinewidth": 0,
             "ticks": ""
            },
            "type": "mesh3d"
           }
          ],
          "parcoords": [
           {
            "line": {
             "colorbar": {
              "outlinewidth": 0,
              "ticks": ""
             }
            },
            "type": "parcoords"
           }
          ],
          "pie": [
           {
            "automargin": true,
            "type": "pie"
           }
          ],
          "scatter": [
           {
            "fillpattern": {
             "fillmode": "overlay",
             "size": 10,
             "solidity": 0.2
            },
            "type": "scatter"
           }
          ],
          "scatter3d": [
           {
            "line": {
             "colorbar": {
              "outlinewidth": 0,
              "ticks": ""
             }
            },
            "marker": {
             "colorbar": {
              "outlinewidth": 0,
              "ticks": ""
             }
            },
            "type": "scatter3d"
           }
          ],
          "scattercarpet": [
           {
            "marker": {
             "colorbar": {
              "outlinewidth": 0,
              "ticks": ""
             }
            },
            "type": "scattercarpet"
           }
          ],
          "scattergeo": [
           {
            "marker": {
             "colorbar": {
              "outlinewidth": 0,
              "ticks": ""
             }
            },
            "type": "scattergeo"
           }
          ],
          "scattergl": [
           {
            "marker": {
             "colorbar": {
              "outlinewidth": 0,
              "ticks": ""
             }
            },
            "type": "scattergl"
           }
          ],
          "scattermapbox": [
           {
            "marker": {
             "colorbar": {
              "outlinewidth": 0,
              "ticks": ""
             }
            },
            "type": "scattermapbox"
           }
          ],
          "scatterpolar": [
           {
            "marker": {
             "colorbar": {
              "outlinewidth": 0,
              "ticks": ""
             }
            },
            "type": "scatterpolar"
           }
          ],
          "scatterpolargl": [
           {
            "marker": {
             "colorbar": {
              "outlinewidth": 0,
              "ticks": ""
             }
            },
            "type": "scatterpolargl"
           }
          ],
          "scatterternary": [
           {
            "marker": {
             "colorbar": {
              "outlinewidth": 0,
              "ticks": ""
             }
            },
            "type": "scatterternary"
           }
          ],
          "surface": [
           {
            "colorbar": {
             "outlinewidth": 0,
             "ticks": ""
            },
            "colorscale": [
             [
              0,
              "#0d0887"
             ],
             [
              0.1111111111111111,
              "#46039f"
             ],
             [
              0.2222222222222222,
              "#7201a8"
             ],
             [
              0.3333333333333333,
              "#9c179e"
             ],
             [
              0.4444444444444444,
              "#bd3786"
             ],
             [
              0.5555555555555556,
              "#d8576b"
             ],
             [
              0.6666666666666666,
              "#ed7953"
             ],
             [
              0.7777777777777778,
              "#fb9f3a"
             ],
             [
              0.8888888888888888,
              "#fdca26"
             ],
             [
              1,
              "#f0f921"
             ]
            ],
            "type": "surface"
           }
          ],
          "table": [
           {
            "cells": {
             "fill": {
              "color": "#EBF0F8"
             },
             "line": {
              "color": "white"
             }
            },
            "header": {
             "fill": {
              "color": "#C8D4E3"
             },
             "line": {
              "color": "white"
             }
            },
            "type": "table"
           }
          ]
         },
         "layout": {
          "annotationdefaults": {
           "arrowcolor": "#2a3f5f",
           "arrowhead": 0,
           "arrowwidth": 1
          },
          "autotypenumbers": "strict",
          "coloraxis": {
           "colorbar": {
            "outlinewidth": 0,
            "ticks": ""
           }
          },
          "colorscale": {
           "diverging": [
            [
             0,
             "#8e0152"
            ],
            [
             0.1,
             "#c51b7d"
            ],
            [
             0.2,
             "#de77ae"
            ],
            [
             0.3,
             "#f1b6da"
            ],
            [
             0.4,
             "#fde0ef"
            ],
            [
             0.5,
             "#f7f7f7"
            ],
            [
             0.6,
             "#e6f5d0"
            ],
            [
             0.7,
             "#b8e186"
            ],
            [
             0.8,
             "#7fbc41"
            ],
            [
             0.9,
             "#4d9221"
            ],
            [
             1,
             "#276419"
            ]
           ],
           "sequential": [
            [
             0,
             "#0d0887"
            ],
            [
             0.1111111111111111,
             "#46039f"
            ],
            [
             0.2222222222222222,
             "#7201a8"
            ],
            [
             0.3333333333333333,
             "#9c179e"
            ],
            [
             0.4444444444444444,
             "#bd3786"
            ],
            [
             0.5555555555555556,
             "#d8576b"
            ],
            [
             0.6666666666666666,
             "#ed7953"
            ],
            [
             0.7777777777777778,
             "#fb9f3a"
            ],
            [
             0.8888888888888888,
             "#fdca26"
            ],
            [
             1,
             "#f0f921"
            ]
           ],
           "sequentialminus": [
            [
             0,
             "#0d0887"
            ],
            [
             0.1111111111111111,
             "#46039f"
            ],
            [
             0.2222222222222222,
             "#7201a8"
            ],
            [
             0.3333333333333333,
             "#9c179e"
            ],
            [
             0.4444444444444444,
             "#bd3786"
            ],
            [
             0.5555555555555556,
             "#d8576b"
            ],
            [
             0.6666666666666666,
             "#ed7953"
            ],
            [
             0.7777777777777778,
             "#fb9f3a"
            ],
            [
             0.8888888888888888,
             "#fdca26"
            ],
            [
             1,
             "#f0f921"
            ]
           ]
          },
          "colorway": [
           "#636efa",
           "#EF553B",
           "#00cc96",
           "#ab63fa",
           "#FFA15A",
           "#19d3f3",
           "#FF6692",
           "#B6E880",
           "#FF97FF",
           "#FECB52"
          ],
          "font": {
           "color": "#2a3f5f"
          },
          "geo": {
           "bgcolor": "white",
           "lakecolor": "white",
           "landcolor": "#E5ECF6",
           "showlakes": true,
           "showland": true,
           "subunitcolor": "white"
          },
          "hoverlabel": {
           "align": "left"
          },
          "hovermode": "closest",
          "mapbox": {
           "style": "light"
          },
          "paper_bgcolor": "white",
          "plot_bgcolor": "#E5ECF6",
          "polar": {
           "angularaxis": {
            "gridcolor": "white",
            "linecolor": "white",
            "ticks": ""
           },
           "bgcolor": "#E5ECF6",
           "radialaxis": {
            "gridcolor": "white",
            "linecolor": "white",
            "ticks": ""
           }
          },
          "scene": {
           "xaxis": {
            "backgroundcolor": "#E5ECF6",
            "gridcolor": "white",
            "gridwidth": 2,
            "linecolor": "white",
            "showbackground": true,
            "ticks": "",
            "zerolinecolor": "white"
           },
           "yaxis": {
            "backgroundcolor": "#E5ECF6",
            "gridcolor": "white",
            "gridwidth": 2,
            "linecolor": "white",
            "showbackground": true,
            "ticks": "",
            "zerolinecolor": "white"
           },
           "zaxis": {
            "backgroundcolor": "#E5ECF6",
            "gridcolor": "white",
            "gridwidth": 2,
            "linecolor": "white",
            "showbackground": true,
            "ticks": "",
            "zerolinecolor": "white"
           }
          },
          "shapedefaults": {
           "line": {
            "color": "#2a3f5f"
           }
          },
          "ternary": {
           "aaxis": {
            "gridcolor": "white",
            "linecolor": "white",
            "ticks": ""
           },
           "baxis": {
            "gridcolor": "white",
            "linecolor": "white",
            "ticks": ""
           },
           "bgcolor": "#E5ECF6",
           "caxis": {
            "gridcolor": "white",
            "linecolor": "white",
            "ticks": ""
           }
          },
          "title": {
           "x": 0.05
          },
          "xaxis": {
           "automargin": true,
           "gridcolor": "white",
           "linecolor": "white",
           "ticks": "",
           "title": {
            "standoff": 15
           },
           "zerolinecolor": "white",
           "zerolinewidth": 2
          },
          "yaxis": {
           "automargin": true,
           "gridcolor": "white",
           "linecolor": "white",
           "ticks": "",
           "title": {
            "standoff": 15
           },
           "zerolinecolor": "white",
           "zerolinewidth": 2
          }
         }
        },
        "width": 900,
        "xaxis": {
         "anchor": "y",
         "domain": [
          0,
          1
         ],
         "showticklabels": true,
         "tickfont": {
          "color": "white",
          "size": 20
         },
         "title": {
          "font": {
           "color": "white",
           "size": 18
          },
          "text": "R2 Score"
         }
        },
        "yaxis": {
         "anchor": "x",
         "domain": [
          0,
          1
         ],
         "showticklabels": true,
         "tickfont": {
          "color": "white",
          "size": 20
         },
         "title": {}
        }
       }
      }
     },
     "metadata": {},
     "output_type": "display_data"
    }
   ],
   "source": [
    "import plotly.express as px\n",
    "import pandas as pd\n",
    "\n",
    "colors = ['#86A0B1', '#FEE28F', '#FFB144', '#FFFFFF']\n",
    "\n",
    "fig = px.bar(df_metrics_14[::-1],\n",
    "             x='R2_SCORE',\n",
    "             y='Modelos',\n",
    "             color='R2_SCORE', # add color parameter\n",
    "             orientation='h',\n",
    "             barmode='group',\n",
    "            #  color_discrete_sequence=colors,\n",
    "             height=500,\n",
    "             title=None)\n",
    "\n",
    "fig.update_traces(\n",
    "    marker_color=np.tile(colors, 5),\n",
    "    textfont=dict(size=16),\n",
    ")\n",
    "\n",
    "fig.update_xaxes(showticklabels=True, \n",
    "                 tickfont=dict(size=20, color='white'),\n",
    "                 title=\"R2 Score\",\n",
    "                 title_font=dict(size=18, color='white'))\n",
    "\n",
    "fig.update_yaxes(showticklabels=True,\n",
    "                 title=None,\n",
    "                 tickfont=dict(size=20, color='white'))\n",
    "\n",
    "\n",
    "# set the background color to transparent\n",
    "fig.update_layout(\n",
    "    width=900,\n",
    "    height=700,\n",
    "    plot_bgcolor='rgba(0,0,0,0)',\n",
    "    paper_bgcolor='rgba(0,0,0,0)')\n",
    "\n",
    "\n",
    "fig.write_image('model_metrics_14.png')\n",
    "\n",
    "fig.show()"
   ]
  },
  {
   "attachments": {},
   "cell_type": "markdown",
   "metadata": {},
   "source": [
    "### Voting"
   ]
  },
  {
   "cell_type": "code",
   "execution_count": 45,
   "metadata": {},
   "outputs": [
    {
     "data": {
      "text/html": [
       "<style>#sk-container-id-1 {color: black;background-color: white;}#sk-container-id-1 pre{padding: 0;}#sk-container-id-1 div.sk-toggleable {background-color: white;}#sk-container-id-1 label.sk-toggleable__label {cursor: pointer;display: block;width: 100%;margin-bottom: 0;padding: 0.3em;box-sizing: border-box;text-align: center;}#sk-container-id-1 label.sk-toggleable__label-arrow:before {content: \"▸\";float: left;margin-right: 0.25em;color: #696969;}#sk-container-id-1 label.sk-toggleable__label-arrow:hover:before {color: black;}#sk-container-id-1 div.sk-estimator:hover label.sk-toggleable__label-arrow:before {color: black;}#sk-container-id-1 div.sk-toggleable__content {max-height: 0;max-width: 0;overflow: hidden;text-align: left;background-color: #f0f8ff;}#sk-container-id-1 div.sk-toggleable__content pre {margin: 0.2em;color: black;border-radius: 0.25em;background-color: #f0f8ff;}#sk-container-id-1 input.sk-toggleable__control:checked~div.sk-toggleable__content {max-height: 200px;max-width: 100%;overflow: auto;}#sk-container-id-1 input.sk-toggleable__control:checked~label.sk-toggleable__label-arrow:before {content: \"▾\";}#sk-container-id-1 div.sk-estimator input.sk-toggleable__control:checked~label.sk-toggleable__label {background-color: #d4ebff;}#sk-container-id-1 div.sk-label input.sk-toggleable__control:checked~label.sk-toggleable__label {background-color: #d4ebff;}#sk-container-id-1 input.sk-hidden--visually {border: 0;clip: rect(1px 1px 1px 1px);clip: rect(1px, 1px, 1px, 1px);height: 1px;margin: -1px;overflow: hidden;padding: 0;position: absolute;width: 1px;}#sk-container-id-1 div.sk-estimator {font-family: monospace;background-color: #f0f8ff;border: 1px dotted black;border-radius: 0.25em;box-sizing: border-box;margin-bottom: 0.5em;}#sk-container-id-1 div.sk-estimator:hover {background-color: #d4ebff;}#sk-container-id-1 div.sk-parallel-item::after {content: \"\";width: 100%;border-bottom: 1px solid gray;flex-grow: 1;}#sk-container-id-1 div.sk-label:hover label.sk-toggleable__label {background-color: #d4ebff;}#sk-container-id-1 div.sk-serial::before {content: \"\";position: absolute;border-left: 1px solid gray;box-sizing: border-box;top: 0;bottom: 0;left: 50%;z-index: 0;}#sk-container-id-1 div.sk-serial {display: flex;flex-direction: column;align-items: center;background-color: white;padding-right: 0.2em;padding-left: 0.2em;position: relative;}#sk-container-id-1 div.sk-item {position: relative;z-index: 1;}#sk-container-id-1 div.sk-parallel {display: flex;align-items: stretch;justify-content: center;background-color: white;position: relative;}#sk-container-id-1 div.sk-item::before, #sk-container-id-1 div.sk-parallel-item::before {content: \"\";position: absolute;border-left: 1px solid gray;box-sizing: border-box;top: 0;bottom: 0;left: 50%;z-index: -1;}#sk-container-id-1 div.sk-parallel-item {display: flex;flex-direction: column;z-index: 1;position: relative;background-color: white;}#sk-container-id-1 div.sk-parallel-item:first-child::after {align-self: flex-end;width: 50%;}#sk-container-id-1 div.sk-parallel-item:last-child::after {align-self: flex-start;width: 50%;}#sk-container-id-1 div.sk-parallel-item:only-child::after {width: 0;}#sk-container-id-1 div.sk-dashed-wrapped {border: 1px dashed gray;margin: 0 0.4em 0.5em 0.4em;box-sizing: border-box;padding-bottom: 0.4em;background-color: white;}#sk-container-id-1 div.sk-label label {font-family: monospace;font-weight: bold;display: inline-block;line-height: 1.2em;}#sk-container-id-1 div.sk-label-container {text-align: center;}#sk-container-id-1 div.sk-container {/* jupyter's `normalize.less` sets `[hidden] { display: none; }` but bootstrap.min.css set `[hidden] { display: none !important; }` so we also need the `!important` here to be able to override the default hidden behavior on the sphinx rendered scikit-learn.org. See: https://github.com/scikit-learn/scikit-learn/issues/21755 */display: inline-block !important;position: relative;}#sk-container-id-1 div.sk-text-repr-fallback {display: none;}</style><div id=\"sk-container-id-1\" class=\"sk-top-container\"><div class=\"sk-text-repr-fallback\"><pre>VotingRegressor(estimators=[(&#x27;ridge&#x27;, Ridge(random_state=42)),\n",
       "                            (&#x27;lin_reg&#x27;, LinearRegression()),\n",
       "                            (&#x27;huber&#x27;, HuberRegressor(alpha=0.5, epsilon=1.5)),\n",
       "                            (&#x27;cat&#x27;,\n",
       "                             &lt;catboost.core.CatBoostRegressor object at 0x000001E1D80BEDF0&gt;),\n",
       "                            (&#x27;svm&#x27;, SVR()),\n",
       "                            (&#x27;red_neu&#x27;, MLPRegressor(random_state=42))])</pre><b>In a Jupyter environment, please rerun this cell to show the HTML representation or trust the notebook. <br />On GitHub, the HTML representation is unable to render, please try loading this page with nbviewer.org.</b></div><div class=\"sk-container\" hidden><div class=\"sk-item sk-dashed-wrapped\"><div class=\"sk-label-container\"><div class=\"sk-label sk-toggleable\"><input class=\"sk-toggleable__control sk-hidden--visually\" id=\"sk-estimator-id-1\" type=\"checkbox\" ><label for=\"sk-estimator-id-1\" class=\"sk-toggleable__label sk-toggleable__label-arrow\">VotingRegressor</label><div class=\"sk-toggleable__content\"><pre>VotingRegressor(estimators=[(&#x27;ridge&#x27;, Ridge(random_state=42)),\n",
       "                            (&#x27;lin_reg&#x27;, LinearRegression()),\n",
       "                            (&#x27;huber&#x27;, HuberRegressor(alpha=0.5, epsilon=1.5)),\n",
       "                            (&#x27;cat&#x27;,\n",
       "                             &lt;catboost.core.CatBoostRegressor object at 0x000001E1D80BEDF0&gt;),\n",
       "                            (&#x27;svm&#x27;, SVR()),\n",
       "                            (&#x27;red_neu&#x27;, MLPRegressor(random_state=42))])</pre></div></div></div><div class=\"sk-parallel\"><div class=\"sk-parallel-item\"><div class=\"sk-item\"><div class=\"sk-label-container\"><div class=\"sk-label sk-toggleable\"><label>ridge</label></div></div><div class=\"sk-serial\"><div class=\"sk-item\"><div class=\"sk-estimator sk-toggleable\"><input class=\"sk-toggleable__control sk-hidden--visually\" id=\"sk-estimator-id-2\" type=\"checkbox\" ><label for=\"sk-estimator-id-2\" class=\"sk-toggleable__label sk-toggleable__label-arrow\">Ridge</label><div class=\"sk-toggleable__content\"><pre>Ridge(random_state=42)</pre></div></div></div></div></div></div><div class=\"sk-parallel-item\"><div class=\"sk-item\"><div class=\"sk-label-container\"><div class=\"sk-label sk-toggleable\"><label>lin_reg</label></div></div><div class=\"sk-serial\"><div class=\"sk-item\"><div class=\"sk-estimator sk-toggleable\"><input class=\"sk-toggleable__control sk-hidden--visually\" id=\"sk-estimator-id-3\" type=\"checkbox\" ><label for=\"sk-estimator-id-3\" class=\"sk-toggleable__label sk-toggleable__label-arrow\">LinearRegression</label><div class=\"sk-toggleable__content\"><pre>LinearRegression()</pre></div></div></div></div></div></div><div class=\"sk-parallel-item\"><div class=\"sk-item\"><div class=\"sk-label-container\"><div class=\"sk-label sk-toggleable\"><label>huber</label></div></div><div class=\"sk-serial\"><div class=\"sk-item\"><div class=\"sk-estimator sk-toggleable\"><input class=\"sk-toggleable__control sk-hidden--visually\" id=\"sk-estimator-id-4\" type=\"checkbox\" ><label for=\"sk-estimator-id-4\" class=\"sk-toggleable__label sk-toggleable__label-arrow\">HuberRegressor</label><div class=\"sk-toggleable__content\"><pre>HuberRegressor(alpha=0.5, epsilon=1.5)</pre></div></div></div></div></div></div><div class=\"sk-parallel-item\"><div class=\"sk-item\"><div class=\"sk-label-container\"><div class=\"sk-label sk-toggleable\"><label>cat</label></div></div><div class=\"sk-serial\"><div class=\"sk-item\"><div class=\"sk-estimator sk-toggleable\"><input class=\"sk-toggleable__control sk-hidden--visually\" id=\"sk-estimator-id-5\" type=\"checkbox\" ><label for=\"sk-estimator-id-5\" class=\"sk-toggleable__label sk-toggleable__label-arrow\">CatBoostRegressor</label><div class=\"sk-toggleable__content\"><pre>&lt;catboost.core.CatBoostRegressor object at 0x000001E1D80BEDF0&gt;</pre></div></div></div></div></div></div><div class=\"sk-parallel-item\"><div class=\"sk-item\"><div class=\"sk-label-container\"><div class=\"sk-label sk-toggleable\"><label>svm</label></div></div><div class=\"sk-serial\"><div class=\"sk-item\"><div class=\"sk-estimator sk-toggleable\"><input class=\"sk-toggleable__control sk-hidden--visually\" id=\"sk-estimator-id-6\" type=\"checkbox\" ><label for=\"sk-estimator-id-6\" class=\"sk-toggleable__label sk-toggleable__label-arrow\">SVR</label><div class=\"sk-toggleable__content\"><pre>SVR()</pre></div></div></div></div></div></div><div class=\"sk-parallel-item\"><div class=\"sk-item\"><div class=\"sk-label-container\"><div class=\"sk-label sk-toggleable\"><label>red_neu</label></div></div><div class=\"sk-serial\"><div class=\"sk-item\"><div class=\"sk-estimator sk-toggleable\"><input class=\"sk-toggleable__control sk-hidden--visually\" id=\"sk-estimator-id-7\" type=\"checkbox\" ><label for=\"sk-estimator-id-7\" class=\"sk-toggleable__label sk-toggleable__label-arrow\">MLPRegressor</label><div class=\"sk-toggleable__content\"><pre>MLPRegressor(random_state=42)</pre></div></div></div></div></div></div></div></div></div></div>"
      ],
      "text/plain": [
       "VotingRegressor(estimators=[('ridge', Ridge(random_state=42)),\n",
       "                            ('lin_reg', LinearRegression()),\n",
       "                            ('huber', HuberRegressor(alpha=0.5, epsilon=1.5)),\n",
       "                            ('cat',\n",
       "                             <catboost.core.CatBoostRegressor object at 0x000001E1D80BEDF0>),\n",
       "                            ('svm', SVR()),\n",
       "                            ('red_neu', MLPRegressor(random_state=42))])"
      ]
     },
     "execution_count": 45,
     "metadata": {},
     "output_type": "execute_result"
    }
   ],
   "source": [
    "from sklearn.ensemble import VotingRegressor\n",
    "\n",
    "estimators = [('ridge', Ridge_Model), \n",
    "              ('lin_reg', LinReg_Model), \n",
    "              ('huber', Huber_Model), \n",
    "              ('cat', CatBoost_Model), \n",
    "              ('svm', SupVecMac_Model),\n",
    "              ('red_neu',MLP_Model),\n",
    "              ]\n",
    "\n",
    "Voting_Model = VotingRegressor(estimators=estimators)\n",
    "Voting_Model"
   ]
  },
  {
   "cell_type": "code",
   "execution_count": 46,
   "metadata": {},
   "outputs": [
    {
     "name": "stdout",
     "output_type": "stream",
     "text": [
      "Ridge 0.4850938185642766\n",
      "LinearRegression 0.48590996512450524\n",
      "HuberRegressor 0.48375430368931804\n",
      "CatBoostRegressor 0.5836861900636945\n",
      "SVR 0.5208400938430394\n",
      "MLPRegressor 0.5188048379852576\n",
      "VotingRegressor 0.5474836565637731\n"
     ]
    }
   ],
   "source": [
    "from sklearn.metrics import r2_score\n",
    "\n",
    "model_list = [Ridge_Model, LinReg_Model, Huber_Model, CatBoost_Model, SupVecMac_Model, MLP_Model, Voting_Model]\n",
    "\n",
    "for model in model_list:\n",
    "    model.fit(X_train, y_train)\n",
    "    y_pred = model.predict(X_test)\n",
    "    print(model.__class__.__name__, r2_score(y_test, y_pred))\n"
   ]
  },
  {
   "cell_type": "code",
   "execution_count": 47,
   "metadata": {},
   "outputs": [
    {
     "name": "stdout",
     "output_type": "stream",
     "text": [
      "R2 (test): 54.7484 %\n",
      "MAE (test): 0.5933921196086617\n"
     ]
    }
   ],
   "source": [
    "y_pred_Voting_Model = Voting_Model.predict(X_test)\n",
    "\n",
    "R2_Voting_Model = r2_score(y_test, y_pred_Voting_Model)\n",
    "MAE_Voting_Model = mean_absolute_error(y_test, y_pred_Voting_Model)\n",
    "\n",
    "print(\"R2 (test):\", round(((R2_Voting_Model)*100),4),\"%\")\n",
    "print(\"MAE (test):\", MAE_Voting_Model)"
   ]
  },
  {
   "attachments": {},
   "cell_type": "markdown",
   "metadata": {},
   "source": [
    "### Combino las predicciones ponderando en función de la precisión (R2 score) de los 3 mejores modelos"
   ]
  },
  {
   "cell_type": "code",
   "execution_count": 48,
   "metadata": {},
   "outputs": [],
   "source": [
    "best_models = [SupVecMac_Model, CatBoost_Model, LGBM_Model]\n",
    "best_metrics = [R2_SupVecMac_Model, R2_CatBoost_Model, R2_LGBM_Model]\n",
    "best_predictions = [y_pred_SupVecMac_Model, y_pred_CatBoost_Model, y_pred_LGBM_Model]"
   ]
  },
  {
   "cell_type": "code",
   "execution_count": 49,
   "metadata": {},
   "outputs": [
    {
     "name": "stdout",
     "output_type": "stream",
     "text": [
      "R2 (test): 58.3217 %\n",
      "MAE (test): 0.5646057730796867\n"
     ]
    }
   ],
   "source": [
    "y_pred_SVM_CAT_LGBM = (R2_SupVecMac_Model * y_pred_SupVecMac_Model + R2_CatBoost_Model * y_pred_CatBoost_Model + R2_LGBM_Model * y_pred_LGBM_Model) / (R2_SupVecMac_Model + R2_CatBoost_Model + R2_LGBM_Model)\n",
    "\n",
    "R2_SVM_CAT_LGBM_Model = r2_score(y_test, y_pred_SVM_CAT_LGBM)\n",
    "MAE_SVM_CAT_LGBM_Model = mean_absolute_error(y_test, y_pred_SVM_CAT_LGBM)\n",
    "\n",
    "print(\"R2 (test):\", round(((R2_SVM_CAT_LGBM_Model)*100),4),\"%\")\n",
    "print(\"MAE (test):\", MAE_SVM_CAT_LGBM_Model)"
   ]
  },
  {
   "attachments": {},
   "cell_type": "markdown",
   "metadata": {},
   "source": [
    "### Combino las predicciones ponderando en función de la precisión (RMSE) de los 2 mejores modelos"
   ]
  },
  {
   "cell_type": "code",
   "execution_count": 50,
   "metadata": {},
   "outputs": [
    {
     "name": "stdout",
     "output_type": "stream",
     "text": [
      "R2 (test): 58.8847 %\n",
      "MAE (test): 0.5614763082073367\n"
     ]
    }
   ],
   "source": [
    "from sklearn.metrics import mean_squared_error\n",
    "\n",
    "RMSE_CatBoost_Model = mean_squared_error(y_test, y_pred_CatBoost_Model) \n",
    "RMSE_LGB_Model = mean_squared_error(y_test, y_pred_LGBM_Model)\n",
    "\n",
    "y_pred_CAT_LGBM_Model = (y_pred_LGBM_Model / RMSE_CatBoost_Model*2 + y_pred_CatBoost_Model / RMSE_LGB_Model*2) / (1 / RMSE_CatBoost_Model*2 + 1 / RMSE_LGB_Model*2)\n",
    "\n",
    "R2_CAT_LGBM_Model = r2_score(y_test, y_pred_CAT_LGBM_Model)\n",
    "MAE_CAT_LGBM_Model = mean_absolute_error(y_test, y_pred_CAT_LGBM_Model)\n",
    "\n",
    "print(\"R2 (test):\", round(((R2_CAT_LGBM_Model)*100),4),\"%\")\n",
    "print(\"MAE (test):\", MAE_CAT_LGBM_Model)"
   ]
  },
  {
   "attachments": {},
   "cell_type": "markdown",
   "metadata": {},
   "source": [
    "### Bagging"
   ]
  },
  {
   "cell_type": "code",
   "execution_count": 51,
   "metadata": {},
   "outputs": [
    {
     "name": "stdout",
     "output_type": "stream",
     "text": [
      "R2 (test): 59.0069 %\n",
      "MAE (test): 0.5593462432702482\n"
     ]
    }
   ],
   "source": [
    "from sklearn.ensemble import BaggingRegressor\n",
    "from sklearn.metrics import r2_score\n",
    "\n",
    "seed = 42\n",
    "\n",
    "# Entrenamos un ensamblaje de árboles de decisión utilizando la técnica de bagging\n",
    "Bagging_Model = BaggingRegressor(base_estimator=CatBoost_Model, n_estimators=10, random_state=seed)\n",
    "Bagging_Model.fit(X_train, y_train)\n",
    "\n",
    "# Hacemos una predicción con el árbol de decisión y el ensamblaje de árboles de decisión\n",
    "y_pred_Bagging_Model = Bagging_Model.predict(X_test)\n",
    "\n",
    "# Medimos la precisión de los modelos utilizando el coeficiente de determinación R^2\n",
    "R2_Bagging_Model = r2_score(y_test, y_pred_Bagging_Model)\n",
    "MAE_Bagging_Model = mean_absolute_error(y_test, y_pred_Bagging_Model)\n",
    "\n",
    "print(\"R2 (test):\", round(((R2_Bagging_Model)*100),4),\"%\")\n",
    "print(\"MAE (test):\", MAE_Bagging_Model)"
   ]
  },
  {
   "attachments": {},
   "cell_type": "markdown",
   "metadata": {},
   "source": [
    "### GridSearch"
   ]
  },
  {
   "attachments": {},
   "cell_type": "markdown",
   "metadata": {},
   "source": [
    "Algunas recomendaciones sobre los hiperparámetros que se pueden ajustar en CatBoost y los rangos de valores que podrías probar. Lista de los hiperparámetros y los rangos sugeridos:\n",
    "\n",
    "- learning_rate: tasa de aprendizaje, controla la velocidad a la que se adapta el modelo a los datos. Valores típicos son ```[0.01, 0.03, 0.1, 0.3, 1]```.\n",
    "- max_depth: profundidad máxima del árbol. Un valor demasiado alto puede provocar sobreajuste. Valores típicos son ```[3, 5, 7, 9, 11]```, -1 (sin límite de profundidad).\n",
    "- l2_leaf_reg: parámetro de regularización L2. Ayuda a prevenir el sobreajuste. Valores típicos son ```[1, 3, 5, 7, 9]```.\n",
    "- colsample_bylevel: porcentaje de características que se toman en cuenta para cada árbol. Valores típicos son ```[0.5, 0.7, 0.8, 1]```.\n",
    "- subsample: porcentaje de muestras que se toman en cuenta para cada árbol. Valores típicos son ```[0.5, 0.7, 0.8, 1]```.\n",
    "- iterations: número de iteraciones del modelo. Valores típicos son ```[500, 1000, 2000]```.\n",
    "\n",
    "El valor para el parámetro cv en GridSearchCV depende del tamaño de tus datos y del tiempo se esté dispuesto a esperar para que el modelo se ajuste. En general, se recomienda usar un valor de cv entre 5 y 10 para conjuntos de datos de tamaño moderado a grande.\n",
    "\n",
    "Dado que el conjunto de datos es de unos 10,000 registros, un valor de cv de 5 sería razonable. Esto significa que los datos se dividirían en 5 partes iguales y se ajustarían 5 modelos separados, cada uno de los cuales se ajusta en 4 partes y se evalúa en la restante."
   ]
  },
  {
   "cell_type": "code",
   "execution_count": 52,
   "metadata": {},
   "outputs": [
    {
     "data": {
      "text/html": [
       "<style>#sk-container-id-2 {color: black;background-color: white;}#sk-container-id-2 pre{padding: 0;}#sk-container-id-2 div.sk-toggleable {background-color: white;}#sk-container-id-2 label.sk-toggleable__label {cursor: pointer;display: block;width: 100%;margin-bottom: 0;padding: 0.3em;box-sizing: border-box;text-align: center;}#sk-container-id-2 label.sk-toggleable__label-arrow:before {content: \"▸\";float: left;margin-right: 0.25em;color: #696969;}#sk-container-id-2 label.sk-toggleable__label-arrow:hover:before {color: black;}#sk-container-id-2 div.sk-estimator:hover label.sk-toggleable__label-arrow:before {color: black;}#sk-container-id-2 div.sk-toggleable__content {max-height: 0;max-width: 0;overflow: hidden;text-align: left;background-color: #f0f8ff;}#sk-container-id-2 div.sk-toggleable__content pre {margin: 0.2em;color: black;border-radius: 0.25em;background-color: #f0f8ff;}#sk-container-id-2 input.sk-toggleable__control:checked~div.sk-toggleable__content {max-height: 200px;max-width: 100%;overflow: auto;}#sk-container-id-2 input.sk-toggleable__control:checked~label.sk-toggleable__label-arrow:before {content: \"▾\";}#sk-container-id-2 div.sk-estimator input.sk-toggleable__control:checked~label.sk-toggleable__label {background-color: #d4ebff;}#sk-container-id-2 div.sk-label input.sk-toggleable__control:checked~label.sk-toggleable__label {background-color: #d4ebff;}#sk-container-id-2 input.sk-hidden--visually {border: 0;clip: rect(1px 1px 1px 1px);clip: rect(1px, 1px, 1px, 1px);height: 1px;margin: -1px;overflow: hidden;padding: 0;position: absolute;width: 1px;}#sk-container-id-2 div.sk-estimator {font-family: monospace;background-color: #f0f8ff;border: 1px dotted black;border-radius: 0.25em;box-sizing: border-box;margin-bottom: 0.5em;}#sk-container-id-2 div.sk-estimator:hover {background-color: #d4ebff;}#sk-container-id-2 div.sk-parallel-item::after {content: \"\";width: 100%;border-bottom: 1px solid gray;flex-grow: 1;}#sk-container-id-2 div.sk-label:hover label.sk-toggleable__label {background-color: #d4ebff;}#sk-container-id-2 div.sk-serial::before {content: \"\";position: absolute;border-left: 1px solid gray;box-sizing: border-box;top: 0;bottom: 0;left: 50%;z-index: 0;}#sk-container-id-2 div.sk-serial {display: flex;flex-direction: column;align-items: center;background-color: white;padding-right: 0.2em;padding-left: 0.2em;position: relative;}#sk-container-id-2 div.sk-item {position: relative;z-index: 1;}#sk-container-id-2 div.sk-parallel {display: flex;align-items: stretch;justify-content: center;background-color: white;position: relative;}#sk-container-id-2 div.sk-item::before, #sk-container-id-2 div.sk-parallel-item::before {content: \"\";position: absolute;border-left: 1px solid gray;box-sizing: border-box;top: 0;bottom: 0;left: 50%;z-index: -1;}#sk-container-id-2 div.sk-parallel-item {display: flex;flex-direction: column;z-index: 1;position: relative;background-color: white;}#sk-container-id-2 div.sk-parallel-item:first-child::after {align-self: flex-end;width: 50%;}#sk-container-id-2 div.sk-parallel-item:last-child::after {align-self: flex-start;width: 50%;}#sk-container-id-2 div.sk-parallel-item:only-child::after {width: 0;}#sk-container-id-2 div.sk-dashed-wrapped {border: 1px dashed gray;margin: 0 0.4em 0.5em 0.4em;box-sizing: border-box;padding-bottom: 0.4em;background-color: white;}#sk-container-id-2 div.sk-label label {font-family: monospace;font-weight: bold;display: inline-block;line-height: 1.2em;}#sk-container-id-2 div.sk-label-container {text-align: center;}#sk-container-id-2 div.sk-container {/* jupyter's `normalize.less` sets `[hidden] { display: none; }` but bootstrap.min.css set `[hidden] { display: none !important; }` so we also need the `!important` here to be able to override the default hidden behavior on the sphinx rendered scikit-learn.org. See: https://github.com/scikit-learn/scikit-learn/issues/21755 */display: inline-block !important;position: relative;}#sk-container-id-2 div.sk-text-repr-fallback {display: none;}</style><div id=\"sk-container-id-2\" class=\"sk-top-container\"><div class=\"sk-text-repr-fallback\"><pre>GridSearchCV(cv=5,\n",
       "             estimator=&lt;catboost.core.CatBoostRegressor object at 0x000001E1D80BEDF0&gt;,\n",
       "             param_grid={&#x27;learning_rate&#x27;: [0.01, 0.03, 0.1, 0.3, 1],\n",
       "                         &#x27;max_depth&#x27;: [3, 5, 7, 9, 11],\n",
       "                         &#x27;n_estimators&#x27;: [100, 150, 200]})</pre><b>In a Jupyter environment, please rerun this cell to show the HTML representation or trust the notebook. <br />On GitHub, the HTML representation is unable to render, please try loading this page with nbviewer.org.</b></div><div class=\"sk-container\" hidden><div class=\"sk-item sk-dashed-wrapped\"><div class=\"sk-label-container\"><div class=\"sk-label sk-toggleable\"><input class=\"sk-toggleable__control sk-hidden--visually\" id=\"sk-estimator-id-8\" type=\"checkbox\" ><label for=\"sk-estimator-id-8\" class=\"sk-toggleable__label sk-toggleable__label-arrow\">GridSearchCV</label><div class=\"sk-toggleable__content\"><pre>GridSearchCV(cv=5,\n",
       "             estimator=&lt;catboost.core.CatBoostRegressor object at 0x000001E1D80BEDF0&gt;,\n",
       "             param_grid={&#x27;learning_rate&#x27;: [0.01, 0.03, 0.1, 0.3, 1],\n",
       "                         &#x27;max_depth&#x27;: [3, 5, 7, 9, 11],\n",
       "                         &#x27;n_estimators&#x27;: [100, 150, 200]})</pre></div></div></div><div class=\"sk-parallel\"><div class=\"sk-parallel-item\"><div class=\"sk-item\"><div class=\"sk-label-container\"><div class=\"sk-label sk-toggleable\"><input class=\"sk-toggleable__control sk-hidden--visually\" id=\"sk-estimator-id-9\" type=\"checkbox\" ><label for=\"sk-estimator-id-9\" class=\"sk-toggleable__label sk-toggleable__label-arrow\">estimator: CatBoostRegressor</label><div class=\"sk-toggleable__content\"><pre>&lt;catboost.core.CatBoostRegressor object at 0x000001E1D80BEDF0&gt;</pre></div></div></div><div class=\"sk-serial\"><div class=\"sk-item\"><div class=\"sk-estimator sk-toggleable\"><input class=\"sk-toggleable__control sk-hidden--visually\" id=\"sk-estimator-id-10\" type=\"checkbox\" ><label for=\"sk-estimator-id-10\" class=\"sk-toggleable__label sk-toggleable__label-arrow\">CatBoostRegressor</label><div class=\"sk-toggleable__content\"><pre>&lt;catboost.core.CatBoostRegressor object at 0x000001E1D80BEDF0&gt;</pre></div></div></div></div></div></div></div></div></div></div>"
      ],
      "text/plain": [
       "GridSearchCV(cv=5,\n",
       "             estimator=<catboost.core.CatBoostRegressor object at 0x000001E1D80BEDF0>,\n",
       "             param_grid={'learning_rate': [0.01, 0.03, 0.1, 0.3, 1],\n",
       "                         'max_depth': [3, 5, 7, 9, 11],\n",
       "                         'n_estimators': [100, 150, 200]})"
      ]
     },
     "execution_count": 52,
     "metadata": {},
     "output_type": "execute_result"
    }
   ],
   "source": [
    "from sklearn.model_selection import GridSearchCV\n",
    "\n",
    "parameters = {'n_estimators':[100, 150, 200],\n",
    "              'max_depth': [3, 5, 7, 9, 11],\n",
    "              'learning_rate': [0.01, 0.03, 0.1, 0.3, 1],\n",
    "            }\n",
    "\n",
    "GridSearch_model = GridSearchCV(CatBoost_Model, param_grid= parameters, cv= 5)\n",
    "GridSearch_model.fit(X_train, y_train)"
   ]
  },
  {
   "cell_type": "code",
   "execution_count": 53,
   "metadata": {},
   "outputs": [
    {
     "data": {
      "text/plain": [
       "{'learning_rate': 0.1, 'max_depth': 7, 'n_estimators': 200}"
      ]
     },
     "execution_count": 53,
     "metadata": {},
     "output_type": "execute_result"
    }
   ],
   "source": [
    "GridSearch_model.best_params_"
   ]
  },
  {
   "cell_type": "code",
   "execution_count": 54,
   "metadata": {},
   "outputs": [
    {
     "name": "stdout",
     "output_type": "stream",
     "text": [
      "R2 (test): 58.4622 %\n",
      "MAE (test): 0.5633614175408322\n"
     ]
    }
   ],
   "source": [
    "from sklearn.metrics import r2_score, mean_absolute_error\n",
    "\n",
    "Best_GridSearch_model = GridSearch_model.best_estimator_\n",
    "y_pred_Best_GridSearch_model = Best_GridSearch_model.predict(X_test)\n",
    "\n",
    "R2_Best_GridSearch_model = r2_score(y_test, y_pred_Best_GridSearch_model)\n",
    "MAE_Best_GridSearch_model = mean_absolute_error(y_test, y_pred_Best_GridSearch_model)\n",
    "\n",
    "print(\"R2 (test):\", round(((R2_Best_GridSearch_model)*100),4),\"%\")\n",
    "print(\"MAE (test):\", MAE_Best_GridSearch_model)"
   ]
  },
  {
   "cell_type": "code",
   "execution_count": 55,
   "metadata": {},
   "outputs": [],
   "source": [
    "import types\n",
    "\n",
    "pred_lista_optimazed = []\n",
    "\n",
    "# Obtener copia del espacio de nombres de usuario\n",
    "user_ns = dict(get_ipython().user_ns)\n",
    "\n",
    "# Obtener variables definidas en las celdas del notebook\n",
    "notebook_vars = []\n",
    "for var_name, var_value in user_ns.items():\n",
    "    # Excluir variables internas del entorno y módulos importados\n",
    "    if not var_name.startswith('_') and not isinstance(var_value, types.ModuleType) and var_name.startswith('y_pred'):\n",
    "            notebook_vars.append(var_name)\n",
    "\n",
    "for var in notebook_vars:\n",
    "    if var not in pred_lista:\n",
    "        pred_lista_optimazed.append(var)"
   ]
  },
  {
   "cell_type": "code",
   "execution_count": 56,
   "metadata": {},
   "outputs": [],
   "source": [
    "pred_lista_01 = [y_pred_CatBoost_Model, y_pred_LGBM_Model, y_pred_Voting_Model, y_pred_SVM_CAT_LGBM, y_pred_CAT_LGBM_Model, y_pred_Bagging_Model, y_pred_Best_GridSearch_model, y_pred_SupVecMac_Model]\n",
    "models_lista_01 = ['CatBoost ', 'LGBM ', 'Voting ','SVM_CAT_LGBM ','CAT_LGBM ','Bagging ','GridSearch ', 'SVM']\n",
    "\n",
    "rmse_metric_01 = []\n",
    "mse_metric_01 = []\n",
    "r2_metric_01 = []\n",
    "mae_metric_01 = []\n",
    "\n",
    "def metrics(y_true, lista_pred):\n",
    "\n",
    "    from sklearn.metrics import mean_squared_error\n",
    "\n",
    "    for pred in lista_pred:\n",
    "        r2_metric_01.append(r2_score(y_true, pred))\n",
    "        mse_metric_01.append(mean_squared_error(y_true, pred, squared=True))\n",
    "        rmse_metric_01.append(mean_squared_error(y_true, pred, squared=False))\n",
    "        mae_metric_01.append(mean_absolute_error(y_true, pred))\n",
    "\n",
    "metrics(y_test, pred_lista_01)"
   ]
  },
  {
   "attachments": {},
   "cell_type": "markdown",
   "metadata": {},
   "source": [
    "### Muestro en un dataframe los resultados"
   ]
  },
  {
   "cell_type": "code",
   "execution_count": 57,
   "metadata": {},
   "outputs": [
    {
     "data": {
      "text/html": [
       "<div>\n",
       "<style scoped>\n",
       "    .dataframe tbody tr th:only-of-type {\n",
       "        vertical-align: middle;\n",
       "    }\n",
       "\n",
       "    .dataframe tbody tr th {\n",
       "        vertical-align: top;\n",
       "    }\n",
       "\n",
       "    .dataframe thead th {\n",
       "        text-align: right;\n",
       "    }\n",
       "</style>\n",
       "<table border=\"1\" class=\"dataframe\">\n",
       "  <thead>\n",
       "    <tr style=\"text-align: right;\">\n",
       "      <th></th>\n",
       "      <th>Modelos</th>\n",
       "      <th>RMSE</th>\n",
       "      <th>MSE</th>\n",
       "      <th>R2_SCORE</th>\n",
       "      <th>MAE</th>\n",
       "    </tr>\n",
       "  </thead>\n",
       "  <tbody>\n",
       "    <tr>\n",
       "      <th>0</th>\n",
       "      <td>Bagging</td>\n",
       "      <td>0.706855</td>\n",
       "      <td>0.499644</td>\n",
       "      <td>0.590069</td>\n",
       "      <td>0.559346</td>\n",
       "    </tr>\n",
       "    <tr>\n",
       "      <th>1</th>\n",
       "      <td>CAT_LGBM</td>\n",
       "      <td>0.707908</td>\n",
       "      <td>0.501133</td>\n",
       "      <td>0.588847</td>\n",
       "      <td>0.561476</td>\n",
       "    </tr>\n",
       "    <tr>\n",
       "      <th>2</th>\n",
       "      <td>GridSearch</td>\n",
       "      <td>0.711536</td>\n",
       "      <td>0.506284</td>\n",
       "      <td>0.584622</td>\n",
       "      <td>0.563361</td>\n",
       "    </tr>\n",
       "    <tr>\n",
       "      <th>3</th>\n",
       "      <td>CatBoost</td>\n",
       "      <td>0.712337</td>\n",
       "      <td>0.507424</td>\n",
       "      <td>0.583686</td>\n",
       "      <td>0.564241</td>\n",
       "    </tr>\n",
       "    <tr>\n",
       "      <th>4</th>\n",
       "      <td>SVM_CAT_LGBM</td>\n",
       "      <td>0.712738</td>\n",
       "      <td>0.507996</td>\n",
       "      <td>0.583217</td>\n",
       "      <td>0.564606</td>\n",
       "    </tr>\n",
       "    <tr>\n",
       "      <th>5</th>\n",
       "      <td>LGBM</td>\n",
       "      <td>0.712171</td>\n",
       "      <td>0.507187</td>\n",
       "      <td>0.583880</td>\n",
       "      <td>0.565005</td>\n",
       "    </tr>\n",
       "  </tbody>\n",
       "</table>\n",
       "</div>"
      ],
      "text/plain": [
       "         Modelos      RMSE       MSE  R2_SCORE       MAE\n",
       "0       Bagging   0.706855  0.499644  0.590069  0.559346\n",
       "1      CAT_LGBM   0.707908  0.501133  0.588847  0.561476\n",
       "2    GridSearch   0.711536  0.506284  0.584622  0.563361\n",
       "3      CatBoost   0.712337  0.507424  0.583686  0.564241\n",
       "4  SVM_CAT_LGBM   0.712738  0.507996  0.583217  0.564606\n",
       "5          LGBM   0.712171  0.507187  0.583880  0.565005"
      ]
     },
     "execution_count": 57,
     "metadata": {},
     "output_type": "execute_result"
    }
   ],
   "source": [
    "df_metrics_8 = pd.DataFrame({'RMSE': rmse_metric_01, 'MSE': mse_metric_01, 'R2_SCORE': r2_metric_01, 'MAE': mae_metric_01}, index=models_lista_01)\n",
    "df_metrics_8 = df_metrics_8.sort_values('MAE', ascending=True).reset_index().iloc[:-2,:]\n",
    "df_metrics_8.rename(columns = {\"index\":\"Modelos\"}, inplace =True)\n",
    "df_metrics_8"
   ]
  },
  {
   "attachments": {},
   "cell_type": "markdown",
   "metadata": {},
   "source": [
    "### Visualizo los resultados en una gráfica"
   ]
  },
  {
   "cell_type": "code",
   "execution_count": 58,
   "metadata": {},
   "outputs": [
    {
     "data": {
      "application/vnd.plotly.v1+json": {
       "config": {
        "plotlyServerURL": "https://plot.ly"
       },
       "data": [
        {
         "alignmentgroup": "True",
         "hovertemplate": "MAE=%{x}<br>Modelos=%{y}<br>RMSE=%{marker.color}<extra></extra>",
         "legendgroup": "",
         "marker": {
          "color": [
           "#86A0B1",
           "#FEE28F",
           "#FFB144",
           "#FFFFFF",
           "#86A0B1",
           "#FEE28F",
           "#FFB144",
           "#FFFFFF",
           "#86A0B1",
           "#FEE28F",
           "#FFB144",
           "#FFFFFF",
           "#86A0B1",
           "#FEE28F",
           "#FFB144",
           "#FFFFFF"
          ],
          "coloraxis": "coloraxis",
          "pattern": {
           "shape": ""
          }
         },
         "name": "",
         "offsetgroup": "",
         "orientation": "h",
         "showlegend": false,
         "textfont": {
          "size": 16
         },
         "textposition": "auto",
         "type": "bar",
         "x": [
          0.5650050693225112,
          0.5646057730796867,
          0.5642408424792049,
          0.5633614175408322,
          0.5614763082073367,
          0.5593462432702482
         ],
         "xaxis": "x",
         "y": [
          "LGBM ",
          "SVM_CAT_LGBM ",
          "CatBoost ",
          "GridSearch ",
          "CAT_LGBM ",
          "Bagging "
         ],
         "yaxis": "y"
        }
       ],
       "layout": {
        "barmode": "group",
        "coloraxis": {
         "colorbar": {
          "title": {
           "text": "RMSE"
          }
         },
         "colorscale": [
          [
           0,
           "#0d0887"
          ],
          [
           0.1111111111111111,
           "#46039f"
          ],
          [
           0.2222222222222222,
           "#7201a8"
          ],
          [
           0.3333333333333333,
           "#9c179e"
          ],
          [
           0.4444444444444444,
           "#bd3786"
          ],
          [
           0.5555555555555556,
           "#d8576b"
          ],
          [
           0.6666666666666666,
           "#ed7953"
          ],
          [
           0.7777777777777778,
           "#fb9f3a"
          ],
          [
           0.8888888888888888,
           "#fdca26"
          ],
          [
           1,
           "#f0f921"
          ]
         ]
        },
        "height": 900,
        "legend": {
         "tracegroupgap": 0
        },
        "margin": {
         "t": 60
        },
        "paper_bgcolor": "rgba(0,0,0,0)",
        "plot_bgcolor": "rgba(0,0,0,0)",
        "template": {
         "data": {
          "bar": [
           {
            "error_x": {
             "color": "#2a3f5f"
            },
            "error_y": {
             "color": "#2a3f5f"
            },
            "marker": {
             "line": {
              "color": "#E5ECF6",
              "width": 0.5
             },
             "pattern": {
              "fillmode": "overlay",
              "size": 10,
              "solidity": 0.2
             }
            },
            "type": "bar"
           }
          ],
          "barpolar": [
           {
            "marker": {
             "line": {
              "color": "#E5ECF6",
              "width": 0.5
             },
             "pattern": {
              "fillmode": "overlay",
              "size": 10,
              "solidity": 0.2
             }
            },
            "type": "barpolar"
           }
          ],
          "carpet": [
           {
            "aaxis": {
             "endlinecolor": "#2a3f5f",
             "gridcolor": "white",
             "linecolor": "white",
             "minorgridcolor": "white",
             "startlinecolor": "#2a3f5f"
            },
            "baxis": {
             "endlinecolor": "#2a3f5f",
             "gridcolor": "white",
             "linecolor": "white",
             "minorgridcolor": "white",
             "startlinecolor": "#2a3f5f"
            },
            "type": "carpet"
           }
          ],
          "choropleth": [
           {
            "colorbar": {
             "outlinewidth": 0,
             "ticks": ""
            },
            "type": "choropleth"
           }
          ],
          "contour": [
           {
            "colorbar": {
             "outlinewidth": 0,
             "ticks": ""
            },
            "colorscale": [
             [
              0,
              "#0d0887"
             ],
             [
              0.1111111111111111,
              "#46039f"
             ],
             [
              0.2222222222222222,
              "#7201a8"
             ],
             [
              0.3333333333333333,
              "#9c179e"
             ],
             [
              0.4444444444444444,
              "#bd3786"
             ],
             [
              0.5555555555555556,
              "#d8576b"
             ],
             [
              0.6666666666666666,
              "#ed7953"
             ],
             [
              0.7777777777777778,
              "#fb9f3a"
             ],
             [
              0.8888888888888888,
              "#fdca26"
             ],
             [
              1,
              "#f0f921"
             ]
            ],
            "type": "contour"
           }
          ],
          "contourcarpet": [
           {
            "colorbar": {
             "outlinewidth": 0,
             "ticks": ""
            },
            "type": "contourcarpet"
           }
          ],
          "heatmap": [
           {
            "colorbar": {
             "outlinewidth": 0,
             "ticks": ""
            },
            "colorscale": [
             [
              0,
              "#0d0887"
             ],
             [
              0.1111111111111111,
              "#46039f"
             ],
             [
              0.2222222222222222,
              "#7201a8"
             ],
             [
              0.3333333333333333,
              "#9c179e"
             ],
             [
              0.4444444444444444,
              "#bd3786"
             ],
             [
              0.5555555555555556,
              "#d8576b"
             ],
             [
              0.6666666666666666,
              "#ed7953"
             ],
             [
              0.7777777777777778,
              "#fb9f3a"
             ],
             [
              0.8888888888888888,
              "#fdca26"
             ],
             [
              1,
              "#f0f921"
             ]
            ],
            "type": "heatmap"
           }
          ],
          "heatmapgl": [
           {
            "colorbar": {
             "outlinewidth": 0,
             "ticks": ""
            },
            "colorscale": [
             [
              0,
              "#0d0887"
             ],
             [
              0.1111111111111111,
              "#46039f"
             ],
             [
              0.2222222222222222,
              "#7201a8"
             ],
             [
              0.3333333333333333,
              "#9c179e"
             ],
             [
              0.4444444444444444,
              "#bd3786"
             ],
             [
              0.5555555555555556,
              "#d8576b"
             ],
             [
              0.6666666666666666,
              "#ed7953"
             ],
             [
              0.7777777777777778,
              "#fb9f3a"
             ],
             [
              0.8888888888888888,
              "#fdca26"
             ],
             [
              1,
              "#f0f921"
             ]
            ],
            "type": "heatmapgl"
           }
          ],
          "histogram": [
           {
            "marker": {
             "pattern": {
              "fillmode": "overlay",
              "size": 10,
              "solidity": 0.2
             }
            },
            "type": "histogram"
           }
          ],
          "histogram2d": [
           {
            "colorbar": {
             "outlinewidth": 0,
             "ticks": ""
            },
            "colorscale": [
             [
              0,
              "#0d0887"
             ],
             [
              0.1111111111111111,
              "#46039f"
             ],
             [
              0.2222222222222222,
              "#7201a8"
             ],
             [
              0.3333333333333333,
              "#9c179e"
             ],
             [
              0.4444444444444444,
              "#bd3786"
             ],
             [
              0.5555555555555556,
              "#d8576b"
             ],
             [
              0.6666666666666666,
              "#ed7953"
             ],
             [
              0.7777777777777778,
              "#fb9f3a"
             ],
             [
              0.8888888888888888,
              "#fdca26"
             ],
             [
              1,
              "#f0f921"
             ]
            ],
            "type": "histogram2d"
           }
          ],
          "histogram2dcontour": [
           {
            "colorbar": {
             "outlinewidth": 0,
             "ticks": ""
            },
            "colorscale": [
             [
              0,
              "#0d0887"
             ],
             [
              0.1111111111111111,
              "#46039f"
             ],
             [
              0.2222222222222222,
              "#7201a8"
             ],
             [
              0.3333333333333333,
              "#9c179e"
             ],
             [
              0.4444444444444444,
              "#bd3786"
             ],
             [
              0.5555555555555556,
              "#d8576b"
             ],
             [
              0.6666666666666666,
              "#ed7953"
             ],
             [
              0.7777777777777778,
              "#fb9f3a"
             ],
             [
              0.8888888888888888,
              "#fdca26"
             ],
             [
              1,
              "#f0f921"
             ]
            ],
            "type": "histogram2dcontour"
           }
          ],
          "mesh3d": [
           {
            "colorbar": {
             "outlinewidth": 0,
             "ticks": ""
            },
            "type": "mesh3d"
           }
          ],
          "parcoords": [
           {
            "line": {
             "colorbar": {
              "outlinewidth": 0,
              "ticks": ""
             }
            },
            "type": "parcoords"
           }
          ],
          "pie": [
           {
            "automargin": true,
            "type": "pie"
           }
          ],
          "scatter": [
           {
            "fillpattern": {
             "fillmode": "overlay",
             "size": 10,
             "solidity": 0.2
            },
            "type": "scatter"
           }
          ],
          "scatter3d": [
           {
            "line": {
             "colorbar": {
              "outlinewidth": 0,
              "ticks": ""
             }
            },
            "marker": {
             "colorbar": {
              "outlinewidth": 0,
              "ticks": ""
             }
            },
            "type": "scatter3d"
           }
          ],
          "scattercarpet": [
           {
            "marker": {
             "colorbar": {
              "outlinewidth": 0,
              "ticks": ""
             }
            },
            "type": "scattercarpet"
           }
          ],
          "scattergeo": [
           {
            "marker": {
             "colorbar": {
              "outlinewidth": 0,
              "ticks": ""
             }
            },
            "type": "scattergeo"
           }
          ],
          "scattergl": [
           {
            "marker": {
             "colorbar": {
              "outlinewidth": 0,
              "ticks": ""
             }
            },
            "type": "scattergl"
           }
          ],
          "scattermapbox": [
           {
            "marker": {
             "colorbar": {
              "outlinewidth": 0,
              "ticks": ""
             }
            },
            "type": "scattermapbox"
           }
          ],
          "scatterpolar": [
           {
            "marker": {
             "colorbar": {
              "outlinewidth": 0,
              "ticks": ""
             }
            },
            "type": "scatterpolar"
           }
          ],
          "scatterpolargl": [
           {
            "marker": {
             "colorbar": {
              "outlinewidth": 0,
              "ticks": ""
             }
            },
            "type": "scatterpolargl"
           }
          ],
          "scatterternary": [
           {
            "marker": {
             "colorbar": {
              "outlinewidth": 0,
              "ticks": ""
             }
            },
            "type": "scatterternary"
           }
          ],
          "surface": [
           {
            "colorbar": {
             "outlinewidth": 0,
             "ticks": ""
            },
            "colorscale": [
             [
              0,
              "#0d0887"
             ],
             [
              0.1111111111111111,
              "#46039f"
             ],
             [
              0.2222222222222222,
              "#7201a8"
             ],
             [
              0.3333333333333333,
              "#9c179e"
             ],
             [
              0.4444444444444444,
              "#bd3786"
             ],
             [
              0.5555555555555556,
              "#d8576b"
             ],
             [
              0.6666666666666666,
              "#ed7953"
             ],
             [
              0.7777777777777778,
              "#fb9f3a"
             ],
             [
              0.8888888888888888,
              "#fdca26"
             ],
             [
              1,
              "#f0f921"
             ]
            ],
            "type": "surface"
           }
          ],
          "table": [
           {
            "cells": {
             "fill": {
              "color": "#EBF0F8"
             },
             "line": {
              "color": "white"
             }
            },
            "header": {
             "fill": {
              "color": "#C8D4E3"
             },
             "line": {
              "color": "white"
             }
            },
            "type": "table"
           }
          ]
         },
         "layout": {
          "annotationdefaults": {
           "arrowcolor": "#2a3f5f",
           "arrowhead": 0,
           "arrowwidth": 1
          },
          "autotypenumbers": "strict",
          "coloraxis": {
           "colorbar": {
            "outlinewidth": 0,
            "ticks": ""
           }
          },
          "colorscale": {
           "diverging": [
            [
             0,
             "#8e0152"
            ],
            [
             0.1,
             "#c51b7d"
            ],
            [
             0.2,
             "#de77ae"
            ],
            [
             0.3,
             "#f1b6da"
            ],
            [
             0.4,
             "#fde0ef"
            ],
            [
             0.5,
             "#f7f7f7"
            ],
            [
             0.6,
             "#e6f5d0"
            ],
            [
             0.7,
             "#b8e186"
            ],
            [
             0.8,
             "#7fbc41"
            ],
            [
             0.9,
             "#4d9221"
            ],
            [
             1,
             "#276419"
            ]
           ],
           "sequential": [
            [
             0,
             "#0d0887"
            ],
            [
             0.1111111111111111,
             "#46039f"
            ],
            [
             0.2222222222222222,
             "#7201a8"
            ],
            [
             0.3333333333333333,
             "#9c179e"
            ],
            [
             0.4444444444444444,
             "#bd3786"
            ],
            [
             0.5555555555555556,
             "#d8576b"
            ],
            [
             0.6666666666666666,
             "#ed7953"
            ],
            [
             0.7777777777777778,
             "#fb9f3a"
            ],
            [
             0.8888888888888888,
             "#fdca26"
            ],
            [
             1,
             "#f0f921"
            ]
           ],
           "sequentialminus": [
            [
             0,
             "#0d0887"
            ],
            [
             0.1111111111111111,
             "#46039f"
            ],
            [
             0.2222222222222222,
             "#7201a8"
            ],
            [
             0.3333333333333333,
             "#9c179e"
            ],
            [
             0.4444444444444444,
             "#bd3786"
            ],
            [
             0.5555555555555556,
             "#d8576b"
            ],
            [
             0.6666666666666666,
             "#ed7953"
            ],
            [
             0.7777777777777778,
             "#fb9f3a"
            ],
            [
             0.8888888888888888,
             "#fdca26"
            ],
            [
             1,
             "#f0f921"
            ]
           ]
          },
          "colorway": [
           "#636efa",
           "#EF553B",
           "#00cc96",
           "#ab63fa",
           "#FFA15A",
           "#19d3f3",
           "#FF6692",
           "#B6E880",
           "#FF97FF",
           "#FECB52"
          ],
          "font": {
           "color": "#2a3f5f"
          },
          "geo": {
           "bgcolor": "white",
           "lakecolor": "white",
           "landcolor": "#E5ECF6",
           "showlakes": true,
           "showland": true,
           "subunitcolor": "white"
          },
          "hoverlabel": {
           "align": "left"
          },
          "hovermode": "closest",
          "mapbox": {
           "style": "light"
          },
          "paper_bgcolor": "white",
          "plot_bgcolor": "#E5ECF6",
          "polar": {
           "angularaxis": {
            "gridcolor": "white",
            "linecolor": "white",
            "ticks": ""
           },
           "bgcolor": "#E5ECF6",
           "radialaxis": {
            "gridcolor": "white",
            "linecolor": "white",
            "ticks": ""
           }
          },
          "scene": {
           "xaxis": {
            "backgroundcolor": "#E5ECF6",
            "gridcolor": "white",
            "gridwidth": 2,
            "linecolor": "white",
            "showbackground": true,
            "ticks": "",
            "zerolinecolor": "white"
           },
           "yaxis": {
            "backgroundcolor": "#E5ECF6",
            "gridcolor": "white",
            "gridwidth": 2,
            "linecolor": "white",
            "showbackground": true,
            "ticks": "",
            "zerolinecolor": "white"
           },
           "zaxis": {
            "backgroundcolor": "#E5ECF6",
            "gridcolor": "white",
            "gridwidth": 2,
            "linecolor": "white",
            "showbackground": true,
            "ticks": "",
            "zerolinecolor": "white"
           }
          },
          "shapedefaults": {
           "line": {
            "color": "#2a3f5f"
           }
          },
          "ternary": {
           "aaxis": {
            "gridcolor": "white",
            "linecolor": "white",
            "ticks": ""
           },
           "baxis": {
            "gridcolor": "white",
            "linecolor": "white",
            "ticks": ""
           },
           "bgcolor": "#E5ECF6",
           "caxis": {
            "gridcolor": "white",
            "linecolor": "white",
            "ticks": ""
           }
          },
          "title": {
           "x": 0.05
          },
          "xaxis": {
           "automargin": true,
           "gridcolor": "white",
           "linecolor": "white",
           "ticks": "",
           "title": {
            "standoff": 15
           },
           "zerolinecolor": "white",
           "zerolinewidth": 2
          },
          "yaxis": {
           "automargin": true,
           "gridcolor": "white",
           "linecolor": "white",
           "ticks": "",
           "title": {
            "standoff": 15
           },
           "zerolinecolor": "white",
           "zerolinewidth": 2
          }
         }
        },
        "width": 1100,
        "xaxis": {
         "anchor": "y",
         "domain": [
          0,
          1
         ],
         "dtick": 0.006,
         "range": [
          0.544,
          0.566
         ],
         "showticklabels": true,
         "tickfont": {
          "color": "white",
          "size": 26
         },
         "title": {
          "font": {
           "color": "white",
           "size": 24
          },
          "text": "MAE"
         }
        },
        "yaxis": {
         "anchor": "x",
         "domain": [
          0,
          1
         ],
         "showticklabels": true,
         "tickfont": {
          "color": "white",
          "size": 26
         },
         "title": {}
        }
       }
      }
     },
     "metadata": {},
     "output_type": "display_data"
    }
   ],
   "source": [
    "import plotly.express as px\n",
    "import pandas as pd\n",
    "\n",
    "colors = ['#86A0B1', '#FEE28F', '#FFB144', '#FFFFFF']\n",
    "\n",
    "fig = px.bar(df_metrics_8[::-1],\n",
    "             x='MAE',\n",
    "             y='Modelos',\n",
    "             color='RMSE', # add color parameter\n",
    "             orientation='h',\n",
    "             barmode='group',\n",
    "\n",
    "             height=500,\n",
    "             title=None)\n",
    "\n",
    "fig.update_traces(\n",
    "    marker_color=np.tile(colors, 4),\n",
    "    textfont=dict(size=16),\n",
    ")\n",
    "\n",
    "fig.update_xaxes(showticklabels=True, \n",
    "                 tickfont=dict(size=26, color='white'),\n",
    "                 title=\"MAE\",\n",
    "                 title_font=dict(size=24, color='white'),\n",
    "                 range=[0.544, 0.566],\n",
    "                 dtick=0.006)\n",
    "\n",
    "fig.update_yaxes(showticklabels=True,\n",
    "                 title=None,\n",
    "                 tickfont=dict(size=26, color='white'))\n",
    "\n",
    "\n",
    "# set the background color to transparent\n",
    "fig.update_layout(\n",
    "    width=1100,\n",
    "    height=900,\n",
    "    plot_bgcolor='rgba(0,0,0,0)',\n",
    "    paper_bgcolor='rgba(0,0,0,0)')\n",
    "\n",
    "\n",
    "fig.write_image('model_metrics_8_MAE.png')\n",
    "\n",
    "fig.show()"
   ]
  },
  {
   "attachments": {},
   "cell_type": "markdown",
   "metadata": {},
   "source": [
    "## Obtengo las columnas menos importantes a partir de Features Importance, Select KBest y RFE."
   ]
  },
  {
   "cell_type": "code",
   "execution_count": 59,
   "metadata": {},
   "outputs": [],
   "source": [
    "menos_importantes_Feat_Imp = ['aventuras', 'belico', 'ciencia ficcion', 'cine negro', 'fantastico', 'infantil', 'intriga', 'musical', 'romance', 'thriller', 'western']\n",
    "\n",
    "menos_importantes_Select_Kbest = ['ciencia ficcion', 'reparto_2', 'infantil', 'romance', 'belico', 'intriga', 'reparto_3', 'reparto_5', 'fantastico', 'aventuras', 'musical']\n",
    "\n",
    "menos_importantes_RFE = ['ciencia ficcion', 'aventuras', 'thriller', 'romance', 'intriga', 'cine negro', 'western', 'belico', 'fantastico', 'musical', 'infantil']"
   ]
  },
  {
   "attachments": {},
   "cell_type": "markdown",
   "metadata": {},
   "source": [
    "## Las elimino y mido la eficiencia de predicción del algoritmo:"
   ]
  },
  {
   "attachments": {},
   "cell_type": "markdown",
   "metadata": {},
   "source": [
    "### Features Importances"
   ]
  },
  {
   "cell_type": "code",
   "execution_count": 60,
   "metadata": {},
   "outputs": [
    {
     "name": "stdout",
     "output_type": "stream",
     "text": [
      "R2 (test): 57.3539 %\n",
      "MAE (test): 0.5676268149442408\n"
     ]
    }
   ],
   "source": [
    "import pandas as pd\n",
    "\n",
    "df = pd.read_csv(r\"data\\raw\\peliculas_analisis_ML.csv\",index_col=0)\n",
    "\n",
    "X_001 = df.drop(\"puntuacion\", axis = 1)\n",
    "X_01 = X_001.drop(menos_importantes_Feat_Imp, axis = 1)\n",
    "y_01 = df['puntuacion']\n",
    "\n",
    "\n",
    "from sklearn.model_selection import train_test_split\n",
    "\n",
    "X_train_01, X_test_01, y_train_01, y_test_01 = train_test_split(X_01,\n",
    "                                                    y_01,\n",
    "                                                    test_size=0.15,\n",
    "                                                    random_state=42)\n",
    "\n",
    "\n",
    "from sklearn.preprocessing import StandardScaler\n",
    "scaler = StandardScaler()\n",
    "scaler.fit(X_train_01)\n",
    "\n",
    "X_train_01 = scaler.transform(X_train_01)\n",
    "X_test_01 = scaler.transform(X_test_01)\n",
    "\n",
    "\n",
    "from catboost import CatBoostRegressor\n",
    "\n",
    "seed = 42\n",
    "Features_Imp_model = CatBoostRegressor(random_state= seed, verbose = False, learning_rate= 0.1, max_depth= 8, n_estimators= 300) \n",
    "Features_Imp_model.fit(X_train_01, y_train_01)\n",
    "\n",
    "y_pred_Features_Imp_model = Features_Imp_model.predict(X_test_01)\n",
    "\n",
    "\n",
    "from sklearn.metrics import r2_score, mean_absolute_error\n",
    "\n",
    "R2_Features_Imp_model= r2_score(y_test_01, y_pred_Features_Imp_model)\n",
    "MAE_Features_Imp_model = mean_absolute_error(y_test_01, y_pred_Features_Imp_model)\n",
    "\n",
    "print(\"R2 (test):\", round(((R2_Features_Imp_model)*100),4),\"%\")\n",
    "print(\"MAE (test):\", MAE_Features_Imp_model)"
   ]
  },
  {
   "attachments": {},
   "cell_type": "markdown",
   "metadata": {},
   "source": [
    "### Select Kbest"
   ]
  },
  {
   "cell_type": "code",
   "execution_count": 61,
   "metadata": {},
   "outputs": [
    {
     "name": "stdout",
     "output_type": "stream",
     "text": [
      "R2 (test): 58.4475 %\n",
      "MAE (test): 0.5618906666280934\n"
     ]
    }
   ],
   "source": [
    "import pandas as pd\n",
    "\n",
    "df = pd.read_csv(r\"data\\raw\\peliculas_analisis_ML.csv\",index_col=0)\n",
    "\n",
    "X_001 = df.drop(\"puntuacion\", axis = 1)\n",
    "X_01 = X_001.drop(menos_importantes_Select_Kbest, axis = 1)\n",
    "y_01 = df['puntuacion']\n",
    "\n",
    "from sklearn.model_selection import train_test_split\n",
    "\n",
    "X_train_01, X_test_01, y_train_01, y_test_01 = train_test_split(X_01,\n",
    "                                                    y_01,\n",
    "                                                    test_size=0.15,\n",
    "                                                    random_state=42)\n",
    "\n",
    "\n",
    "from sklearn.preprocessing import StandardScaler\n",
    "scaler = StandardScaler()\n",
    "scaler.fit(X_train_01)\n",
    "\n",
    "X_train_01 = scaler.transform(X_train_01)\n",
    "X_test_01 = scaler.transform(X_test_01)\n",
    "\n",
    "\n",
    "from catboost import CatBoostRegressor\n",
    "\n",
    "seed = 42\n",
    "Select_Kbest_model = CatBoostRegressor(random_state= seed, verbose = False, learning_rate= 0.1, max_depth= 8, n_estimators= 300) \n",
    "Select_Kbest_model.fit(X_train_01, y_train_01)\n",
    "\n",
    "y_pred_Select_Kbest_model = Select_Kbest_model.predict(X_test_01)\n",
    "\n",
    "\n",
    "from sklearn.metrics import r2_score, mean_absolute_error\n",
    "\n",
    "R2_Select_Kbest_model = r2_score(y_test_01, y_pred_Select_Kbest_model)\n",
    "MAE_Select_Kbest_model = mean_absolute_error(y_test_01, y_pred_Select_Kbest_model)\n",
    "\n",
    "print(\"R2 (test):\", round(((R2_Select_Kbest_model)*100),4),\"%\")\n",
    "print(\"MAE (test):\", MAE_Select_Kbest_model)"
   ]
  },
  {
   "attachments": {},
   "cell_type": "markdown",
   "metadata": {},
   "source": [
    "### Recursive Feature Elimination"
   ]
  },
  {
   "cell_type": "code",
   "execution_count": 62,
   "metadata": {},
   "outputs": [
    {
     "name": "stdout",
     "output_type": "stream",
     "text": [
      "R2 (test): 52.5345 %\n",
      "MAE (test): 0.6071830124617611\n"
     ]
    }
   ],
   "source": [
    "from catboost import CatBoostRegressor\n",
    "from sklearn.feature_selection import RFE # \"Recursive Feature Elimination\"\n",
    "\n",
    "df = pd.read_csv(r\"data\\raw\\peliculas_analisis_ML.csv\",index_col=0)\n",
    "\n",
    "features_01 = df.drop(\"puntuacion\", axis = 1)\n",
    "features = features_01.drop(menos_importantes_RFE, axis = 1)\n",
    "target = df['puntuacion'] \n",
    "\n",
    "from sklearn.model_selection import train_test_split\n",
    "\n",
    "X_train, X_test, y_train, y_test = train_test_split(features,\n",
    "                                                    target,\n",
    "                                                    test_size=0.15,\n",
    "                                                    random_state=42)\n",
    "\n",
    "from sklearn.preprocessing import StandardScaler\n",
    "\n",
    "scaler = StandardScaler()\n",
    "scaler.fit(X_train)\n",
    "\n",
    "features_train = scaler.transform(X_train)\n",
    "features_test = scaler.transform(X_test)\n",
    "\n",
    "seed = 42\n",
    "\n",
    "RFE_model = CatBoostRegressor(random_state= seed, verbose = False, learning_rate= 0.1, max_depth= 8, n_estimators= 300) \n",
    "RFE_model.fit(features_train, y_train)\n",
    "\n",
    "# Crear un objeto RFE especificando el número de características a seleccionar\n",
    "rfe = RFE(RFE_model, n_features_to_select=5)\n",
    "\n",
    "# Ajustar el objeto RFE al conjunto de datos\n",
    "rfe.fit(X_train, y_train)\n",
    "\n",
    "y_pred_rfe_model = rfe.predict(X_test)\n",
    "\n",
    "from sklearn.metrics import r2_score, mean_absolute_error\n",
    "\n",
    "R2_rfe_model = r2_score(y_test, y_pred_rfe_model)\n",
    "MAE_rfe_model = mean_absolute_error(y_test, y_pred_rfe_model)\n",
    "\n",
    "print(\"R2 (test):\", round(((R2_rfe_model)*100),4),\"%\")\n",
    "print(\"MAE (test):\", MAE_rfe_model)"
   ]
  },
  {
   "attachments": {},
   "cell_type": "markdown",
   "metadata": {},
   "source": [
    "### Visualizo los grados de importancia según el método RFE"
   ]
  },
  {
   "cell_type": "code",
   "execution_count": 63,
   "metadata": {},
   "outputs": [
    {
     "data": {
      "text/html": [
       "<div>\n",
       "<style scoped>\n",
       "    .dataframe tbody tr th:only-of-type {\n",
       "        vertical-align: middle;\n",
       "    }\n",
       "\n",
       "    .dataframe tbody tr th {\n",
       "        vertical-align: top;\n",
       "    }\n",
       "\n",
       "    .dataframe thead th {\n",
       "        text-align: right;\n",
       "    }\n",
       "</style>\n",
       "<table border=\"1\" class=\"dataframe\">\n",
       "  <thead>\n",
       "    <tr style=\"text-align: right;\">\n",
       "      <th></th>\n",
       "      <th>Feature</th>\n",
       "      <th>Importance</th>\n",
       "    </tr>\n",
       "  </thead>\n",
       "  <tbody>\n",
       "    <tr>\n",
       "      <th>17</th>\n",
       "      <td>pais</td>\n",
       "      <td>1</td>\n",
       "    </tr>\n",
       "    <tr>\n",
       "      <th>2</th>\n",
       "      <td>director</td>\n",
       "      <td>1</td>\n",
       "    </tr>\n",
       "    <tr>\n",
       "      <th>11</th>\n",
       "      <td>duracion</td>\n",
       "      <td>2</td>\n",
       "    </tr>\n",
       "    <tr>\n",
       "      <th>6</th>\n",
       "      <td>reparto_1</td>\n",
       "      <td>3</td>\n",
       "    </tr>\n",
       "    <tr>\n",
       "      <th>7</th>\n",
       "      <td>reparto_2</td>\n",
       "      <td>4</td>\n",
       "    </tr>\n",
       "    <tr>\n",
       "      <th>14</th>\n",
       "      <td>comedia</td>\n",
       "      <td>5</td>\n",
       "    </tr>\n",
       "    <tr>\n",
       "      <th>3</th>\n",
       "      <td>guion</td>\n",
       "      <td>6</td>\n",
       "    </tr>\n",
       "    <tr>\n",
       "      <th>8</th>\n",
       "      <td>reparto_3</td>\n",
       "      <td>7</td>\n",
       "    </tr>\n",
       "    <tr>\n",
       "      <th>5</th>\n",
       "      <td>fotografia</td>\n",
       "      <td>8</td>\n",
       "    </tr>\n",
       "    <tr>\n",
       "      <th>9</th>\n",
       "      <td>reparto_4</td>\n",
       "      <td>9</td>\n",
       "    </tr>\n",
       "    <tr>\n",
       "      <th>4</th>\n",
       "      <td>musica</td>\n",
       "      <td>10</td>\n",
       "    </tr>\n",
       "    <tr>\n",
       "      <th>10</th>\n",
       "      <td>reparto_5</td>\n",
       "      <td>11</td>\n",
       "    </tr>\n",
       "    <tr>\n",
       "      <th>16</th>\n",
       "      <td>terror</td>\n",
       "      <td>12</td>\n",
       "    </tr>\n",
       "    <tr>\n",
       "      <th>1</th>\n",
       "      <td>razzie</td>\n",
       "      <td>13</td>\n",
       "    </tr>\n",
       "    <tr>\n",
       "      <th>13</th>\n",
       "      <td>accion</td>\n",
       "      <td>14</td>\n",
       "    </tr>\n",
       "  </tbody>\n",
       "</table>\n",
       "</div>"
      ],
      "text/plain": [
       "       Feature  Importance\n",
       "17        pais           1\n",
       "2     director           1\n",
       "11    duracion           2\n",
       "6    reparto_1           3\n",
       "7    reparto_2           4\n",
       "14     comedia           5\n",
       "3        guion           6\n",
       "8    reparto_3           7\n",
       "5   fotografia           8\n",
       "9    reparto_4           9\n",
       "4       musica          10\n",
       "10   reparto_5          11\n",
       "16      terror          12\n",
       "1       razzie          13\n",
       "13      accion          14"
      ]
     },
     "execution_count": 63,
     "metadata": {},
     "output_type": "execute_result"
    }
   ],
   "source": [
    "# obtener los coeficientes de importancia y crear una tabla ordenada\n",
    "importance_df = pd.DataFrame({'Feature': features.columns, 'Importance': rfe.ranking_})\n",
    "importance_df = importance_df.sort_values('Importance')\n",
    "importance_df.tail(15)"
   ]
  },
  {
   "cell_type": "code",
   "execution_count": 64,
   "metadata": {},
   "outputs": [],
   "source": [
    "import types\n",
    "\n",
    "pred_lista_feat_sel = []\n",
    "\n",
    "# Obtener copia del espacio de nombres de usuario\n",
    "user_ns = dict(get_ipython().user_ns)\n",
    "\n",
    "# Obtener variables definidas en las celdas del notebook\n",
    "notebook_vars = []\n",
    "for var_name, var_value in user_ns.items():\n",
    "    # Excluir variables internas del entorno y módulos importados\n",
    "    if not var_name.startswith('_') and not isinstance(var_value, types.ModuleType) and var_name.startswith('y_pred'):\n",
    "            notebook_vars.append(var_name)\n",
    "\n",
    "for var in notebook_vars:\n",
    "    if var not in pred_lista:\n",
    "        pred_lista_feat_sel.append(var)"
   ]
  },
  {
   "cell_type": "code",
   "execution_count": 65,
   "metadata": {},
   "outputs": [],
   "source": [
    "pred_lista_02 = [y_pred_CatBoost_Model,y_pred_LGBM_Model, y_pred_SVM_CAT_LGBM, y_pred_CAT_LGBM_Model, y_pred_Bagging_Model, y_pred_Best_GridSearch_model, y_pred_Features_Imp_model, y_pred_Select_Kbest_model]\n",
    "models_lista_02 = ['CatBoost ','LGBM ','SVM_CAT_LGBM ','CAT_LGBM ','Bagging ','GridSearch ', 'Feat_Importance ', 'Select_KBest ']\n",
    "\n",
    "rmse_metric_02 = []\n",
    "mse_metric_02 = []\n",
    "r2_metric_02 = []\n",
    "mae_metric_02 = []\n",
    "\n",
    "def metrics(y_true, lista_pred):\n",
    "\n",
    "    from sklearn.metrics import mean_squared_error\n",
    "\n",
    "    for pred in lista_pred:\n",
    "        r2_metric_02.append(r2_score(y_true, pred))\n",
    "        mse_metric_02.append(mean_squared_error(y_true, pred, squared=True))\n",
    "        rmse_metric_02.append(mean_squared_error(y_true, pred, squared=False))\n",
    "        mae_metric_02.append(mean_absolute_error(y_true, pred))\n",
    "\n",
    "metrics(y_test, pred_lista_02)"
   ]
  },
  {
   "cell_type": "code",
   "execution_count": 66,
   "metadata": {},
   "outputs": [
    {
     "data": {
      "text/html": [
       "<div>\n",
       "<style scoped>\n",
       "    .dataframe tbody tr th:only-of-type {\n",
       "        vertical-align: middle;\n",
       "    }\n",
       "\n",
       "    .dataframe tbody tr th {\n",
       "        vertical-align: top;\n",
       "    }\n",
       "\n",
       "    .dataframe thead th {\n",
       "        text-align: right;\n",
       "    }\n",
       "</style>\n",
       "<table border=\"1\" class=\"dataframe\">\n",
       "  <thead>\n",
       "    <tr style=\"text-align: right;\">\n",
       "      <th></th>\n",
       "      <th>Modelos</th>\n",
       "      <th>RMSE</th>\n",
       "      <th>MSE</th>\n",
       "      <th>R2_SCORE</th>\n",
       "      <th>MAE</th>\n",
       "    </tr>\n",
       "  </thead>\n",
       "  <tbody>\n",
       "    <tr>\n",
       "      <th>0</th>\n",
       "      <td>Bagging</td>\n",
       "      <td>0.706855</td>\n",
       "      <td>0.499644</td>\n",
       "      <td>0.590069</td>\n",
       "      <td>0.559346</td>\n",
       "    </tr>\n",
       "    <tr>\n",
       "      <th>1</th>\n",
       "      <td>CAT_LGBM</td>\n",
       "      <td>0.707908</td>\n",
       "      <td>0.501133</td>\n",
       "      <td>0.588847</td>\n",
       "      <td>0.561476</td>\n",
       "    </tr>\n",
       "    <tr>\n",
       "      <th>2</th>\n",
       "      <td>GridSearch</td>\n",
       "      <td>0.711536</td>\n",
       "      <td>0.506284</td>\n",
       "      <td>0.584622</td>\n",
       "      <td>0.563361</td>\n",
       "    </tr>\n",
       "    <tr>\n",
       "      <th>3</th>\n",
       "      <td>Select_KBest</td>\n",
       "      <td>0.711662</td>\n",
       "      <td>0.506462</td>\n",
       "      <td>0.584475</td>\n",
       "      <td>0.561891</td>\n",
       "    </tr>\n",
       "    <tr>\n",
       "      <th>4</th>\n",
       "      <td>LGBM</td>\n",
       "      <td>0.712171</td>\n",
       "      <td>0.507187</td>\n",
       "      <td>0.583880</td>\n",
       "      <td>0.565005</td>\n",
       "    </tr>\n",
       "    <tr>\n",
       "      <th>5</th>\n",
       "      <td>CatBoost</td>\n",
       "      <td>0.712337</td>\n",
       "      <td>0.507424</td>\n",
       "      <td>0.583686</td>\n",
       "      <td>0.564241</td>\n",
       "    </tr>\n",
       "    <tr>\n",
       "      <th>6</th>\n",
       "      <td>SVM_CAT_LGBM</td>\n",
       "      <td>0.712738</td>\n",
       "      <td>0.507996</td>\n",
       "      <td>0.583217</td>\n",
       "      <td>0.564606</td>\n",
       "    </tr>\n",
       "  </tbody>\n",
       "</table>\n",
       "</div>"
      ],
      "text/plain": [
       "         Modelos      RMSE       MSE  R2_SCORE       MAE\n",
       "0       Bagging   0.706855  0.499644  0.590069  0.559346\n",
       "1      CAT_LGBM   0.707908  0.501133  0.588847  0.561476\n",
       "2    GridSearch   0.711536  0.506284  0.584622  0.563361\n",
       "3  Select_KBest   0.711662  0.506462  0.584475  0.561891\n",
       "4          LGBM   0.712171  0.507187  0.583880  0.565005\n",
       "5      CatBoost   0.712337  0.507424  0.583686  0.564241\n",
       "6  SVM_CAT_LGBM   0.712738  0.507996  0.583217  0.564606"
      ]
     },
     "execution_count": 66,
     "metadata": {},
     "output_type": "execute_result"
    }
   ],
   "source": [
    "df_metrics_sel_feat = pd.DataFrame({'RMSE': rmse_metric_02, 'MSE': mse_metric_02, 'R2_SCORE': r2_metric_02, 'MAE': mae_metric_02}, index=models_lista_02)\n",
    "df_metrics_sel_feat = df_metrics_sel_feat.sort_values('RMSE', ascending=True).reset_index().iloc[:-1,:]\n",
    "df_metrics_sel_feat.rename(columns = {\"index\":\"Modelos\"}, inplace =True)\n",
    "df_metrics_sel_feat"
   ]
  },
  {
   "cell_type": "code",
   "execution_count": 67,
   "metadata": {},
   "outputs": [
    {
     "data": {
      "application/vnd.plotly.v1+json": {
       "config": {
        "plotlyServerURL": "https://plot.ly"
       },
       "data": [
        {
         "alignmentgroup": "True",
         "hovertemplate": "RMSE=%{marker.color}<br>Modelos=%{y}<extra></extra>",
         "legendgroup": "",
         "marker": {
          "color": [
           "#86A0B1",
           "#FEE28F",
           "#FFB144",
           "#FFFFFF",
           "#86A0B1",
           "#FEE28F",
           "#FFB144",
           "#FFFFFF",
           "#86A0B1",
           "#FEE28F",
           "#FFB144",
           "#FFFFFF",
           "#86A0B1",
           "#FEE28F",
           "#FFB144",
           "#FFFFFF"
          ],
          "coloraxis": "coloraxis",
          "pattern": {
           "shape": ""
          }
         },
         "name": "",
         "offsetgroup": "",
         "orientation": "h",
         "showlegend": false,
         "textfont": {
          "size": 16
         },
         "textposition": "auto",
         "type": "bar",
         "x": [
          0.7127383353569411,
          0.7123367717623942,
          0.7121708474676264,
          0.7116617270963748,
          0.7115360423369099,
          0.7079077629402811,
          0.706855115145236
         ],
         "xaxis": "x",
         "y": [
          "SVM_CAT_LGBM ",
          "CatBoost ",
          "LGBM ",
          "Select_KBest ",
          "GridSearch ",
          "CAT_LGBM ",
          "Bagging "
         ],
         "yaxis": "y"
        }
       ],
       "layout": {
        "barmode": "group",
        "coloraxis": {
         "colorbar": {
          "title": {
           "text": "RMSE"
          }
         },
         "colorscale": [
          [
           0,
           "#0d0887"
          ],
          [
           0.1111111111111111,
           "#46039f"
          ],
          [
           0.2222222222222222,
           "#7201a8"
          ],
          [
           0.3333333333333333,
           "#9c179e"
          ],
          [
           0.4444444444444444,
           "#bd3786"
          ],
          [
           0.5555555555555556,
           "#d8576b"
          ],
          [
           0.6666666666666666,
           "#ed7953"
          ],
          [
           0.7777777777777778,
           "#fb9f3a"
          ],
          [
           0.8888888888888888,
           "#fdca26"
          ],
          [
           1,
           "#f0f921"
          ]
         ]
        },
        "height": 900,
        "legend": {
         "tracegroupgap": 0
        },
        "margin": {
         "t": 60
        },
        "paper_bgcolor": "rgba(0,0,0,0)",
        "plot_bgcolor": "rgba(0,0,0,0)",
        "template": {
         "data": {
          "bar": [
           {
            "error_x": {
             "color": "#2a3f5f"
            },
            "error_y": {
             "color": "#2a3f5f"
            },
            "marker": {
             "line": {
              "color": "#E5ECF6",
              "width": 0.5
             },
             "pattern": {
              "fillmode": "overlay",
              "size": 10,
              "solidity": 0.2
             }
            },
            "type": "bar"
           }
          ],
          "barpolar": [
           {
            "marker": {
             "line": {
              "color": "#E5ECF6",
              "width": 0.5
             },
             "pattern": {
              "fillmode": "overlay",
              "size": 10,
              "solidity": 0.2
             }
            },
            "type": "barpolar"
           }
          ],
          "carpet": [
           {
            "aaxis": {
             "endlinecolor": "#2a3f5f",
             "gridcolor": "white",
             "linecolor": "white",
             "minorgridcolor": "white",
             "startlinecolor": "#2a3f5f"
            },
            "baxis": {
             "endlinecolor": "#2a3f5f",
             "gridcolor": "white",
             "linecolor": "white",
             "minorgridcolor": "white",
             "startlinecolor": "#2a3f5f"
            },
            "type": "carpet"
           }
          ],
          "choropleth": [
           {
            "colorbar": {
             "outlinewidth": 0,
             "ticks": ""
            },
            "type": "choropleth"
           }
          ],
          "contour": [
           {
            "colorbar": {
             "outlinewidth": 0,
             "ticks": ""
            },
            "colorscale": [
             [
              0,
              "#0d0887"
             ],
             [
              0.1111111111111111,
              "#46039f"
             ],
             [
              0.2222222222222222,
              "#7201a8"
             ],
             [
              0.3333333333333333,
              "#9c179e"
             ],
             [
              0.4444444444444444,
              "#bd3786"
             ],
             [
              0.5555555555555556,
              "#d8576b"
             ],
             [
              0.6666666666666666,
              "#ed7953"
             ],
             [
              0.7777777777777778,
              "#fb9f3a"
             ],
             [
              0.8888888888888888,
              "#fdca26"
             ],
             [
              1,
              "#f0f921"
             ]
            ],
            "type": "contour"
           }
          ],
          "contourcarpet": [
           {
            "colorbar": {
             "outlinewidth": 0,
             "ticks": ""
            },
            "type": "contourcarpet"
           }
          ],
          "heatmap": [
           {
            "colorbar": {
             "outlinewidth": 0,
             "ticks": ""
            },
            "colorscale": [
             [
              0,
              "#0d0887"
             ],
             [
              0.1111111111111111,
              "#46039f"
             ],
             [
              0.2222222222222222,
              "#7201a8"
             ],
             [
              0.3333333333333333,
              "#9c179e"
             ],
             [
              0.4444444444444444,
              "#bd3786"
             ],
             [
              0.5555555555555556,
              "#d8576b"
             ],
             [
              0.6666666666666666,
              "#ed7953"
             ],
             [
              0.7777777777777778,
              "#fb9f3a"
             ],
             [
              0.8888888888888888,
              "#fdca26"
             ],
             [
              1,
              "#f0f921"
             ]
            ],
            "type": "heatmap"
           }
          ],
          "heatmapgl": [
           {
            "colorbar": {
             "outlinewidth": 0,
             "ticks": ""
            },
            "colorscale": [
             [
              0,
              "#0d0887"
             ],
             [
              0.1111111111111111,
              "#46039f"
             ],
             [
              0.2222222222222222,
              "#7201a8"
             ],
             [
              0.3333333333333333,
              "#9c179e"
             ],
             [
              0.4444444444444444,
              "#bd3786"
             ],
             [
              0.5555555555555556,
              "#d8576b"
             ],
             [
              0.6666666666666666,
              "#ed7953"
             ],
             [
              0.7777777777777778,
              "#fb9f3a"
             ],
             [
              0.8888888888888888,
              "#fdca26"
             ],
             [
              1,
              "#f0f921"
             ]
            ],
            "type": "heatmapgl"
           }
          ],
          "histogram": [
           {
            "marker": {
             "pattern": {
              "fillmode": "overlay",
              "size": 10,
              "solidity": 0.2
             }
            },
            "type": "histogram"
           }
          ],
          "histogram2d": [
           {
            "colorbar": {
             "outlinewidth": 0,
             "ticks": ""
            },
            "colorscale": [
             [
              0,
              "#0d0887"
             ],
             [
              0.1111111111111111,
              "#46039f"
             ],
             [
              0.2222222222222222,
              "#7201a8"
             ],
             [
              0.3333333333333333,
              "#9c179e"
             ],
             [
              0.4444444444444444,
              "#bd3786"
             ],
             [
              0.5555555555555556,
              "#d8576b"
             ],
             [
              0.6666666666666666,
              "#ed7953"
             ],
             [
              0.7777777777777778,
              "#fb9f3a"
             ],
             [
              0.8888888888888888,
              "#fdca26"
             ],
             [
              1,
              "#f0f921"
             ]
            ],
            "type": "histogram2d"
           }
          ],
          "histogram2dcontour": [
           {
            "colorbar": {
             "outlinewidth": 0,
             "ticks": ""
            },
            "colorscale": [
             [
              0,
              "#0d0887"
             ],
             [
              0.1111111111111111,
              "#46039f"
             ],
             [
              0.2222222222222222,
              "#7201a8"
             ],
             [
              0.3333333333333333,
              "#9c179e"
             ],
             [
              0.4444444444444444,
              "#bd3786"
             ],
             [
              0.5555555555555556,
              "#d8576b"
             ],
             [
              0.6666666666666666,
              "#ed7953"
             ],
             [
              0.7777777777777778,
              "#fb9f3a"
             ],
             [
              0.8888888888888888,
              "#fdca26"
             ],
             [
              1,
              "#f0f921"
             ]
            ],
            "type": "histogram2dcontour"
           }
          ],
          "mesh3d": [
           {
            "colorbar": {
             "outlinewidth": 0,
             "ticks": ""
            },
            "type": "mesh3d"
           }
          ],
          "parcoords": [
           {
            "line": {
             "colorbar": {
              "outlinewidth": 0,
              "ticks": ""
             }
            },
            "type": "parcoords"
           }
          ],
          "pie": [
           {
            "automargin": true,
            "type": "pie"
           }
          ],
          "scatter": [
           {
            "fillpattern": {
             "fillmode": "overlay",
             "size": 10,
             "solidity": 0.2
            },
            "type": "scatter"
           }
          ],
          "scatter3d": [
           {
            "line": {
             "colorbar": {
              "outlinewidth": 0,
              "ticks": ""
             }
            },
            "marker": {
             "colorbar": {
              "outlinewidth": 0,
              "ticks": ""
             }
            },
            "type": "scatter3d"
           }
          ],
          "scattercarpet": [
           {
            "marker": {
             "colorbar": {
              "outlinewidth": 0,
              "ticks": ""
             }
            },
            "type": "scattercarpet"
           }
          ],
          "scattergeo": [
           {
            "marker": {
             "colorbar": {
              "outlinewidth": 0,
              "ticks": ""
             }
            },
            "type": "scattergeo"
           }
          ],
          "scattergl": [
           {
            "marker": {
             "colorbar": {
              "outlinewidth": 0,
              "ticks": ""
             }
            },
            "type": "scattergl"
           }
          ],
          "scattermapbox": [
           {
            "marker": {
             "colorbar": {
              "outlinewidth": 0,
              "ticks": ""
             }
            },
            "type": "scattermapbox"
           }
          ],
          "scatterpolar": [
           {
            "marker": {
             "colorbar": {
              "outlinewidth": 0,
              "ticks": ""
             }
            },
            "type": "scatterpolar"
           }
          ],
          "scatterpolargl": [
           {
            "marker": {
             "colorbar": {
              "outlinewidth": 0,
              "ticks": ""
             }
            },
            "type": "scatterpolargl"
           }
          ],
          "scatterternary": [
           {
            "marker": {
             "colorbar": {
              "outlinewidth": 0,
              "ticks": ""
             }
            },
            "type": "scatterternary"
           }
          ],
          "surface": [
           {
            "colorbar": {
             "outlinewidth": 0,
             "ticks": ""
            },
            "colorscale": [
             [
              0,
              "#0d0887"
             ],
             [
              0.1111111111111111,
              "#46039f"
             ],
             [
              0.2222222222222222,
              "#7201a8"
             ],
             [
              0.3333333333333333,
              "#9c179e"
             ],
             [
              0.4444444444444444,
              "#bd3786"
             ],
             [
              0.5555555555555556,
              "#d8576b"
             ],
             [
              0.6666666666666666,
              "#ed7953"
             ],
             [
              0.7777777777777778,
              "#fb9f3a"
             ],
             [
              0.8888888888888888,
              "#fdca26"
             ],
             [
              1,
              "#f0f921"
             ]
            ],
            "type": "surface"
           }
          ],
          "table": [
           {
            "cells": {
             "fill": {
              "color": "#EBF0F8"
             },
             "line": {
              "color": "white"
             }
            },
            "header": {
             "fill": {
              "color": "#C8D4E3"
             },
             "line": {
              "color": "white"
             }
            },
            "type": "table"
           }
          ]
         },
         "layout": {
          "annotationdefaults": {
           "arrowcolor": "#2a3f5f",
           "arrowhead": 0,
           "arrowwidth": 1
          },
          "autotypenumbers": "strict",
          "coloraxis": {
           "colorbar": {
            "outlinewidth": 0,
            "ticks": ""
           }
          },
          "colorscale": {
           "diverging": [
            [
             0,
             "#8e0152"
            ],
            [
             0.1,
             "#c51b7d"
            ],
            [
             0.2,
             "#de77ae"
            ],
            [
             0.3,
             "#f1b6da"
            ],
            [
             0.4,
             "#fde0ef"
            ],
            [
             0.5,
             "#f7f7f7"
            ],
            [
             0.6,
             "#e6f5d0"
            ],
            [
             0.7,
             "#b8e186"
            ],
            [
             0.8,
             "#7fbc41"
            ],
            [
             0.9,
             "#4d9221"
            ],
            [
             1,
             "#276419"
            ]
           ],
           "sequential": [
            [
             0,
             "#0d0887"
            ],
            [
             0.1111111111111111,
             "#46039f"
            ],
            [
             0.2222222222222222,
             "#7201a8"
            ],
            [
             0.3333333333333333,
             "#9c179e"
            ],
            [
             0.4444444444444444,
             "#bd3786"
            ],
            [
             0.5555555555555556,
             "#d8576b"
            ],
            [
             0.6666666666666666,
             "#ed7953"
            ],
            [
             0.7777777777777778,
             "#fb9f3a"
            ],
            [
             0.8888888888888888,
             "#fdca26"
            ],
            [
             1,
             "#f0f921"
            ]
           ],
           "sequentialminus": [
            [
             0,
             "#0d0887"
            ],
            [
             0.1111111111111111,
             "#46039f"
            ],
            [
             0.2222222222222222,
             "#7201a8"
            ],
            [
             0.3333333333333333,
             "#9c179e"
            ],
            [
             0.4444444444444444,
             "#bd3786"
            ],
            [
             0.5555555555555556,
             "#d8576b"
            ],
            [
             0.6666666666666666,
             "#ed7953"
            ],
            [
             0.7777777777777778,
             "#fb9f3a"
            ],
            [
             0.8888888888888888,
             "#fdca26"
            ],
            [
             1,
             "#f0f921"
            ]
           ]
          },
          "colorway": [
           "#636efa",
           "#EF553B",
           "#00cc96",
           "#ab63fa",
           "#FFA15A",
           "#19d3f3",
           "#FF6692",
           "#B6E880",
           "#FF97FF",
           "#FECB52"
          ],
          "font": {
           "color": "#2a3f5f"
          },
          "geo": {
           "bgcolor": "white",
           "lakecolor": "white",
           "landcolor": "#E5ECF6",
           "showlakes": true,
           "showland": true,
           "subunitcolor": "white"
          },
          "hoverlabel": {
           "align": "left"
          },
          "hovermode": "closest",
          "mapbox": {
           "style": "light"
          },
          "paper_bgcolor": "white",
          "plot_bgcolor": "#E5ECF6",
          "polar": {
           "angularaxis": {
            "gridcolor": "white",
            "linecolor": "white",
            "ticks": ""
           },
           "bgcolor": "#E5ECF6",
           "radialaxis": {
            "gridcolor": "white",
            "linecolor": "white",
            "ticks": ""
           }
          },
          "scene": {
           "xaxis": {
            "backgroundcolor": "#E5ECF6",
            "gridcolor": "white",
            "gridwidth": 2,
            "linecolor": "white",
            "showbackground": true,
            "ticks": "",
            "zerolinecolor": "white"
           },
           "yaxis": {
            "backgroundcolor": "#E5ECF6",
            "gridcolor": "white",
            "gridwidth": 2,
            "linecolor": "white",
            "showbackground": true,
            "ticks": "",
            "zerolinecolor": "white"
           },
           "zaxis": {
            "backgroundcolor": "#E5ECF6",
            "gridcolor": "white",
            "gridwidth": 2,
            "linecolor": "white",
            "showbackground": true,
            "ticks": "",
            "zerolinecolor": "white"
           }
          },
          "shapedefaults": {
           "line": {
            "color": "#2a3f5f"
           }
          },
          "ternary": {
           "aaxis": {
            "gridcolor": "white",
            "linecolor": "white",
            "ticks": ""
           },
           "baxis": {
            "gridcolor": "white",
            "linecolor": "white",
            "ticks": ""
           },
           "bgcolor": "#E5ECF6",
           "caxis": {
            "gridcolor": "white",
            "linecolor": "white",
            "ticks": ""
           }
          },
          "title": {
           "x": 0.05
          },
          "xaxis": {
           "automargin": true,
           "gridcolor": "white",
           "linecolor": "white",
           "ticks": "",
           "title": {
            "standoff": 15
           },
           "zerolinecolor": "white",
           "zerolinewidth": 2
          },
          "yaxis": {
           "automargin": true,
           "gridcolor": "white",
           "linecolor": "white",
           "ticks": "",
           "title": {
            "standoff": 15
           },
           "zerolinecolor": "white",
           "zerolinewidth": 2
          }
         }
        },
        "width": 1200,
        "xaxis": {
         "anchor": "y",
         "domain": [
          0,
          1
         ],
         "dtick": 0.006,
         "range": [
          0.69,
          0.7125
         ],
         "showticklabels": true,
         "tickfont": {
          "color": "white",
          "size": 28
         },
         "title": {
          "font": {
           "color": "white",
           "size": 26
          },
          "text": "RMSE"
         }
        },
        "yaxis": {
         "anchor": "x",
         "domain": [
          0,
          1
         ],
         "showticklabels": true,
         "tickfont": {
          "color": "white",
          "size": 32
         },
         "title": {}
        }
       }
      }
     },
     "metadata": {},
     "output_type": "display_data"
    }
   ],
   "source": [
    "import plotly.express as px\n",
    "import pandas as pd\n",
    "\n",
    "colors = ['#86A0B1', '#FEE28F', '#FFB144', '#FFFFFF']\n",
    "\n",
    "fig = px.bar(df_metrics_sel_feat[::-1],\n",
    "             x='RMSE',\n",
    "             y='Modelos',\n",
    "             color='RMSE', # add color parameter\n",
    "             orientation='h',\n",
    "             barmode='group',\n",
    "             height=500,\n",
    "             title=None)\n",
    "\n",
    "fig.update_traces(\n",
    "    marker_color=np.tile(colors, 4),\n",
    "    textfont=dict(size=16),\n",
    ")\n",
    "\n",
    "fig.update_xaxes(showticklabels=True, \n",
    "                 tickfont=dict(size=28, color='white'),\n",
    "                 title=\"RMSE\",\n",
    "                 title_font=dict(size=26, color='white'),\n",
    "                 range=[0.69, 0.7125],\n",
    "                 dtick=0.006)\n",
    "\n",
    "fig.update_yaxes(showticklabels=True,\n",
    "                 title=None,\n",
    "                 tickfont=dict(size=32, color='white'))\n",
    "\n",
    "\n",
    "# set the background color to transparent\n",
    "fig.update_layout(\n",
    "    width=1200,\n",
    "    height=900,\n",
    "    plot_bgcolor='rgba(0,0,0,0)',\n",
    "    paper_bgcolor='rgba(0,0,0,0)')\n",
    "\n",
    "\n",
    "fig.write_image('model_metrics_feature_selection_RMSE.png')\n",
    "\n",
    "fig.show()"
   ]
  },
  {
   "attachments": {},
   "cell_type": "markdown",
   "metadata": {},
   "source": [
    "### Comparo las predicciones con los registros de y_test para ver en que registros se está fallando más"
   ]
  },
  {
   "cell_type": "code",
   "execution_count": 68,
   "metadata": {},
   "outputs": [],
   "source": [
    "predicciones = pd.DataFrame(y_pred_Bagging_Model)\n",
    "predicciones.rename(columns={0:\"pred_puntuacion\"}, inplace =True)\n",
    "\n",
    "notas_test = pd.DataFrame(y_test).reset_index().iloc[:,1:]"
   ]
  },
  {
   "cell_type": "code",
   "execution_count": 69,
   "metadata": {},
   "outputs": [
    {
     "data": {
      "text/html": [
       "<div>\n",
       "<style scoped>\n",
       "    .dataframe tbody tr th:only-of-type {\n",
       "        vertical-align: middle;\n",
       "    }\n",
       "\n",
       "    .dataframe tbody tr th {\n",
       "        vertical-align: top;\n",
       "    }\n",
       "\n",
       "    .dataframe thead th {\n",
       "        text-align: right;\n",
       "    }\n",
       "</style>\n",
       "<table border=\"1\" class=\"dataframe\">\n",
       "  <thead>\n",
       "    <tr style=\"text-align: right;\">\n",
       "      <th></th>\n",
       "      <th>puntuacion</th>\n",
       "      <th>predicciones</th>\n",
       "      <th>error</th>\n",
       "    </tr>\n",
       "  </thead>\n",
       "  <tbody>\n",
       "    <tr>\n",
       "      <th>0</th>\n",
       "      <td>4.8</td>\n",
       "      <td>5.075</td>\n",
       "      <td>0.275</td>\n",
       "    </tr>\n",
       "    <tr>\n",
       "      <th>1</th>\n",
       "      <td>6.7</td>\n",
       "      <td>6.564</td>\n",
       "      <td>-0.136</td>\n",
       "    </tr>\n",
       "    <tr>\n",
       "      <th>2</th>\n",
       "      <td>7.1</td>\n",
       "      <td>6.608</td>\n",
       "      <td>-0.492</td>\n",
       "    </tr>\n",
       "    <tr>\n",
       "      <th>3</th>\n",
       "      <td>7.8</td>\n",
       "      <td>6.220</td>\n",
       "      <td>-1.580</td>\n",
       "    </tr>\n",
       "    <tr>\n",
       "      <th>4</th>\n",
       "      <td>5.6</td>\n",
       "      <td>5.820</td>\n",
       "      <td>0.220</td>\n",
       "    </tr>\n",
       "    <tr>\n",
       "      <th>...</th>\n",
       "      <td>...</td>\n",
       "      <td>...</td>\n",
       "      <td>...</td>\n",
       "    </tr>\n",
       "    <tr>\n",
       "      <th>1515</th>\n",
       "      <td>5.6</td>\n",
       "      <td>5.277</td>\n",
       "      <td>-0.323</td>\n",
       "    </tr>\n",
       "    <tr>\n",
       "      <th>1516</th>\n",
       "      <td>6.9</td>\n",
       "      <td>6.907</td>\n",
       "      <td>0.007</td>\n",
       "    </tr>\n",
       "    <tr>\n",
       "      <th>1517</th>\n",
       "      <td>7.2</td>\n",
       "      <td>6.867</td>\n",
       "      <td>-0.333</td>\n",
       "    </tr>\n",
       "    <tr>\n",
       "      <th>1518</th>\n",
       "      <td>6.4</td>\n",
       "      <td>5.843</td>\n",
       "      <td>-0.557</td>\n",
       "    </tr>\n",
       "    <tr>\n",
       "      <th>1519</th>\n",
       "      <td>5.2</td>\n",
       "      <td>5.254</td>\n",
       "      <td>0.054</td>\n",
       "    </tr>\n",
       "  </tbody>\n",
       "</table>\n",
       "<p>1520 rows × 3 columns</p>\n",
       "</div>"
      ],
      "text/plain": [
       "      puntuacion  predicciones  error\n",
       "0            4.8         5.075  0.275\n",
       "1            6.7         6.564 -0.136\n",
       "2            7.1         6.608 -0.492\n",
       "3            7.8         6.220 -1.580\n",
       "4            5.6         5.820  0.220\n",
       "...          ...           ...    ...\n",
       "1515         5.6         5.277 -0.323\n",
       "1516         6.9         6.907  0.007\n",
       "1517         7.2         6.867 -0.333\n",
       "1518         6.4         5.843 -0.557\n",
       "1519         5.2         5.254  0.054\n",
       "\n",
       "[1520 rows x 3 columns]"
      ]
     },
     "execution_count": 69,
     "metadata": {},
     "output_type": "execute_result"
    }
   ],
   "source": [
    "notas_test[\"predicciones\"] = (predicciones[\"pred_puntuacion\"].apply(lambda x: round((x),3)))\n",
    "notas_test[\"error\"] = round((notas_test[\"predicciones\"] - notas_test[\"puntuacion\"]),3)\n",
    "notas_test"
   ]
  },
  {
   "attachments": {},
   "cell_type": "markdown",
   "metadata": {},
   "source": [
    "### Compruebo las máximas y mínimas diferencias sobre el error"
   ]
  },
  {
   "cell_type": "code",
   "execution_count": 70,
   "metadata": {},
   "outputs": [
    {
     "data": {
      "text/plain": [
       "(2.914, -2.409)"
      ]
     },
     "execution_count": 70,
     "metadata": {},
     "output_type": "execute_result"
    }
   ],
   "source": [
    "notas_test[\"error\"].max(),notas_test[\"error\"].min()"
   ]
  },
  {
   "cell_type": "code",
   "execution_count": 71,
   "metadata": {},
   "outputs": [
    {
     "data": {
      "text/plain": [
       "(8.5, 3.7)"
      ]
     },
     "execution_count": 71,
     "metadata": {},
     "output_type": "execute_result"
    }
   ],
   "source": [
    "notas_test[\"puntuacion\"].max(),notas_test[\"puntuacion\"].min()"
   ]
  },
  {
   "attachments": {},
   "cell_type": "markdown",
   "metadata": {},
   "source": [
    "### Reviso los errores máximos en que rango de notas se cometen poara tomar acciones en cuanto a la elección del modelo (modelos que no penalicen tanto los errtores en los valores extremos), optimización del modelo (ajustar hiperparámetros que favorezcan estas desigualdades) o métrica en la que fijarse (métrica que me indique si el modelo comete errores \"groseros\")"
   ]
  },
  {
   "cell_type": "code",
   "execution_count": 72,
   "metadata": {},
   "outputs": [
    {
     "data": {
      "text/plain": [
       "puntuacion\n",
       "6.9    1\n",
       "7.2    1\n",
       "7.3    1\n",
       "7.4    1\n",
       "Name: error, dtype: int64"
      ]
     },
     "execution_count": 72,
     "metadata": {},
     "output_type": "execute_result"
    }
   ],
   "source": [
    "notas_test[notas_test[\"error\"] < - 2].groupby(\"puntuacion\")[\"error\"].count().sort_values(ascending=False)"
   ]
  },
  {
   "cell_type": "code",
   "execution_count": 73,
   "metadata": {},
   "outputs": [
    {
     "data": {
      "text/plain": [
       "puntuacion\n",
       "4.2    2\n",
       "4.3    2\n",
       "3.8    1\n",
       "3.9    1\n",
       "4.1    1\n",
       "4.4    1\n",
       "Name: error, dtype: int64"
      ]
     },
     "execution_count": 73,
     "metadata": {},
     "output_type": "execute_result"
    }
   ],
   "source": [
    "notas_test[notas_test[\"error\"] > 2].groupby(\"puntuacion\")[\"error\"].count().sort_values(ascending=False)"
   ]
  }
 ],
 "metadata": {
  "kernelspec": {
   "display_name": "Python 3.7.11 ('basic_ds')",
   "language": "python",
   "name": "python3"
  },
  "language_info": {
   "codemirror_mode": {
    "name": "ipython",
    "version": 3
   },
   "file_extension": ".py",
   "mimetype": "text/x-python",
   "name": "python",
   "nbconvert_exporter": "python",
   "pygments_lexer": "ipython3",
   "version": "3.9.16"
  },
  "orig_nbformat": 4,
  "vscode": {
   "interpreter": {
    "hash": "70dd3549dabd1ce49e5001f72f872ceffdb9455a9d169ec133c29fbc27295603"
   }
  }
 },
 "nbformat": 4,
 "nbformat_minor": 2
}
