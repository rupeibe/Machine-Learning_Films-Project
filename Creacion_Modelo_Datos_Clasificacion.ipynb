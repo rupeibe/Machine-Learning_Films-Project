{
 "cells": [
  {
   "attachments": {},
   "cell_type": "markdown",
   "metadata": {},
   "source": [
    "# CREACIÓN DE MODELOS DE DATOS - CLASIFICACIÓN"
   ]
  },
  {
   "cell_type": "code",
   "execution_count": 1,
   "metadata": {},
   "outputs": [],
   "source": [
    "import pandas as pd\n",
    "import numpy as np\n",
    "\n",
    "import seaborn as sns\n",
    "import matplotlib.pyplot as plt\n",
    "\n",
    "import warnings\n",
    "warnings.filterwarnings('ignore')"
   ]
  },
  {
   "attachments": {},
   "cell_type": "markdown",
   "metadata": {},
   "source": [
    "Cargo los datos"
   ]
  },
  {
   "cell_type": "code",
   "execution_count": 3,
   "metadata": {},
   "outputs": [
    {
     "data": {
      "text/html": [
       "<div>\n",
       "<style scoped>\n",
       "    .dataframe tbody tr th:only-of-type {\n",
       "        vertical-align: middle;\n",
       "    }\n",
       "\n",
       "    .dataframe tbody tr th {\n",
       "        vertical-align: top;\n",
       "    }\n",
       "\n",
       "    .dataframe thead th {\n",
       "        text-align: right;\n",
       "    }\n",
       "</style>\n",
       "<table border=\"1\" class=\"dataframe\">\n",
       "  <thead>\n",
       "    <tr style=\"text-align: right;\">\n",
       "      <th></th>\n",
       "      <th>puntuacion</th>\n",
       "      <th>total_premios</th>\n",
       "      <th>razzie</th>\n",
       "      <th>director</th>\n",
       "      <th>guion</th>\n",
       "      <th>musica</th>\n",
       "      <th>fotografia</th>\n",
       "      <th>reparto_1</th>\n",
       "      <th>reparto_2</th>\n",
       "      <th>reparto_3</th>\n",
       "      <th>...</th>\n",
       "      <th>drama</th>\n",
       "      <th>fantastico</th>\n",
       "      <th>infantil</th>\n",
       "      <th>intriga</th>\n",
       "      <th>musical</th>\n",
       "      <th>romance</th>\n",
       "      <th>terror</th>\n",
       "      <th>thriller</th>\n",
       "      <th>western</th>\n",
       "      <th>pais</th>\n",
       "    </tr>\n",
       "  </thead>\n",
       "  <tbody>\n",
       "    <tr>\n",
       "      <th>0</th>\n",
       "      <td>3.7</td>\n",
       "      <td>0</td>\n",
       "      <td>0</td>\n",
       "      <td>0</td>\n",
       "      <td>0</td>\n",
       "      <td>1</td>\n",
       "      <td>0</td>\n",
       "      <td>3</td>\n",
       "      <td>0</td>\n",
       "      <td>0</td>\n",
       "      <td>...</td>\n",
       "      <td>0</td>\n",
       "      <td>0</td>\n",
       "      <td>0</td>\n",
       "      <td>0</td>\n",
       "      <td>0</td>\n",
       "      <td>0</td>\n",
       "      <td>0</td>\n",
       "      <td>0</td>\n",
       "      <td>0</td>\n",
       "      <td>5179</td>\n",
       "    </tr>\n",
       "    <tr>\n",
       "      <th>1</th>\n",
       "      <td>5.6</td>\n",
       "      <td>0</td>\n",
       "      <td>0</td>\n",
       "      <td>0</td>\n",
       "      <td>0</td>\n",
       "      <td>2</td>\n",
       "      <td>0</td>\n",
       "      <td>2</td>\n",
       "      <td>0</td>\n",
       "      <td>0</td>\n",
       "      <td>...</td>\n",
       "      <td>0</td>\n",
       "      <td>0</td>\n",
       "      <td>0</td>\n",
       "      <td>0</td>\n",
       "      <td>0</td>\n",
       "      <td>0</td>\n",
       "      <td>0</td>\n",
       "      <td>1</td>\n",
       "      <td>0</td>\n",
       "      <td>5179</td>\n",
       "    </tr>\n",
       "    <tr>\n",
       "      <th>2</th>\n",
       "      <td>6.3</td>\n",
       "      <td>0</td>\n",
       "      <td>0</td>\n",
       "      <td>0</td>\n",
       "      <td>0</td>\n",
       "      <td>1</td>\n",
       "      <td>0</td>\n",
       "      <td>1</td>\n",
       "      <td>0</td>\n",
       "      <td>1</td>\n",
       "      <td>...</td>\n",
       "      <td>0</td>\n",
       "      <td>0</td>\n",
       "      <td>0</td>\n",
       "      <td>0</td>\n",
       "      <td>0</td>\n",
       "      <td>0</td>\n",
       "      <td>0</td>\n",
       "      <td>0</td>\n",
       "      <td>0</td>\n",
       "      <td>5179</td>\n",
       "    </tr>\n",
       "    <tr>\n",
       "      <th>3</th>\n",
       "      <td>6.6</td>\n",
       "      <td>0</td>\n",
       "      <td>0</td>\n",
       "      <td>1</td>\n",
       "      <td>0</td>\n",
       "      <td>0</td>\n",
       "      <td>1</td>\n",
       "      <td>0</td>\n",
       "      <td>1</td>\n",
       "      <td>0</td>\n",
       "      <td>...</td>\n",
       "      <td>0</td>\n",
       "      <td>0</td>\n",
       "      <td>0</td>\n",
       "      <td>0</td>\n",
       "      <td>0</td>\n",
       "      <td>0</td>\n",
       "      <td>0</td>\n",
       "      <td>0</td>\n",
       "      <td>0</td>\n",
       "      <td>716</td>\n",
       "    </tr>\n",
       "    <tr>\n",
       "      <th>4</th>\n",
       "      <td>5.1</td>\n",
       "      <td>0</td>\n",
       "      <td>0</td>\n",
       "      <td>0</td>\n",
       "      <td>0</td>\n",
       "      <td>0</td>\n",
       "      <td>0</td>\n",
       "      <td>1</td>\n",
       "      <td>1</td>\n",
       "      <td>0</td>\n",
       "      <td>...</td>\n",
       "      <td>1</td>\n",
       "      <td>0</td>\n",
       "      <td>0</td>\n",
       "      <td>0</td>\n",
       "      <td>0</td>\n",
       "      <td>0</td>\n",
       "      <td>0</td>\n",
       "      <td>0</td>\n",
       "      <td>0</td>\n",
       "      <td>1042</td>\n",
       "    </tr>\n",
       "  </tbody>\n",
       "</table>\n",
       "<p>5 rows × 30 columns</p>\n",
       "</div>"
      ],
      "text/plain": [
       "   puntuacion  total_premios  razzie  director  guion  musica  fotografia  \\\n",
       "0         3.7              0       0         0      0       1           0   \n",
       "1         5.6              0       0         0      0       2           0   \n",
       "2         6.3              0       0         0      0       1           0   \n",
       "3         6.6              0       0         1      0       0           1   \n",
       "4         5.1              0       0         0      0       0           0   \n",
       "\n",
       "   reparto_1  reparto_2  reparto_3  ...  drama  fantastico  infantil  intriga  \\\n",
       "0          3          0          0  ...      0           0         0        0   \n",
       "1          2          0          0  ...      0           0         0        0   \n",
       "2          1          0          1  ...      0           0         0        0   \n",
       "3          0          1          0  ...      0           0         0        0   \n",
       "4          1          1          0  ...      1           0         0        0   \n",
       "\n",
       "   musical  romance  terror  thriller  western  pais  \n",
       "0        0        0       0         0        0  5179  \n",
       "1        0        0       0         1        0  5179  \n",
       "2        0        0       0         0        0  5179  \n",
       "3        0        0       0         0        0   716  \n",
       "4        0        0       0         0        0  1042  \n",
       "\n",
       "[5 rows x 30 columns]"
      ]
     },
     "execution_count": 3,
     "metadata": {},
     "output_type": "execute_result"
    }
   ],
   "source": [
    "df = pd.read_csv(\"peliculas_analisis_ML.csv\",index_col=0)\n",
    "df.head()"
   ]
  },
  {
   "attachments": {},
   "cell_type": "markdown",
   "metadata": {},
   "source": [
    "Voy a discretizar la variable objetivo para poder modelar un algoritmo de clasificación y ver si mejora la performance en cuanto a uno de regresión"
   ]
  },
  {
   "cell_type": "code",
   "execution_count": 5,
   "metadata": {},
   "outputs": [
    {
     "data": {
      "text/plain": [
       "count    10128.000000\n",
       "mean         5.974812\n",
       "std          1.129741\n",
       "min          3.700000\n",
       "25%          5.100000\n",
       "50%          6.200000\n",
       "75%          6.800000\n",
       "max          9.000000\n",
       "Name: puntuacion, dtype: float64"
      ]
     },
     "execution_count": 5,
     "metadata": {},
     "output_type": "execute_result"
    }
   ],
   "source": [
    "df[\"puntuacion\"].describe()"
   ]
  },
  {
   "cell_type": "code",
   "execution_count": null,
   "metadata": {},
   "outputs": [],
   "source": []
  },
  {
   "attachments": {},
   "cell_type": "markdown",
   "metadata": {},
   "source": [
    "Se pide:\n",
    "\n",
    "- Escalar los datos previamente. StandardScaler\n",
    "- Entrenar un modelo y obtener su score de test: decission tree, log regression y SVC \n",
    "- Un voting con los tres y comparar\n",
    "  \n",
    "- Un modelo y su score de cada uno de los 6 ensembles (RandomForestClassifier, \n",
    "                                ExtraTreesClassifier, \n",
    "                                GradientBoostingClassifier, \n",
    "                                AdaBoostClassifier,\n",
    "                                XGBooost y catboost)\n",
    "- Elegir el que mejor resultados da de todos y optimizar sus parametros usando GridSearch (cv=5), al menos optimizar 3 parametros.\n",
    "- Hacer un voting con los otros 5 y comparar."
   ]
  },
  {
   "cell_type": "code",
   "execution_count": 35,
   "metadata": {},
   "outputs": [],
   "source": [
    "from sklearn.model_selection import train_test_split\n",
    "\n",
    "X = df.drop(columns=\"puntuacion\").values\n",
    "y = df[\"puntuacion\"].values\n",
    "\n",
    "X_train, X_test, y_train, y_test = train_test_split(X,\n",
    "                                                    y,\n",
    "                                                    test_size=0.2,\n",
    "                                                    random_state=42)"
   ]
  },
  {
   "attachments": {},
   "cell_type": "markdown",
   "metadata": {},
   "source": [
    "### Escalar los datos previamente. StandardScaler"
   ]
  },
  {
   "cell_type": "code",
   "execution_count": 36,
   "metadata": {},
   "outputs": [],
   "source": [
    "from sklearn.preprocessing import StandardScaler\n",
    "\n",
    "scaler = StandardScaler()\n",
    "scaler.fit(X_train)\n",
    "\n",
    "X_train = scaler.transform(X_train)\n",
    "X_test = scaler.transform(X_test)"
   ]
  },
  {
   "attachments": {},
   "cell_type": "markdown",
   "metadata": {},
   "source": [
    "## Comienzo a probar modelos para ver su performance"
   ]
  },
  {
   "attachments": {},
   "cell_type": "markdown",
   "metadata": {},
   "source": [
    "Obtengo la media del target para tener una referencia en cuanto a la métrica MAE"
   ]
  },
  {
   "cell_type": "code",
   "execution_count": 73,
   "metadata": {},
   "outputs": [
    {
     "data": {
      "text/plain": [
       "5.974812401263823"
      ]
     },
     "execution_count": 73,
     "metadata": {},
     "output_type": "execute_result"
    }
   ],
   "source": [
    "df[\"puntuacion\"].mean()"
   ]
  },
  {
   "attachments": {},
   "cell_type": "markdown",
   "metadata": {},
   "source": [
    "### RandomForestRegressor"
   ]
  },
  {
   "cell_type": "code",
   "execution_count": 114,
   "metadata": {},
   "outputs": [
    {
     "name": "stdout",
     "output_type": "stream",
     "text": [
      "R2 (test): 57.51 %\n",
      "MAE (test): 0.5836928133480159\n"
     ]
    }
   ],
   "source": [
    "from sklearn.ensemble import RandomForestRegressor\n",
    "from sklearn.metrics import r2_score, mean_squared_error, mean_absolute_error\n",
    "\n",
    "seed = 42\n",
    "\n",
    "RndFrst_Model = RandomForestRegressor(random_state= seed)\n",
    "RndFrst_Model.fit(X_train, y_train)                          \n",
    "\n",
    "y_pred_RndFrst_Model = RndFrst_Model.predict(X_test)\n",
    "         \n",
    "R2_RndFrst_Model = r2_score(y_test, y_pred_RndFrst_Model)\n",
    "MAE_RndFrst_Model = mean_absolute_error(y_test, y_pred_RndFrst_Model)\n",
    "\n",
    "print(\"R2 (test):\", round(((R2_RndFrst_Model)*100),2),\"%\")\n",
    "print(\"MAE (test):\", MAE_RndFrst_Model)"
   ]
  },
  {
   "cell_type": "code",
   "execution_count": 98,
   "metadata": {},
   "outputs": [
    {
     "data": {
      "image/png": "[encoded data removed]",
      "text/plain": [
       "<Figure size 1000x600 with 1 Axes>"
      ]
     },
     "metadata": {},
     "output_type": "display_data"
    }
   ],
   "source": [
    "import seaborn as sns\n",
    "import matplotlib.pyplot as plt\n",
    "\n",
    "# Obtener las características más importantes\n",
    "feature_importances = RndFrst_Model.feature_importances_\n",
    "important_features = sorted(zip(feature_importances, df.columns[1:]), reverse=True)[:10]\n",
    "important_features_names = [f[1] for f in important_features][::-1]\n",
    "important_features_importances = [f[0] for f in important_features][::-1]\n",
    "\n",
    "# Crear el gráfico de barras\n",
    "plt.figure(figsize=(10, 6))\n",
    "sns.set(style='whitegrid')\n",
    "sns.barplot(x=important_features_names, y=important_features_importances)\n",
    "\n",
    "# Agregar etiquetas a las barras\n",
    "for i, v in enumerate(important_features_importances):\n",
    "    plt.text(i, v, str(round(v, 2)), color='black', ha='center')\n",
    "\n",
    "plt.xticks(rotation=90)\n",
    "plt.title('Top 10 características más importantes')\n",
    "plt.xlabel('Importancia')\n",
    "plt.ylabel('Característica')\n",
    "plt.show()"
   ]
  },
  {
   "cell_type": "code",
   "execution_count": 99,
   "metadata": {},
   "outputs": [
    {
     "data": {
      "image/png": "[encoded data removed]",
      "text/plain": [
       "<Figure size 1000x600 with 1 Axes>"
      ]
     },
     "metadata": {},
     "output_type": "display_data"
    }
   ],
   "source": [
    "import seaborn as sns\n",
    "import matplotlib.pyplot as plt\n",
    "\n",
    "# Obtener las características menos importantes\n",
    "feature_importances = RndFrst_Model.feature_importances_\n",
    "important_features = sorted(zip(feature_importances, df.columns[1:]), reverse=False)[:10]\n",
    "important_features_names = [f[1] for f in important_features][::-1]\n",
    "important_features_importances = [f[0] for f in important_features][::-1]\n",
    "\n",
    "# Crear el gráfico de barras\n",
    "plt.figure(figsize=(10, 6))\n",
    "sns.set(style='whitegrid')\n",
    "sns.barplot(x=important_features_names, y=important_features_importances)\n",
    "plt.title('Top 10 características menos importantes')\n",
    "plt.xlabel('Característica')\n",
    "plt.ylabel('Importancia')\n",
    "plt.xticks(rotation=90)\n",
    "\n",
    "# Agregar etiquetas a las barras\n",
    "for i, v in enumerate(important_features_importances):\n",
    "    plt.text(i, v, str(round(v, 2)), color='black', ha='center')\n",
    "\n",
    "plt.show()"
   ]
  },
  {
   "attachments": {},
   "cell_type": "markdown",
   "metadata": {},
   "source": [
    "### Compruebo con le método SelectKBest cuales son las columnas de mayor importancia"
   ]
  },
  {
   "cell_type": "code",
   "execution_count": null,
   "metadata": {},
   "outputs": [],
   "source": [
    "from sklearn.feature_selection import SelectKBest\n",
    "\n",
    "print(X.shape)\n",
    "sel = SelectKBest(k=5)\n",
    "X_new = sel.fit_transform(X, Y)\n",
    "print(X_new.shape)\n",
    "print(sel.scores_)\n",
    "\n",
    "pd.DataFrame({'column': names, 'score': sel.scores_}).sort_values('score', ascending=False)"
   ]
  },
  {
   "attachments": {},
   "cell_type": "markdown",
   "metadata": {},
   "source": [
    "### DecisionTreeRegressor"
   ]
  },
  {
   "cell_type": "code",
   "execution_count": 113,
   "metadata": {},
   "outputs": [
    {
     "name": "stdout",
     "output_type": "stream",
     "text": [
      "R2 (test): 29.81 %\n",
      "MAE (test): 0.7395488635986507\n"
     ]
    }
   ],
   "source": [
    "from sklearn.tree import DecisionTreeRegressor\n",
    "from sklearn.metrics import r2_score, mean_absolute_error\n",
    "\n",
    "seed = 42\n",
    "\n",
    "DcsTree_Model = DecisionTreeRegressor(random_state= seed)\n",
    "DcsTree_Model.fit(X_train, y_train)\n",
    "\n",
    "y_pred_DcsTree_Model = DcsTree_Model.predict(X_test)\n",
    "\n",
    "R2_DcsTree_Model = r2_score(y_test, y_pred_DcsTree_Model)\n",
    "MAE_DcsTree_Model = mean_absolute_error(y_test, y_pred_DcsTree_Model)\n",
    "\n",
    "print(\"R2 (test):\", round(((R2_DcsTree_Model)*100),2),\"%\")\n",
    "print(\"MAE (test):\", MAE_DcsTree_Model)"
   ]
  },
  {
   "attachments": {},
   "cell_type": "markdown",
   "metadata": {},
   "source": [
    "### LinearRegression"
   ]
  },
  {
   "cell_type": "code",
   "execution_count": 115,
   "metadata": {},
   "outputs": [
    {
     "name": "stdout",
     "output_type": "stream",
     "text": [
      "R2 (test): 51.66 %\n",
      "MAE (test): 0.6433439039357763\n"
     ]
    }
   ],
   "source": [
    "from sklearn.linear_model import LinearRegression\n",
    "from sklearn.metrics import r2_score, mean_absolute_error\n",
    "\n",
    "seed = 42\n",
    "\n",
    "LinReg_Model = LinearRegression()\n",
    "LinReg_Model.fit(X_train, y_train)\n",
    "\n",
    "y_pred_LinReg_Model = LinReg_Model.predict(X_test)\n",
    "\n",
    "R2_LinReg_Model = r2_score(y_test, y_pred_LinReg_Model)\n",
    "MAE_LinReg_Model = mean_absolute_error(y_test, y_pred_LinReg_Model)\n",
    "\n",
    "print(\"R2 (test):\", round(((R2_LinReg_Model)*100),2),\"%\")\n",
    "print(\"MAE (test):\", MAE_LinReg_Model)"
   ]
  },
  {
   "attachments": {},
   "cell_type": "markdown",
   "metadata": {},
   "source": [
    "### Support Vector Machine"
   ]
  },
  {
   "cell_type": "code",
   "execution_count": 116,
   "metadata": {},
   "outputs": [
    {
     "name": "stdout",
     "output_type": "stream",
     "text": [
      "R2 (test): 57.51 %\n",
      "MAE (test): 0.5836928133480159\n"
     ]
    }
   ],
   "source": [
    "from sklearn.svm import SVR\n",
    "from sklearn.metrics import r2_score, mean_absolute_error\n",
    "\n",
    "SupVecMac_Model = SVR()\n",
    "SupVecMac_Model.fit(X_train, y_train)\n",
    "\n",
    "y_pred_SupVecMac_Model = RndFrst_Model.predict(X_test)\n",
    "\n",
    "R2_SupVecMac_Model= r2_score(y_test, y_pred_SupVecMac_Model)\n",
    "MAE_SupVecMac_Model = mean_absolute_error(y_test, y_pred_SupVecMac_Model)\n",
    "\n",
    "print(\"R2 (test):\", round(((R2_SupVecMac_Model)*100),2),\"%\")\n",
    "print(\"MAE (test):\", MAE_SupVecMac_Model)"
   ]
  },
  {
   "attachments": {},
   "cell_type": "markdown",
   "metadata": {},
   "source": [
    "### Red neuronal"
   ]
  },
  {
   "cell_type": "code",
   "execution_count": 117,
   "metadata": {},
   "outputs": [
    {
     "name": "stdout",
     "output_type": "stream",
     "text": [
      "R2 (test): 54.89 %\n",
      "MAE (test): 0.6100328266067323\n"
     ]
    }
   ],
   "source": [
    "from sklearn.neural_network import MLPRegressor\n",
    "from sklearn.metrics import r2_score, mean_absolute_error\n",
    "\n",
    "MLP_Model = MLPRegressor(hidden_layer_sizes=(100, ), activation='relu', solver='adam', random_state=seed)\n",
    "MLP_Model.fit(X_train, y_train)\n",
    "\n",
    "y_pred_MLP_Model = MLP_Model.predict(X_test)\n",
    "\n",
    "R2_MLP_Model = r2_score(y_test, y_pred_MLP_Model)\n",
    "MAE_SupVecMac_Model = mean_absolute_error(y_test, y_pred_MLP_Model)\n",
    "\n",
    "print(\"R2 (test):\", round(((R2_MLP_Model)*100),2),\"%\")\n",
    "print(\"MAE (test):\", MAE_SupVecMac_Model)"
   ]
  },
  {
   "attachments": {},
   "cell_type": "markdown",
   "metadata": {},
   "source": [
    "### Ridge"
   ]
  },
  {
   "cell_type": "code",
   "execution_count": 118,
   "metadata": {},
   "outputs": [
    {
     "name": "stdout",
     "output_type": "stream",
     "text": [
      "R2 (test): 51.64 %\n",
      "MAE (test): 0.6431795102133205\n"
     ]
    }
   ],
   "source": [
    "from sklearn.linear_model import Ridge\n",
    "from sklearn.metrics import r2_score, mean_absolute_error\n",
    "\n",
    "seed = 42\n",
    "\n",
    "Ridge_Model = Ridge(random_state=seed)\n",
    "Ridge_Model.fit(X_train, y_train)\n",
    "\n",
    "y_pred_Ridge_Model = Ridge_Model.predict(X_test)\n",
    "\n",
    "R2_Ridge_Model = r2_score(y_test, y_pred_Ridge_Model)\n",
    "MAE_Ridge_Model = mean_absolute_error(y_test, y_pred_Ridge_Model)\n",
    "\n",
    "print(\"R2 (test):\", round(((R2_Ridge_Model)*100),2),\"%\")\n",
    "print(\"MAE (test):\", MAE_Ridge_Model)"
   ]
  },
  {
   "attachments": {},
   "cell_type": "markdown",
   "metadata": {},
   "source": [
    "### Lasso"
   ]
  },
  {
   "cell_type": "code",
   "execution_count": 129,
   "metadata": {},
   "outputs": [
    {
     "name": "stdout",
     "output_type": "stream",
     "text": [
      "R2 (test): -0.02 %\n",
      "MAE (test): 0.9980833830653246\n"
     ]
    }
   ],
   "source": [
    "from sklearn.linear_model import Lasso\n",
    "from sklearn.metrics import r2_score, mean_absolute_error\n",
    "\n",
    "seed = 42\n",
    "\n",
    "Lasso_Model = Lasso(alpha = 10, max_iter= 100000, random_state=seed)\n",
    "Lasso_Model.fit(X_train, y_train)\n",
    "\n",
    "y_pred_Lasso_Model = Lasso_Model.predict(X_test)\n",
    "\n",
    "R2_Lasso_Model = r2_score(y_test, y_pred_Lasso_Model)\n",
    "MAE_Lasso_Model = mean_absolute_error(y_test, y_pred_Lasso_Model)\n",
    "\n",
    "print(\"R2 (test):\", round(((R2_Lasso_Model)*100),2),\"%\")\n",
    "print(\"MAE (test):\", MAE_Lasso_Model)"
   ]
  },
  {
   "attachments": {},
   "cell_type": "markdown",
   "metadata": {},
   "source": [
    "### ElasticNet"
   ]
  },
  {
   "cell_type": "code",
   "execution_count": 130,
   "metadata": {},
   "outputs": [
    {
     "name": "stdout",
     "output_type": "stream",
     "text": [
      "R2 (test): -0.02 %\n",
      "MAE (test): 0.9980833830653246\n"
     ]
    }
   ],
   "source": [
    "from sklearn.linear_model import ElasticNet\n",
    "from sklearn.metrics import r2_score, mean_absolute_error\n",
    "\n",
    "seed = 42\n",
    "\n",
    "ElasticNet_Model = ElasticNet(alpha = 10, l1_ratio= 0.5, random_state=seed)\n",
    "ElasticNet_Model.fit(X_train, y_train)\n",
    "\n",
    "y_pred_ElasticNet_Model = ElasticNet_Model.predict(X_test)\n",
    "\n",
    "R2_ElasticNet_Model = r2_score(y_test, y_pred_ElasticNet_Model)\n",
    "MAE_ElasticNet_Model = mean_absolute_error(y_test, y_pred_ElasticNet_Model)\n",
    "\n",
    "print(\"R2 (test):\", round(((R2_ElasticNet_Model)*100),2),\"%\")\n",
    "print(\"MAE (test):\", MAE_ElasticNet_Model)"
   ]
  },
  {
   "attachments": {},
   "cell_type": "markdown",
   "metadata": {},
   "source": [
    "### Lars"
   ]
  },
  {
   "cell_type": "code",
   "execution_count": 135,
   "metadata": {},
   "outputs": [
    {
     "name": "stdout",
     "output_type": "stream",
     "text": [
      "R2 (test): 51.64 %\n",
      "MAE (test): 0.6431741870188492\n"
     ]
    }
   ],
   "source": [
    "from sklearn.linear_model import Lars\n",
    "from sklearn.metrics import r2_score, mean_absolute_error\n",
    "\n",
    "seed = 42\n",
    "\n",
    "Lars_Model = Lars(fit_intercept= True, random_state=seed)\n",
    "Lars_Model.fit(X_train, y_train)\n",
    "\n",
    "y_pred_Lars_Model = Lars_Model.predict(X_test)\n",
    "\n",
    "R2_Lars_Model = r2_score(y_test, y_pred_Lars_Model)\n",
    "MAE_Lars_Model = mean_absolute_error(y_test, y_pred_Lars_Model)\n",
    "\n",
    "print(\"R2 (test):\", round(((R2_Lars_Model)*100),2),\"%\")\n",
    "print(\"MAE (test):\", MAE_Lars_Model)"
   ]
  },
  {
   "attachments": {},
   "cell_type": "markdown",
   "metadata": {},
   "source": [
    "### BayesianRidge"
   ]
  },
  {
   "cell_type": "code",
   "execution_count": 138,
   "metadata": {},
   "outputs": [
    {
     "name": "stdout",
     "output_type": "stream",
     "text": [
      "R2 (test): 51.63 %\n",
      "MAE (test): 0.6434122337237622\n"
     ]
    }
   ],
   "source": [
    "from sklearn.linear_model import BayesianRidge\n",
    "from sklearn.metrics import r2_score, mean_absolute_error\n",
    "\n",
    "Bayesian_Model = BayesianRidge(n_iter = 5000)\n",
    "Bayesian_Model.fit(X_train, y_train)\n",
    "\n",
    "y_pred_Bayesian_Model = Bayesian_Model.predict(X_test)\n",
    "\n",
    "R2_Bayesian_Model = r2_score(y_test, y_pred_Bayesian_Model)\n",
    "MAE_Bayesian_Model = mean_absolute_error(y_test, y_pred_Bayesian_Model)\n",
    "\n",
    "print(\"R2 (test):\", round(((R2_Bayesian_Model)*100),2),\"%\")\n",
    "print(\"MAE (test):\", MAE_Bayesian_Model)"
   ]
  },
  {
   "attachments": {},
   "cell_type": "markdown",
   "metadata": {},
   "source": [
    "### HuberRegressor"
   ]
  },
  {
   "cell_type": "code",
   "execution_count": 146,
   "metadata": {},
   "outputs": [
    {
     "name": "stdout",
     "output_type": "stream",
     "text": [
      "R2 (test): 51.69 %\n",
      "MAE (test): 0.6396091687996805\n"
     ]
    }
   ],
   "source": [
    "from sklearn.linear_model import HuberRegressor\n",
    "from sklearn.metrics import r2_score, mean_absolute_error\n",
    "\n",
    "Huber_Reg_Model = HuberRegressor(epsilon = 1.5, alpha = 0.5)\n",
    "Huber_Reg_Model.fit(X_train, y_train)\n",
    "\n",
    "y_pred_Huber_Reg_Model = Huber_Reg_Model.predict(X_test)\n",
    "\n",
    "R2_Huber_Reg_Model = r2_score(y_test, y_pred_Huber_Reg_Model)\n",
    "MAE_Huber_Reg_Model = mean_absolute_error(y_test, y_pred_Huber_Reg_Model)\n",
    "\n",
    "print(\"R2 (test):\", round(((R2_Huber_Reg_Model)*100),2),\"%\")\n",
    "print(\"MAE (test):\", MAE_Huber_Reg_Model)"
   ]
  },
  {
   "attachments": {},
   "cell_type": "markdown",
   "metadata": {},
   "source": [
    "### CatBoostRegressor"
   ]
  },
  {
   "cell_type": "code",
   "execution_count": 153,
   "metadata": {},
   "outputs": [
    {
     "name": "stdout",
     "output_type": "stream",
     "text": [
      "R2 (test): 60.81 %\n",
      "MAE (test): 0.5689055669850329\n"
     ]
    }
   ],
   "source": [
    "from catboost import CatBoostRegressor\n",
    "from sklearn.metrics import r2_score, mean_absolute_error\n",
    "\n",
    "seed = 42\n",
    "\n",
    "CatBoost_Reg_Model = CatBoostRegressor(random_state= seed, verbose = False, learning_rate= 0.1, max_depth= 8, n_estimators= 300)\n",
    "CatBoost_Reg_Model.fit(X_train, y_train)\n",
    "\n",
    "y_pred_CatBoost_Reg_Model = CatBoost_Reg_Model.predict(X_test)\n",
    "\n",
    "R2_CatBoost_Reg_Model = r2_score(y_test, y_pred_CatBoost_Reg_Model)\n",
    "MAE_CatBoost_Reg_Model = mean_absolute_error(y_test, y_pred_CatBoost_Reg_Model)\n",
    "\n",
    "print(\"R2 (test):\", round(((R2_CatBoost_Reg_Model)*100),2),\"%\")\n",
    "print(\"MAE (test):\", MAE_CatBoost_Reg_Model)"
   ]
  },
  {
   "attachments": {},
   "cell_type": "markdown",
   "metadata": {},
   "source": [
    "### GradientBoostingRegressor"
   ]
  },
  {
   "cell_type": "code",
   "execution_count": 160,
   "metadata": {},
   "outputs": [
    {
     "name": "stdout",
     "output_type": "stream",
     "text": [
      "R2 (test): 58.19 %\n",
      "MAE (test): 0.5818736538974697\n"
     ]
    }
   ],
   "source": [
    "from sklearn.ensemble import GradientBoostingRegressor\n",
    "from sklearn.metrics import r2_score, mean_absolute_error\n",
    "\n",
    "seed = 42\n",
    "\n",
    "GradBoost_Reg_Model = GradientBoostingRegressor(random_state= seed, verbose = False, learning_rate= 0.1, max_depth= 8, n_estimators= 300)\n",
    "GradBoost_Reg_Model.fit(X_train, y_train)\n",
    "\n",
    "y_pred_GradBoost_Reg_Model = GradBoost_Reg_Model.predict(X_test)\n",
    "\n",
    "R2_GradBoost_Reg_Model = r2_score(y_test, y_pred_GradBoost_Reg_Model)\n",
    "MAE_GradBoost_Reg_Model = mean_absolute_error(y_test, y_pred_GradBoost_Reg_Model)\n",
    "\n",
    "print(\"R2 (test):\", round(((R2_GradBoost_Reg_Model)*100),2),\"%\")\n",
    "print(\"MAE (test):\", R2_GradBoost_Reg_Model)"
   ]
  },
  {
   "attachments": {},
   "cell_type": "markdown",
   "metadata": {},
   "source": [
    "### XGBRegressor"
   ]
  },
  {
   "cell_type": "code",
   "execution_count": 159,
   "metadata": {},
   "outputs": [
    {
     "name": "stdout",
     "output_type": "stream",
     "text": [
      "R2 (test): 59.41 %\n",
      "MAE (test): 0.5725733324429361\n"
     ]
    }
   ],
   "source": [
    "from xgboost import XGBRegressor\n",
    "from sklearn.metrics import r2_score, mean_absolute_error\n",
    "\n",
    "seed = 42\n",
    "\n",
    "XGBBoost_Reg_Model = XGBRegressor(random_state=seed, learning_rate= 0.1, max_depth= 8, n_estimators= 300)\n",
    "XGBBoost_Reg_Model.fit(X_train, y_train)\n",
    "\n",
    "y_pred_XGBBoost_Reg_Model = XGBBoost_Reg_Model.predict(X_test)\n",
    "\n",
    "R2_XGBBoost_Reg_Model = r2_score(y_test, y_pred_XGBBoost_Reg_Model)\n",
    "MAE_XGBBoost_Reg_Model = mean_absolute_error(y_test, y_pred_XGBBoost_Reg_Model)\n",
    "\n",
    "print(\"R2 (test):\", round(((R2_XGBBoost_Reg_Model)*100),2),\"%\")\n",
    "print(\"MAE (test):\", MAE_XGBBoost_Reg_Model)"
   ]
  },
  {
   "attachments": {},
   "cell_type": "markdown",
   "metadata": {},
   "source": [
    "### AdaBoost"
   ]
  },
  {
   "cell_type": "code",
   "execution_count": 216,
   "metadata": {},
   "outputs": [
    {
     "name": "stdout",
     "output_type": "stream",
     "text": [
      "R2 (test): 47.48 %\n",
      "MAE (test): 0.6851900851304633\n"
     ]
    }
   ],
   "source": [
    "from sklearn.ensemble import AdaBoostRegressor\n",
    "from sklearn.metrics import r2_score, mean_absolute_error\n",
    "\n",
    "seed = 42\n",
    "\n",
    "AdaBoost_Reg_Model = AdaBoostRegressor(random_state=seed, n_estimators= 1000, learning_rate= 0.1)\n",
    "AdaBoost_Reg_Model.fit(X_train, y_train)\n",
    "\n",
    "y_pred_AdaBoost_Reg_Model = AdaBoost_Reg_Model.predict(X_test)\n",
    "\n",
    "R2_AdaBoost_Reg_Model = r2_score(y_test, y_pred_AdaBoost_Reg_Model)\n",
    "MAE_AdaBoost_Reg_Model = mean_absolute_error(y_test, y_pred_AdaBoost_Reg_Model)\n",
    "\n",
    "print(\"R2 (test):\", round(((R2_AdaBoost_Reg_Model)*100),2),\"%\")\n",
    "print(\"MAE (test):\", MAE_AdaBoost_Reg_Model)"
   ]
  },
  {
   "attachments": {},
   "cell_type": "markdown",
   "metadata": {},
   "source": [
    "### KNeighborsRegressor"
   ]
  },
  {
   "cell_type": "code",
   "execution_count": 163,
   "metadata": {},
   "outputs": [
    {
     "name": "stdout",
     "output_type": "stream",
     "text": [
      "R2 (test): 48.14 %\n",
      "MAE (test): 0.648232971372162\n"
     ]
    }
   ],
   "source": [
    "from sklearn.neighbors import KNeighborsRegressor\n",
    "from sklearn.metrics import r2_score, mean_absolute_error\n",
    "\n",
    "KNN_Reg_Model = KNeighborsRegressor()\n",
    "KNN_Reg_Model.fit(X_train, y_train)\n",
    "\n",
    "y_pred_KNN_Reg_Model = KNN_Reg_Model.predict(X_test)\n",
    "\n",
    "R2_KNN_Reg_Model = r2_score(y_test, y_pred_KNN_Reg_Model)\n",
    "MAE_KNN_Reg_Model = mean_absolute_error(y_test, y_pred_KNN_Reg_Model)\n",
    "\n",
    "print(\"R2 (test):\", round(((R2_KNN_Reg_Model)*100),2),\"%\")\n",
    "print(\"MAE (test):\", MAE_KNN_Reg_Model)"
   ]
  },
  {
   "cell_type": "code",
   "execution_count": 166,
   "metadata": {},
   "outputs": [],
   "source": [
    "# !pip install lightgbm"
   ]
  },
  {
   "attachments": {},
   "cell_type": "markdown",
   "metadata": {},
   "source": [
    "### Light GBM"
   ]
  },
  {
   "cell_type": "code",
   "execution_count": 170,
   "metadata": {},
   "outputs": [
    {
     "name": "stdout",
     "output_type": "stream",
     "text": [
      "[LightGBM] [Warning] Auto-choosing row-wise multi-threading, the overhead of testing was 0.001194 seconds.\n",
      "You can set `force_row_wise=true` to remove the overhead.\n",
      "And if memory is not enough, you can set `force_col_wise=true`.\n",
      "[LightGBM] [Info] Total Bins 267\n",
      "[LightGBM] [Info] Number of data points in the train set: 8102, number of used features: 28\n",
      "[LightGBM] [Info] Start training from score 5.971464\n",
      "R2 (test): 60.17 %\n",
      "MAE (test): 0.5740203442512013\n"
     ]
    }
   ],
   "source": [
    "import lightgbm as lgb\n",
    "from sklearn.metrics import r2_score, mean_absolute_error\n",
    "\n",
    "\n",
    "lgb_train = lgb.Dataset(X_train, y_train)\n",
    "\n",
    "params = {\n",
    "    'objective': 'regression',\n",
    "    'metric': 'rmse',\n",
    "    'num_leaves': 31,\n",
    "    'learning_rate': 0.05\n",
    "}\n",
    "\n",
    "num_round = 100\n",
    "LGB_Model = lgb.train(params, lgb_train, num_boost_round=num_round)\n",
    "\n",
    "y_pred_LGB_Model = LGB_Model.predict(X_test)\n",
    "\n",
    "R2_LGB_Model = r2_score(y_test, y_pred_LGB_Model)\n",
    "MAE_LGB_Model = mean_absolute_error(y_test, y_pred_LGB_Model)\n",
    "\n",
    "print(\"R2 (test):\", round(((R2_LGB_Model)*100),2),\"%\")\n",
    "print(\"MAE (test):\", MAE_LGB_Model)"
   ]
  },
  {
   "attachments": {},
   "cell_type": "markdown",
   "metadata": {},
   "source": [
    "### Comparo las métricas de todos los modelos en un DataFrame"
   ]
  },
  {
   "cell_type": "code",
   "execution_count": 218,
   "metadata": {},
   "outputs": [
    {
     "data": {
      "text/html": [
       "<div>\n",
       "<style scoped>\n",
       "    .dataframe tbody tr th:only-of-type {\n",
       "        vertical-align: middle;\n",
       "    }\n",
       "\n",
       "    .dataframe tbody tr th {\n",
       "        vertical-align: top;\n",
       "    }\n",
       "\n",
       "    .dataframe thead th {\n",
       "        text-align: right;\n",
       "    }\n",
       "</style>\n",
       "<table border=\"1\" class=\"dataframe\">\n",
       "  <thead>\n",
       "    <tr style=\"text-align: right;\">\n",
       "      <th></th>\n",
       "      <th>Modelo</th>\n",
       "      <th>R2</th>\n",
       "      <th>MAE</th>\n",
       "    </tr>\n",
       "  </thead>\n",
       "  <tbody>\n",
       "    <tr>\n",
       "      <th>0</th>\n",
       "      <td>Cat_Boost</td>\n",
       "      <td>0.608145</td>\n",
       "      <td>0.568906</td>\n",
       "    </tr>\n",
       "    <tr>\n",
       "      <th>1</th>\n",
       "      <td>Light_GBM</td>\n",
       "      <td>0.601743</td>\n",
       "      <td>0.574020</td>\n",
       "    </tr>\n",
       "    <tr>\n",
       "      <th>2</th>\n",
       "      <td>XGB_Boost</td>\n",
       "      <td>0.594099</td>\n",
       "      <td>0.572573</td>\n",
       "    </tr>\n",
       "    <tr>\n",
       "      <th>3</th>\n",
       "      <td>Gradient_Boost</td>\n",
       "      <td>0.581874</td>\n",
       "      <td>0.581017</td>\n",
       "    </tr>\n",
       "    <tr>\n",
       "      <th>4</th>\n",
       "      <td>Super_Vector_Machine</td>\n",
       "      <td>0.575080</td>\n",
       "      <td>0.610033</td>\n",
       "    </tr>\n",
       "    <tr>\n",
       "      <th>5</th>\n",
       "      <td>Red_Neuronal</td>\n",
       "      <td>0.548850</td>\n",
       "      <td>0.610033</td>\n",
       "    </tr>\n",
       "    <tr>\n",
       "      <th>6</th>\n",
       "      <td>Huber_Regressor</td>\n",
       "      <td>0.516883</td>\n",
       "      <td>0.639609</td>\n",
       "    </tr>\n",
       "    <tr>\n",
       "      <th>7</th>\n",
       "      <td>Linear_Regression</td>\n",
       "      <td>0.516569</td>\n",
       "      <td>0.643344</td>\n",
       "    </tr>\n",
       "    <tr>\n",
       "      <th>8</th>\n",
       "      <td>Lars</td>\n",
       "      <td>0.516433</td>\n",
       "      <td>0.643174</td>\n",
       "    </tr>\n",
       "    <tr>\n",
       "      <th>9</th>\n",
       "      <td>Ridge</td>\n",
       "      <td>0.516429</td>\n",
       "      <td>0.643180</td>\n",
       "    </tr>\n",
       "    <tr>\n",
       "      <th>10</th>\n",
       "      <td>Bayesian_Ridge</td>\n",
       "      <td>0.516287</td>\n",
       "      <td>0.643412</td>\n",
       "    </tr>\n",
       "    <tr>\n",
       "      <th>11</th>\n",
       "      <td>KNeighbors_Regressor</td>\n",
       "      <td>0.481409</td>\n",
       "      <td>0.648233</td>\n",
       "    </tr>\n",
       "    <tr>\n",
       "      <th>12</th>\n",
       "      <td>Ada_Boost</td>\n",
       "      <td>0.474848</td>\n",
       "      <td>0.685190</td>\n",
       "    </tr>\n",
       "    <tr>\n",
       "      <th>13</th>\n",
       "      <td>Decision_Tree</td>\n",
       "      <td>0.298070</td>\n",
       "      <td>0.739549</td>\n",
       "    </tr>\n",
       "    <tr>\n",
       "      <th>14</th>\n",
       "      <td>Lasso</td>\n",
       "      <td>-0.000211</td>\n",
       "      <td>0.998083</td>\n",
       "    </tr>\n",
       "    <tr>\n",
       "      <th>15</th>\n",
       "      <td>Elastic_Net</td>\n",
       "      <td>-0.000211</td>\n",
       "      <td>0.998083</td>\n",
       "    </tr>\n",
       "  </tbody>\n",
       "</table>\n",
       "</div>"
      ],
      "text/plain": [
       "                  Modelo        R2       MAE\n",
       "0              Cat_Boost  0.608145  0.568906\n",
       "1              Light_GBM  0.601743  0.574020\n",
       "2              XGB_Boost  0.594099  0.572573\n",
       "3         Gradient_Boost  0.581874  0.581017\n",
       "4   Super_Vector_Machine  0.575080  0.610033\n",
       "5           Red_Neuronal  0.548850  0.610033\n",
       "6        Huber_Regressor  0.516883  0.639609\n",
       "7      Linear_Regression  0.516569  0.643344\n",
       "8                   Lars  0.516433  0.643174\n",
       "9                  Ridge  0.516429  0.643180\n",
       "10        Bayesian_Ridge  0.516287  0.643412\n",
       "11  KNeighbors_Regressor  0.481409  0.648233\n",
       "12             Ada_Boost  0.474848  0.685190\n",
       "13         Decision_Tree  0.298070  0.739549\n",
       "14                 Lasso -0.000211  0.998083\n",
       "15           Elastic_Net -0.000211  0.998083"
      ]
     },
     "execution_count": 218,
     "metadata": {},
     "output_type": "execute_result"
    }
   ],
   "source": [
    "models_dicc = {'Modelo': ['Decision_Tree', 'Linear_Regression', 'Super_Vector_Machine', 'Red_Neuronal', 'Ridge', 'Lasso', 'Elastic_Net', 'Lars', 'Bayesian_Ridge', 'Huber_Regressor', 'Cat_Boost', 'Gradient_Boost', 'XGB_Boost', 'KNeighbors_Regressor', 'Light_GBM', 'Ada_Boost'],\n",
    "        'R2': [R2_DcsTree_Model, R2_LinReg_Model, R2_SupVecMac_Model, R2_MLP_Model, R2_Ridge_Model, R2_Lasso_Model, R2_ElasticNet_Model, R2_Lars_Model, R2_Bayesian_Model, R2_Huber_Reg_Model, R2_CatBoost_Reg_Model, R2_GradBoost_Reg_Model, R2_XGBBoost_Reg_Model, R2_KNN_Reg_Model, R2_LGB_Model, R2_AdaBoost_Reg_Model],\n",
    "        'MAE': [MAE_DcsTree_Model, MAE_LinReg_Model, MAE_SupVecMac_Model, MAE_SupVecMac_Model, MAE_Ridge_Model, MAE_Lasso_Model, MAE_ElasticNet_Model, MAE_Lars_Model, MAE_Bayesian_Model, MAE_Huber_Reg_Model, MAE_CatBoost_Reg_Model, MAE_GradBoost_Reg_Model, MAE_XGBBoost_Reg_Model, MAE_KNN_Reg_Model, MAE_LGB_Model, MAE_AdaBoost_Reg_Model]\n",
    "       }\n",
    "df_models = pd.DataFrame(models_dicc)\n",
    "df_models = df_models.sort_values('R2', ascending=False).reset_index().iloc[:,1:]\n",
    "df_models"
   ]
  },
  {
   "attachments": {},
   "cell_type": "markdown",
   "metadata": {},
   "source": [
    "### Muestro en una gráfica los resultados de las performance de los modelos"
   ]
  },
  {
   "cell_type": "code",
   "execution_count": 220,
   "metadata": {},
   "outputs": [
    {
     "data": {
      "image/png": "[encoded data removed]",
      "text/plain": [
       "<Figure size 600x400 with 1 Axes>"
      ]
     },
     "metadata": {},
     "output_type": "display_data"
    }
   ],
   "source": [
    "import matplotlib.pyplot as plt\n",
    "\n",
    "fig, ax = plt.subplots(figsize=(6,4))\n",
    "\n",
    "ax.bar(df_models[\"Modelo\"], df_models[\"R2\"], label='R2', color='blue')\n",
    "# ax.bar(df_models[\"Modelo\"], df_models[\"MAE\"], label='MAE', color='orange')\n",
    "ax.set_xticklabels(df_models[\"Modelo\"], rotation=90, fontsize=12)\n",
    "ax.set_title('Performance de modelos', fontsize=16)\n",
    "ax.legend(loc='best')\n",
    "\n",
    "plt.show()"
   ]
  },
  {
   "cell_type": "code",
   "execution_count": null,
   "metadata": {},
   "outputs": [],
   "source": [
    "import plotly.express as px\n",
    "\n",
    "fig = px.bar(df_models, x=\"Modelo\", y=[\"R2\", \"MAE\"], barmode=\"group\")\n",
    "fig.update_layout(title=\"Performance de modelos\", xaxis_title=\"Modelo\", yaxis_title=\"Valor\")\n",
    "\n",
    "fig.show()"
   ]
  },
  {
   "cell_type": "code",
   "execution_count": null,
   "metadata": {},
   "outputs": [],
   "source": [
    "import plotly.express as px\n",
    "\n",
    "palette = [\"#660000\",\"#990033\",\"#5F021F\",\"#8C001A\",\"#FF9000\"]\n",
    "palette_11 = [\"#03071e\",\"#370617\",\"#6a040f\",\"#9d0208\",\"#d00000\",\"#dc2f02\",\"#e85d04\",\"#f48c06\",\"#faa307\",\"#ffba08\", \"#FFC42D\"]\n",
    "values_com = df_models[\"R2\"]\n",
    "\n",
    "fig = px.bar(df_models.head(5),\n",
    "            x='comunidad',\n",
    "            y='Ventas')\n",
    "\n",
    "fig.update_traces(\n",
    "                marker_color=np.tile(palette_11, len(df_models[\"Modelo\"])),\n",
    "                text=values_com,\n",
    "                textposition='auto',\n",
    "                textfont=dict(size=16))\n",
    "\n",
    "fig.update_xaxes(\n",
    "                tickangle=-45,\n",
    "                tickfont=dict(size=18))\n",
    "\n",
    "fig.update_yaxes(\n",
    "                tickfont=dict(size=18),\n",
    "                gridcolor='gray')\n",
    "\n",
    "\n",
    "fig.update_layout(\n",
    "                    width=1000,\n",
    "                    height=600,\n",
    "                    title_text=\"Performance modelos\",\n",
    "                    title_font=dict(size=30),\n",
    "                    title_x=0.5, title_y=0.95,\n",
    "                    plot_bgcolor='rgba(0,0,0,0)',\n",
    "                    paper_bgcolor='rgba(0,0,0,0)',\n",
    "                    yaxis_title='Medida',\n",
    "                    xaxis_title='Modelos',\n",
    "                    yaxis_title_font=dict(size=25),\n",
    "                    xaxis_title_font=dict(size=25),\n",
    "                    font=dict(family='Century Gothic'),                           \n",
    "                    showlegend=False)\n",
    "\n",
    "# fig.add_annotation(x=4.4, y=5, xanchor='right', yanchor='top',\n",
    "#                     text='Fuente: Anuario APM 2023',\n",
    "#                     font=dict(family='Century Gothic', size=16),\n",
    "#                     showarrow=False)                    \n",
    "\n",
    "# fig.write_image(r'graficos\\grafico_barras_facturacion_comunidades_2018_2022.png')\n",
    "fig.show()"
   ]
  },
  {
   "attachments": {},
   "cell_type": "markdown",
   "metadata": {},
   "source": [
    "### Un voting para los que mejores resultados dan"
   ]
  },
  {
   "cell_type": "code",
   "execution_count": 224,
   "metadata": {},
   "outputs": [
    {
     "data": {
      "text/html": [
       "<style>#sk-container-id-8 {color: black;background-color: white;}#sk-container-id-8 pre{padding: 0;}#sk-container-id-8 div.sk-toggleable {background-color: white;}#sk-container-id-8 label.sk-toggleable__label {cursor: pointer;display: block;width: 100%;margin-bottom: 0;padding: 0.3em;box-sizing: border-box;text-align: center;}#sk-container-id-8 label.sk-toggleable__label-arrow:before {content: \"▸\";float: left;margin-right: 0.25em;color: #696969;}#sk-container-id-8 label.sk-toggleable__label-arrow:hover:before {color: black;}#sk-container-id-8 div.sk-estimator:hover label.sk-toggleable__label-arrow:before {color: black;}#sk-container-id-8 div.sk-toggleable__content {max-height: 0;max-width: 0;overflow: hidden;text-align: left;background-color: #f0f8ff;}#sk-container-id-8 div.sk-toggleable__content pre {margin: 0.2em;color: black;border-radius: 0.25em;background-color: #f0f8ff;}#sk-container-id-8 input.sk-toggleable__control:checked~div.sk-toggleable__content {max-height: 200px;max-width: 100%;overflow: auto;}#sk-container-id-8 input.sk-toggleable__control:checked~label.sk-toggleable__label-arrow:before {content: \"▾\";}#sk-container-id-8 div.sk-estimator input.sk-toggleable__control:checked~label.sk-toggleable__label {background-color: #d4ebff;}#sk-container-id-8 div.sk-label input.sk-toggleable__control:checked~label.sk-toggleable__label {background-color: #d4ebff;}#sk-container-id-8 input.sk-hidden--visually {border: 0;clip: rect(1px 1px 1px 1px);clip: rect(1px, 1px, 1px, 1px);height: 1px;margin: -1px;overflow: hidden;padding: 0;position: absolute;width: 1px;}#sk-container-id-8 div.sk-estimator {font-family: monospace;background-color: #f0f8ff;border: 1px dotted black;border-radius: 0.25em;box-sizing: border-box;margin-bottom: 0.5em;}#sk-container-id-8 div.sk-estimator:hover {background-color: #d4ebff;}#sk-container-id-8 div.sk-parallel-item::after {content: \"\";width: 100%;border-bottom: 1px solid gray;flex-grow: 1;}#sk-container-id-8 div.sk-label:hover label.sk-toggleable__label {background-color: #d4ebff;}#sk-container-id-8 div.sk-serial::before {content: \"\";position: absolute;border-left: 1px solid gray;box-sizing: border-box;top: 0;bottom: 0;left: 50%;z-index: 0;}#sk-container-id-8 div.sk-serial {display: flex;flex-direction: column;align-items: center;background-color: white;padding-right: 0.2em;padding-left: 0.2em;position: relative;}#sk-container-id-8 div.sk-item {position: relative;z-index: 1;}#sk-container-id-8 div.sk-parallel {display: flex;align-items: stretch;justify-content: center;background-color: white;position: relative;}#sk-container-id-8 div.sk-item::before, #sk-container-id-8 div.sk-parallel-item::before {content: \"\";position: absolute;border-left: 1px solid gray;box-sizing: border-box;top: 0;bottom: 0;left: 50%;z-index: -1;}#sk-container-id-8 div.sk-parallel-item {display: flex;flex-direction: column;z-index: 1;position: relative;background-color: white;}#sk-container-id-8 div.sk-parallel-item:first-child::after {align-self: flex-end;width: 50%;}#sk-container-id-8 div.sk-parallel-item:last-child::after {align-self: flex-start;width: 50%;}#sk-container-id-8 div.sk-parallel-item:only-child::after {width: 0;}#sk-container-id-8 div.sk-dashed-wrapped {border: 1px dashed gray;margin: 0 0.4em 0.5em 0.4em;box-sizing: border-box;padding-bottom: 0.4em;background-color: white;}#sk-container-id-8 div.sk-label label {font-family: monospace;font-weight: bold;display: inline-block;line-height: 1.2em;}#sk-container-id-8 div.sk-label-container {text-align: center;}#sk-container-id-8 div.sk-container {/* jupyter's `normalize.less` sets `[hidden] { display: none; }` but bootstrap.min.css set `[hidden] { display: none !important; }` so we also need the `!important` here to be able to override the default hidden behavior on the sphinx rendered scikit-learn.org. See: https://github.com/scikit-learn/scikit-learn/issues/21755 */display: inline-block !important;position: relative;}#sk-container-id-8 div.sk-text-repr-fallback {display: none;}</style><div id=\"sk-container-id-8\" class=\"sk-top-container\"><div class=\"sk-text-repr-fallback\"><pre>VotingRegressor(estimators=[(&#x27;grad&#x27;,\n",
       "                             GradientBoostingRegressor(max_depth=8,\n",
       "                                                       n_estimators=300,\n",
       "                                                       random_state=42,\n",
       "                                                       verbose=False)),\n",
       "                            (&#x27;lin_reg&#x27;, LinearRegression()),\n",
       "                            (&#x27;huber&#x27;, HuberRegressor(alpha=0.5, epsilon=1.5)),\n",
       "                            (&#x27;cat&#x27;,\n",
       "                             &lt;catboost.core.CatBoostRegressor object at 0x000002895B548A90&gt;),\n",
       "                            (&#x27;lars&#x27;, Lars(random_state=42)),\n",
       "                            (&#x27;rndfrst&#x27;, RandomForestRegressor(random_state=42)),\n",
       "                            (&#x27;red_neu&#x27;, MLPRegressor(random_state=42))])</pre><b>In a Jupyter environment, please rerun this cell to show the HTML representation or trust the notebook. <br />On GitHub, the HTML representation is unable to render, please try loading this page with nbviewer.org.</b></div><div class=\"sk-container\" hidden><div class=\"sk-item sk-dashed-wrapped\"><div class=\"sk-label-container\"><div class=\"sk-label sk-toggleable\"><input class=\"sk-toggleable__control sk-hidden--visually\" id=\"sk-estimator-id-85\" type=\"checkbox\" ><label for=\"sk-estimator-id-85\" class=\"sk-toggleable__label sk-toggleable__label-arrow\">VotingRegressor</label><div class=\"sk-toggleable__content\"><pre>VotingRegressor(estimators=[(&#x27;grad&#x27;,\n",
       "                             GradientBoostingRegressor(max_depth=8,\n",
       "                                                       n_estimators=300,\n",
       "                                                       random_state=42,\n",
       "                                                       verbose=False)),\n",
       "                            (&#x27;lin_reg&#x27;, LinearRegression()),\n",
       "                            (&#x27;huber&#x27;, HuberRegressor(alpha=0.5, epsilon=1.5)),\n",
       "                            (&#x27;cat&#x27;,\n",
       "                             &lt;catboost.core.CatBoostRegressor object at 0x000002895B548A90&gt;),\n",
       "                            (&#x27;lars&#x27;, Lars(random_state=42)),\n",
       "                            (&#x27;rndfrst&#x27;, RandomForestRegressor(random_state=42)),\n",
       "                            (&#x27;red_neu&#x27;, MLPRegressor(random_state=42))])</pre></div></div></div><div class=\"sk-parallel\"><div class=\"sk-parallel-item\"><div class=\"sk-item\"><div class=\"sk-label-container\"><div class=\"sk-label sk-toggleable\"><label>grad</label></div></div><div class=\"sk-serial\"><div class=\"sk-item\"><div class=\"sk-estimator sk-toggleable\"><input class=\"sk-toggleable__control sk-hidden--visually\" id=\"sk-estimator-id-86\" type=\"checkbox\" ><label for=\"sk-estimator-id-86\" class=\"sk-toggleable__label sk-toggleable__label-arrow\">GradientBoostingRegressor</label><div class=\"sk-toggleable__content\"><pre>GradientBoostingRegressor(max_depth=8, n_estimators=300, random_state=42,\n",
       "                          verbose=False)</pre></div></div></div></div></div></div><div class=\"sk-parallel-item\"><div class=\"sk-item\"><div class=\"sk-label-container\"><div class=\"sk-label sk-toggleable\"><label>lin_reg</label></div></div><div class=\"sk-serial\"><div class=\"sk-item\"><div class=\"sk-estimator sk-toggleable\"><input class=\"sk-toggleable__control sk-hidden--visually\" id=\"sk-estimator-id-87\" type=\"checkbox\" ><label for=\"sk-estimator-id-87\" class=\"sk-toggleable__label sk-toggleable__label-arrow\">LinearRegression</label><div class=\"sk-toggleable__content\"><pre>LinearRegression()</pre></div></div></div></div></div></div><div class=\"sk-parallel-item\"><div class=\"sk-item\"><div class=\"sk-label-container\"><div class=\"sk-label sk-toggleable\"><label>huber</label></div></div><div class=\"sk-serial\"><div class=\"sk-item\"><div class=\"sk-estimator sk-toggleable\"><input class=\"sk-toggleable__control sk-hidden--visually\" id=\"sk-estimator-id-88\" type=\"checkbox\" ><label for=\"sk-estimator-id-88\" class=\"sk-toggleable__label sk-toggleable__label-arrow\">HuberRegressor</label><div class=\"sk-toggleable__content\"><pre>HuberRegressor(alpha=0.5, epsilon=1.5)</pre></div></div></div></div></div></div><div class=\"sk-parallel-item\"><div class=\"sk-item\"><div class=\"sk-label-container\"><div class=\"sk-label sk-toggleable\"><label>cat</label></div></div><div class=\"sk-serial\"><div class=\"sk-item\"><div class=\"sk-estimator sk-toggleable\"><input class=\"sk-toggleable__control sk-hidden--visually\" id=\"sk-estimator-id-89\" type=\"checkbox\" ><label for=\"sk-estimator-id-89\" class=\"sk-toggleable__label sk-toggleable__label-arrow\">CatBoostRegressor</label><div class=\"sk-toggleable__content\"><pre>&lt;catboost.core.CatBoostRegressor object at 0x000002895B548A90&gt;</pre></div></div></div></div></div></div><div class=\"sk-parallel-item\"><div class=\"sk-item\"><div class=\"sk-label-container\"><div class=\"sk-label sk-toggleable\"><label>lars</label></div></div><div class=\"sk-serial\"><div class=\"sk-item\"><div class=\"sk-estimator sk-toggleable\"><input class=\"sk-toggleable__control sk-hidden--visually\" id=\"sk-estimator-id-90\" type=\"checkbox\" ><label for=\"sk-estimator-id-90\" class=\"sk-toggleable__label sk-toggleable__label-arrow\">Lars</label><div class=\"sk-toggleable__content\"><pre>Lars(random_state=42)</pre></div></div></div></div></div></div><div class=\"sk-parallel-item\"><div class=\"sk-item\"><div class=\"sk-label-container\"><div class=\"sk-label sk-toggleable\"><label>rndfrst</label></div></div><div class=\"sk-serial\"><div class=\"sk-item\"><div class=\"sk-estimator sk-toggleable\"><input class=\"sk-toggleable__control sk-hidden--visually\" id=\"sk-estimator-id-91\" type=\"checkbox\" ><label for=\"sk-estimator-id-91\" class=\"sk-toggleable__label sk-toggleable__label-arrow\">RandomForestRegressor</label><div class=\"sk-toggleable__content\"><pre>RandomForestRegressor(random_state=42)</pre></div></div></div></div></div></div><div class=\"sk-parallel-item\"><div class=\"sk-item\"><div class=\"sk-label-container\"><div class=\"sk-label sk-toggleable\"><label>red_neu</label></div></div><div class=\"sk-serial\"><div class=\"sk-item\"><div class=\"sk-estimator sk-toggleable\"><input class=\"sk-toggleable__control sk-hidden--visually\" id=\"sk-estimator-id-92\" type=\"checkbox\" ><label for=\"sk-estimator-id-92\" class=\"sk-toggleable__label sk-toggleable__label-arrow\">MLPRegressor</label><div class=\"sk-toggleable__content\"><pre>MLPRegressor(random_state=42)</pre></div></div></div></div></div></div></div></div></div></div>"
      ],
      "text/plain": [
       "VotingRegressor(estimators=[('grad',\n",
       "                             GradientBoostingRegressor(max_depth=8,\n",
       "                                                       n_estimators=300,\n",
       "                                                       random_state=42,\n",
       "                                                       verbose=False)),\n",
       "                            ('lin_reg', LinearRegression()),\n",
       "                            ('huber', HuberRegressor(alpha=0.5, epsilon=1.5)),\n",
       "                            ('cat',\n",
       "                             <catboost.core.CatBoostRegressor object at 0x000002895B548A90>),\n",
       "                            ('lars', Lars(random_state=42)),\n",
       "                            ('rndfrst', RandomForestRegressor(random_state=42)),\n",
       "                            ('red_neu', MLPRegressor(random_state=42))])"
      ]
     },
     "execution_count": 224,
     "metadata": {},
     "output_type": "execute_result"
    }
   ],
   "source": [
    "from sklearn.ensemble import VotingRegressor\n",
    "\n",
    "estimators = [('grad', GradBoost_Reg_Model),\n",
    "              ('lin_reg', LinReg_Model),\n",
    "              ('huber', Huber_Reg_Model),\n",
    "              ('cat', CatBoost_Reg_Model),\n",
    "              ('lars', Lars_Model),\n",
    "              ('rndfrst', RndFrst_Model),\n",
    "              ('red_neu',MLP_Model),\n",
    "              ]\n",
    "\n",
    "Voting_Regressor_Model = VotingRegressor(estimators=estimators)\n",
    "Voting_Regressor_Model"
   ]
  },
  {
   "cell_type": "code",
   "execution_count": 225,
   "metadata": {},
   "outputs": [
    {
     "name": "stdout",
     "output_type": "stream",
     "text": [
      "MLPRegressor 0.5488501874966181\n",
      "CatBoostRegressor 0.6081453148761355\n",
      "GradientBoostingRegressor 0.5818736538974697\n",
      "HuberRegressor 0.5168828544801369\n",
      "Lars 0.5164325566915524\n",
      "LinearRegression 0.5165686533048377\n",
      "RandomForestRegressor 0.5750795731764055\n",
      "VotingRegressor 0.5972689954112425\n"
     ]
    }
   ],
   "source": [
    "from sklearn.metrics import r2_score, mean_absolute_error\n",
    "\n",
    "model_list = [MLP_Model, CatBoost_Reg_Model, GradBoost_Reg_Model, Huber_Reg_Model, Lars_Model, LinReg_Model, RndFrst_Model, Voting_Regressor_Model]\n",
    "\n",
    "for model in model_list:\n",
    "    model.fit(X_train, y_train)\n",
    "    y_pred = model.predict(X_test)\n",
    "    print(model.__class__.__name__, r2_score(y_test, y_pred))"
   ]
  },
  {
   "attachments": {},
   "cell_type": "markdown",
   "metadata": {},
   "source": [
    "### A través de GridSearch trato de optimizar el de mejor resultado: CatBoost"
   ]
  },
  {
   "attachments": {},
   "cell_type": "markdown",
   "metadata": {},
   "source": [
    "Algunas recomendaciones sobre los hiperparámetros que se pueden ajustar en CatBoost y los rangos de valores que podrías probar. Lista de los hiperparámetros y los rangos sugeridos:\n",
    "\n",
    "- learning_rate: tasa de aprendizaje, controla la velocidad a la que se adapta el modelo a los datos. Valores típicos son ```[0.01, 0.03, 0.1, 0.3, 1]```.\n",
    "- max_depth: profundidad máxima del árbol. Un valor demasiado alto puede provocar sobreajuste. Valores típicos son ```[3, 5, 7, 9, 11]```, -1 (sin límite de profundidad).\n",
    "- l2_leaf_reg: parámetro de regularización L2. Ayuda a prevenir el sobreajuste. Valores típicos son ```[1, 3, 5, 7, 9]```.\n",
    "- colsample_bylevel: porcentaje de características que se toman en cuenta para cada árbol. Valores típicos son ```[0.5, 0.7, 0.8, 1]```.\n",
    "- subsample: porcentaje de muestras que se toman en cuenta para cada árbol. Valores típicos son ```[0.5, 0.7, 0.8, 1]```.\n",
    "- iterations: número de iteraciones del modelo. Valores típicos son ```[500, 1000, 2000]```.\n",
    "\n",
    "El valor para el parámetro cv en GridSearchCV depende del tamaño de tus datos y del tiempo se esté dispuesto a esperar para que el modelo se ajuste. En general, se recomienda usar un valor de cv entre 5 y 10 para conjuntos de datos de tamaño moderado a grande.\n",
    "\n",
    "Dado que el conjunto de datos es de unos 10,000 registros, un valor de cv de 5 sería razonable. Esto significa que los datos se dividirían en 5 partes iguales y se ajustarían 5 modelos separados, cada uno de los cuales se ajusta en 4 partes y se evalúa en la restante."
   ]
  },
  {
   "cell_type": "code",
   "execution_count": null,
   "metadata": {},
   "outputs": [],
   "source": [
    "# RANDOM FOREST\n",
    "grid_random_forest = {\"n_estimators\": [120], # El Random Forest no suele empeorar por exceso de\n",
    "                                             # estimadores. A partir de cierto numero no merece la pena\n",
    "                                             # perder el tiempo ya que no mejora mucho más la precisión.\n",
    "                                             # Entre 100 y 200 es una buena cifra\n",
    "\n",
    "                     \n",
    "                     \"max_depth\": [3,4,5,6,10,15,17], # No le afecta tanto el overfitting como al decissiontree.\n",
    "                                                      # Podemos probar mayores profundidades\n",
    "                      \n",
    "                     \"max_features\": [\"sqrt\", 3, 4] # Numero de features que utiliza en cada split.\n",
    "                                                    # cuanto más bajo, mejor generalizará y menos overfitting.\n",
    "                                                    \n",
    "                     }"
   ]
  },
  {
   "cell_type": "code",
   "execution_count": 233,
   "metadata": {},
   "outputs": [],
   "source": [
    "from sklearn.model_selection import GridSearchCV\n",
    "\n",
    "parameters = {'n_estimators':[500, 1000, 2000],\n",
    "              'max_depth': [3, 5, 7, 9, 11],\n",
    "              'learning_rate': [0.01, 0.03, 0.1, 0.3, 1],\n",
    "            }\n",
    "\n",
    "model_GridSearch = GridSearchCV(CatBoost_Reg_Model, param_grid= parameters, cv= 5)\n",
    "model_GridSearch.fit(X_train, y_train)"
   ]
  },
  {
   "cell_type": "code",
   "execution_count": 231,
   "metadata": {},
   "outputs": [
    {
     "data": {
      "text/plain": [
       "{'learning_rate': 0.3, 'max_depth': 3, 'n_estimators': 200}"
      ]
     },
     "execution_count": 231,
     "metadata": {},
     "output_type": "execute_result"
    }
   ],
   "source": [
    "model_GridSearch.best_params_"
   ]
  },
  {
   "cell_type": "code",
   "execution_count": 232,
   "metadata": {},
   "outputs": [
    {
     "name": "stdout",
     "output_type": "stream",
     "text": [
      "R2 (test): 59.95 %\n",
      "MAE (test): 0.579003846838962\n"
     ]
    }
   ],
   "source": [
    "from sklearn.metrics import r2_score, mean_absolute_error\n",
    "\n",
    "best_model = model_GridSearch.best_estimator_\n",
    "y_pred_best_Model = best_model.predict(X_test)\n",
    "\n",
    "R2_best_Model = r2_score(y_test, y_pred_best_Model)\n",
    "MAE_best_Model = mean_absolute_error(y_test, y_pred_best_Model)\n",
    "\n",
    "print(\"R2 (test):\", round(((R2_best_Model)*100),2),\"%\")\n",
    "print(\"MAE (test):\", MAE_best_Model)"
   ]
  }
 ],
 "metadata": {
  "kernelspec": {
   "display_name": "Python 3.7.11 ('basic_ds')",
   "language": "python",
   "name": "python3"
  },
  "language_info": {
   "codemirror_mode": {
    "name": "ipython",
    "version": 3
   },
   "file_extension": ".py",
   "mimetype": "text/x-python",
   "name": "python",
   "nbconvert_exporter": "python",
   "pygments_lexer": "ipython3",
   "version": "3.9.16"
  },
  "orig_nbformat": 4,
  "vscode": {
   "interpreter": {
    "hash": "70dd3549dabd1ce49e5001f72f872ceffdb9455a9d169ec133c29fbc27295603"
   }
  }
 },
 "nbformat": 4,
 "nbformat_minor": 2
}
